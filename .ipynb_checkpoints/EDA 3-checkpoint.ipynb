{
 "cells": [
  {
   "cell_type": "code",
   "execution_count": 1,
   "id": "5b00ecd8",
   "metadata": {},
   "outputs": [],
   "source": [
    "import numpy as np\n",
    "import pandas as pd\n",
    "\n",
    "import matplotlib.pyplot as plt\n",
    "import seaborn as sns\n",
    "\n",
    "from sklearn.model_selection import train_test_split"
   ]
  },
  {
   "cell_type": "code",
   "execution_count": 2,
   "id": "a4a8fb1a",
   "metadata": {},
   "outputs": [],
   "source": [
    "cmm_data = pd.read_csv('/home/ruggiec/Downloads/pharmacy_tx.csv')\n",
    "\n",
    "#cmm_data_no_dups = cmm_data.drop_duplicates()\n",
    "\n",
    "cmm_train, cmm_test = train_test_split(cmm_data, shuffle=True, \n",
    "                             random_state= 614, test_size=0.2)"
   ]
  },
  {
   "cell_type": "code",
   "execution_count": 6,
   "id": "53eace99",
   "metadata": {},
   "outputs": [],
   "source": [
    "def is_it_generic(text):\n",
    "    if text.split()[0] == 'generic':\n",
    "        return 1\n",
    "    else:\n",
    "        return 0\n",
    "    \n",
    "def drug_name(text):\n",
    "    return text.split()[1]\n",
    "\n",
    "def pharm_split(text):\n",
    "    return int(text.split('#')[1])"
   ]
  },
  {
   "cell_type": "code",
   "execution_count": 4,
   "id": "8a5fbd27",
   "metadata": {},
   "outputs": [],
   "source": [
    "cmm_train['tx_date'] = pd.to_datetime(cmm_train.tx_date)\n",
    "cmm_train['month'] = cmm_train.tx_date.dt.month\n",
    "cmm_train['day_of_year'] = cmm_train.tx_date.dt.dayofyear"
   ]
  },
  {
   "cell_type": "code",
   "execution_count": 7,
   "id": "c93418fa",
   "metadata": {},
   "outputs": [],
   "source": [
    "cmm_train['generic'] = cmm_train.drug.apply(is_it_generic)\n",
    "cmm_train['name'] = cmm_train['drug'].apply(drug_name)\n",
    "cmm_train['private'] = cmm_train.group.isna().astype(int)\n",
    "cmm_train['popularity'] = cmm_train.groupby('name')[['tx_date']].transform('count')\n",
    "cmm_train['rejected'] = cmm_train['rejected'].astype(int)\n",
    "cmm_train['rejected_count'] = cmm_train.groupby('name')['rejected'].transform('sum')\n",
    "cmm_train['pharm_num'] = cmm_train.pharmacy.apply(pharm_split)"
   ]
  },
  {
   "cell_type": "code",
   "execution_count": 9,
   "id": "db7257f4",
   "metadata": {},
   "outputs": [],
   "source": [
    "cmm_train['binpcn'] = cmm_train.bin.astype(str).fillna('') + cmm_train.pcn.fillna('')\n",
    "cmm_train['bingroup'] = cmm_train.bin.astype(str).fillna('') + cmm_train.group.fillna('')\n",
    "cmm_train['binpcngroup'] = cmm_train.bin.astype(str).fillna('') + cmm_train.pcn.fillna('') + cmm_train.group.fillna('')"
   ]
  },
  {
   "cell_type": "code",
   "execution_count": 21,
   "id": "24698bdb",
   "metadata": {},
   "outputs": [
    {
     "name": "stdout",
     "output_type": "stream",
     "text": [
      "There are 63 separate insurance plans in the data set.\n",
      "There are 114 drugs in the data set.\n",
      "Leading to 7182 combinations of drug and insurance plan.\n"
     ]
    }
   ],
   "source": [
    "print('There are', cmm_train.binpcngroup.nunique(), \n",
    "      'separate insurance plans in the data set.')\n",
    "print('There are', cmm_train.drug.nunique(), \n",
    "      'drugs in the data set.')\n",
    "print('Leading to', cmm_train.binpcngroup.nunique()*cmm_train.drug.nunique(), \n",
    "      'combinations of drug and insurance plan.')"
   ]
  },
  {
   "cell_type": "code",
   "execution_count": 36,
   "id": "20ef2e22",
   "metadata": {},
   "outputs": [
    {
     "data": {
      "text/plain": [
       "'7257009C5MOR3S2QKZ0OFNWS6X'"
      ]
     },
     "execution_count": 36,
     "metadata": {},
     "output_type": "execute_result"
    }
   ],
   "source": [
    "cmm_train.binpcngroup.sample(1).values[0]"
   ]
  },
  {
   "cell_type": "code",
   "execution_count": 48,
   "id": "5aecab1a",
   "metadata": {},
   "outputs": [
    {
     "data": {
      "text/plain": [
       "drug\n",
       "branded antimab            [17.66, 18.87, 20.29, 18.58, 18.53, 18.08, 18....\n",
       "branded bovirol                                                      [13.01]\n",
       "branded brede                                                        [12.03]\n",
       "branded choxestamenium     [137.65, 0.0, 137.9, 138.7, 139.14, 137.4, 137...\n",
       "branded cibroniudosin                                                [10.58]\n",
       "                                                 ...                        \n",
       "generic tanoclolol                                                    [5.87]\n",
       "generic thiostasteglume    [12.9, 13.55, 25.01, 12.34, 12.2, 12.99, 13.97...\n",
       "generic todiadianic        [39.64, 0.0, 63.25, 41.26, 39.95, 38.97, 41.4,...\n",
       "generic tovane                                                        [9.48]\n",
       "generic vocopirin          [9.36, 10.03, 11.52, 17.07, 10.37, 11.38, 10.5...\n",
       "Name: patient_pay, Length: 114, dtype: object"
      ]
     },
     "execution_count": 48,
     "metadata": {},
     "output_type": "execute_result"
    }
   ],
   "source": [
    "cmm_train[cmm_train.binpcngroup == \n",
    "          cmm_train.binpcngroup.sample(1).values[0]].groupby('drug')['patient_pay'].unique()"
   ]
  },
  {
   "cell_type": "code",
   "execution_count": null,
   "id": "54b677db",
   "metadata": {},
   "outputs": [],
   "source": []
  }
 ],
 "metadata": {
  "kernelspec": {
   "display_name": "Python 3 (ipykernel)",
   "language": "python",
   "name": "python3"
  },
  "language_info": {
   "codemirror_mode": {
    "name": "ipython",
    "version": 3
   },
   "file_extension": ".py",
   "mimetype": "text/x-python",
   "name": "python",
   "nbconvert_exporter": "python",
   "pygments_lexer": "ipython3",
   "version": "3.10.4"
  }
 },
 "nbformat": 4,
 "nbformat_minor": 5
}
