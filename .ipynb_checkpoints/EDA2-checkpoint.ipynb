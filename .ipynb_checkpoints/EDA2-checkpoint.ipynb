{
 "cells": [
  {
   "cell_type": "markdown",
   "id": "a17f75f3",
   "metadata": {},
   "source": [
    "# Second EDA notebook"
   ]
  },
  {
   "cell_type": "markdown",
   "id": "2d262855",
   "metadata": {},
   "source": [
    "### Import useful libraries"
   ]
  },
  {
   "cell_type": "code",
   "execution_count": 1,
   "id": "12f99080",
   "metadata": {},
   "outputs": [],
   "source": [
    "import numpy as np\n",
    "import pandas as pd\n",
    "\n",
    "import matplotlib.pyplot as plt\n",
    "import seaborn as sns\n",
    "\n",
    "from sklearn.model_selection import train_test_split"
   ]
  },
  {
   "cell_type": "markdown",
   "id": "611e6278",
   "metadata": {},
   "source": [
    "### Import data"
   ]
  },
  {
   "cell_type": "code",
   "execution_count": 2,
   "id": "0881b930",
   "metadata": {},
   "outputs": [],
   "source": [
    "cmm_data = pd.read_csv('/home/ruggiec/Downloads/pharmacy_tx.csv')"
   ]
  },
  {
   "cell_type": "code",
   "execution_count": 3,
   "id": "e4276e32",
   "metadata": {},
   "outputs": [],
   "source": [
    "cmm_data_no_dups = cmm_data.drop_duplicates()"
   ]
  },
  {
   "cell_type": "markdown",
   "id": "a675cb73",
   "metadata": {},
   "source": [
    "### Create Train/Test split"
   ]
  },
  {
   "cell_type": "code",
   "execution_count": 4,
   "id": "05746446",
   "metadata": {},
   "outputs": [],
   "source": [
    "cmm_train, cmm_test = train_test_split(cmm_data_no_dups, shuffle=True, \n",
    "                             random_state= 614, test_size=0.2)"
   ]
  },
  {
   "cell_type": "markdown",
   "id": "62fa490b",
   "metadata": {},
   "source": [
    "### Some basic feature engineering"
   ]
  },
  {
   "cell_type": "markdown",
   "id": "5529437a",
   "metadata": {},
   "source": [
    "The following 2 functions are used to split the drug name and create a column for generics"
   ]
  },
  {
   "cell_type": "code",
   "execution_count": 5,
   "id": "8dc91774",
   "metadata": {},
   "outputs": [],
   "source": [
    "def is_it_generic(text):\n",
    "    if text.split()[0] == 'generic':\n",
    "        return 1\n",
    "    else:\n",
    "        return 0"
   ]
  },
  {
   "cell_type": "code",
   "execution_count": 6,
   "id": "4d663997",
   "metadata": {},
   "outputs": [],
   "source": [
    "def drug_name(text):\n",
    "    return text.split()[1]"
   ]
  },
  {
   "cell_type": "code",
   "execution_count": 7,
   "id": "2f95dba9",
   "metadata": {},
   "outputs": [],
   "source": [
    "cmm_train['generic'] = cmm_train.drug.apply(is_it_generic)"
   ]
  },
  {
   "cell_type": "code",
   "execution_count": 8,
   "id": "5f7a35e2",
   "metadata": {},
   "outputs": [],
   "source": [
    "cmm_train['name'] = cmm_train['drug'].apply(drug_name)"
   ]
  },
  {
   "cell_type": "code",
   "execution_count": 9,
   "id": "30bb2259",
   "metadata": {},
   "outputs": [],
   "source": [
    "cmm_train['private'] = cmm_train.group.isna().astype(int)"
   ]
  },
  {
   "cell_type": "code",
   "execution_count": 10,
   "id": "faa84c7c",
   "metadata": {},
   "outputs": [],
   "source": [
    "cmm_train['popularity'] = cmm_train.groupby('name')[['tx_date']].transform('count')"
   ]
  },
  {
   "cell_type": "code",
   "execution_count": 11,
   "id": "5b03df2b",
   "metadata": {},
   "outputs": [],
   "source": [
    "cmm_train['rejected'] = cmm_train['rejected'].astype(int)"
   ]
  },
  {
   "cell_type": "code",
   "execution_count": 12,
   "id": "de0cc79e",
   "metadata": {},
   "outputs": [],
   "source": [
    "cmm_train['rejected_count'] = cmm_train.groupby('name')['rejected'].transform('sum')"
   ]
  },
  {
   "cell_type": "code",
   "execution_count": 13,
   "id": "194c0e4d",
   "metadata": {},
   "outputs": [
    {
     "data": {
      "text/html": [
       "<div>\n",
       "<style scoped>\n",
       "    .dataframe tbody tr th:only-of-type {\n",
       "        vertical-align: middle;\n",
       "    }\n",
       "\n",
       "    .dataframe tbody tr th {\n",
       "        vertical-align: top;\n",
       "    }\n",
       "\n",
       "    .dataframe thead th {\n",
       "        text-align: right;\n",
       "    }\n",
       "</style>\n",
       "<table border=\"1\" class=\"dataframe\">\n",
       "  <thead>\n",
       "    <tr style=\"text-align: right;\">\n",
       "      <th></th>\n",
       "      <th>tx_date</th>\n",
       "      <th>pharmacy</th>\n",
       "      <th>diagnosis</th>\n",
       "      <th>drug</th>\n",
       "      <th>bin</th>\n",
       "      <th>pcn</th>\n",
       "      <th>group</th>\n",
       "      <th>rejected</th>\n",
       "      <th>patient_pay</th>\n",
       "      <th>generic</th>\n",
       "      <th>name</th>\n",
       "      <th>private</th>\n",
       "      <th>popularity</th>\n",
       "      <th>rejected_count</th>\n",
       "    </tr>\n",
       "  </thead>\n",
       "  <tbody>\n",
       "    <tr>\n",
       "      <th>3962160</th>\n",
       "      <td>2022-04-23</td>\n",
       "      <td>Pharmacy #29</td>\n",
       "      <td>M31.63</td>\n",
       "      <td>branded mamate</td>\n",
       "      <td>322463</td>\n",
       "      <td>3O71UTS</td>\n",
       "      <td>NaN</td>\n",
       "      <td>0</td>\n",
       "      <td>25.75</td>\n",
       "      <td>0</td>\n",
       "      <td>mamate</td>\n",
       "      <td>1</td>\n",
       "      <td>23539</td>\n",
       "      <td>4480</td>\n",
       "    </tr>\n",
       "    <tr>\n",
       "      <th>1161541</th>\n",
       "      <td>2022-02-06</td>\n",
       "      <td>Pharmacy #7</td>\n",
       "      <td>Z20.23</td>\n",
       "      <td>branded vivafastat</td>\n",
       "      <td>725700</td>\n",
       "      <td>327CKV</td>\n",
       "      <td>IOEAN1DWVV3Y</td>\n",
       "      <td>0</td>\n",
       "      <td>180.52</td>\n",
       "      <td>0</td>\n",
       "      <td>vivafastat</td>\n",
       "      <td>0</td>\n",
       "      <td>43263</td>\n",
       "      <td>14072</td>\n",
       "    </tr>\n",
       "    <tr>\n",
       "      <th>10643305</th>\n",
       "      <td>2022-10-12</td>\n",
       "      <td>Pharmacy #4</td>\n",
       "      <td>U41.19</td>\n",
       "      <td>generic foxivelule</td>\n",
       "      <td>322463</td>\n",
       "      <td>3O71UTS</td>\n",
       "      <td>NaN</td>\n",
       "      <td>0</td>\n",
       "      <td>12.22</td>\n",
       "      <td>1</td>\n",
       "      <td>foxivelule</td>\n",
       "      <td>1</td>\n",
       "      <td>367822</td>\n",
       "      <td>0</td>\n",
       "    </tr>\n",
       "    <tr>\n",
       "      <th>10629491</th>\n",
       "      <td>2022-10-11</td>\n",
       "      <td>Pharmacy #31</td>\n",
       "      <td>K87.68</td>\n",
       "      <td>generic ribosatharin</td>\n",
       "      <td>664344</td>\n",
       "      <td>YFVIA</td>\n",
       "      <td>AJK5MZ25T9IA</td>\n",
       "      <td>0</td>\n",
       "      <td>12.37</td>\n",
       "      <td>1</td>\n",
       "      <td>ribosatharin</td>\n",
       "      <td>0</td>\n",
       "      <td>121908</td>\n",
       "      <td>8960</td>\n",
       "    </tr>\n",
       "    <tr>\n",
       "      <th>10928718</th>\n",
       "      <td>2022-10-18</td>\n",
       "      <td>Pharmacy #6</td>\n",
       "      <td>G99.93</td>\n",
       "      <td>generic simarol</td>\n",
       "      <td>96934</td>\n",
       "      <td>S76J7V6</td>\n",
       "      <td>NaN</td>\n",
       "      <td>0</td>\n",
       "      <td>13.93</td>\n",
       "      <td>1</td>\n",
       "      <td>simarol</td>\n",
       "      <td>1</td>\n",
       "      <td>144501</td>\n",
       "      <td>7380</td>\n",
       "    </tr>\n",
       "  </tbody>\n",
       "</table>\n",
       "</div>"
      ],
      "text/plain": [
       "             tx_date      pharmacy diagnosis                  drug     bin  \\\n",
       "3962160   2022-04-23  Pharmacy #29    M31.63        branded mamate  322463   \n",
       "1161541   2022-02-06   Pharmacy #7    Z20.23    branded vivafastat  725700   \n",
       "10643305  2022-10-12   Pharmacy #4    U41.19    generic foxivelule  322463   \n",
       "10629491  2022-10-11  Pharmacy #31    K87.68  generic ribosatharin  664344   \n",
       "10928718  2022-10-18   Pharmacy #6    G99.93       generic simarol   96934   \n",
       "\n",
       "              pcn         group  rejected  patient_pay  generic          name  \\\n",
       "3962160   3O71UTS           NaN         0        25.75        0        mamate   \n",
       "1161541    327CKV  IOEAN1DWVV3Y         0       180.52        0    vivafastat   \n",
       "10643305  3O71UTS           NaN         0        12.22        1    foxivelule   \n",
       "10629491    YFVIA  AJK5MZ25T9IA         0        12.37        1  ribosatharin   \n",
       "10928718  S76J7V6           NaN         0        13.93        1       simarol   \n",
       "\n",
       "          private  popularity  rejected_count  \n",
       "3962160         1       23539            4480  \n",
       "1161541         0       43263           14072  \n",
       "10643305        1      367822               0  \n",
       "10629491        0      121908            8960  \n",
       "10928718        1      144501            7380  "
      ]
     },
     "execution_count": 13,
     "metadata": {},
     "output_type": "execute_result"
    }
   ],
   "source": [
    "cmm_train.head()"
   ]
  },
  {
   "cell_type": "code",
   "execution_count": 25,
   "id": "47cb6641",
   "metadata": {},
   "outputs": [
    {
     "data": {
      "image/png": "[encoded data removed]",
      "text/plain": [
       "<Figure size 576x432 with 1 Axes>"
      ]
     },
     "metadata": {
      "needs_background": "light"
     },
     "output_type": "display_data"
    }
   ],
   "source": [
    "plt.figure(figsize=(8,6))\n",
    "plt.scatter(cmm_train[cmm_train['rejected']==0]['popularity'], \n",
    "            cmm_train[cmm_train['rejected']==0]['rejected_count'])\n",
    "plt.xlabel('Number of instances of the drug in the data set')\n",
    "plt.ylabel('Number of instances the drug was rejected in the data set')\n",
    "plt.show()"
   ]
  },
  {
   "cell_type": "code",
   "execution_count": 14,
   "id": "031c7908",
   "metadata": {},
   "outputs": [
    {
     "data": {
      "text/plain": [
       "name\n",
       "antimab            18.714376\n",
       "bovirol            11.083089\n",
       "brede              11.266803\n",
       "choxestamenium     84.639381\n",
       "cibroniudosin      13.129981\n",
       "                     ...    \n",
       "tovane             11.165066\n",
       "tricatripride      24.018239\n",
       "tugesutin         109.330676\n",
       "vivafastat        101.869129\n",
       "vocopirin          16.192506\n",
       "Name: patient_pay, Length: 77, dtype: float64"
      ]
     },
     "execution_count": 14,
     "metadata": {},
     "output_type": "execute_result"
    }
   ],
   "source": [
    "cmm_train.groupby('name')['patient_pay'].mean()"
   ]
  },
  {
   "cell_type": "code",
   "execution_count": 26,
   "id": "ae72e813",
   "metadata": {},
   "outputs": [
    {
     "data": {
      "image/png": "[encoded data removed]",
      "text/plain": [
       "<Figure size 1296x720 with 1 Axes>"
      ]
     },
     "metadata": {
      "needs_background": "light"
     },
     "output_type": "display_data"
    }
   ],
   "source": [
    "plt.figure(figsize=(18, 10))\n",
    "plt.scatter(cmm_train[cmm_train['rejected']==0]['rejected_count'], \n",
    "            cmm_train[cmm_train['rejected']==0]['patient_pay'])\n",
    "plt.show()"
   ]
  },
  {
   "cell_type": "code",
   "execution_count": 20,
   "id": "870ad59d",
   "metadata": {},
   "outputs": [],
   "source": [
    "cmm_train['log_pay'] = cmm_train['patient_pay'].apply(np.log)"
   ]
  },
  {
   "cell_type": "code",
   "execution_count": 22,
   "id": "9d6fe4cb",
   "metadata": {},
   "outputs": [
    {
     "data": {
      "image/png": "[encoded data removed]",
      "text/plain": [
       "<Figure size 1296x720 with 1 Axes>"
      ]
     },
     "metadata": {
      "needs_background": "light"
     },
     "output_type": "display_data"
    }
   ],
   "source": [
    "plt.figure(figsize=(18, 10))\n",
    "plt.scatter(cmm_train[cmm_train['rejected']==0]['rejected_count'], \n",
    "            cmm_train[cmm_train['rejected']==0]['log_pay'])\n",
    "plt.show()"
   ]
  },
  {
   "cell_type": "code",
   "execution_count": 32,
   "id": "4a9cff54",
   "metadata": {},
   "outputs": [
    {
     "data": {
      "text/plain": [
       "3962160      37.559594\n",
       "1161541     101.869129\n",
       "10643305     10.150110\n",
       "10629491     13.455272\n",
       "10928718     14.388179\n",
       "               ...    \n",
       "12922697     13.971256\n",
       "2681870      24.018239\n",
       "3518530       9.957783\n",
       "9525850      10.346311\n",
       "7587179      12.705774\n",
       "Name: patient_pay, Length: 10049476, dtype: float64"
      ]
     },
     "execution_count": 32,
     "metadata": {},
     "output_type": "execute_result"
    }
   ],
   "source": [
    "cmm_train.groupby('name')['patient_pay'].transform('mean')"
   ]
  },
  {
   "cell_type": "code",
   "execution_count": 46,
   "id": "3cbdfa38",
   "metadata": {},
   "outputs": [
    {
     "data": {
      "text/plain": [
       "name\n",
       "monemodiase        406.017504\n",
       "pheromycin         365.326027\n",
       "prefluflomycin     231.473897\n",
       "flacelfatastat     205.191397\n",
       "masonic            203.026510\n",
       "                      ...    \n",
       "foxivelule          10.150110\n",
       "tanoclolol           9.957783\n",
       "oxasoted             9.946199\n",
       "gorol                9.902102\n",
       "glycontazepelol      9.709958\n",
       "Name: patient_pay, Length: 77, dtype: float64"
      ]
     },
     "execution_count": 46,
     "metadata": {},
     "output_type": "execute_result"
    }
   ],
   "source": [
    "cmm_train[cmm_train['rejected']==0].groupby('name')['patient_pay'].mean().sort_values(ascending=False)"
   ]
  },
  {
   "cell_type": "code",
   "execution_count": 51,
   "id": "d5c159bd",
   "metadata": {},
   "outputs": [
    {
     "data": {
      "image/png": "[encoded data removed]",
      "text/plain": [
       "<Figure size 432x288 with 1 Axes>"
      ]
     },
     "metadata": {
      "needs_background": "light"
     },
     "output_type": "display_data"
    }
   ],
   "source": [
    "cmm_train[cmm_train['rejected']==0].groupby('name')['patient_pay'].mean().sort_values(ascending=False).plot()\n",
    "plt.show()"
   ]
  },
  {
   "cell_type": "code",
   "execution_count": 42,
   "id": "af080ad6",
   "metadata": {},
   "outputs": [
    {
     "data": {
      "text/plain": [
       "count    28617.000000\n",
       "mean       276.850108\n",
       "std        239.237588\n",
       "min          0.000000\n",
       "25%          0.000000\n",
       "50%        340.290000\n",
       "75%        505.860000\n",
       "max        557.930000\n",
       "Name: patient_pay, dtype: float64"
      ]
     },
     "execution_count": 42,
     "metadata": {},
     "output_type": "execute_result"
    }
   ],
   "source": [
    "cmm_train[cmm_train['name']=='monemodiase']['patient_pay'].describe()"
   ]
  },
  {
   "cell_type": "code",
   "execution_count": null,
   "id": "2b347935",
   "metadata": {},
   "outputs": [],
   "source": [
    "plt.figure(figsize=(8,6))\n",
    "\n",
    "sns.scatterplot(x='popularity', y=mean_pay)\n",
    "plt.title('Price as a function of Popularity')\n",
    "plt.xlabel('Rate of Instances of Drug in Training Set')\n",
    "plt.ylabel('Patient Pay')\n",
    "\n",
    "plt.show()"
   ]
  },
  {
   "cell_type": "markdown",
   "id": "a41ead51",
   "metadata": {},
   "source": [
    "## The section below works but is not the best way"
   ]
  },
  {
   "cell_type": "code",
   "execution_count": 15,
   "id": "5b6b22ba",
   "metadata": {},
   "outputs": [],
   "source": [
    "pop = cmm_train.name.value_counts()/len(cmm_train)"
   ]
  },
  {
   "cell_type": "code",
   "execution_count": 24,
   "id": "deec9a97",
   "metadata": {},
   "outputs": [
    {
     "data": {
      "text/plain": [
       "prazinib        0.091463\n",
       "rulfalol        0.052840\n",
       "pucomalol       0.041528\n",
       "tanoclolol      0.037919\n",
       "foxivelule      0.036601\n",
       "                  ...   \n",
       "dusin           0.000761\n",
       "sizubesin       0.000645\n",
       "gohevitravir    0.000331\n",
       "lehydrome       0.000202\n",
       "nenizevir       0.000089\n",
       "Name: name, Length: 77, dtype: float64"
      ]
     },
     "execution_count": 24,
     "metadata": {},
     "output_type": "execute_result"
    }
   ],
   "source": [
    "pop"
   ]
  },
  {
   "cell_type": "code",
   "execution_count": 20,
   "id": "c352a9ed",
   "metadata": {},
   "outputs": [
    {
     "data": {
      "text/plain": [
       "Index(['prazinib', 'rulfalol', 'pucomalol', 'tanoclolol', 'foxivelule', 'mule',\n",
       "       'glycontazepelol', 'hidizuzunib', 'dienulol', 'ratin', 'tovane',\n",
       "       'tocilic', 'semufolic', 'oxasoted', 'cupitelol', 'momudobatin',\n",
       "       'antimab', 'lalol', 'keglusited', 'plazamiglutic', 'colifunene',\n",
       "       'gorol', 'bovirol', 'simarol', 'diadaric', 'hozirol', 'tafistitrisin',\n",
       "       'cibroniudosin', 'nusudaric', 'ribosatharin', 'sorine', 'glulune',\n",
       "       'vocopirin', 'suvinicuvir', 'cycloxasonol', 'colade', 'hivir', 'brede',\n",
       "       'choxestamenium', 'satrade', 'tugesutin', 'fazipilin', 'nephelilin',\n",
       "       'cicrochoric', 'isobrovelin', 'glycogane', 'vivafastat', 'flalurin',\n",
       "       'notin', 'cuxirin', 'flacelfatastat', 'kediborin', 'lixegimoric',\n",
       "       'nicotilin', 'sacrode', 'tricatripride', 'gentipapavir', 'todiadianic',\n",
       "       'monemodiase', 'prefluflomycin', 'mamate', 'debome', 'gosate',\n",
       "       'thiostasteglume', 'tocrocin', 'genetramycicin', 'fumiluric', 'devacin',\n",
       "       'masonic', 'pranic', 'pheromycin', 'spifistime', 'dusin', 'sizubesin',\n",
       "       'gohevitravir', 'lehydrome', 'nenizevir'],\n",
       "      dtype='object')"
      ]
     },
     "execution_count": 20,
     "metadata": {},
     "output_type": "execute_result"
    }
   ],
   "source": [
    "pop.index"
   ]
  },
  {
   "cell_type": "code",
   "execution_count": 25,
   "id": "195f3c9e",
   "metadata": {},
   "outputs": [],
   "source": [
    "cmm_train_nr = cmm_train[cmm_train['rejected']==False]"
   ]
  },
  {
   "cell_type": "code",
   "execution_count": 26,
   "id": "fbf2a770",
   "metadata": {},
   "outputs": [],
   "source": [
    "mean_pay = np.zeros(len(pop.index))\n",
    "i=0\n",
    "\n",
    "for drug in pop.index:\n",
    "    mean_pay[i] = cmm_train_nr[cmm_train_nr['name']==drug]['patient_pay'].mean()\n",
    "    i+=1"
   ]
  },
  {
   "cell_type": "code",
   "execution_count": 28,
   "id": "bf62fc20",
   "metadata": {},
   "outputs": [
    {
     "data": {
      "image/png": "[encoded data removed]",
      "text/plain": [
       "<Figure size 576x432 with 1 Axes>"
      ]
     },
     "metadata": {
      "needs_background": "light"
     },
     "output_type": "display_data"
    }
   ],
   "source": [
    "plt.figure(figsize=(8,6))\n",
    "\n",
    "plt.scatter(pop.values, mean_pay)\n",
    "plt.title('Price as a function of Popularity')\n",
    "plt.xlabel('Rate of Instances of Drug in Training Set')\n",
    "plt.ylabel('Patient Pay')\n",
    "\n",
    "plt.show()"
   ]
  },
  {
   "cell_type": "code",
   "execution_count": 31,
   "id": "cebe544c",
   "metadata": {},
   "outputs": [
    {
     "data": {
      "image/png": "[encoded data removed]",
      "text/plain": [
       "<Figure size 576x432 with 1 Axes>"
      ]
     },
     "metadata": {
      "needs_background": "light"
     },
     "output_type": "display_data"
    }
   ],
   "source": [
    "plt.figure(figsize=(8,6))\n",
    "\n",
    "sns.scatterplot(x=pop.values, y=mean_pay)\n",
    "plt.title('Price as a function of Popularity')\n",
    "plt.xlabel('Rate of Instances of Drug in Training Set')\n",
    "plt.ylabel('Patient Pay')\n",
    "\n",
    "plt.show()"
   ]
  },
  {
   "cell_type": "code",
   "execution_count": null,
   "id": "e23664c7",
   "metadata": {},
   "outputs": [],
   "source": []
  }
 ],
 "metadata": {
  "kernelspec": {
   "display_name": "Python 3 (ipykernel)",
   "language": "python",
   "name": "python3"
  },
  "language_info": {
   "codemirror_mode": {
    "name": "ipython",
    "version": 3
   },
   "file_extension": ".py",
   "mimetype": "text/x-python",
   "name": "python",
   "nbconvert_exporter": "python",
   "pygments_lexer": "ipython3",
   "version": "3.10.4"
  }
 },
 "nbformat": 4,
 "nbformat_minor": 5
}
