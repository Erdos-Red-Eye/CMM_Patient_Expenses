{
 "cells": [
  {
   "cell_type": "markdown",
   "id": "ee42475a",
   "metadata": {},
   "source": [
    "# Regression Model for the Prediction of Patient Pay\n",
    "\n",
    "This model is based on the HistGradientBoostingRegressor in sklearn\n",
    "HistGradientBoostingRegressor has native support for categorical variables allowing for minimal preprocessing of the features in the data set. The categorical variables for insurance (bin, pcn, and group) and drug are transformed into ordinal values using the label encoder.\n",
    "\n",
    "Cross validation of model fitted only on the insurance information and drug name show a mean average precentage error of ~1.5%.\n"
   ]
  },
  {
   "cell_type": "markdown",
   "id": "bf009fd6",
   "metadata": {},
   "source": [
    "### Relevant libraries are imported."
   ]
  },
  {
   "cell_type": "code",
   "execution_count": 1,
   "id": "ce53e5d6",
   "metadata": {},
   "outputs": [],
   "source": [
    "import numpy as np\n",
    "import pandas as pd\n",
    "import matplotlib.pyplot as plt\n",
    "import seaborn as sns\n",
    "\n",
    "from sklearn.model_selection import train_test_split\n",
    "from sklearn.preprocessing import LabelEncoder\n",
    "\n",
    "from sklearn.ensemble import HistGradientBoostingRegressor\n",
    "\n",
    "from sklearn.model_selection import KFold, cross_val_score, cross_validate\n",
    "\n",
    "from sklearn.metrics import mean_absolute_error, mean_absolute_percentage_error, mean_squared_error"
   ]
  },
  {
   "cell_type": "markdown",
   "id": "cd052ce8",
   "metadata": {},
   "source": [
    "### Data set is imported and split into a training and test set."
   ]
  },
  {
   "cell_type": "code",
   "execution_count": 2,
   "id": "bddf942c",
   "metadata": {},
   "outputs": [],
   "source": [
    "cmm_data = pd.read_csv('/home/ruggiec/Downloads/pharmacy_tx.csv')\n",
    "\n",
    "#cmm_data_no_dups = cmm_data.drop_duplicates()\n",
    "\n",
    "cmm_train, cmm_test = train_test_split(cmm_data, shuffle=True, \n",
    "                             random_state= 614, test_size=0.2)"
   ]
  },
  {
   "cell_type": "markdown",
   "id": "46b933b4",
   "metadata": {},
   "source": [
    "### Minimal feature engineering is perfomed\n",
    "\n",
    "The date information is extracted from the 'tx_date' column and all categorical variables are encoded using the LabelEncoder."
   ]
  },
  {
   "cell_type": "code",
   "execution_count": 11,
   "id": "083b4241",
   "metadata": {},
   "outputs": [],
   "source": [
    "## For the models below, this step is not necessary.\n",
    "\n",
    "cmm_train['tx_date'] = pd.to_datetime(cmm_train.tx_date)\n",
    "cmm_train['day_of_week'] = cmm_train.tx_date.dt.day_of_week\n",
    "cmm_train['day_of_year'] = cmm_train.tx_date.dt.day_of_year"
   ]
  },
  {
   "cell_type": "code",
   "execution_count": 4,
   "id": "5580d9f9",
   "metadata": {},
   "outputs": [],
   "source": [
    "## The models below do not use all of the encoded columns and rely only on bin, pcn, group, and drug.\n",
    "\n",
    "le_diagnosis = LabelEncoder()\n",
    "cmm_train['diagnosis_encoded'] = le_diagnosis.fit_transform(cmm_train['diagnosis'])\n",
    "\n",
    "le_bin = LabelEncoder()\n",
    "cmm_train['bin_encoded'] = le_bin.fit_transform(cmm_train['bin'])\n",
    "\n",
    "le_pcn = LabelEncoder()\n",
    "cmm_train['pcn_encoded'] = le_pcn.fit_transform(cmm_train['pcn'])\n",
    "\n",
    "le_group= LabelEncoder()\n",
    "cmm_train['group_encoded'] = le_group.fit_transform(cmm_train['group'])\n",
    "\n",
    "le_drug = LabelEncoder()\n",
    "cmm_train['pharmacy_encoded'] = le_drug.fit_transform(cmm_train.pharmacy)\n",
    "\n",
    "le_drug = LabelEncoder()\n",
    "cmm_train['day_of_week_encoded'] = le_drug.fit_transform(cmm_train.day_of_week)\n",
    "\n",
    "le_drug = LabelEncoder()\n",
    "cmm_train['drug_encoded'] = le_drug.fit_transform(cmm_train.drug)"
   ]
  },
  {
   "cell_type": "markdown",
   "id": "d659280c",
   "metadata": {},
   "source": [
    "### Rejected claims are removed from the data set\n",
    "\n",
    "Rejected claims do not offer any information on patient pay."
   ]
  },
  {
   "cell_type": "code",
   "execution_count": 5,
   "id": "3420e9cc",
   "metadata": {},
   "outputs": [],
   "source": [
    "cmm_paid = cmm_train[cmm_train.rejected == 0]"
   ]
  },
  {
   "cell_type": "markdown",
   "id": "d5673a0e",
   "metadata": {},
   "source": [
    "### Model Perfomance\n",
    "\n",
    "Three models are trained below. The second model shows the importance of defining categorical features in the HistGradientBoostingRegressor."
   ]
  },
  {
   "cell_type": "code",
   "execution_count": 12,
   "id": "d6fd2ebe",
   "metadata": {},
   "outputs": [],
   "source": [
    "## Model 1\n",
    "## Baseline model using only insurance info and the drug name.\n",
    "\n",
    "features = ['bin_encoded', 'pcn_encoded', 'group_encoded', 'drug_encoded'] # features\n",
    "hgbr = HistGradientBoostingRegressor(random_state=412)\n",
    "base_scores = cross_val_score(hgbr, cmm_paid[features], cmm_paid.patient_pay, \n",
    "                         cv=5, scoring='neg_mean_absolute_percentage_error')"
   ]
  },
  {
   "cell_type": "code",
   "execution_count": 16,
   "id": "816cb5d9",
   "metadata": {},
   "outputs": [
    {
     "name": "stdout",
     "output_type": "stream",
     "text": [
      "Default paramter with no categrocical features defined--MAPE: 32.39207362582866\n"
     ]
    }
   ],
   "source": [
    "print('Default paramter with no categrocical features defined--MAPE:', -base_scores.mean()*100)"
   ]
  },
  {
   "cell_type": "code",
   "execution_count": 21,
   "id": "92f1c3e0",
   "metadata": {},
   "outputs": [],
   "source": [
    "## Model 2\n",
    "## Improved model using only insurance info with defined categorical features.\n",
    "\n",
    "features = ['bin_encoded', 'pcn_encoded', 'group_encoded', 'drug_encoded'] # features\n",
    "hgbr = HistGradientBoostingRegressor(random_state=412, categorical_features=[0, 1, 2, 3])\n",
    "cat_scores = cross_val_score(hgbr, cmm_paid[features], cmm_paid.patient_pay, \n",
    "                         cv=5, scoring='neg_mean_absolute_percentage_error')"
   ]
  },
  {
   "cell_type": "code",
   "execution_count": 22,
   "id": "262191c8",
   "metadata": {},
   "outputs": [
    {
     "name": "stdout",
     "output_type": "stream",
     "text": [
      "Default paramter with categrocical features defined--MAPE: 9.543921744956608\n"
     ]
    }
   ],
   "source": [
    "print('Default paramter with categrocical features defined--MAPE:', -cat_scores.mean()*100)"
   ]
  },
  {
   "cell_type": "code",
   "execution_count": 6,
   "id": "301e7547",
   "metadata": {},
   "outputs": [],
   "source": [
    "## Model 3\n",
    "## This model is the same as the model 2 with no bound on the number of leaf nodes.\n",
    "## Training this model is slower (order of minutes) but shows greatly increased metrics.)\n",
    "\n",
    "features = ['bin_encoded', 'pcn_encoded', 'group_encoded', 'drug_encoded'] # features\n",
    "hgbr = HistGradientBoostingRegressor(random_state=412, categorical_features=[0, 1, 2, 3], max_leaf_nodes=None)\n",
    "scores = cross_val_score(hgbr, cmm_paid[features], cmm_paid.patient_pay, \n",
    "                         cv=5, scoring='neg_mean_absolute_percentage_error')"
   ]
  },
  {
   "cell_type": "code",
   "execution_count": 20,
   "id": "78443173",
   "metadata": {},
   "outputs": [
    {
     "name": "stdout",
     "output_type": "stream",
     "text": [
      "No upper bound on Leaf Nodes in model and categorical features--MAPE 1.588027916051193\n"
     ]
    }
   ],
   "source": [
    "print('No upper bound on Leaf Nodes in model and categorical features--MAPE', -scores.mean()*100)"
   ]
  },
  {
   "cell_type": "markdown",
   "id": "e3ad92a9",
   "metadata": {},
   "source": [
    "My feeling is that max_leaf_nodes can be tuned so that the model can be trained faster."
   ]
  },
  {
   "cell_type": "markdown",
   "id": "03f40623",
   "metadata": {},
   "source": [
    "### Further work includes adding day of year and diagnosis information into the model\n",
    "\n",
    "Initial tests show very minimal gains ~0.1%\n",
    "\n",
    "Additionally, this model was only tested on the training set."
   ]
  },
  {
   "cell_type": "code",
   "execution_count": null,
   "id": "6f267aac",
   "metadata": {},
   "outputs": [],
   "source": []
  }
 ],
 "metadata": {
  "kernelspec": {
   "display_name": "Python 3 (ipykernel)",
   "language": "python",
   "name": "python3"
  },
  "language_info": {
   "codemirror_mode": {
    "name": "ipython",
    "version": 3
   },
   "file_extension": ".py",
   "mimetype": "text/x-python",
   "name": "python",
   "nbconvert_exporter": "python",
   "pygments_lexer": "ipython3",
   "version": "3.10.4"
  }
 },
 "nbformat": 4,
 "nbformat_minor": 5
}
