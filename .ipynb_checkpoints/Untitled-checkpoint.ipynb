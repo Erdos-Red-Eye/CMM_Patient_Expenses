{
 "cells": [
  {
   "cell_type": "code",
   "execution_count": 36,
   "id": "cbb9ce0b",
   "metadata": {},
   "outputs": [],
   "source": [
    "import numpy as np\n",
    "import pandas as pd\n",
    "\n",
    "import matplotlib.pyplot as plt\n",
    "import seaborn as sns\n",
    "\n",
    "from sklearn.model_selection import train_test_split\n",
    "from sklearn.ensemble import HistGradientBoostingClassifier\n",
    "from sklearn.model_selection import KFold\n",
    "from sklearn.metrics import recall_score, precision_score, accuracy_score\n",
    "from sklearn.utils import resample\n",
    "from sklearn.metrics import confusion_matrix\n",
    "from sklearn.preprocessing import LabelEncoder"
   ]
  },
  {
   "cell_type": "code",
   "execution_count": 2,
   "id": "812e317d",
   "metadata": {},
   "outputs": [],
   "source": [
    "cmm_data = pd.read_csv('/home/ruggiec/Downloads/pharmacy_tx.csv')\n",
    "cmm_data_no_dups = cmm_data.drop_duplicates()\n",
    "cmm_train, cmm_test = train_test_split(cmm_data_no_dups, shuffle=True, \n",
    "                             random_state= 614, test_size=0.2)"
   ]
  },
  {
   "cell_type": "code",
   "execution_count": 3,
   "id": "8f12a603",
   "metadata": {},
   "outputs": [],
   "source": [
    "def is_it_generic(text):\n",
    "    if text.split()[0] == 'generic':\n",
    "        return 1\n",
    "    else:\n",
    "        return 0\n",
    "    \n",
    "def drug_name(text):\n",
    "    return text.split()[1]\n",
    "\n",
    "def pharm_split(text):\n",
    "    return int(text.split('#')[1])"
   ]
  },
  {
   "cell_type": "code",
   "execution_count": 4,
   "id": "708240ce",
   "metadata": {},
   "outputs": [],
   "source": [
    "cmm_train['generic'] = cmm_train.drug.apply(is_it_generic)\n",
    "cmm_train['name'] = cmm_train['drug'].apply(drug_name)\n",
    "cmm_train['private'] = cmm_train.group.isna().astype(int)\n",
    "cmm_train['popularity'] = cmm_train.groupby('name')[['tx_date']].transform('count')\n",
    "cmm_train['rejected'] = cmm_train['rejected'].astype(int)\n",
    "cmm_train['rejected_count'] = cmm_train.groupby('name')['rejected'].transform('sum')\n",
    "cmm_train['pharm_num'] = cmm_train.pharmacy.apply(pharm_split)\n",
    "cmm_train['tx_date'] = pd.to_datetime(cmm_train.tx_date)\n",
    "cmm_train['weekday'] = cmm_train.tx_date.dt.day_of_week\n",
    "cmm_train['day_num'] = cmm_train.tx_date.dt.day_of_year"
   ]
  },
  {
   "cell_type": "code",
   "execution_count": 37,
   "id": "d2b74edc",
   "metadata": {},
   "outputs": [],
   "source": [
    "le_name = LabelEncoder()\n",
    "le_name.fit(cmm_train['name'])\n",
    "cmm_train['name_encoded'] = le_name.transform(cmm_train['name'])\n",
    "\n",
    "le_diagnosis = LabelEncoder()\n",
    "le_diagnosis.fit(cmm_train['diagnosis'])\n",
    "cmm_train['diagnosis_encoded'] = le_diagnosis.transform(cmm_train['diagnosis'])\n",
    "\n",
    "le_bin = LabelEncoder()\n",
    "le_bin.fit(cmm_train['bin'])\n",
    "cmm_train['bin_encoded'] = le_bin.transform(cmm_train['bin'])\n",
    "\n",
    "le_pcn = LabelEncoder()\n",
    "le_pcn.fit(cmm_train['pcn'])\n",
    "cmm_train['pcn_encoded'] = le_pcn.transform(cmm_train['pcn'])"
   ]
  },
  {
   "cell_type": "code",
   "execution_count": 89,
   "id": "e767d731",
   "metadata": {},
   "outputs": [],
   "source": [
    "minority = resample(cmm_train[cmm_train['rejected']==0], \n",
    "                replace=False, \n",
    "                n_samples=len(cmm_train[cmm_train['rejected']==1]))\n",
    "\n",
    "majority = cmm_train[cmm_train['rejected']==1]\n",
    "\n",
    "undersample = pd.concat([majority, minority])"
   ]
  },
  {
   "cell_type": "code",
   "execution_count": 84,
   "id": "1bea8d51",
   "metadata": {},
   "outputs": [
    {
     "data": {
      "text/html": [
       "<div>\n",
       "<style scoped>\n",
       "    .dataframe tbody tr th:only-of-type {\n",
       "        vertical-align: middle;\n",
       "    }\n",
       "\n",
       "    .dataframe tbody tr th {\n",
       "        vertical-align: top;\n",
       "    }\n",
       "\n",
       "    .dataframe thead th {\n",
       "        text-align: right;\n",
       "    }\n",
       "</style>\n",
       "<table border=\"1\" class=\"dataframe\">\n",
       "  <thead>\n",
       "    <tr style=\"text-align: right;\">\n",
       "      <th></th>\n",
       "      <th>tx_date</th>\n",
       "      <th>pharmacy</th>\n",
       "      <th>diagnosis</th>\n",
       "      <th>drug</th>\n",
       "      <th>bin</th>\n",
       "      <th>pcn</th>\n",
       "      <th>group</th>\n",
       "      <th>rejected</th>\n",
       "      <th>patient_pay</th>\n",
       "      <th>generic</th>\n",
       "      <th>...</th>\n",
       "      <th>private</th>\n",
       "      <th>popularity</th>\n",
       "      <th>rejected_count</th>\n",
       "      <th>pharm_num</th>\n",
       "      <th>weekday</th>\n",
       "      <th>day_num</th>\n",
       "      <th>name_encoded</th>\n",
       "      <th>diagnosis_encoded</th>\n",
       "      <th>bin_encoded</th>\n",
       "      <th>pcn_encoded</th>\n",
       "    </tr>\n",
       "  </thead>\n",
       "  <tbody>\n",
       "    <tr>\n",
       "      <th>8270129</th>\n",
       "      <td>2022-08-14</td>\n",
       "      <td>Pharmacy #15</td>\n",
       "      <td>P07.55</td>\n",
       "      <td>branded semufolic</td>\n",
       "      <td>664344</td>\n",
       "      <td>YFVIA</td>\n",
       "      <td>AJK5MZ25T9IA</td>\n",
       "      <td>1</td>\n",
       "      <td>0.0</td>\n",
       "      <td>0</td>\n",
       "      <td>...</td>\n",
       "      <td>0</td>\n",
       "      <td>237813</td>\n",
       "      <td>41930</td>\n",
       "      <td>15</td>\n",
       "      <td>6</td>\n",
       "      <td>226</td>\n",
       "      <td>60</td>\n",
       "      <td>79</td>\n",
       "      <td>5</td>\n",
       "      <td>44</td>\n",
       "    </tr>\n",
       "    <tr>\n",
       "      <th>7009332</th>\n",
       "      <td>2022-07-14</td>\n",
       "      <td>Pharmacy #14</td>\n",
       "      <td>Y51.55</td>\n",
       "      <td>generic sorine</td>\n",
       "      <td>160389</td>\n",
       "      <td>RB7UU</td>\n",
       "      <td>RS5RB3YA</td>\n",
       "      <td>1</td>\n",
       "      <td>0.0</td>\n",
       "      <td>1</td>\n",
       "      <td>...</td>\n",
       "      <td>0</td>\n",
       "      <td>115708</td>\n",
       "      <td>13891</td>\n",
       "      <td>14</td>\n",
       "      <td>3</td>\n",
       "      <td>195</td>\n",
       "      <td>63</td>\n",
       "      <td>124</td>\n",
       "      <td>1</td>\n",
       "      <td>31</td>\n",
       "    </tr>\n",
       "    <tr>\n",
       "      <th>1316687</th>\n",
       "      <td>2022-02-10</td>\n",
       "      <td>Pharmacy #37</td>\n",
       "      <td>Z20.23</td>\n",
       "      <td>branded vivafastat</td>\n",
       "      <td>160389</td>\n",
       "      <td>RB7UU</td>\n",
       "      <td>RS5RB3YA</td>\n",
       "      <td>1</td>\n",
       "      <td>0.0</td>\n",
       "      <td>0</td>\n",
       "      <td>...</td>\n",
       "      <td>0</td>\n",
       "      <td>43263</td>\n",
       "      <td>14072</td>\n",
       "      <td>37</td>\n",
       "      <td>3</td>\n",
       "      <td>41</td>\n",
       "      <td>75</td>\n",
       "      <td>127</td>\n",
       "      <td>1</td>\n",
       "      <td>31</td>\n",
       "    </tr>\n",
       "    <tr>\n",
       "      <th>9652363</th>\n",
       "      <td>2022-09-17</td>\n",
       "      <td>Pharmacy #7</td>\n",
       "      <td>I38.43</td>\n",
       "      <td>branded colifunene</td>\n",
       "      <td>725700</td>\n",
       "      <td>NaN</td>\n",
       "      <td>DYGBI610ZY</td>\n",
       "      <td>1</td>\n",
       "      <td>0.0</td>\n",
       "      <td>0</td>\n",
       "      <td>...</td>\n",
       "      <td>0</td>\n",
       "      <td>179278</td>\n",
       "      <td>14364</td>\n",
       "      <td>7</td>\n",
       "      <td>5</td>\n",
       "      <td>260</td>\n",
       "      <td>7</td>\n",
       "      <td>49</td>\n",
       "      <td>8</td>\n",
       "      <td>48</td>\n",
       "    </tr>\n",
       "    <tr>\n",
       "      <th>7415161</th>\n",
       "      <td>2022-07-23</td>\n",
       "      <td>Pharmacy #43</td>\n",
       "      <td>H36.57</td>\n",
       "      <td>branded semufolic</td>\n",
       "      <td>725700</td>\n",
       "      <td>9C5MOR3</td>\n",
       "      <td>S2QKZ0OFNWS6X</td>\n",
       "      <td>1</td>\n",
       "      <td>0.0</td>\n",
       "      <td>0</td>\n",
       "      <td>...</td>\n",
       "      <td>0</td>\n",
       "      <td>237813</td>\n",
       "      <td>41930</td>\n",
       "      <td>43</td>\n",
       "      <td>5</td>\n",
       "      <td>204</td>\n",
       "      <td>60</td>\n",
       "      <td>41</td>\n",
       "      <td>8</td>\n",
       "      <td>8</td>\n",
       "    </tr>\n",
       "  </tbody>\n",
       "</table>\n",
       "<p>5 rows × 21 columns</p>\n",
       "</div>"
      ],
      "text/plain": [
       "           tx_date      pharmacy diagnosis                drug     bin  \\\n",
       "8270129 2022-08-14  Pharmacy #15    P07.55   branded semufolic  664344   \n",
       "7009332 2022-07-14  Pharmacy #14    Y51.55      generic sorine  160389   \n",
       "1316687 2022-02-10  Pharmacy #37    Z20.23  branded vivafastat  160389   \n",
       "9652363 2022-09-17   Pharmacy #7    I38.43  branded colifunene  725700   \n",
       "7415161 2022-07-23  Pharmacy #43    H36.57   branded semufolic  725700   \n",
       "\n",
       "             pcn          group  rejected  patient_pay  generic  ... private  \\\n",
       "8270129    YFVIA   AJK5MZ25T9IA         1          0.0        0  ...       0   \n",
       "7009332    RB7UU       RS5RB3YA         1          0.0        1  ...       0   \n",
       "1316687    RB7UU       RS5RB3YA         1          0.0        0  ...       0   \n",
       "9652363      NaN     DYGBI610ZY         1          0.0        0  ...       0   \n",
       "7415161  9C5MOR3  S2QKZ0OFNWS6X         1          0.0        0  ...       0   \n",
       "\n",
       "         popularity  rejected_count  pharm_num  weekday  day_num  \\\n",
       "8270129      237813           41930         15        6      226   \n",
       "7009332      115708           13891         14        3      195   \n",
       "1316687       43263           14072         37        3       41   \n",
       "9652363      179278           14364          7        5      260   \n",
       "7415161      237813           41930         43        5      204   \n",
       "\n",
       "         name_encoded  diagnosis_encoded  bin_encoded  pcn_encoded  \n",
       "8270129            60                 79            5           44  \n",
       "7009332            63                124            1           31  \n",
       "1316687            75                127            1           31  \n",
       "9652363             7                 49            8           48  \n",
       "7415161            60                 41            8            8  \n",
       "\n",
       "[5 rows x 21 columns]"
      ]
     },
     "execution_count": 84,
     "metadata": {},
     "output_type": "execute_result"
    }
   ],
   "source": [
    "undersample.head()"
   ]
  },
  {
   "cell_type": "code",
   "execution_count": 52,
   "id": "814ceb21",
   "metadata": {},
   "outputs": [
    {
     "data": {
      "text/plain": [
       "Index(['tx_date', 'pharmacy', 'diagnosis', 'drug', 'bin', 'pcn', 'group',\n",
       "       'rejected', 'patient_pay', 'generic', 'name', 'private', 'popularity',\n",
       "       'rejected_count', 'pharm_num', 'weekday', 'day_num', 'name_encoded',\n",
       "       'diagnosis_encoded', 'bin_encoded', 'pcn_encoded'],\n",
       "      dtype='object')"
      ]
     },
     "execution_count": 52,
     "metadata": {},
     "output_type": "execute_result"
    }
   ],
   "source": [
    "undersample.columns"
   ]
  },
  {
   "cell_type": "code",
   "execution_count": 42,
   "id": "5a0a2402",
   "metadata": {},
   "outputs": [],
   "source": [
    "features = ['generic', 'private', 'pharm_num', 'weekday', 'day_num', \n",
    "            'name_encoded', 'diagnosis_encoded', 'bin_encoded', 'pcn_encoded']"
   ]
  },
  {
   "cell_type": "code",
   "execution_count": 70,
   "id": "8c457322",
   "metadata": {},
   "outputs": [],
   "source": [
    "gbdt = HistGradientBoostingClassifier(categorical_features=[1, 1, 1, 1, 0, 1, 1, 1, 1])"
   ]
  },
  {
   "cell_type": "code",
   "execution_count": 71,
   "id": "f0c5237f",
   "metadata": {},
   "outputs": [],
   "source": [
    "kf = KFold(n_splits=5, shuffle=True, random_state=614)"
   ]
  },
  {
   "cell_type": "code",
   "execution_count": 85,
   "id": "7d41d4f2",
   "metadata": {},
   "outputs": [],
   "source": [
    "metrics = np.zeros((5, 3))\n",
    "i=0\n",
    "for tt_index, ho_index in kf.split(undersample):\n",
    "    gbdt.fit(undersample[features].iloc[tt_index], undersample['rejected'].iloc[tt_index])\n",
    "    predictions = gbdt.predict(undersample[features].iloc[ho_index])\n",
    "    metrics[i, 0] = recall_score(undersample['rejected'].iloc[ho_index], predictions)\n",
    "    metrics[i, 1] = precision_score(undersample['rejected'].iloc[ho_index], predictions)\n",
    "    metrics[i, 2] = accuracy_score(undersample['rejected'].iloc[ho_index], predictions)\n",
    "    i+=1"
   ]
  },
  {
   "cell_type": "code",
   "execution_count": 86,
   "id": "2aff3408",
   "metadata": {},
   "outputs": [
    {
     "name": "stdout",
     "output_type": "stream",
     "text": [
      "average recall is 0.9872509280442928\n",
      "average precision is 0.8266632460266828\n",
      "average accuracy is 0.8779120361177553\n"
     ]
    }
   ],
   "source": [
    "print('average recall is', metrics.mean(axis=0)[0])\n",
    "print('average precision is', metrics.mean(axis=0)[1])\n",
    "print('average accuracy is', metrics.mean(axis=0)[2])"
   ]
  },
  {
   "cell_type": "code",
   "execution_count": 87,
   "id": "de5448be",
   "metadata": {},
   "outputs": [
    {
     "name": "stdout",
     "output_type": "stream",
     "text": [
      "recall is 0.9884767134576886\n",
      "precision is 0.2583905362285003\n",
      "accuracy is 0.7619864956142987\n"
     ]
    }
   ],
   "source": [
    "gbdt.fit(undersample[features], undersample['rejected'])\n",
    "preds = gbdt.predict(cmm_train[features])\n",
    "\n",
    "print('recall is',recall_score(cmm_train['rejected'], preds))\n",
    "print('precision is',precision_score(cmm_train['rejected'], preds))\n",
    "print('accuracy is',accuracy_score(cmm_train['rejected'], preds))"
   ]
  },
  {
   "cell_type": "code",
   "execution_count": null,
   "id": "d92b48b1",
   "metadata": {},
   "outputs": [],
   "source": []
  }
 ],
 "metadata": {
  "kernelspec": {
   "display_name": "Python 3 (ipykernel)",
   "language": "python",
   "name": "python3"
  },
  "language_info": {
   "codemirror_mode": {
    "name": "ipython",
    "version": 3
   },
   "file_extension": ".py",
   "mimetype": "text/x-python",
   "name": "python",
   "nbconvert_exporter": "python",
   "pygments_lexer": "ipython3",
   "version": "3.10.4"
  }
 },
 "nbformat": 4,
 "nbformat_minor": 5
}
