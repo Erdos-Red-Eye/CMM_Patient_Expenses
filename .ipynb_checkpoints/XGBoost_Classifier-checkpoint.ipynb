{
 "cells": [
  {
   "cell_type": "markdown",
   "id": "8b49dff9",
   "metadata": {},
   "source": [
    "# Quick Model for Classifying Rejection.\n",
    "I am going give to XGBoost a quick go to classify if a drug has been rejected"
   ]
  },
  {
   "cell_type": "markdown",
   "id": "daca6ad4",
   "metadata": {},
   "source": [
    "### Import Libraries"
   ]
  },
  {
   "cell_type": "code",
   "execution_count": 1,
   "id": "ca8765c5",
   "metadata": {},
   "outputs": [],
   "source": [
    "import numpy as np\n",
    "import pandas as pd\n",
    "\n",
    "import matplotlib.pyplot as plt\n",
    "import seaborn as sns\n",
    "\n",
    "from sklearn.model_selection import train_test_split"
   ]
  },
  {
   "cell_type": "markdown",
   "id": "2f1ca27b",
   "metadata": {},
   "source": [
    "### Import data and split into train/test groups"
   ]
  },
  {
   "cell_type": "code",
   "execution_count": 2,
   "id": "62241f6a",
   "metadata": {},
   "outputs": [],
   "source": [
    "cmm_data = pd.read_csv('/home/ruggiec/Downloads/pharmacy_tx.csv')\n",
    "cmm_data_no_dups = cmm_data.drop_duplicates()\n",
    "cmm_train, cmm_test = train_test_split(cmm_data_no_dups, shuffle=True, \n",
    "                             random_state= 614, test_size=0.2)"
   ]
  },
  {
   "cell_type": "markdown",
   "id": "f198bcea",
   "metadata": {},
   "source": [
    "### Feature Engineering"
   ]
  },
  {
   "cell_type": "code",
   "execution_count": 3,
   "id": "eaa1e8db",
   "metadata": {},
   "outputs": [],
   "source": [
    "def is_it_generic(text):\n",
    "    if text.split()[0] == 'generic':\n",
    "        return 1\n",
    "    else:\n",
    "        return 0\n",
    "    \n",
    "def drug_name(text):\n",
    "    return text.split()[1]"
   ]
  },
  {
   "cell_type": "code",
   "execution_count": 4,
   "id": "5b09a239",
   "metadata": {},
   "outputs": [],
   "source": [
    "cmm_train['generic'] = cmm_train.drug.apply(is_it_generic)\n",
    "cmm_train['name'] = cmm_train['drug'].apply(drug_name)\n",
    "cmm_train['private'] = cmm_train.group.isna().astype(int)\n",
    "cmm_train['popularity'] = cmm_train.groupby('name')[['tx_date']].transform('count')\n",
    "cmm_train['rejected'] = cmm_train['rejected'].astype(int)\n",
    "cmm_train['rejected_count'] = cmm_train.groupby('name')['rejected'].transform('sum')"
   ]
  },
  {
   "cell_type": "markdown",
   "id": "a3a970f7",
   "metadata": {},
   "source": [
    "#### Encoding Categorical Variables with Label Encoder"
   ]
  },
  {
   "cell_type": "code",
   "execution_count": 5,
   "id": "774d8438",
   "metadata": {},
   "outputs": [],
   "source": [
    "from sklearn.preprocessing import LabelEncoder"
   ]
  },
  {
   "cell_type": "code",
   "execution_count": 6,
   "id": "75e95281",
   "metadata": {},
   "outputs": [],
   "source": [
    "le_name = LabelEncoder()\n",
    "le_name.fit(cmm_train['name'])\n",
    "cmm_train['name_encoded'] = le_name.transform(cmm_train['name'])"
   ]
  },
  {
   "cell_type": "markdown",
   "id": "d38baeff",
   "metadata": {},
   "source": [
    "names are transformed to numerical data above. below we can transform numerical data back to a name."
   ]
  },
  {
   "cell_type": "code",
   "execution_count": 7,
   "id": "292eb071",
   "metadata": {},
   "outputs": [
    {
     "data": {
      "text/plain": [
       "array(['foxivelule'], dtype=object)"
      ]
     },
     "execution_count": 7,
     "metadata": {},
     "output_type": "execute_result"
    }
   ],
   "source": [
    "le_name.inverse_transform([19])"
   ]
  },
  {
   "cell_type": "code",
   "execution_count": 8,
   "id": "c31cc9e2",
   "metadata": {},
   "outputs": [],
   "source": [
    "le_diagnosis = LabelEncoder()\n",
    "le_diagnosis.fit(cmm_train['diagnosis'])\n",
    "cmm_train['diagnosis_encoded'] = le_diagnosis.transform(cmm_train['diagnosis'])"
   ]
  },
  {
   "cell_type": "code",
   "execution_count": 9,
   "id": "29af5b0f",
   "metadata": {},
   "outputs": [
    {
     "data": {
      "text/plain": [
       "array(['M31.63'], dtype=object)"
      ]
     },
     "execution_count": 9,
     "metadata": {},
     "output_type": "execute_result"
    }
   ],
   "source": [
    "le_diagnosis.inverse_transform([66])"
   ]
  },
  {
   "cell_type": "code",
   "execution_count": 10,
   "id": "6cd21c7e",
   "metadata": {},
   "outputs": [],
   "source": [
    "le_bin = LabelEncoder()\n",
    "le_bin.fit(cmm_train['bin'])\n",
    "cmm_train['bin_encoded'] = le_bin.transform(cmm_train['bin'])"
   ]
  },
  {
   "cell_type": "code",
   "execution_count": 11,
   "id": "5130a548",
   "metadata": {},
   "outputs": [
    {
     "data": {
      "text/plain": [
       "array([322463])"
      ]
     },
     "execution_count": 11,
     "metadata": {},
     "output_type": "execute_result"
    }
   ],
   "source": [
    "le_bin.inverse_transform([2])"
   ]
  },
  {
   "cell_type": "code",
   "execution_count": 12,
   "id": "d9872db6",
   "metadata": {},
   "outputs": [],
   "source": [
    "le_pcn = LabelEncoder()\n",
    "le_pcn.fit(cmm_train['pcn'])\n",
    "cmm_train['pcn_encoded'] = le_pcn.transform(cmm_train['pcn'])"
   ]
  },
  {
   "cell_type": "code",
   "execution_count": 13,
   "id": "d00503aa",
   "metadata": {},
   "outputs": [
    {
     "data": {
      "text/plain": [
       "array(['3O71UTS'], dtype=object)"
      ]
     },
     "execution_count": 13,
     "metadata": {},
     "output_type": "execute_result"
    }
   ],
   "source": [
    "le_pcn.inverse_transform([4])"
   ]
  },
  {
   "cell_type": "markdown",
   "id": "8a7b2029",
   "metadata": {},
   "source": [
    "### What do we have?"
   ]
  },
  {
   "cell_type": "code",
   "execution_count": 14,
   "id": "71eeacc1",
   "metadata": {},
   "outputs": [
    {
     "data": {
      "text/plain": [
       "Index(['tx_date', 'pharmacy', 'diagnosis', 'drug', 'bin', 'pcn', 'group',\n",
       "       'rejected', 'patient_pay', 'generic', 'name', 'private', 'popularity',\n",
       "       'rejected_count', 'name_encoded', 'diagnosis_encoded', 'bin_encoded',\n",
       "       'pcn_encoded'],\n",
       "      dtype='object')"
      ]
     },
     "execution_count": 14,
     "metadata": {},
     "output_type": "execute_result"
    }
   ],
   "source": [
    "cmm_train.columns"
   ]
  },
  {
   "cell_type": "code",
   "execution_count": 15,
   "id": "28fa3f4a",
   "metadata": {},
   "outputs": [
    {
     "data": {
      "text/html": [
       "<div>\n",
       "<style scoped>\n",
       "    .dataframe tbody tr th:only-of-type {\n",
       "        vertical-align: middle;\n",
       "    }\n",
       "\n",
       "    .dataframe tbody tr th {\n",
       "        vertical-align: top;\n",
       "    }\n",
       "\n",
       "    .dataframe thead th {\n",
       "        text-align: right;\n",
       "    }\n",
       "</style>\n",
       "<table border=\"1\" class=\"dataframe\">\n",
       "  <thead>\n",
       "    <tr style=\"text-align: right;\">\n",
       "      <th></th>\n",
       "      <th>tx_date</th>\n",
       "      <th>pharmacy</th>\n",
       "      <th>diagnosis</th>\n",
       "      <th>drug</th>\n",
       "      <th>bin</th>\n",
       "      <th>pcn</th>\n",
       "      <th>group</th>\n",
       "      <th>rejected</th>\n",
       "      <th>patient_pay</th>\n",
       "      <th>generic</th>\n",
       "      <th>name</th>\n",
       "      <th>private</th>\n",
       "      <th>popularity</th>\n",
       "      <th>rejected_count</th>\n",
       "      <th>name_encoded</th>\n",
       "      <th>diagnosis_encoded</th>\n",
       "      <th>bin_encoded</th>\n",
       "      <th>pcn_encoded</th>\n",
       "    </tr>\n",
       "  </thead>\n",
       "  <tbody>\n",
       "    <tr>\n",
       "      <th>3962160</th>\n",
       "      <td>2022-04-23</td>\n",
       "      <td>Pharmacy #29</td>\n",
       "      <td>M31.63</td>\n",
       "      <td>branded mamate</td>\n",
       "      <td>322463</td>\n",
       "      <td>3O71UTS</td>\n",
       "      <td>NaN</td>\n",
       "      <td>0</td>\n",
       "      <td>25.75</td>\n",
       "      <td>0</td>\n",
       "      <td>mamate</td>\n",
       "      <td>1</td>\n",
       "      <td>23539</td>\n",
       "      <td>4480</td>\n",
       "      <td>38</td>\n",
       "      <td>66</td>\n",
       "      <td>2</td>\n",
       "      <td>4</td>\n",
       "    </tr>\n",
       "    <tr>\n",
       "      <th>1161541</th>\n",
       "      <td>2022-02-06</td>\n",
       "      <td>Pharmacy #7</td>\n",
       "      <td>Z20.23</td>\n",
       "      <td>branded vivafastat</td>\n",
       "      <td>725700</td>\n",
       "      <td>327CKV</td>\n",
       "      <td>IOEAN1DWVV3Y</td>\n",
       "      <td>0</td>\n",
       "      <td>180.52</td>\n",
       "      <td>0</td>\n",
       "      <td>vivafastat</td>\n",
       "      <td>0</td>\n",
       "      <td>43263</td>\n",
       "      <td>14072</td>\n",
       "      <td>75</td>\n",
       "      <td>127</td>\n",
       "      <td>8</td>\n",
       "      <td>2</td>\n",
       "    </tr>\n",
       "    <tr>\n",
       "      <th>10643305</th>\n",
       "      <td>2022-10-12</td>\n",
       "      <td>Pharmacy #4</td>\n",
       "      <td>U41.19</td>\n",
       "      <td>generic foxivelule</td>\n",
       "      <td>322463</td>\n",
       "      <td>3O71UTS</td>\n",
       "      <td>NaN</td>\n",
       "      <td>0</td>\n",
       "      <td>12.22</td>\n",
       "      <td>1</td>\n",
       "      <td>foxivelule</td>\n",
       "      <td>1</td>\n",
       "      <td>367822</td>\n",
       "      <td>0</td>\n",
       "      <td>19</td>\n",
       "      <td>101</td>\n",
       "      <td>2</td>\n",
       "      <td>4</td>\n",
       "    </tr>\n",
       "    <tr>\n",
       "      <th>10629491</th>\n",
       "      <td>2022-10-11</td>\n",
       "      <td>Pharmacy #31</td>\n",
       "      <td>K87.68</td>\n",
       "      <td>generic ribosatharin</td>\n",
       "      <td>664344</td>\n",
       "      <td>YFVIA</td>\n",
       "      <td>AJK5MZ25T9IA</td>\n",
       "      <td>0</td>\n",
       "      <td>12.37</td>\n",
       "      <td>1</td>\n",
       "      <td>ribosatharin</td>\n",
       "      <td>0</td>\n",
       "      <td>121908</td>\n",
       "      <td>8960</td>\n",
       "      <td>56</td>\n",
       "      <td>59</td>\n",
       "      <td>5</td>\n",
       "      <td>44</td>\n",
       "    </tr>\n",
       "    <tr>\n",
       "      <th>10928718</th>\n",
       "      <td>2022-10-18</td>\n",
       "      <td>Pharmacy #6</td>\n",
       "      <td>G99.93</td>\n",
       "      <td>generic simarol</td>\n",
       "      <td>96934</td>\n",
       "      <td>S76J7V6</td>\n",
       "      <td>NaN</td>\n",
       "      <td>0</td>\n",
       "      <td>13.93</td>\n",
       "      <td>1</td>\n",
       "      <td>simarol</td>\n",
       "      <td>1</td>\n",
       "      <td>144501</td>\n",
       "      <td>7380</td>\n",
       "      <td>61</td>\n",
       "      <td>37</td>\n",
       "      <td>0</td>\n",
       "      <td>34</td>\n",
       "    </tr>\n",
       "  </tbody>\n",
       "</table>\n",
       "</div>"
      ],
      "text/plain": [
       "             tx_date      pharmacy diagnosis                  drug     bin  \\\n",
       "3962160   2022-04-23  Pharmacy #29    M31.63        branded mamate  322463   \n",
       "1161541   2022-02-06   Pharmacy #7    Z20.23    branded vivafastat  725700   \n",
       "10643305  2022-10-12   Pharmacy #4    U41.19    generic foxivelule  322463   \n",
       "10629491  2022-10-11  Pharmacy #31    K87.68  generic ribosatharin  664344   \n",
       "10928718  2022-10-18   Pharmacy #6    G99.93       generic simarol   96934   \n",
       "\n",
       "              pcn         group  rejected  patient_pay  generic          name  \\\n",
       "3962160   3O71UTS           NaN         0        25.75        0        mamate   \n",
       "1161541    327CKV  IOEAN1DWVV3Y         0       180.52        0    vivafastat   \n",
       "10643305  3O71UTS           NaN         0        12.22        1    foxivelule   \n",
       "10629491    YFVIA  AJK5MZ25T9IA         0        12.37        1  ribosatharin   \n",
       "10928718  S76J7V6           NaN         0        13.93        1       simarol   \n",
       "\n",
       "          private  popularity  rejected_count  name_encoded  \\\n",
       "3962160         1       23539            4480            38   \n",
       "1161541         0       43263           14072            75   \n",
       "10643305        1      367822               0            19   \n",
       "10629491        0      121908            8960            56   \n",
       "10928718        1      144501            7380            61   \n",
       "\n",
       "          diagnosis_encoded  bin_encoded  pcn_encoded  \n",
       "3962160                  66            2            4  \n",
       "1161541                 127            8            2  \n",
       "10643305                101            2            4  \n",
       "10629491                 59            5           44  \n",
       "10928718                 37            0           34  "
      ]
     },
     "execution_count": 15,
     "metadata": {},
     "output_type": "execute_result"
    }
   ],
   "source": [
    "cmm_train.head()"
   ]
  },
  {
   "cell_type": "code",
   "execution_count": 16,
   "id": "dccc5ef4",
   "metadata": {},
   "outputs": [
    {
     "name": "stdout",
     "output_type": "stream",
     "text": [
      "The number of rejected claims is 839691\n",
      "The total number of claims is 10049476\n",
      "The percentage of rejected claims is 8.355569981957268 %\n"
     ]
    }
   ],
   "source": [
    "print('The number of rejected claims is', cmm_train['rejected'].sum())\n",
    "print('The total number of claims is', len(cmm_train))\n",
    "print('The percentage of rejected claims is', cmm_train['rejected'].sum()/len(cmm_train)*100, '%')"
   ]
  },
  {
   "cell_type": "markdown",
   "id": "67b7cd40",
   "metadata": {},
   "source": [
    "The rejected category is imbalanced so some consideration should be given to the metrics used to score the classifier."
   ]
  },
  {
   "cell_type": "code",
   "execution_count": 17,
   "id": "06606354",
   "metadata": {},
   "outputs": [],
   "source": [
    "base_features = ['diagnosis_encoded', 'bin_encoded', 'pcn_encoded', 'private', 'generic', 'name_encoded']"
   ]
  },
  {
   "cell_type": "markdown",
   "id": "f917d53c",
   "metadata": {},
   "source": [
    "### Importing the HistGradientBoostingClassifier\n",
    "This should be faster than XGBoost for large datasets.\n",
    "\n",
    "Using cross validation with recall, precision, and accuracy for metrics"
   ]
  },
  {
   "cell_type": "code",
   "execution_count": 18,
   "id": "1b424108",
   "metadata": {},
   "outputs": [],
   "source": [
    "from sklearn.ensemble import HistGradientBoostingClassifier\n",
    "from sklearn.model_selection import KFold\n",
    "from sklearn.metrics import recall_score, precision_score, accuracy_score"
   ]
  },
  {
   "cell_type": "code",
   "execution_count": 19,
   "id": "f127d7ad",
   "metadata": {},
   "outputs": [],
   "source": [
    "kf = KFold(n_splits=5, shuffle=True, random_state=614)\n",
    "clf = HistGradientBoostingClassifier()"
   ]
  },
  {
   "cell_type": "code",
   "execution_count": 20,
   "id": "09e2d7cd",
   "metadata": {},
   "outputs": [
    {
     "name": "stderr",
     "output_type": "stream",
     "text": [
      "/home/ruggiec/anaconda3/envs/Erdos/lib/python3.10/site-packages/sklearn/metrics/_classification.py:1327: UndefinedMetricWarning: Precision is ill-defined and being set to 0.0 due to no predicted samples. Use `zero_division` parameter to control this behavior.\n",
      "  _warn_prf(average, modifier, msg_start, len(result))\n"
     ]
    }
   ],
   "source": [
    "metrics = np.zeros((5, 3))\n",
    "i=0\n",
    "for tt_index, ho_index in kf.split(cmm_train):\n",
    "    clf.fit(cmm_train[base_features].iloc[tt_index], cmm_train['rejected'].iloc[tt_index])\n",
    "    predictions = clf.predict(cmm_train[base_features].iloc[ho_index])\n",
    "    metrics[i, 0] = recall_score(cmm_train['rejected'].iloc[ho_index], predictions)\n",
    "    metrics[i, 1] = precision_score(cmm_train['rejected'].iloc[ho_index], predictions)\n",
    "    metrics[i, 2] = accuracy_score(cmm_train['rejected'].iloc[ho_index], predictions)\n",
    "    i+=1"
   ]
  },
  {
   "cell_type": "code",
   "execution_count": 21,
   "id": "31b234f1",
   "metadata": {},
   "outputs": [
    {
     "name": "stdout",
     "output_type": "stream",
     "text": [
      "average recall is 3.5716764802593775e-05\n",
      "average precision is 0.07574154240820907\n",
      "average accuracy is 0.9164340508617526\n"
     ]
    }
   ],
   "source": [
    "print('average recall is', metrics.mean(axis=0)[0])\n",
    "print('average precision is', metrics.mean(axis=0)[1])\n",
    "print('average accuracy is', metrics.mean(axis=0)[2])"
   ]
  },
  {
   "cell_type": "markdown",
   "id": "adf85ac2",
   "metadata": {},
   "source": [
    "The first go at classification of rejected claims failed to give any useful information\n",
    "\n",
    "High accuracy with low precision and recall implies most things are being classified as not rejected"
   ]
  },
  {
   "cell_type": "markdown",
   "id": "d26d7f5b",
   "metadata": {},
   "source": [
    "### Let's try Down Sampling"
   ]
  },
  {
   "cell_type": "code",
   "execution_count": 22,
   "id": "3a4ae632",
   "metadata": {},
   "outputs": [],
   "source": [
    "from sklearn.utils import resample"
   ]
  },
  {
   "cell_type": "code",
   "execution_count": 39,
   "id": "61fb7824",
   "metadata": {},
   "outputs": [],
   "source": [
    "temp = resample(cmm_train[cmm_train['rejected']==0], \n",
    "                replace=False, \n",
    "                n_samples=len(cmm_train[cmm_train['rejected']==1]))"
   ]
  },
  {
   "cell_type": "code",
   "execution_count": 46,
   "id": "5e651b19",
   "metadata": {},
   "outputs": [],
   "source": [
    "downsample = pd.concat([cmm_train[cmm_train['rejected']==1], temp])"
   ]
  },
  {
   "cell_type": "code",
   "execution_count": 47,
   "id": "a271e3c9",
   "metadata": {},
   "outputs": [
    {
     "data": {
      "text/html": [
       "<div>\n",
       "<style scoped>\n",
       "    .dataframe tbody tr th:only-of-type {\n",
       "        vertical-align: middle;\n",
       "    }\n",
       "\n",
       "    .dataframe tbody tr th {\n",
       "        vertical-align: top;\n",
       "    }\n",
       "\n",
       "    .dataframe thead th {\n",
       "        text-align: right;\n",
       "    }\n",
       "</style>\n",
       "<table border=\"1\" class=\"dataframe\">\n",
       "  <thead>\n",
       "    <tr style=\"text-align: right;\">\n",
       "      <th></th>\n",
       "      <th>tx_date</th>\n",
       "      <th>pharmacy</th>\n",
       "      <th>diagnosis</th>\n",
       "      <th>drug</th>\n",
       "      <th>bin</th>\n",
       "      <th>pcn</th>\n",
       "      <th>group</th>\n",
       "      <th>rejected</th>\n",
       "      <th>patient_pay</th>\n",
       "      <th>generic</th>\n",
       "      <th>name</th>\n",
       "      <th>private</th>\n",
       "      <th>popularity</th>\n",
       "      <th>rejected_count</th>\n",
       "      <th>name_encoded</th>\n",
       "      <th>diagnosis_encoded</th>\n",
       "      <th>bin_encoded</th>\n",
       "      <th>pcn_encoded</th>\n",
       "    </tr>\n",
       "  </thead>\n",
       "  <tbody>\n",
       "    <tr>\n",
       "      <th>8270129</th>\n",
       "      <td>2022-08-14</td>\n",
       "      <td>Pharmacy #15</td>\n",
       "      <td>P07.55</td>\n",
       "      <td>branded semufolic</td>\n",
       "      <td>664344</td>\n",
       "      <td>YFVIA</td>\n",
       "      <td>AJK5MZ25T9IA</td>\n",
       "      <td>1</td>\n",
       "      <td>0.00</td>\n",
       "      <td>0</td>\n",
       "      <td>semufolic</td>\n",
       "      <td>0</td>\n",
       "      <td>237813</td>\n",
       "      <td>41930</td>\n",
       "      <td>60</td>\n",
       "      <td>79</td>\n",
       "      <td>5</td>\n",
       "      <td>44</td>\n",
       "    </tr>\n",
       "    <tr>\n",
       "      <th>7009332</th>\n",
       "      <td>2022-07-14</td>\n",
       "      <td>Pharmacy #14</td>\n",
       "      <td>Y51.55</td>\n",
       "      <td>generic sorine</td>\n",
       "      <td>160389</td>\n",
       "      <td>RB7UU</td>\n",
       "      <td>RS5RB3YA</td>\n",
       "      <td>1</td>\n",
       "      <td>0.00</td>\n",
       "      <td>1</td>\n",
       "      <td>sorine</td>\n",
       "      <td>0</td>\n",
       "      <td>115708</td>\n",
       "      <td>13891</td>\n",
       "      <td>63</td>\n",
       "      <td>124</td>\n",
       "      <td>1</td>\n",
       "      <td>31</td>\n",
       "    </tr>\n",
       "    <tr>\n",
       "      <th>1316687</th>\n",
       "      <td>2022-02-10</td>\n",
       "      <td>Pharmacy #37</td>\n",
       "      <td>Z20.23</td>\n",
       "      <td>branded vivafastat</td>\n",
       "      <td>160389</td>\n",
       "      <td>RB7UU</td>\n",
       "      <td>RS5RB3YA</td>\n",
       "      <td>1</td>\n",
       "      <td>0.00</td>\n",
       "      <td>0</td>\n",
       "      <td>vivafastat</td>\n",
       "      <td>0</td>\n",
       "      <td>43263</td>\n",
       "      <td>14072</td>\n",
       "      <td>75</td>\n",
       "      <td>127</td>\n",
       "      <td>1</td>\n",
       "      <td>31</td>\n",
       "    </tr>\n",
       "    <tr>\n",
       "      <th>9652363</th>\n",
       "      <td>2022-09-17</td>\n",
       "      <td>Pharmacy #7</td>\n",
       "      <td>I38.43</td>\n",
       "      <td>branded colifunene</td>\n",
       "      <td>725700</td>\n",
       "      <td>NaN</td>\n",
       "      <td>DYGBI610ZY</td>\n",
       "      <td>1</td>\n",
       "      <td>0.00</td>\n",
       "      <td>0</td>\n",
       "      <td>colifunene</td>\n",
       "      <td>0</td>\n",
       "      <td>179278</td>\n",
       "      <td>14364</td>\n",
       "      <td>7</td>\n",
       "      <td>49</td>\n",
       "      <td>8</td>\n",
       "      <td>48</td>\n",
       "    </tr>\n",
       "    <tr>\n",
       "      <th>7415161</th>\n",
       "      <td>2022-07-23</td>\n",
       "      <td>Pharmacy #43</td>\n",
       "      <td>H36.57</td>\n",
       "      <td>branded semufolic</td>\n",
       "      <td>725700</td>\n",
       "      <td>9C5MOR3</td>\n",
       "      <td>S2QKZ0OFNWS6X</td>\n",
       "      <td>1</td>\n",
       "      <td>0.00</td>\n",
       "      <td>0</td>\n",
       "      <td>semufolic</td>\n",
       "      <td>0</td>\n",
       "      <td>237813</td>\n",
       "      <td>41930</td>\n",
       "      <td>60</td>\n",
       "      <td>41</td>\n",
       "      <td>8</td>\n",
       "      <td>8</td>\n",
       "    </tr>\n",
       "    <tr>\n",
       "      <th>...</th>\n",
       "      <td>...</td>\n",
       "      <td>...</td>\n",
       "      <td>...</td>\n",
       "      <td>...</td>\n",
       "      <td>...</td>\n",
       "      <td>...</td>\n",
       "      <td>...</td>\n",
       "      <td>...</td>\n",
       "      <td>...</td>\n",
       "      <td>...</td>\n",
       "      <td>...</td>\n",
       "      <td>...</td>\n",
       "      <td>...</td>\n",
       "      <td>...</td>\n",
       "      <td>...</td>\n",
       "      <td>...</td>\n",
       "      <td>...</td>\n",
       "      <td>...</td>\n",
       "    </tr>\n",
       "    <tr>\n",
       "      <th>11386342</th>\n",
       "      <td>2022-10-30</td>\n",
       "      <td>Pharmacy #20</td>\n",
       "      <td>K32.86</td>\n",
       "      <td>branded lalol</td>\n",
       "      <td>160389</td>\n",
       "      <td>RB7UU</td>\n",
       "      <td>RS5RB3YA</td>\n",
       "      <td>0</td>\n",
       "      <td>12.54</td>\n",
       "      <td>0</td>\n",
       "      <td>lalol</td>\n",
       "      <td>0</td>\n",
       "      <td>202160</td>\n",
       "      <td>0</td>\n",
       "      <td>35</td>\n",
       "      <td>57</td>\n",
       "      <td>1</td>\n",
       "      <td>31</td>\n",
       "    </tr>\n",
       "    <tr>\n",
       "      <th>6860054</th>\n",
       "      <td>2022-07-10</td>\n",
       "      <td>Pharmacy #0</td>\n",
       "      <td>W50.87</td>\n",
       "      <td>generic pucomalol</td>\n",
       "      <td>664344</td>\n",
       "      <td>YFVIA</td>\n",
       "      <td>AJK5MZ25T9IA</td>\n",
       "      <td>0</td>\n",
       "      <td>17.11</td>\n",
       "      <td>1</td>\n",
       "      <td>pucomalol</td>\n",
       "      <td>0</td>\n",
       "      <td>417336</td>\n",
       "      <td>10707</td>\n",
       "      <td>54</td>\n",
       "      <td>115</td>\n",
       "      <td>5</td>\n",
       "      <td>44</td>\n",
       "    </tr>\n",
       "    <tr>\n",
       "      <th>64754</th>\n",
       "      <td>2022-01-05</td>\n",
       "      <td>Pharmacy #38</td>\n",
       "      <td>C98.15</td>\n",
       "      <td>generic ratin</td>\n",
       "      <td>322463</td>\n",
       "      <td>3Y5ZW0</td>\n",
       "      <td>NaN</td>\n",
       "      <td>0</td>\n",
       "      <td>18.78</td>\n",
       "      <td>1</td>\n",
       "      <td>ratin</td>\n",
       "      <td>1</td>\n",
       "      <td>262785</td>\n",
       "      <td>12316</td>\n",
       "      <td>55</td>\n",
       "      <td>21</td>\n",
       "      <td>2</td>\n",
       "      <td>5</td>\n",
       "    </tr>\n",
       "    <tr>\n",
       "      <th>7256746</th>\n",
       "      <td>2022-07-19</td>\n",
       "      <td>Pharmacy #28</td>\n",
       "      <td>K32.86</td>\n",
       "      <td>branded pucomalol</td>\n",
       "      <td>725700</td>\n",
       "      <td>327CKV</td>\n",
       "      <td>IOEAN1DWVV3Y</td>\n",
       "      <td>0</td>\n",
       "      <td>14.14</td>\n",
       "      <td>0</td>\n",
       "      <td>pucomalol</td>\n",
       "      <td>0</td>\n",
       "      <td>417336</td>\n",
       "      <td>10707</td>\n",
       "      <td>54</td>\n",
       "      <td>57</td>\n",
       "      <td>8</td>\n",
       "      <td>2</td>\n",
       "    </tr>\n",
       "    <tr>\n",
       "      <th>4031115</th>\n",
       "      <td>2022-04-25</td>\n",
       "      <td>Pharmacy #3</td>\n",
       "      <td>K32.86</td>\n",
       "      <td>branded tafistitrisin</td>\n",
       "      <td>664344</td>\n",
       "      <td>NaN</td>\n",
       "      <td>52H8KH0F83K</td>\n",
       "      <td>0</td>\n",
       "      <td>10.45</td>\n",
       "      <td>0</td>\n",
       "      <td>tafistitrisin</td>\n",
       "      <td>0</td>\n",
       "      <td>139317</td>\n",
       "      <td>933</td>\n",
       "      <td>66</td>\n",
       "      <td>57</td>\n",
       "      <td>5</td>\n",
       "      <td>48</td>\n",
       "    </tr>\n",
       "  </tbody>\n",
       "</table>\n",
       "<p>1679382 rows × 18 columns</p>\n",
       "</div>"
      ],
      "text/plain": [
       "             tx_date      pharmacy diagnosis                   drug     bin  \\\n",
       "8270129   2022-08-14  Pharmacy #15    P07.55      branded semufolic  664344   \n",
       "7009332   2022-07-14  Pharmacy #14    Y51.55         generic sorine  160389   \n",
       "1316687   2022-02-10  Pharmacy #37    Z20.23     branded vivafastat  160389   \n",
       "9652363   2022-09-17   Pharmacy #7    I38.43     branded colifunene  725700   \n",
       "7415161   2022-07-23  Pharmacy #43    H36.57      branded semufolic  725700   \n",
       "...              ...           ...       ...                    ...     ...   \n",
       "11386342  2022-10-30  Pharmacy #20    K32.86          branded lalol  160389   \n",
       "6860054   2022-07-10   Pharmacy #0    W50.87      generic pucomalol  664344   \n",
       "64754     2022-01-05  Pharmacy #38    C98.15          generic ratin  322463   \n",
       "7256746   2022-07-19  Pharmacy #28    K32.86      branded pucomalol  725700   \n",
       "4031115   2022-04-25   Pharmacy #3    K32.86  branded tafistitrisin  664344   \n",
       "\n",
       "              pcn          group  rejected  patient_pay  generic  \\\n",
       "8270129     YFVIA   AJK5MZ25T9IA         1         0.00        0   \n",
       "7009332     RB7UU       RS5RB3YA         1         0.00        1   \n",
       "1316687     RB7UU       RS5RB3YA         1         0.00        0   \n",
       "9652363       NaN     DYGBI610ZY         1         0.00        0   \n",
       "7415161   9C5MOR3  S2QKZ0OFNWS6X         1         0.00        0   \n",
       "...           ...            ...       ...          ...      ...   \n",
       "11386342    RB7UU       RS5RB3YA         0        12.54        0   \n",
       "6860054     YFVIA   AJK5MZ25T9IA         0        17.11        1   \n",
       "64754      3Y5ZW0            NaN         0        18.78        1   \n",
       "7256746    327CKV   IOEAN1DWVV3Y         0        14.14        0   \n",
       "4031115       NaN    52H8KH0F83K         0        10.45        0   \n",
       "\n",
       "                   name  private  popularity  rejected_count  name_encoded  \\\n",
       "8270129       semufolic        0      237813           41930            60   \n",
       "7009332          sorine        0      115708           13891            63   \n",
       "1316687      vivafastat        0       43263           14072            75   \n",
       "9652363      colifunene        0      179278           14364             7   \n",
       "7415161       semufolic        0      237813           41930            60   \n",
       "...                 ...      ...         ...             ...           ...   \n",
       "11386342          lalol        0      202160               0            35   \n",
       "6860054       pucomalol        0      417336           10707            54   \n",
       "64754             ratin        1      262785           12316            55   \n",
       "7256746       pucomalol        0      417336           10707            54   \n",
       "4031115   tafistitrisin        0      139317             933            66   \n",
       "\n",
       "          diagnosis_encoded  bin_encoded  pcn_encoded  \n",
       "8270129                  79            5           44  \n",
       "7009332                 124            1           31  \n",
       "1316687                 127            1           31  \n",
       "9652363                  49            8           48  \n",
       "7415161                  41            8            8  \n",
       "...                     ...          ...          ...  \n",
       "11386342                 57            1           31  \n",
       "6860054                 115            5           44  \n",
       "64754                    21            2            5  \n",
       "7256746                  57            8            2  \n",
       "4031115                  57            5           48  \n",
       "\n",
       "[1679382 rows x 18 columns]"
      ]
     },
     "execution_count": 47,
     "metadata": {},
     "output_type": "execute_result"
    }
   ],
   "source": [
    "downsample"
   ]
  },
  {
   "cell_type": "code",
   "execution_count": 48,
   "id": "730a7bbe",
   "metadata": {},
   "outputs": [
    {
     "data": {
      "text/plain": [
       "1679382"
      ]
     },
     "execution_count": 48,
     "metadata": {},
     "output_type": "execute_result"
    }
   ],
   "source": [
    "len(downsample)"
   ]
  },
  {
   "cell_type": "code",
   "execution_count": 50,
   "id": "e3a7886e",
   "metadata": {},
   "outputs": [],
   "source": [
    "metrics_down = np.zeros((5, 3))\n",
    "i=0\n",
    "for tt_index, ho_index in kf.split(downsample):\n",
    "    clf.fit(downsample[base_features].iloc[tt_index], downsample['rejected'].iloc[tt_index])\n",
    "    predictions = clf.predict(downsample[base_features].iloc[ho_index])\n",
    "    metrics_down[i, 0] = recall_score(downsample['rejected'].iloc[ho_index], predictions)\n",
    "    metrics_down[i, 1] = precision_score(downsample['rejected'].iloc[ho_index], predictions)\n",
    "    metrics_down[i, 2] = accuracy_score(downsample['rejected'].iloc[ho_index], predictions)\n",
    "    i+=1"
   ]
  },
  {
   "cell_type": "code",
   "execution_count": 51,
   "id": "93c15519",
   "metadata": {},
   "outputs": [
    {
     "name": "stdout",
     "output_type": "stream",
     "text": [
      "average recall is 0.977365031776008\n",
      "average precision is 0.796125455764795\n",
      "average accuracy is 0.8635390874756379\n"
     ]
    }
   ],
   "source": [
    "print('average recall is', metrics_down.mean(axis=0)[0])\n",
    "print('average precision is', metrics_down.mean(axis=0)[1])\n",
    "print('average accuracy is', metrics_down.mean(axis=0)[2])"
   ]
  },
  {
   "cell_type": "markdown",
   "id": "50d60c1b",
   "metadata": {},
   "source": [
    "This is somewhat promising. "
   ]
  },
  {
   "cell_type": "code",
   "execution_count": 52,
   "id": "4a5b15b0",
   "metadata": {},
   "outputs": [],
   "source": [
    "clf.fit(downsample[base_features], downsample['rejected'])\n",
    "pred_down = clf.predict(cmm_train[base_features])"
   ]
  },
  {
   "cell_type": "code",
   "execution_count": 63,
   "id": "6ab0e836",
   "metadata": {},
   "outputs": [
    {
     "name": "stdout",
     "output_type": "stream",
     "text": [
      "recall is 0.9781645867348823\n",
      "precision is 0.2629000446192226\n",
      "accuracy is 0.7690234794331565\n"
     ]
    }
   ],
   "source": [
    "print('recall is',recall_score(cmm_train['rejected'], pred_down))\n",
    "print('precision is',precision_score(cmm_train['rejected'], pred_down))\n",
    "print('accuracy is',accuracy_score(cmm_train['rejected'], pred_down))"
   ]
  },
  {
   "cell_type": "code",
   "execution_count": 56,
   "id": "232e0f99",
   "metadata": {},
   "outputs": [],
   "source": [
    "from sklearn.metrics import confusion_matrix"
   ]
  },
  {
   "cell_type": "code",
   "execution_count": 58,
   "id": "b0b59866",
   "metadata": {},
   "outputs": [],
   "source": [
    "cf_mat = confusion_matrix(cmm_train['rejected'], pred_down)"
   ]
  },
  {
   "cell_type": "code",
   "execution_count": 60,
   "id": "ece695bd",
   "metadata": {},
   "outputs": [
    {
     "data": {
      "text/html": [
       "<div>\n",
       "<style scoped>\n",
       "    .dataframe tbody tr th:only-of-type {\n",
       "        vertical-align: middle;\n",
       "    }\n",
       "\n",
       "    .dataframe tbody tr th {\n",
       "        vertical-align: top;\n",
       "    }\n",
       "\n",
       "    .dataframe thead th {\n",
       "        text-align: right;\n",
       "    }\n",
       "</style>\n",
       "<table border=\"1\" class=\"dataframe\">\n",
       "  <thead>\n",
       "    <tr style=\"text-align: right;\">\n",
       "      <th></th>\n",
       "      <th>Predicted 0</th>\n",
       "      <th>Predicted 1</th>\n",
       "    </tr>\n",
       "  </thead>\n",
       "  <tbody>\n",
       "    <tr>\n",
       "      <th>Actual 0</th>\n",
       "      <td>6906927</td>\n",
       "      <td>2302858</td>\n",
       "    </tr>\n",
       "    <tr>\n",
       "      <th>Actual 1</th>\n",
       "      <td>18335</td>\n",
       "      <td>821356</td>\n",
       "    </tr>\n",
       "  </tbody>\n",
       "</table>\n",
       "</div>"
      ],
      "text/plain": [
       "          Predicted 0  Predicted 1\n",
       "Actual 0      6906927      2302858\n",
       "Actual 1        18335       821356"
      ]
     },
     "execution_count": 60,
     "metadata": {},
     "output_type": "execute_result"
    }
   ],
   "source": [
    "pd.DataFrame(cf_mat, index=['Actual 0', 'Actual 1'], columns=['Predicted 0', 'Predicted 1'])"
   ]
  },
  {
   "cell_type": "markdown",
   "id": "09191edd",
   "metadata": {},
   "source": [
    "Downsampling looks to be an efficient way to train the classifier to predict rejected claims but reduces the training data for non-rejected claims. Perhaps upsampling will fix that problem."
   ]
  },
  {
   "cell_type": "code",
   "execution_count": null,
   "id": "663042fa",
   "metadata": {},
   "outputs": [],
   "source": []
  },
  {
   "cell_type": "code",
   "execution_count": null,
   "id": "87910fa9",
   "metadata": {},
   "outputs": [],
   "source": []
  }
 ],
 "metadata": {
  "kernelspec": {
   "display_name": "Python 3 (ipykernel)",
   "language": "python",
   "name": "python3"
  },
  "language_info": {
   "codemirror_mode": {
    "name": "ipython",
    "version": 3
   },
   "file_extension": ".py",
   "mimetype": "text/x-python",
   "name": "python",
   "nbconvert_exporter": "python",
   "pygments_lexer": "ipython3",
   "version": "3.10.4"
  }
 },
 "nbformat": 4,
 "nbformat_minor": 5
}
