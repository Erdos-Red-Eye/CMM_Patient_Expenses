{
 "cells": [
  {
   "cell_type": "code",
   "execution_count": 2,
   "id": "5d4f0c02",
   "metadata": {},
   "outputs": [],
   "source": [
    "import numpy as np\n",
    "import pandas as pd\n",
    "\n",
    "import matplotlib.pyplot as plt\n",
    "import seaborn as sns\n",
    "\n",
    "from sklearn.model_selection import train_test_split"
   ]
  },
  {
   "cell_type": "code",
   "execution_count": 3,
   "id": "f6c13eb4",
   "metadata": {},
   "outputs": [],
   "source": [
    "cmm_data = pd.read_csv('/home/ruggiec/Downloads/pharmacy_tx.csv')\n",
    "cmm_data_no_dups = cmm_data.drop_duplicates()\n",
    "cmm_train, cmm_test = train_test_split(cmm_data_no_dups, shuffle=True, \n",
    "                             random_state= 614, test_size=0.2)"
   ]
  },
  {
   "cell_type": "code",
   "execution_count": 4,
   "id": "8d1e3e30",
   "metadata": {},
   "outputs": [],
   "source": [
    "def is_it_generic(text):\n",
    "    if text.split()[0] == 'generic':\n",
    "        return 1\n",
    "    else:\n",
    "        return 0\n",
    "    \n",
    "def drug_name(text):\n",
    "    return text.split()[1]\n",
    "\n",
    "def pharm_split(text):\n",
    "    return int(text.split('#')[1])"
   ]
  },
  {
   "cell_type": "code",
   "execution_count": 5,
   "id": "cc26f556",
   "metadata": {},
   "outputs": [],
   "source": [
    "cmm_train['generic'] = cmm_train.drug.apply(is_it_generic)\n",
    "cmm_train['name'] = cmm_train['drug'].apply(drug_name)\n",
    "cmm_train['private'] = cmm_train.group.isna().astype(int)\n",
    "cmm_train['popularity'] = cmm_train.groupby('name')[['tx_date']].transform('count')\n",
    "cmm_train['rejected'] = cmm_train['rejected'].astype(int)\n",
    "cmm_train['rejected_count'] = cmm_train.groupby('name')['rejected'].transform('sum')\n",
    "cmm_train['pharm_num'] = cmm_train.pharmacy.apply(pharm_split)\n",
    "cmm_train['tx_date'] = pd.to_datetime(cmm_train.tx_date)\n",
    "cmm_train['weekday'] = cmm_train.tx_date.dt.day_of_week\n",
    "cmm_train['day_num'] = cmm_train.tx_date.dt.day_of_year"
   ]
  },
  {
   "cell_type": "code",
   "execution_count": 6,
   "id": "248c353b",
   "metadata": {},
   "outputs": [],
   "source": [
    "from sklearn.preprocessing import LabelEncoder"
   ]
  },
  {
   "cell_type": "code",
   "execution_count": 7,
   "id": "a14a01a8",
   "metadata": {},
   "outputs": [],
   "source": [
    "le_name = LabelEncoder()\n",
    "le_name.fit(cmm_train['name'])\n",
    "cmm_train['name_encoded'] = le_name.transform(cmm_train['name'])\n",
    "\n",
    "le_diagnosis = LabelEncoder()\n",
    "le_diagnosis.fit(cmm_train['diagnosis'])\n",
    "cmm_train['diagnosis_encoded'] = le_diagnosis.transform(cmm_train['diagnosis'])\n",
    "\n",
    "le_bin = LabelEncoder()\n",
    "le_bin.fit(cmm_train['bin'])\n",
    "cmm_train['bin_encoded'] = le_bin.transform(cmm_train['bin'])\n",
    "\n",
    "le_pcn = LabelEncoder()\n",
    "le_pcn.fit(cmm_train['pcn'])\n",
    "cmm_train['pcn_encoded'] = le_pcn.transform(cmm_train['pcn'])"
   ]
  },
  {
   "cell_type": "code",
   "execution_count": 8,
   "id": "3f813ddc",
   "metadata": {},
   "outputs": [
    {
     "data": {
      "text/plain": [
       "Index(['tx_date', 'pharmacy', 'diagnosis', 'drug', 'bin', 'pcn', 'group',\n",
       "       'rejected', 'patient_pay', 'generic', 'name', 'private', 'popularity',\n",
       "       'rejected_count', 'pharm_num', 'weekday', 'day_num', 'name_encoded',\n",
       "       'diagnosis_encoded', 'bin_encoded', 'pcn_encoded'],\n",
       "      dtype='object')"
      ]
     },
     "execution_count": 8,
     "metadata": {},
     "output_type": "execute_result"
    }
   ],
   "source": [
    "cmm_train.columns"
   ]
  },
  {
   "cell_type": "code",
   "execution_count": 9,
   "id": "9c28b6f9",
   "metadata": {},
   "outputs": [
    {
     "data": {
      "text/html": [
       "<div>\n",
       "<style scoped>\n",
       "    .dataframe tbody tr th:only-of-type {\n",
       "        vertical-align: middle;\n",
       "    }\n",
       "\n",
       "    .dataframe tbody tr th {\n",
       "        vertical-align: top;\n",
       "    }\n",
       "\n",
       "    .dataframe thead th {\n",
       "        text-align: right;\n",
       "    }\n",
       "</style>\n",
       "<table border=\"1\" class=\"dataframe\">\n",
       "  <thead>\n",
       "    <tr style=\"text-align: right;\">\n",
       "      <th></th>\n",
       "      <th>tx_date</th>\n",
       "      <th>pharmacy</th>\n",
       "      <th>diagnosis</th>\n",
       "      <th>drug</th>\n",
       "      <th>bin</th>\n",
       "      <th>pcn</th>\n",
       "      <th>group</th>\n",
       "      <th>rejected</th>\n",
       "      <th>patient_pay</th>\n",
       "      <th>generic</th>\n",
       "      <th>...</th>\n",
       "      <th>private</th>\n",
       "      <th>popularity</th>\n",
       "      <th>rejected_count</th>\n",
       "      <th>pharm_num</th>\n",
       "      <th>weekday</th>\n",
       "      <th>day_num</th>\n",
       "      <th>name_encoded</th>\n",
       "      <th>diagnosis_encoded</th>\n",
       "      <th>bin_encoded</th>\n",
       "      <th>pcn_encoded</th>\n",
       "    </tr>\n",
       "  </thead>\n",
       "  <tbody>\n",
       "    <tr>\n",
       "      <th>3962160</th>\n",
       "      <td>2022-04-23</td>\n",
       "      <td>Pharmacy #29</td>\n",
       "      <td>M31.63</td>\n",
       "      <td>branded mamate</td>\n",
       "      <td>322463</td>\n",
       "      <td>3O71UTS</td>\n",
       "      <td>NaN</td>\n",
       "      <td>0</td>\n",
       "      <td>25.75</td>\n",
       "      <td>0</td>\n",
       "      <td>...</td>\n",
       "      <td>1</td>\n",
       "      <td>23539</td>\n",
       "      <td>4480</td>\n",
       "      <td>29</td>\n",
       "      <td>5</td>\n",
       "      <td>113</td>\n",
       "      <td>38</td>\n",
       "      <td>66</td>\n",
       "      <td>2</td>\n",
       "      <td>4</td>\n",
       "    </tr>\n",
       "    <tr>\n",
       "      <th>1161541</th>\n",
       "      <td>2022-02-06</td>\n",
       "      <td>Pharmacy #7</td>\n",
       "      <td>Z20.23</td>\n",
       "      <td>branded vivafastat</td>\n",
       "      <td>725700</td>\n",
       "      <td>327CKV</td>\n",
       "      <td>IOEAN1DWVV3Y</td>\n",
       "      <td>0</td>\n",
       "      <td>180.52</td>\n",
       "      <td>0</td>\n",
       "      <td>...</td>\n",
       "      <td>0</td>\n",
       "      <td>43263</td>\n",
       "      <td>14072</td>\n",
       "      <td>7</td>\n",
       "      <td>6</td>\n",
       "      <td>37</td>\n",
       "      <td>75</td>\n",
       "      <td>127</td>\n",
       "      <td>8</td>\n",
       "      <td>2</td>\n",
       "    </tr>\n",
       "    <tr>\n",
       "      <th>10643305</th>\n",
       "      <td>2022-10-12</td>\n",
       "      <td>Pharmacy #4</td>\n",
       "      <td>U41.19</td>\n",
       "      <td>generic foxivelule</td>\n",
       "      <td>322463</td>\n",
       "      <td>3O71UTS</td>\n",
       "      <td>NaN</td>\n",
       "      <td>0</td>\n",
       "      <td>12.22</td>\n",
       "      <td>1</td>\n",
       "      <td>...</td>\n",
       "      <td>1</td>\n",
       "      <td>367822</td>\n",
       "      <td>0</td>\n",
       "      <td>4</td>\n",
       "      <td>2</td>\n",
       "      <td>285</td>\n",
       "      <td>19</td>\n",
       "      <td>101</td>\n",
       "      <td>2</td>\n",
       "      <td>4</td>\n",
       "    </tr>\n",
       "    <tr>\n",
       "      <th>10629491</th>\n",
       "      <td>2022-10-11</td>\n",
       "      <td>Pharmacy #31</td>\n",
       "      <td>K87.68</td>\n",
       "      <td>generic ribosatharin</td>\n",
       "      <td>664344</td>\n",
       "      <td>YFVIA</td>\n",
       "      <td>AJK5MZ25T9IA</td>\n",
       "      <td>0</td>\n",
       "      <td>12.37</td>\n",
       "      <td>1</td>\n",
       "      <td>...</td>\n",
       "      <td>0</td>\n",
       "      <td>121908</td>\n",
       "      <td>8960</td>\n",
       "      <td>31</td>\n",
       "      <td>1</td>\n",
       "      <td>284</td>\n",
       "      <td>56</td>\n",
       "      <td>59</td>\n",
       "      <td>5</td>\n",
       "      <td>44</td>\n",
       "    </tr>\n",
       "    <tr>\n",
       "      <th>10928718</th>\n",
       "      <td>2022-10-18</td>\n",
       "      <td>Pharmacy #6</td>\n",
       "      <td>G99.93</td>\n",
       "      <td>generic simarol</td>\n",
       "      <td>96934</td>\n",
       "      <td>S76J7V6</td>\n",
       "      <td>NaN</td>\n",
       "      <td>0</td>\n",
       "      <td>13.93</td>\n",
       "      <td>1</td>\n",
       "      <td>...</td>\n",
       "      <td>1</td>\n",
       "      <td>144501</td>\n",
       "      <td>7380</td>\n",
       "      <td>6</td>\n",
       "      <td>1</td>\n",
       "      <td>291</td>\n",
       "      <td>61</td>\n",
       "      <td>37</td>\n",
       "      <td>0</td>\n",
       "      <td>34</td>\n",
       "    </tr>\n",
       "  </tbody>\n",
       "</table>\n",
       "<p>5 rows × 21 columns</p>\n",
       "</div>"
      ],
      "text/plain": [
       "            tx_date      pharmacy diagnosis                  drug     bin  \\\n",
       "3962160  2022-04-23  Pharmacy #29    M31.63        branded mamate  322463   \n",
       "1161541  2022-02-06   Pharmacy #7    Z20.23    branded vivafastat  725700   \n",
       "10643305 2022-10-12   Pharmacy #4    U41.19    generic foxivelule  322463   \n",
       "10629491 2022-10-11  Pharmacy #31    K87.68  generic ribosatharin  664344   \n",
       "10928718 2022-10-18   Pharmacy #6    G99.93       generic simarol   96934   \n",
       "\n",
       "              pcn         group  rejected  patient_pay  generic  ... private  \\\n",
       "3962160   3O71UTS           NaN         0        25.75        0  ...       1   \n",
       "1161541    327CKV  IOEAN1DWVV3Y         0       180.52        0  ...       0   \n",
       "10643305  3O71UTS           NaN         0        12.22        1  ...       1   \n",
       "10629491    YFVIA  AJK5MZ25T9IA         0        12.37        1  ...       0   \n",
       "10928718  S76J7V6           NaN         0        13.93        1  ...       1   \n",
       "\n",
       "          popularity  rejected_count  pharm_num  weekday  day_num  \\\n",
       "3962160        23539            4480         29        5      113   \n",
       "1161541        43263           14072          7        6       37   \n",
       "10643305      367822               0          4        2      285   \n",
       "10629491      121908            8960         31        1      284   \n",
       "10928718      144501            7380          6        1      291   \n",
       "\n",
       "          name_encoded  diagnosis_encoded  bin_encoded  pcn_encoded  \n",
       "3962160             38                 66            2            4  \n",
       "1161541             75                127            8            2  \n",
       "10643305            19                101            2            4  \n",
       "10629491            56                 59            5           44  \n",
       "10928718            61                 37            0           34  \n",
       "\n",
       "[5 rows x 21 columns]"
      ]
     },
     "execution_count": 9,
     "metadata": {},
     "output_type": "execute_result"
    }
   ],
   "source": [
    "cmm_train.head()"
   ]
  },
  {
   "cell_type": "code",
   "execution_count": 10,
   "id": "95bbfc1b",
   "metadata": {},
   "outputs": [],
   "source": [
    "base_features = ['diagnosis_encoded', 'bin_encoded', 'pcn_encoded', \n",
    "                 'private', 'generic', 'name_encoded']\n",
    "pharm_features = ['pharm_num', 'diagnosis_encoded', 'bin_encoded', \n",
    "                  'pcn_encoded', 'private', 'generic', 'name_encoded']\n",
    "day_features = ['weekday', 'pharm_num', 'diagnosis_encoded', 'bin_encoded',\n",
    "               'pcn_encoded', 'private', 'generic', 'name_encoded']\n",
    "full_features = ['weekday', 'day_num', 'pharm_num', 'diagnosis_encoded', 'bin_encoded',\n",
    "               'pcn_encoded', 'private', 'generic', 'name_encoded']"
   ]
  },
  {
   "cell_type": "code",
   "execution_count": 12,
   "id": "11381084",
   "metadata": {},
   "outputs": [],
   "source": [
    "cmm_paid = cmm_train[cmm_train.rejected == 0]"
   ]
  },
  {
   "cell_type": "code",
   "execution_count": 14,
   "id": "ed9938a1",
   "metadata": {},
   "outputs": [],
   "source": [
    "from sklearn.ensemble import HistGradientBoostingRegressor\n",
    "from sklearn.model_selection import KFold\n",
    "from sklearn.metrics import mean_absolute_error, mean_absolute_percentage_error, mean_squared_error"
   ]
  },
  {
   "cell_type": "code",
   "execution_count": 15,
   "id": "ef3a0c0a",
   "metadata": {},
   "outputs": [],
   "source": [
    "kf = KFold(n_splits=5, shuffle=True, random_state=614)\n",
    "hgbr = HistGradientBoostingRegressor()"
   ]
  },
  {
   "cell_type": "code",
   "execution_count": 19,
   "id": "4d7373c0",
   "metadata": {},
   "outputs": [],
   "source": [
    "metrics = np.zeros((5, 3))\n",
    "i=0\n",
    "for tt_index, ho_index in kf.split(cmm_paid):\n",
    "    hgbr.fit(cmm_paid[base_features].iloc[tt_index], cmm_paid['patient_pay'].iloc[tt_index])\n",
    "    predictions = hgbr.predict(cmm_paid[base_features].iloc[ho_index])\n",
    "    metrics[i, 0] = mean_squared_error(cmm_paid['patient_pay'].iloc[ho_index], predictions)\n",
    "    metrics[i, 1] = mean_absolute_error(cmm_paid['patient_pay'].iloc[ho_index], predictions)\n",
    "    metrics[i, 2] = mean_absolute_percentage_error(cmm_paid['patient_pay'].iloc[ho_index], predictions)\n",
    "    i+=1"
   ]
  },
  {
   "cell_type": "code",
   "execution_count": 20,
   "id": "889d34a4",
   "metadata": {},
   "outputs": [
    {
     "name": "stdout",
     "output_type": "stream",
     "text": [
      "mean squared error is 184.26791417378195\n",
      "mean absolute error is 6.731561024777966\n",
      "mean absolute percentage error is 0.3573011265665149\n"
     ]
    }
   ],
   "source": [
    "print('mean squared error is', metrics.mean(axis=0)[0])\n",
    "print('mean absolute error is', metrics.mean(axis=0)[1])\n",
    "print('mean absolute percentage error is', metrics.mean(axis=0)[2])"
   ]
  },
  {
   "cell_type": "code",
   "execution_count": 21,
   "id": "e0994e12",
   "metadata": {},
   "outputs": [],
   "source": [
    "metrics = np.zeros((5, 3))\n",
    "i=0\n",
    "for tt_index, ho_index in kf.split(cmm_paid):\n",
    "    hgbr.fit(cmm_paid[full_features].iloc[tt_index], cmm_paid['patient_pay'].iloc[tt_index])\n",
    "    predictions = hgbr.predict(cmm_paid[full_features].iloc[ho_index])\n",
    "    metrics[i, 0] = mean_squared_error(cmm_paid['patient_pay'].iloc[ho_index], predictions)\n",
    "    metrics[i, 1] = mean_absolute_error(cmm_paid['patient_pay'].iloc[ho_index], predictions)\n",
    "    metrics[i, 2] = mean_absolute_percentage_error(cmm_paid['patient_pay'].iloc[ho_index], predictions)\n",
    "    i+=1"
   ]
  },
  {
   "cell_type": "code",
   "execution_count": 22,
   "id": "e1b23559",
   "metadata": {},
   "outputs": [
    {
     "name": "stdout",
     "output_type": "stream",
     "text": [
      "mean squared error is 185.98686547393487\n",
      "mean absolute error is 6.770601235529616\n",
      "mean absolute percentage error is 0.3590110791248608\n"
     ]
    }
   ],
   "source": [
    "print('mean squared error is', metrics.mean(axis=0)[0])\n",
    "print('mean absolute error is', metrics.mean(axis=0)[1])\n",
    "print('mean absolute percentage error is', metrics.mean(axis=0)[2])"
   ]
  },
  {
   "cell_type": "code",
   "execution_count": 25,
   "id": "703e758b",
   "metadata": {},
   "outputs": [],
   "source": [
    "hgbr.fit(cmm_paid[base_features], cmm_paid['patient_pay'])\n",
    "predictions = hgbr.predict(cmm_paid[base_features])"
   ]
  },
  {
   "cell_type": "code",
   "execution_count": null,
   "id": "8b48ff31",
   "metadata": {},
   "outputs": [],
   "source": []
  }
 ],
 "metadata": {
  "kernelspec": {
   "display_name": "Python 3 (ipykernel)",
   "language": "python",
   "name": "python3"
  },
  "language_info": {
   "codemirror_mode": {
    "name": "ipython",
    "version": 3
   },
   "file_extension": ".py",
   "mimetype": "text/x-python",
   "name": "python",
   "nbconvert_exporter": "python",
   "pygments_lexer": "ipython3",
   "version": "3.10.4"
  }
 },
 "nbformat": 4,
 "nbformat_minor": 5
}
