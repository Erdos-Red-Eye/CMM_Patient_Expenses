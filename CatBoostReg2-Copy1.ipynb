{
 "cells": [
  {
   "cell_type": "code",
   "execution_count": 1,
   "id": "827a70d1",
   "metadata": {},
   "outputs": [],
   "source": [
    "import numpy as np\n",
    "import pandas as pd\n",
    "\n",
    "from catboost import Pool, CatBoostRegressor"
   ]
  },
  {
   "cell_type": "code",
   "execution_count": 2,
   "id": "3d6cff11",
   "metadata": {},
   "outputs": [],
   "source": [
    "df = pd.read_csv(\"pharmacy_new.csv\")"
   ]
  },
  {
   "cell_type": "code",
   "execution_count": 3,
   "id": "03373bcc",
   "metadata": {},
   "outputs": [],
   "source": [
    "df =df.drop(columns=['tx_date', 'drug', 'bin', 'diagnosis_letter', 'diagnosis_number','Unnamed: 0'])"
   ]
  },
  {
   "cell_type": "code",
   "execution_count": 4,
   "id": "112869ed",
   "metadata": {},
   "outputs": [],
   "source": [
    "df = df[df['rejected'] == False]\n",
    "df = df.drop(columns='rejected')"
   ]
  },
  {
   "cell_type": "code",
   "execution_count": 5,
   "id": "0fbc6f35",
   "metadata": {},
   "outputs": [],
   "source": [
    "from sklearn.metrics import mean_squared_error, r2_score, mean_absolute_error, mean_absolute_percentage_error\n",
    "from sklearn.linear_model import Ridge\n",
    "from sklearn.model_selection import train_test_split, KFold\n",
    "from sklearn.ensemble import RandomForestRegressor, GradientBoostingRegressor"
   ]
  },
  {
   "cell_type": "code",
   "execution_count": 6,
   "id": "857f5449",
   "metadata": {},
   "outputs": [],
   "source": [
    "df['insurance_null'] = df['pcn'].isna().astype(int)+df['group'].isna().astype(int)"
   ]
  },
  {
   "cell_type": "code",
   "execution_count": 7,
   "id": "5946597e",
   "metadata": {},
   "outputs": [],
   "source": [
    "df['pcn'].fillna(value = 'None', inplace = True)\n",
    "df['group'].fillna(value = 'None', inplace = True)"
   ]
  },
  {
   "cell_type": "code",
   "execution_count": 8,
   "id": "02e571a1",
   "metadata": {},
   "outputs": [],
   "source": [
    "train, test = train_test_split(df, test_size=0.2, shuffle=True, random_state=42)"
   ]
  },
  {
   "cell_type": "code",
   "execution_count": 9,
   "id": "45e01219",
   "metadata": {},
   "outputs": [],
   "source": [
    "train_data = train.drop(columns=['patient_pay'])\n",
    "train_label = train['patient_pay']"
   ]
  },
  {
   "cell_type": "code",
   "execution_count": 10,
   "id": "2fce61f2",
   "metadata": {},
   "outputs": [],
   "source": [
    "train_pool = Pool(train_data, train_label, cat_features = list(range(8)))"
   ]
  },
  {
   "cell_type": "code",
   "execution_count": 11,
   "id": "57c5f33b",
   "metadata": {},
   "outputs": [
    {
     "name": "stdout",
     "output_type": "stream",
     "text": [
      "0:\tlearn: 28.3557484\ttotal: 1.93s\tremaining: 1m 34s\n",
      "1:\tlearn: 24.8213446\ttotal: 3.55s\tremaining: 1m 25s\n",
      "2:\tlearn: 19.7207030\ttotal: 4.79s\tremaining: 1m 15s\n",
      "3:\tlearn: 19.2051711\ttotal: 6.03s\tremaining: 1m 9s\n",
      "4:\tlearn: 18.7695738\ttotal: 7.29s\tremaining: 1m 5s\n",
      "5:\tlearn: 18.0097166\ttotal: 8.24s\tremaining: 1m\n",
      "6:\tlearn: 17.7094336\ttotal: 9.18s\tremaining: 56.4s\n",
      "7:\tlearn: 17.5527976\ttotal: 10.2s\tremaining: 53.5s\n",
      "8:\tlearn: 17.5052886\ttotal: 11.4s\tremaining: 51.8s\n",
      "9:\tlearn: 17.3949080\ttotal: 12.3s\tremaining: 49.4s\n",
      "10:\tlearn: 17.3374044\ttotal: 13.3s\tremaining: 47.1s\n",
      "11:\tlearn: 17.2972392\ttotal: 14.3s\tremaining: 45.2s\n",
      "12:\tlearn: 17.2601984\ttotal: 15.3s\tremaining: 43.4s\n",
      "13:\tlearn: 17.1758640\ttotal: 16.2s\tremaining: 41.7s\n",
      "14:\tlearn: 17.1226486\ttotal: 17.2s\tremaining: 40.1s\n",
      "15:\tlearn: 17.0870835\ttotal: 18.2s\tremaining: 38.6s\n",
      "16:\tlearn: 17.0420205\ttotal: 19.2s\tremaining: 37.2s\n",
      "17:\tlearn: 17.0235768\ttotal: 20.2s\tremaining: 35.9s\n",
      "18:\tlearn: 16.9943474\ttotal: 21.2s\tremaining: 34.6s\n",
      "19:\tlearn: 16.9736034\ttotal: 22.2s\tremaining: 33.3s\n",
      "20:\tlearn: 16.9637267\ttotal: 23.2s\tremaining: 32s\n",
      "21:\tlearn: 16.9452546\ttotal: 24.2s\tremaining: 30.8s\n",
      "22:\tlearn: 16.9394154\ttotal: 25.2s\tremaining: 29.6s\n",
      "23:\tlearn: 16.9004157\ttotal: 26.2s\tremaining: 28.4s\n",
      "24:\tlearn: 16.8845014\ttotal: 27.2s\tremaining: 27.2s\n",
      "25:\tlearn: 16.8742261\ttotal: 28.2s\tremaining: 26s\n",
      "26:\tlearn: 16.8633818\ttotal: 29.2s\tremaining: 24.8s\n",
      "27:\tlearn: 16.8554788\ttotal: 30.2s\tremaining: 23.7s\n",
      "28:\tlearn: 16.8450333\ttotal: 31.2s\tremaining: 22.6s\n",
      "29:\tlearn: 16.8389028\ttotal: 32.2s\tremaining: 21.5s\n",
      "30:\tlearn: 16.8290397\ttotal: 33.2s\tremaining: 20.4s\n",
      "31:\tlearn: 16.8244085\ttotal: 34.2s\tremaining: 19.3s\n",
      "32:\tlearn: 16.8185441\ttotal: 35.3s\tremaining: 18.2s\n",
      "33:\tlearn: 16.8087896\ttotal: 36.5s\tremaining: 17.2s\n",
      "34:\tlearn: 16.8008969\ttotal: 37.9s\tremaining: 16.3s\n",
      "35:\tlearn: 16.7909818\ttotal: 39s\tremaining: 15.2s\n",
      "36:\tlearn: 16.7805130\ttotal: 40.2s\tremaining: 14.1s\n",
      "37:\tlearn: 16.7729754\ttotal: 41.4s\tremaining: 13.1s\n",
      "38:\tlearn: 16.7641900\ttotal: 42.6s\tremaining: 12s\n",
      "39:\tlearn: 16.7541743\ttotal: 43.8s\tremaining: 10.9s\n",
      "40:\tlearn: 16.7527274\ttotal: 44.9s\tremaining: 9.87s\n",
      "41:\tlearn: 16.7432068\ttotal: 46s\tremaining: 8.77s\n",
      "42:\tlearn: 16.7360264\ttotal: 47.2s\tremaining: 7.69s\n",
      "43:\tlearn: 16.7267588\ttotal: 48.4s\tremaining: 6.6s\n",
      "44:\tlearn: 16.7204231\ttotal: 49.5s\tremaining: 5.5s\n",
      "45:\tlearn: 16.7162712\ttotal: 50.8s\tremaining: 4.42s\n",
      "46:\tlearn: 16.7128750\ttotal: 51.9s\tremaining: 3.31s\n",
      "47:\tlearn: 16.7104576\ttotal: 53.1s\tremaining: 2.21s\n",
      "48:\tlearn: 16.6995605\ttotal: 54.3s\tremaining: 1.11s\n",
      "49:\tlearn: 16.6913821\ttotal: 55.4s\tremaining: 0us\n"
     ]
    },
    {
     "data": {
      "text/plain": [
       "<catboost.core.CatBoostRegressor at 0x1e9361c07f0>"
      ]
     },
     "execution_count": 11,
     "metadata": {},
     "output_type": "execute_result"
    }
   ],
   "source": [
    "model = CatBoostRegressor(iterations =50, \n",
    "                         depth = 5,\n",
    "                         learning_rate=1,\n",
    "                         loss_function = 'RMSE')\n",
    "model.fit(train_pool)"
   ]
  },
  {
   "cell_type": "code",
   "execution_count": 12,
   "id": "6b3de8ba",
   "metadata": {},
   "outputs": [
    {
     "data": {
      "text/plain": [
       "count    2.302402e+06\n",
       "mean     6.634881e-02\n",
       "std      1.652097e+01\n",
       "min     -4.637239e+02\n",
       "25%     -1.851980e+00\n",
       "50%      5.965040e-02\n",
       "75%      2.052162e+00\n",
       "max      2.382640e+02\n",
       "Name: patient_pay, dtype: float64"
      ]
     },
     "execution_count": 12,
     "metadata": {},
     "output_type": "execute_result"
    }
   ],
   "source": [
    "test_data = test.drop(columns=['patient_pay'])\n",
    "test_label = test['patient_pay']\n",
    "preds=model.predict(test_data)\n",
    "diff = preds - test_label\n",
    "diff.describe()"
   ]
  },
  {
   "cell_type": "code",
   "execution_count": 13,
   "id": "9515474f",
   "metadata": {},
   "outputs": [
    {
     "data": {
      "text/plain": [
       "(6.629801705816988,\n",
       " 11.881694138538265,\n",
       " 25.281441215999894,\n",
       " 48.59040692036817,\n",
       " 238.26396877938052)"
      ]
     },
     "execution_count": 13,
     "metadata": {},
     "output_type": "execute_result"
    }
   ],
   "source": [
    "np.percentile(diff, 90), np.percentile(diff, 95), np.percentile(diff, 98), np.percentile(diff, 99), np.percentile(diff, 100)"
   ]
  },
  {
   "cell_type": "code",
   "execution_count": 14,
   "id": "9534125c",
   "metadata": {},
   "outputs": [],
   "source": [
    "test_error = test[abs(diff)>6]"
   ]
  },
  {
   "cell_type": "code",
   "execution_count": 15,
   "id": "9780ce93",
   "metadata": {},
   "outputs": [
    {
     "data": {
      "text/html": [
       "<div>\n",
       "<style scoped>\n",
       "    .dataframe tbody tr th:only-of-type {\n",
       "        vertical-align: middle;\n",
       "    }\n",
       "\n",
       "    .dataframe tbody tr th {\n",
       "        vertical-align: top;\n",
       "    }\n",
       "\n",
       "    .dataframe thead th {\n",
       "        text-align: right;\n",
       "    }\n",
       "</style>\n",
       "<table border=\"1\" class=\"dataframe\">\n",
       "  <thead>\n",
       "    <tr style=\"text-align: right;\">\n",
       "      <th></th>\n",
       "      <th>pharmacy</th>\n",
       "      <th>diagnosis</th>\n",
       "      <th>pcn</th>\n",
       "      <th>group</th>\n",
       "      <th>patient_pay</th>\n",
       "      <th>brand</th>\n",
       "      <th>drug_name</th>\n",
       "      <th>month</th>\n",
       "      <th>insurance_null</th>\n",
       "    </tr>\n",
       "  </thead>\n",
       "  <tbody>\n",
       "    <tr>\n",
       "      <th>2232638</th>\n",
       "      <td>52</td>\n",
       "      <td>G99.93</td>\n",
       "      <td>TPJD</td>\n",
       "      <td>None</td>\n",
       "      <td>6.56</td>\n",
       "      <td>branded</td>\n",
       "      <td>gorol</td>\n",
       "      <td>3</td>\n",
       "      <td>1</td>\n",
       "    </tr>\n",
       "    <tr>\n",
       "      <th>10606872</th>\n",
       "      <td>20</td>\n",
       "      <td>B05.36</td>\n",
       "      <td>None</td>\n",
       "      <td>1CAHL</td>\n",
       "      <td>81.14</td>\n",
       "      <td>branded</td>\n",
       "      <td>plazamiglutic</td>\n",
       "      <td>11</td>\n",
       "      <td>1</td>\n",
       "    </tr>\n",
       "    <tr>\n",
       "      <th>2557631</th>\n",
       "      <td>53</td>\n",
       "      <td>B45.03</td>\n",
       "      <td>None</td>\n",
       "      <td>STGRDKR1J5RD</td>\n",
       "      <td>213.71</td>\n",
       "      <td>branded</td>\n",
       "      <td>pranic</td>\n",
       "      <td>3</td>\n",
       "      <td>1</td>\n",
       "    </tr>\n",
       "    <tr>\n",
       "      <th>9758427</th>\n",
       "      <td>15</td>\n",
       "      <td>I68.27</td>\n",
       "      <td>None</td>\n",
       "      <td>YY6B1J4E8KJ3</td>\n",
       "      <td>51.19</td>\n",
       "      <td>branded</td>\n",
       "      <td>mule</td>\n",
       "      <td>10</td>\n",
       "      <td>1</td>\n",
       "    </tr>\n",
       "    <tr>\n",
       "      <th>1376290</th>\n",
       "      <td>10</td>\n",
       "      <td>Q72.66</td>\n",
       "      <td>KB38N</td>\n",
       "      <td>6BYJBW</td>\n",
       "      <td>73.26</td>\n",
       "      <td>branded</td>\n",
       "      <td>momudobatin</td>\n",
       "      <td>2</td>\n",
       "      <td>0</td>\n",
       "    </tr>\n",
       "    <tr>\n",
       "      <th>...</th>\n",
       "      <td>...</td>\n",
       "      <td>...</td>\n",
       "      <td>...</td>\n",
       "      <td>...</td>\n",
       "      <td>...</td>\n",
       "      <td>...</td>\n",
       "      <td>...</td>\n",
       "      <td>...</td>\n",
       "      <td>...</td>\n",
       "    </tr>\n",
       "    <tr>\n",
       "      <th>9948197</th>\n",
       "      <td>48</td>\n",
       "      <td>I68.27</td>\n",
       "      <td>BIZF</td>\n",
       "      <td>QK6BI1N61</td>\n",
       "      <td>92.46</td>\n",
       "      <td>branded</td>\n",
       "      <td>hidizuzunib</td>\n",
       "      <td>10</td>\n",
       "      <td>0</td>\n",
       "    </tr>\n",
       "    <tr>\n",
       "      <th>6297008</th>\n",
       "      <td>40</td>\n",
       "      <td>Z20.23</td>\n",
       "      <td>BIZF</td>\n",
       "      <td>QK6BI1N61</td>\n",
       "      <td>156.54</td>\n",
       "      <td>branded</td>\n",
       "      <td>vivafastat</td>\n",
       "      <td>7</td>\n",
       "      <td>0</td>\n",
       "    </tr>\n",
       "    <tr>\n",
       "      <th>7660501</th>\n",
       "      <td>13</td>\n",
       "      <td>Z66.42</td>\n",
       "      <td>J5DT8</td>\n",
       "      <td>IX6P0</td>\n",
       "      <td>158.14</td>\n",
       "      <td>branded</td>\n",
       "      <td>nusudaric</td>\n",
       "      <td>8</td>\n",
       "      <td>0</td>\n",
       "    </tr>\n",
       "    <tr>\n",
       "      <th>4707516</th>\n",
       "      <td>25</td>\n",
       "      <td>Z66.42</td>\n",
       "      <td>BIZF</td>\n",
       "      <td>QK6BI1N61</td>\n",
       "      <td>153.72</td>\n",
       "      <td>branded</td>\n",
       "      <td>nusudaric</td>\n",
       "      <td>5</td>\n",
       "      <td>0</td>\n",
       "    </tr>\n",
       "    <tr>\n",
       "      <th>4814457</th>\n",
       "      <td>19</td>\n",
       "      <td>H36.57</td>\n",
       "      <td>KBOSN</td>\n",
       "      <td>None</td>\n",
       "      <td>58.69</td>\n",
       "      <td>branded</td>\n",
       "      <td>semufolic</td>\n",
       "      <td>5</td>\n",
       "      <td>1</td>\n",
       "    </tr>\n",
       "  </tbody>\n",
       "</table>\n",
       "<p>470879 rows × 9 columns</p>\n",
       "</div>"
      ],
      "text/plain": [
       "          pharmacy diagnosis    pcn         group  patient_pay    brand  \\\n",
       "2232638         52    G99.93   TPJD          None         6.56  branded   \n",
       "10606872        20    B05.36   None         1CAHL        81.14  branded   \n",
       "2557631         53    B45.03   None  STGRDKR1J5RD       213.71  branded   \n",
       "9758427         15    I68.27   None  YY6B1J4E8KJ3        51.19  branded   \n",
       "1376290         10    Q72.66  KB38N        6BYJBW        73.26  branded   \n",
       "...            ...       ...    ...           ...          ...      ...   \n",
       "9948197         48    I68.27   BIZF     QK6BI1N61        92.46  branded   \n",
       "6297008         40    Z20.23   BIZF     QK6BI1N61       156.54  branded   \n",
       "7660501         13    Z66.42  J5DT8         IX6P0       158.14  branded   \n",
       "4707516         25    Z66.42   BIZF     QK6BI1N61       153.72  branded   \n",
       "4814457         19    H36.57  KBOSN          None        58.69  branded   \n",
       "\n",
       "              drug_name  month  insurance_null  \n",
       "2232638           gorol      3               1  \n",
       "10606872  plazamiglutic     11               1  \n",
       "2557631          pranic      3               1  \n",
       "9758427            mule     10               1  \n",
       "1376290     momudobatin      2               0  \n",
       "...                 ...    ...             ...  \n",
       "9948197     hidizuzunib     10               0  \n",
       "6297008      vivafastat      7               0  \n",
       "7660501       nusudaric      8               0  \n",
       "4707516       nusudaric      5               0  \n",
       "4814457       semufolic      5               1  \n",
       "\n",
       "[470879 rows x 9 columns]"
      ]
     },
     "execution_count": 15,
     "metadata": {},
     "output_type": "execute_result"
    }
   ],
   "source": [
    "test_error"
   ]
  },
  {
   "cell_type": "code",
   "execution_count": 17,
   "id": "4caf833e",
   "metadata": {},
   "outputs": [
    {
     "name": "stdout",
     "output_type": "stream",
     "text": [
      "0:\tlearn: 28.3103460\ttotal: 2.6s\tremaining: 2m 7s\n",
      "1:\tlearn: 24.6724079\ttotal: 6.3s\tremaining: 2m 31s\n",
      "2:\tlearn: 18.5102672\ttotal: 10.4s\tremaining: 2m 43s\n",
      "3:\tlearn: 16.7447289\ttotal: 13.9s\tremaining: 2m 40s\n",
      "4:\tlearn: 16.4136290\ttotal: 17.8s\tremaining: 2m 40s\n",
      "5:\tlearn: 16.2510645\ttotal: 21.3s\tremaining: 2m 36s\n",
      "6:\tlearn: 16.2078345\ttotal: 24.6s\tremaining: 2m 31s\n",
      "7:\tlearn: 16.1534400\ttotal: 27.9s\tremaining: 2m 26s\n",
      "8:\tlearn: 16.1045997\ttotal: 31.4s\tremaining: 2m 23s\n",
      "9:\tlearn: 16.0784090\ttotal: 34.8s\tremaining: 2m 19s\n",
      "10:\tlearn: 16.0447556\ttotal: 38.2s\tremaining: 2m 15s\n",
      "11:\tlearn: 16.0261532\ttotal: 41.5s\tremaining: 2m 11s\n",
      "12:\tlearn: 16.0127106\ttotal: 44.9s\tremaining: 2m 7s\n",
      "13:\tlearn: 16.0079955\ttotal: 48.3s\tremaining: 2m 4s\n",
      "14:\tlearn: 15.9941625\ttotal: 52s\tremaining: 2m 1s\n",
      "15:\tlearn: 15.9849515\ttotal: 55.8s\tremaining: 1m 58s\n",
      "16:\tlearn: 15.9764438\ttotal: 59.9s\tremaining: 1m 56s\n",
      "17:\tlearn: 15.9727461\ttotal: 1m 3s\tremaining: 1m 52s\n",
      "18:\tlearn: 15.9638870\ttotal: 1m 7s\tremaining: 1m 49s\n",
      "19:\tlearn: 15.9594765\ttotal: 1m 11s\tremaining: 1m 46s\n",
      "20:\tlearn: 15.9547010\ttotal: 1m 15s\tremaining: 1m 43s\n",
      "21:\tlearn: 15.9463154\ttotal: 1m 19s\tremaining: 1m 40s\n",
      "22:\tlearn: 15.9443180\ttotal: 1m 23s\tremaining: 1m 37s\n",
      "23:\tlearn: 15.9421073\ttotal: 1m 27s\tremaining: 1m 34s\n",
      "24:\tlearn: 15.9393651\ttotal: 1m 30s\tremaining: 1m 30s\n",
      "25:\tlearn: 15.9358357\ttotal: 1m 34s\tremaining: 1m 27s\n",
      "26:\tlearn: 15.9335338\ttotal: 1m 38s\tremaining: 1m 24s\n",
      "27:\tlearn: 15.9310201\ttotal: 1m 42s\tremaining: 1m 20s\n",
      "28:\tlearn: 15.9286351\ttotal: 1m 46s\tremaining: 1m 16s\n",
      "29:\tlearn: 15.9255759\ttotal: 1m 50s\tremaining: 1m 13s\n",
      "30:\tlearn: 15.9224509\ttotal: 1m 53s\tremaining: 1m 9s\n",
      "31:\tlearn: 15.9198078\ttotal: 1m 57s\tremaining: 1m 6s\n",
      "32:\tlearn: 15.9164196\ttotal: 2m 1s\tremaining: 1m 2s\n",
      "33:\tlearn: 15.9149415\ttotal: 2m 5s\tremaining: 59s\n",
      "34:\tlearn: 15.9143200\ttotal: 2m 9s\tremaining: 55.4s\n",
      "35:\tlearn: 15.9121046\ttotal: 2m 12s\tremaining: 51.7s\n",
      "36:\tlearn: 15.9112810\ttotal: 2m 16s\tremaining: 48s\n",
      "37:\tlearn: 15.9094561\ttotal: 2m 21s\tremaining: 44.6s\n",
      "38:\tlearn: 15.9087833\ttotal: 2m 25s\tremaining: 41s\n",
      "39:\tlearn: 15.9069548\ttotal: 2m 29s\tremaining: 37.3s\n",
      "40:\tlearn: 15.9051985\ttotal: 2m 32s\tremaining: 33.6s\n",
      "41:\tlearn: 15.9048469\ttotal: 2m 37s\tremaining: 29.9s\n",
      "42:\tlearn: 15.9039583\ttotal: 2m 41s\tremaining: 26.2s\n",
      "43:\tlearn: 15.9033647\ttotal: 2m 44s\tremaining: 22.5s\n",
      "44:\tlearn: 15.9022187\ttotal: 2m 48s\tremaining: 18.8s\n",
      "45:\tlearn: 15.9001274\ttotal: 2m 52s\tremaining: 15s\n",
      "46:\tlearn: 15.8987835\ttotal: 2m 56s\tremaining: 11.3s\n",
      "47:\tlearn: 15.8979079\ttotal: 3m\tremaining: 7.52s\n",
      "48:\tlearn: 15.8956186\ttotal: 3m 4s\tremaining: 3.76s\n",
      "49:\tlearn: 15.8948731\ttotal: 3m 8s\tremaining: 0us\n"
     ]
    },
    {
     "data": {
      "text/plain": [
       "<catboost.core.CatBoostRegressor at 0x1e9361c0e20>"
      ]
     },
     "execution_count": 17,
     "metadata": {},
     "output_type": "execute_result"
    }
   ],
   "source": [
    "model2 = CatBoostRegressor(iterations =50, \n",
    "                         depth = 16,\n",
    "                         learning_rate=1,\n",
    "                         loss_function = 'RMSE')\n",
    "model2.fit(train_pool)"
   ]
  },
  {
   "cell_type": "code",
   "execution_count": 18,
   "id": "de0996e0",
   "metadata": {},
   "outputs": [
    {
     "data": {
      "text/plain": [
       "count    2.302402e+06\n",
       "mean     6.267065e-02\n",
       "std      1.587425e+01\n",
       "min     -4.770060e+02\n",
       "25%     -4.893450e-01\n",
       "50%      1.432920e-02\n",
       "75%      7.311997e-01\n",
       "max      3.026251e+02\n",
       "Name: patient_pay, dtype: float64"
      ]
     },
     "execution_count": 18,
     "metadata": {},
     "output_type": "execute_result"
    }
   ],
   "source": [
    "preds2=model2.predict(test_data)\n",
    "diff2 = preds2 - test_label\n",
    "diff2.describe()"
   ]
  },
  {
   "cell_type": "code",
   "execution_count": null,
   "id": "5898e1af",
   "metadata": {},
   "outputs": [],
   "source": []
  }
 ],
 "metadata": {
  "kernelspec": {
   "display_name": "Python 3 (ipykernel)",
   "language": "python",
   "name": "python3"
  },
  "language_info": {
   "codemirror_mode": {
    "name": "ipython",
    "version": 3
   },
   "file_extension": ".py",
   "mimetype": "text/x-python",
   "name": "python",
   "nbconvert_exporter": "python",
   "pygments_lexer": "ipython3",
   "version": "3.9.13"
  }
 },
 "nbformat": 4,
 "nbformat_minor": 5
}
