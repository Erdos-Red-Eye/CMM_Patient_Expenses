{
 "cells": [
  {
   "cell_type": "code",
   "execution_count": 1,
   "id": "827a70d1",
   "metadata": {},
   "outputs": [],
   "source": [
    "import numpy as np\n",
    "import pandas as pd\n",
    "\n",
    "from catboost import Pool, CatBoostRegressor"
   ]
  },
  {
   "cell_type": "code",
   "execution_count": 2,
   "id": "3d6cff11",
   "metadata": {},
   "outputs": [],
   "source": [
    "df = pd.read_csv(\"pharmacy_new.csv\")"
   ]
  },
  {
   "cell_type": "code",
   "execution_count": 3,
   "id": "03373bcc",
   "metadata": {},
   "outputs": [],
   "source": [
    "df =df.drop(columns=['tx_date', 'drug', 'bin', 'diagnosis_letter', 'diagnosis_number','Unnamed: 0'])"
   ]
  },
  {
   "cell_type": "code",
   "execution_count": 4,
   "id": "112869ed",
   "metadata": {},
   "outputs": [],
   "source": [
    "df = df[df['rejected'] == False]\n",
    "df = df.drop(columns='rejected')"
   ]
  },
  {
   "cell_type": "code",
   "execution_count": 5,
   "id": "0fbc6f35",
   "metadata": {},
   "outputs": [],
   "source": [
    "from sklearn.metrics import mean_squared_error, r2_score, mean_absolute_error, mean_absolute_percentage_error\n",
    "from sklearn.linear_model import Ridge\n",
    "from sklearn.model_selection import train_test_split, KFold\n",
    "from sklearn.ensemble import RandomForestRegressor, GradientBoostingRegressor"
   ]
  },
  {
   "cell_type": "code",
   "execution_count": 9,
   "id": "1ec2c586",
   "metadata": {},
   "outputs": [],
   "source": [
    "df['pcn'].fillna(value = 'pcnNone', inplace = True)\n",
    "df['group'].fillna(value = 'gpNone', inplace = True)"
   ]
  },
  {
   "cell_type": "code",
   "execution_count": 12,
   "id": "857f5449",
   "metadata": {},
   "outputs": [
    {
     "data": {
      "text/html": [
       "<div>\n",
       "<style scoped>\n",
       "    .dataframe tbody tr th:only-of-type {\n",
       "        vertical-align: middle;\n",
       "    }\n",
       "\n",
       "    .dataframe tbody tr th {\n",
       "        vertical-align: top;\n",
       "    }\n",
       "\n",
       "    .dataframe thead th {\n",
       "        text-align: right;\n",
       "    }\n",
       "</style>\n",
       "<table border=\"1\" class=\"dataframe\">\n",
       "  <thead>\n",
       "    <tr style=\"text-align: right;\">\n",
       "      <th></th>\n",
       "      <th>pharmacy</th>\n",
       "      <th>diagnosis</th>\n",
       "      <th>pcn</th>\n",
       "      <th>group</th>\n",
       "      <th>patient_pay</th>\n",
       "      <th>brand</th>\n",
       "      <th>drug_name</th>\n",
       "      <th>month</th>\n",
       "      <th>insurance</th>\n",
       "    </tr>\n",
       "  </thead>\n",
       "  <tbody>\n",
       "    <tr>\n",
       "      <th>0</th>\n",
       "      <td>6</td>\n",
       "      <td>G99.93</td>\n",
       "      <td>1UQC</td>\n",
       "      <td>gpNone</td>\n",
       "      <td>13.39</td>\n",
       "      <td>branded</td>\n",
       "      <td>tanoclolol</td>\n",
       "      <td>1</td>\n",
       "      <td>1UQCgpNone</td>\n",
       "    </tr>\n",
       "    <tr>\n",
       "      <th>1</th>\n",
       "      <td>42</td>\n",
       "      <td>U60.52</td>\n",
       "      <td>pcnNone</td>\n",
       "      <td>52H8KH0F83K</td>\n",
       "      <td>7.02</td>\n",
       "      <td>branded</td>\n",
       "      <td>oxasoted</td>\n",
       "      <td>1</td>\n",
       "      <td>pcnNone52H8KH0F83K</td>\n",
       "    </tr>\n",
       "    <tr>\n",
       "      <th>2</th>\n",
       "      <td>37</td>\n",
       "      <td>Q85.91</td>\n",
       "      <td>1UQC</td>\n",
       "      <td>gpNone</td>\n",
       "      <td>13.39</td>\n",
       "      <td>branded</td>\n",
       "      <td>cupitelol</td>\n",
       "      <td>1</td>\n",
       "      <td>1UQCgpNone</td>\n",
       "    </tr>\n",
       "    <tr>\n",
       "      <th>3</th>\n",
       "      <td>30</td>\n",
       "      <td>U60.52</td>\n",
       "      <td>KB38N</td>\n",
       "      <td>6BYJBW</td>\n",
       "      <td>10.84</td>\n",
       "      <td>generic</td>\n",
       "      <td>oxasoted</td>\n",
       "      <td>1</td>\n",
       "      <td>KB38N6BYJBW</td>\n",
       "    </tr>\n",
       "    <tr>\n",
       "      <th>4</th>\n",
       "      <td>18</td>\n",
       "      <td>N55.01</td>\n",
       "      <td>pcnNone</td>\n",
       "      <td>ZX2QUWR</td>\n",
       "      <td>47.00</td>\n",
       "      <td>branded</td>\n",
       "      <td>mamate</td>\n",
       "      <td>1</td>\n",
       "      <td>pcnNoneZX2QUWR</td>\n",
       "    </tr>\n",
       "    <tr>\n",
       "      <th>...</th>\n",
       "      <td>...</td>\n",
       "      <td>...</td>\n",
       "      <td>...</td>\n",
       "      <td>...</td>\n",
       "      <td>...</td>\n",
       "      <td>...</td>\n",
       "      <td>...</td>\n",
       "      <td>...</td>\n",
       "      <td>...</td>\n",
       "    </tr>\n",
       "    <tr>\n",
       "      <th>12561839</th>\n",
       "      <td>39</td>\n",
       "      <td>Q72.66</td>\n",
       "      <td>KB38N</td>\n",
       "      <td>6BYJBW</td>\n",
       "      <td>66.47</td>\n",
       "      <td>branded</td>\n",
       "      <td>momudobatin</td>\n",
       "      <td>12</td>\n",
       "      <td>KB38N6BYJBW</td>\n",
       "    </tr>\n",
       "    <tr>\n",
       "      <th>12561841</th>\n",
       "      <td>45</td>\n",
       "      <td>N59.44</td>\n",
       "      <td>pcnNone</td>\n",
       "      <td>TFZOR5R49</td>\n",
       "      <td>6.28</td>\n",
       "      <td>generic</td>\n",
       "      <td>tafistitrisin</td>\n",
       "      <td>12</td>\n",
       "      <td>pcnNoneTFZOR5R49</td>\n",
       "    </tr>\n",
       "    <tr>\n",
       "      <th>12561842</th>\n",
       "      <td>54</td>\n",
       "      <td>W50.87</td>\n",
       "      <td>N098KI</td>\n",
       "      <td>6SP1DG</td>\n",
       "      <td>6.94</td>\n",
       "      <td>generic</td>\n",
       "      <td>tanoclolol</td>\n",
       "      <td>12</td>\n",
       "      <td>N098KI6SP1DG</td>\n",
       "    </tr>\n",
       "    <tr>\n",
       "      <th>12561843</th>\n",
       "      <td>0</td>\n",
       "      <td>I68.27</td>\n",
       "      <td>S76J7V6</td>\n",
       "      <td>gpNone</td>\n",
       "      <td>13.93</td>\n",
       "      <td>branded</td>\n",
       "      <td>prazinib</td>\n",
       "      <td>12</td>\n",
       "      <td>S76J7V6gpNone</td>\n",
       "    </tr>\n",
       "    <tr>\n",
       "      <th>12561844</th>\n",
       "      <td>46</td>\n",
       "      <td>G99.93</td>\n",
       "      <td>3O71UTS</td>\n",
       "      <td>gpNone</td>\n",
       "      <td>12.22</td>\n",
       "      <td>branded</td>\n",
       "      <td>bovirol</td>\n",
       "      <td>12</td>\n",
       "      <td>3O71UTSgpNone</td>\n",
       "    </tr>\n",
       "  </tbody>\n",
       "</table>\n",
       "<p>11512008 rows × 9 columns</p>\n",
       "</div>"
      ],
      "text/plain": [
       "          pharmacy diagnosis      pcn        group  patient_pay    brand  \\\n",
       "0                6    G99.93     1UQC       gpNone        13.39  branded   \n",
       "1               42    U60.52  pcnNone  52H8KH0F83K         7.02  branded   \n",
       "2               37    Q85.91     1UQC       gpNone        13.39  branded   \n",
       "3               30    U60.52    KB38N       6BYJBW        10.84  generic   \n",
       "4               18    N55.01  pcnNone      ZX2QUWR        47.00  branded   \n",
       "...            ...       ...      ...          ...          ...      ...   \n",
       "12561839        39    Q72.66    KB38N       6BYJBW        66.47  branded   \n",
       "12561841        45    N59.44  pcnNone    TFZOR5R49         6.28  generic   \n",
       "12561842        54    W50.87   N098KI       6SP1DG         6.94  generic   \n",
       "12561843         0    I68.27  S76J7V6       gpNone        13.93  branded   \n",
       "12561844        46    G99.93  3O71UTS       gpNone        12.22  branded   \n",
       "\n",
       "              drug_name  month           insurance  \n",
       "0            tanoclolol      1          1UQCgpNone  \n",
       "1              oxasoted      1  pcnNone52H8KH0F83K  \n",
       "2             cupitelol      1          1UQCgpNone  \n",
       "3              oxasoted      1         KB38N6BYJBW  \n",
       "4                mamate      1      pcnNoneZX2QUWR  \n",
       "...                 ...    ...                 ...  \n",
       "12561839    momudobatin     12         KB38N6BYJBW  \n",
       "12561841  tafistitrisin     12    pcnNoneTFZOR5R49  \n",
       "12561842     tanoclolol     12        N098KI6SP1DG  \n",
       "12561843       prazinib     12       S76J7V6gpNone  \n",
       "12561844        bovirol     12       3O71UTSgpNone  \n",
       "\n",
       "[11512008 rows x 9 columns]"
      ]
     },
     "execution_count": 12,
     "metadata": {},
     "output_type": "execute_result"
    }
   ],
   "source": [
    "df['insurance'] = df['pcn'].astype('str')+df['group'].astype('str')\n",
    "df"
   ]
  },
  {
   "cell_type": "code",
   "execution_count": 13,
   "id": "42033414",
   "metadata": {},
   "outputs": [],
   "source": [
    "df = df.drop(columns=['pcn','group'])"
   ]
  },
  {
   "cell_type": "code",
   "execution_count": 14,
   "id": "02e571a1",
   "metadata": {},
   "outputs": [],
   "source": [
    "train, test = train_test_split(df, test_size=0.2, shuffle=True, random_state=42)"
   ]
  },
  {
   "cell_type": "code",
   "execution_count": 15,
   "id": "45e01219",
   "metadata": {},
   "outputs": [],
   "source": [
    "train_data = train.drop(columns=['patient_pay'])\n",
    "train_label = train['patient_pay']"
   ]
  },
  {
   "cell_type": "code",
   "execution_count": 18,
   "id": "9bf128ec",
   "metadata": {},
   "outputs": [
    {
     "data": {
      "text/plain": [
       "Index(['pharmacy', 'diagnosis', 'brand', 'drug_name', 'month', 'insurance'], dtype='object')"
      ]
     },
     "execution_count": 18,
     "metadata": {},
     "output_type": "execute_result"
    }
   ],
   "source": [
    "train_data.columns"
   ]
  },
  {
   "cell_type": "code",
   "execution_count": 19,
   "id": "2fce61f2",
   "metadata": {},
   "outputs": [],
   "source": [
    "train_pool = Pool(train_data, train_label, cat_features = list(range(6)))"
   ]
  },
  {
   "cell_type": "code",
   "execution_count": 20,
   "id": "57c5f33b",
   "metadata": {},
   "outputs": [
    {
     "name": "stdout",
     "output_type": "stream",
     "text": [
      "0:\tlearn: 28.4786916\ttotal: 1.61s\tremaining: 1m 18s\n",
      "1:\tlearn: 24.6475207\ttotal: 2.71s\tremaining: 1m 5s\n",
      "2:\tlearn: 19.4400104\ttotal: 4.02s\tremaining: 1m 3s\n",
      "3:\tlearn: 18.8122828\ttotal: 4.83s\tremaining: 55.5s\n",
      "4:\tlearn: 18.4224844\ttotal: 5.67s\tremaining: 51s\n",
      "5:\tlearn: 17.7289409\ttotal: 6.43s\tremaining: 47.2s\n",
      "6:\tlearn: 17.5264383\ttotal: 7.19s\tremaining: 44.2s\n",
      "7:\tlearn: 17.4093821\ttotal: 8.19s\tremaining: 43s\n",
      "8:\tlearn: 17.3013444\ttotal: 9.03s\tremaining: 41.1s\n",
      "9:\tlearn: 17.2554299\ttotal: 10.1s\tremaining: 40.3s\n",
      "10:\tlearn: 17.2097714\ttotal: 10.9s\tremaining: 38.7s\n",
      "11:\tlearn: 17.1371291\ttotal: 11.7s\tremaining: 37s\n",
      "12:\tlearn: 17.1058350\ttotal: 12.5s\tremaining: 35.5s\n",
      "13:\tlearn: 17.0242659\ttotal: 13.3s\tremaining: 34.1s\n",
      "14:\tlearn: 17.0039290\ttotal: 14s\tremaining: 32.8s\n",
      "15:\tlearn: 16.9917064\ttotal: 14.8s\tremaining: 31.5s\n",
      "16:\tlearn: 16.9779937\ttotal: 15.6s\tremaining: 30.3s\n",
      "17:\tlearn: 16.9561710\ttotal: 16.4s\tremaining: 29.2s\n",
      "18:\tlearn: 16.8911439\ttotal: 17.2s\tremaining: 28.1s\n",
      "19:\tlearn: 16.8841216\ttotal: 18s\tremaining: 27.1s\n",
      "20:\tlearn: 16.8536265\ttotal: 18.8s\tremaining: 26s\n",
      "21:\tlearn: 16.8374469\ttotal: 19.6s\tremaining: 25s\n",
      "22:\tlearn: 16.8131623\ttotal: 20.5s\tremaining: 24s\n",
      "23:\tlearn: 16.7939939\ttotal: 21.3s\tremaining: 23.1s\n",
      "24:\tlearn: 16.7795268\ttotal: 22.1s\tremaining: 22.1s\n",
      "25:\tlearn: 16.7632464\ttotal: 22.9s\tremaining: 21.2s\n",
      "26:\tlearn: 16.7471531\ttotal: 23.7s\tremaining: 20.2s\n",
      "27:\tlearn: 16.7343822\ttotal: 24.6s\tremaining: 19.3s\n",
      "28:\tlearn: 16.7233602\ttotal: 25.4s\tremaining: 18.4s\n",
      "29:\tlearn: 16.7158207\ttotal: 26.2s\tremaining: 17.5s\n",
      "30:\tlearn: 16.7075958\ttotal: 27.1s\tremaining: 16.6s\n",
      "31:\tlearn: 16.6880983\ttotal: 27.9s\tremaining: 15.7s\n",
      "32:\tlearn: 16.6821753\ttotal: 28.7s\tremaining: 14.8s\n",
      "33:\tlearn: 16.6744752\ttotal: 29.5s\tremaining: 13.9s\n",
      "34:\tlearn: 16.6678531\ttotal: 30.4s\tremaining: 13s\n",
      "35:\tlearn: 16.6557397\ttotal: 31.2s\tremaining: 12.1s\n",
      "36:\tlearn: 16.6031484\ttotal: 32s\tremaining: 11.3s\n",
      "37:\tlearn: 16.5935554\ttotal: 32.9s\tremaining: 10.4s\n",
      "38:\tlearn: 16.5889140\ttotal: 33.7s\tremaining: 9.51s\n",
      "39:\tlearn: 16.5816725\ttotal: 34.5s\tremaining: 8.63s\n",
      "40:\tlearn: 16.5745968\ttotal: 35.3s\tremaining: 7.76s\n",
      "41:\tlearn: 16.5678242\ttotal: 36.1s\tremaining: 6.88s\n",
      "42:\tlearn: 16.5613856\ttotal: 36.9s\tremaining: 6.01s\n",
      "43:\tlearn: 16.5573165\ttotal: 37.8s\tremaining: 5.15s\n",
      "44:\tlearn: 16.5435344\ttotal: 38.6s\tremaining: 4.28s\n",
      "45:\tlearn: 16.5357298\ttotal: 39.4s\tremaining: 3.42s\n",
      "46:\tlearn: 16.5314927\ttotal: 40.2s\tremaining: 2.56s\n",
      "47:\tlearn: 16.5162032\ttotal: 41s\tremaining: 1.71s\n",
      "48:\tlearn: 16.5112546\ttotal: 41.8s\tremaining: 854ms\n",
      "49:\tlearn: 16.5061790\ttotal: 42.8s\tremaining: 0us\n"
     ]
    },
    {
     "data": {
      "text/plain": [
       "<catboost.core.CatBoostRegressor at 0x1dfdff9f250>"
      ]
     },
     "execution_count": 20,
     "metadata": {},
     "output_type": "execute_result"
    }
   ],
   "source": [
    "model = CatBoostRegressor(iterations =50, \n",
    "                         depth = 5,\n",
    "                         learning_rate=1,\n",
    "                         loss_function = 'RMSE')\n",
    "model.fit(train_pool)"
   ]
  },
  {
   "cell_type": "code",
   "execution_count": 21,
   "id": "6b3de8ba",
   "metadata": {},
   "outputs": [
    {
     "data": {
      "text/plain": [
       "count    2.302402e+06\n",
       "mean     5.745417e-02\n",
       "std      1.634484e+01\n",
       "min     -4.648299e+02\n",
       "25%     -1.785161e+00\n",
       "50%      6.519838e-02\n",
       "75%      2.029625e+00\n",
       "max      2.443762e+02\n",
       "Name: patient_pay, dtype: float64"
      ]
     },
     "execution_count": 21,
     "metadata": {},
     "output_type": "execute_result"
    }
   ],
   "source": [
    "test_data = test.drop(columns=['patient_pay'])\n",
    "test_label = test['patient_pay']\n",
    "preds=model.predict(test_data)\n",
    "diff = preds - test_label\n",
    "diff.describe()"
   ]
  },
  {
   "cell_type": "code",
   "execution_count": 22,
   "id": "9515474f",
   "metadata": {},
   "outputs": [
    {
     "data": {
      "text/plain": [
       "(6.283334213524515,\n",
       " 11.780230071148452,\n",
       " 25.0540464452112,\n",
       " 46.730503940406855,\n",
       " 244.37623167465807)"
      ]
     },
     "execution_count": 22,
     "metadata": {},
     "output_type": "execute_result"
    }
   ],
   "source": [
    "np.percentile(diff, 90), np.percentile(diff, 95), np.percentile(diff, 98), np.percentile(diff, 99), np.percentile(diff, 100)"
   ]
  },
  {
   "cell_type": "code",
   "execution_count": 25,
   "id": "9534125c",
   "metadata": {},
   "outputs": [
    {
     "data": {
      "text/html": [
       "<div>\n",
       "<style scoped>\n",
       "    .dataframe tbody tr th:only-of-type {\n",
       "        vertical-align: middle;\n",
       "    }\n",
       "\n",
       "    .dataframe tbody tr th {\n",
       "        vertical-align: top;\n",
       "    }\n",
       "\n",
       "    .dataframe thead th {\n",
       "        text-align: right;\n",
       "    }\n",
       "</style>\n",
       "<table border=\"1\" class=\"dataframe\">\n",
       "  <thead>\n",
       "    <tr style=\"text-align: right;\">\n",
       "      <th></th>\n",
       "      <th>pharmacy</th>\n",
       "      <th>diagnosis</th>\n",
       "      <th>patient_pay</th>\n",
       "      <th>brand</th>\n",
       "      <th>drug_name</th>\n",
       "      <th>month</th>\n",
       "      <th>insurance</th>\n",
       "    </tr>\n",
       "  </thead>\n",
       "  <tbody>\n",
       "    <tr>\n",
       "      <th>2232638</th>\n",
       "      <td>52</td>\n",
       "      <td>G99.93</td>\n",
       "      <td>6.56</td>\n",
       "      <td>branded</td>\n",
       "      <td>gorol</td>\n",
       "      <td>3</td>\n",
       "      <td>TPJDgpNone</td>\n",
       "    </tr>\n",
       "    <tr>\n",
       "      <th>10606872</th>\n",
       "      <td>20</td>\n",
       "      <td>B05.36</td>\n",
       "      <td>81.14</td>\n",
       "      <td>branded</td>\n",
       "      <td>plazamiglutic</td>\n",
       "      <td>11</td>\n",
       "      <td>pcnNone1CAHL</td>\n",
       "    </tr>\n",
       "    <tr>\n",
       "      <th>2557631</th>\n",
       "      <td>53</td>\n",
       "      <td>B45.03</td>\n",
       "      <td>213.71</td>\n",
       "      <td>branded</td>\n",
       "      <td>pranic</td>\n",
       "      <td>3</td>\n",
       "      <td>pcnNoneSTGRDKR1J5RD</td>\n",
       "    </tr>\n",
       "    <tr>\n",
       "      <th>9758427</th>\n",
       "      <td>15</td>\n",
       "      <td>I68.27</td>\n",
       "      <td>51.19</td>\n",
       "      <td>branded</td>\n",
       "      <td>mule</td>\n",
       "      <td>10</td>\n",
       "      <td>pcnNoneYY6B1J4E8KJ3</td>\n",
       "    </tr>\n",
       "    <tr>\n",
       "      <th>1376290</th>\n",
       "      <td>10</td>\n",
       "      <td>Q72.66</td>\n",
       "      <td>73.26</td>\n",
       "      <td>branded</td>\n",
       "      <td>momudobatin</td>\n",
       "      <td>2</td>\n",
       "      <td>KB38N6BYJBW</td>\n",
       "    </tr>\n",
       "    <tr>\n",
       "      <th>...</th>\n",
       "      <td>...</td>\n",
       "      <td>...</td>\n",
       "      <td>...</td>\n",
       "      <td>...</td>\n",
       "      <td>...</td>\n",
       "      <td>...</td>\n",
       "      <td>...</td>\n",
       "    </tr>\n",
       "    <tr>\n",
       "      <th>9948197</th>\n",
       "      <td>48</td>\n",
       "      <td>I68.27</td>\n",
       "      <td>92.46</td>\n",
       "      <td>branded</td>\n",
       "      <td>hidizuzunib</td>\n",
       "      <td>10</td>\n",
       "      <td>BIZFQK6BI1N61</td>\n",
       "    </tr>\n",
       "    <tr>\n",
       "      <th>6297008</th>\n",
       "      <td>40</td>\n",
       "      <td>Z20.23</td>\n",
       "      <td>156.54</td>\n",
       "      <td>branded</td>\n",
       "      <td>vivafastat</td>\n",
       "      <td>7</td>\n",
       "      <td>BIZFQK6BI1N61</td>\n",
       "    </tr>\n",
       "    <tr>\n",
       "      <th>4707516</th>\n",
       "      <td>25</td>\n",
       "      <td>Z66.42</td>\n",
       "      <td>153.72</td>\n",
       "      <td>branded</td>\n",
       "      <td>nusudaric</td>\n",
       "      <td>5</td>\n",
       "      <td>BIZFQK6BI1N61</td>\n",
       "    </tr>\n",
       "    <tr>\n",
       "      <th>4814457</th>\n",
       "      <td>19</td>\n",
       "      <td>H36.57</td>\n",
       "      <td>58.69</td>\n",
       "      <td>branded</td>\n",
       "      <td>semufolic</td>\n",
       "      <td>5</td>\n",
       "      <td>KBOSNgpNone</td>\n",
       "    </tr>\n",
       "    <tr>\n",
       "      <th>7899228</th>\n",
       "      <td>11</td>\n",
       "      <td>I68.27</td>\n",
       "      <td>55.79</td>\n",
       "      <td>branded</td>\n",
       "      <td>hidizuzunib</td>\n",
       "      <td>8</td>\n",
       "      <td>REGLCCBH2Q8B3GY2GAV</td>\n",
       "    </tr>\n",
       "  </tbody>\n",
       "</table>\n",
       "<p>455690 rows × 7 columns</p>\n",
       "</div>"
      ],
      "text/plain": [
       "          pharmacy diagnosis  patient_pay    brand      drug_name  month  \\\n",
       "2232638         52    G99.93         6.56  branded          gorol      3   \n",
       "10606872        20    B05.36        81.14  branded  plazamiglutic     11   \n",
       "2557631         53    B45.03       213.71  branded         pranic      3   \n",
       "9758427         15    I68.27        51.19  branded           mule     10   \n",
       "1376290         10    Q72.66        73.26  branded    momudobatin      2   \n",
       "...            ...       ...          ...      ...            ...    ...   \n",
       "9948197         48    I68.27        92.46  branded    hidizuzunib     10   \n",
       "6297008         40    Z20.23       156.54  branded     vivafastat      7   \n",
       "4707516         25    Z66.42       153.72  branded      nusudaric      5   \n",
       "4814457         19    H36.57        58.69  branded      semufolic      5   \n",
       "7899228         11    I68.27        55.79  branded    hidizuzunib      8   \n",
       "\n",
       "                    insurance  \n",
       "2232638            TPJDgpNone  \n",
       "10606872         pcnNone1CAHL  \n",
       "2557631   pcnNoneSTGRDKR1J5RD  \n",
       "9758427   pcnNoneYY6B1J4E8KJ3  \n",
       "1376290           KB38N6BYJBW  \n",
       "...                       ...  \n",
       "9948197         BIZFQK6BI1N61  \n",
       "6297008         BIZFQK6BI1N61  \n",
       "4707516         BIZFQK6BI1N61  \n",
       "4814457           KBOSNgpNone  \n",
       "7899228   REGLCCBH2Q8B3GY2GAV  \n",
       "\n",
       "[455690 rows x 7 columns]"
      ]
     },
     "execution_count": 25,
     "metadata": {},
     "output_type": "execute_result"
    }
   ],
   "source": [
    "test_error = test[abs(diff)>6]\n",
    "test_error"
   ]
  },
  {
   "cell_type": "code",
   "execution_count": 28,
   "id": "4caf833e",
   "metadata": {},
   "outputs": [
    {
     "name": "stdout",
     "output_type": "stream",
     "text": [
      "0:\tlearn: 32.2290497\ttotal: 2.46s\tremaining: 1m 11s\n",
      "1:\tlearn: 26.6070276\ttotal: 48.4s\tremaining: 11m 17s\n",
      "2:\tlearn: 22.6437548\ttotal: 1m 37s\tremaining: 14m 39s\n",
      "3:\tlearn: 19.5556399\ttotal: 2m 34s\tremaining: 16m 41s\n",
      "4:\tlearn: 18.6178000\ttotal: 3m 24s\tremaining: 17m 1s\n",
      "5:\tlearn: 18.3216393\ttotal: 4m 16s\tremaining: 17m 4s\n",
      "6:\tlearn: 17.3464898\ttotal: 5m 5s\tremaining: 16m 45s\n",
      "7:\tlearn: 17.0128306\ttotal: 5m 53s\tremaining: 16m 10s\n",
      "8:\tlearn: 16.8317588\ttotal: 6m 42s\tremaining: 15m 38s\n",
      "9:\tlearn: 16.7726800\ttotal: 7m 25s\tremaining: 14m 50s\n",
      "10:\tlearn: 16.6175766\ttotal: 8m 20s\tremaining: 14m 23s\n",
      "11:\tlearn: 16.5676289\ttotal: 9m 7s\tremaining: 13m 41s\n",
      "12:\tlearn: 16.5267654\ttotal: 9m 55s\tremaining: 12m 59s\n",
      "13:\tlearn: 16.4811335\ttotal: 10m 40s\tremaining: 12m 12s\n",
      "14:\tlearn: 16.4465900\ttotal: 11m 27s\tremaining: 11m 27s\n",
      "15:\tlearn: 16.4228067\ttotal: 12m 19s\tremaining: 10m 46s\n",
      "16:\tlearn: 16.3756233\ttotal: 13m 13s\tremaining: 10m 6s\n",
      "17:\tlearn: 16.3584979\ttotal: 14m 3s\tremaining: 9m 22s\n",
      "18:\tlearn: 16.3471958\ttotal: 14m 50s\tremaining: 8m 35s\n",
      "19:\tlearn: 16.3272374\ttotal: 15m 41s\tremaining: 7m 50s\n",
      "20:\tlearn: 16.3006599\ttotal: 16m 31s\tremaining: 7m 4s\n",
      "21:\tlearn: 16.2754903\ttotal: 17m 22s\tremaining: 6m 19s\n",
      "22:\tlearn: 16.2536419\ttotal: 18m 10s\tremaining: 5m 31s\n",
      "23:\tlearn: 16.2403714\ttotal: 19m 3s\tremaining: 4m 45s\n",
      "24:\tlearn: 16.2255176\ttotal: 19m 59s\tremaining: 3m 59s\n",
      "25:\tlearn: 16.2157616\ttotal: 20m 44s\tremaining: 3m 11s\n",
      "26:\tlearn: 16.2051967\ttotal: 21m 34s\tremaining: 2m 23s\n",
      "27:\tlearn: 16.1899306\ttotal: 22m 26s\tremaining: 1m 36s\n",
      "28:\tlearn: 16.1726090\ttotal: 23m 23s\tremaining: 48.4s\n",
      "29:\tlearn: 16.1568169\ttotal: 24m 19s\tremaining: 0us\n"
     ]
    },
    {
     "data": {
      "text/plain": [
       "<catboost.core.CatBoostRegressor at 0x1dfe38b0280>"
      ]
     },
     "execution_count": 28,
     "metadata": {},
     "output_type": "execute_result"
    }
   ],
   "source": [
    "model2 = CatBoostRegressor(iterations =30, \n",
    "                         depth = 10,\n",
    "                         learning_rate=.5,\n",
    "                         loss_function = 'MultiRMSE')\n",
    "model2.fit(train_pool)"
   ]
  },
  {
   "cell_type": "code",
   "execution_count": 29,
   "id": "de0996e0",
   "metadata": {},
   "outputs": [
    {
     "data": {
      "text/plain": [
       "count    2.302402e+06\n",
       "mean     5.010719e+00\n",
       "std      1.521262e+01\n",
       "min      3.005931e-05\n",
       "25%      5.686987e-01\n",
       "50%      1.443162e+00\n",
       "75%      3.870043e+00\n",
       "max      4.798195e+02\n",
       "Name: patient_pay, dtype: float64"
      ]
     },
     "execution_count": 29,
     "metadata": {},
     "output_type": "execute_result"
    }
   ],
   "source": [
    "preds2=model2.predict(test_data)\n",
    "diff2 =abs( preds2 - test_label)\n",
    "diff2.describe()"
   ]
  },
  {
   "cell_type": "code",
   "execution_count": 30,
   "id": "5898e1af",
   "metadata": {},
   "outputs": [
    {
     "data": {
      "text/plain": [
       "(6.283334213524515,\n",
       " 11.780230071148452,\n",
       " 25.0540464452112,\n",
       " 46.730503940406855,\n",
       " 244.37623167465807)"
      ]
     },
     "execution_count": 30,
     "metadata": {},
     "output_type": "execute_result"
    }
   ],
   "source": [
    "np.percentile(diff, 90), np.percentile(diff, 95), np.percentile(diff, 98), np.percentile(diff, 99), np.percentile(diff, 100)"
   ]
  },
  {
   "cell_type": "code",
   "execution_count": null,
   "id": "fd15d709",
   "metadata": {},
   "outputs": [],
   "source": []
  }
 ],
 "metadata": {
  "kernelspec": {
   "display_name": "Python 3 (ipykernel)",
   "language": "python",
   "name": "python3"
  },
  "language_info": {
   "codemirror_mode": {
    "name": "ipython",
    "version": 3
   },
   "file_extension": ".py",
   "mimetype": "text/x-python",
   "name": "python",
   "nbconvert_exporter": "python",
   "pygments_lexer": "ipython3",
   "version": "3.9.13"
  }
 },
 "nbformat": 4,
 "nbformat_minor": 5
}
