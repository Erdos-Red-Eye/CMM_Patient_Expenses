{
 "cells": [
  {
   "cell_type": "code",
   "execution_count": 1,
   "id": "c4d7008a",
   "metadata": {},
   "outputs": [],
   "source": [
    "import numpy as np\n",
    "import pandas as pd\n",
    "\n",
    "from catboost import Pool, CatBoostRegressor"
   ]
  },
  {
   "cell_type": "code",
   "execution_count": 2,
   "id": "4e0ce015",
   "metadata": {},
   "outputs": [],
   "source": [
    "df = pd.read_csv(\"pharmacy_new.csv\")"
   ]
  },
  {
   "cell_type": "code",
   "execution_count": 3,
   "id": "bafdfdf3",
   "metadata": {},
   "outputs": [],
   "source": [
    "df =df.drop(columns=['tx_date', 'drug', 'diagnosis_letter', 'diagnosis_number','Unnamed: 0'])"
   ]
  },
  {
   "cell_type": "code",
   "execution_count": 4,
   "id": "006fcb8c",
   "metadata": {},
   "outputs": [],
   "source": [
    "df = df[df['rejected'] == False]\n",
    "df = df.drop(columns='rejected')"
   ]
  },
  {
   "cell_type": "code",
   "execution_count": 6,
   "id": "20acc9d8",
   "metadata": {},
   "outputs": [],
   "source": [
    "from sklearn.metrics import mean_squared_error, r2_score, mean_absolute_error, mean_absolute_percentage_error\n",
    "from sklearn.linear_model import Ridge\n",
    "from sklearn.model_selection import train_test_split, KFold\n",
    "from sklearn.ensemble import RandomForestRegressor, GradientBoostingRegressor"
   ]
  },
  {
   "cell_type": "code",
   "execution_count": 11,
   "id": "6fc24845",
   "metadata": {},
   "outputs": [],
   "source": [
    "df['insurance_null'] = df['pcn'].isna().astype(int)+df['group'].isna().astype(int)"
   ]
  },
  {
   "cell_type": "code",
   "execution_count": 15,
   "id": "7368746a",
   "metadata": {},
   "outputs": [],
   "source": [
    "df['pcn'].fillna(value = 'None', inplace = True)\n",
    "df['group'].fillna(value = 'None', inplace = True)"
   ]
  },
  {
   "cell_type": "code",
   "execution_count": 16,
   "id": "3d5f96ca",
   "metadata": {},
   "outputs": [],
   "source": [
    "train, test = train_test_split(df, test_size=0.2, shuffle=True, random_state=42)"
   ]
  },
  {
   "cell_type": "code",
   "execution_count": 17,
   "id": "30ba6b1a",
   "metadata": {},
   "outputs": [],
   "source": [
    "train_data = train.drop(columns=['patient_pay'])\n",
    "train_label = train['patient_pay']"
   ]
  },
  {
   "cell_type": "code",
   "execution_count": 26,
   "id": "7ad74195",
   "metadata": {},
   "outputs": [],
   "source": [
    "train_pool = Pool(train_data, train_label, cat_features = list(range(8)))"
   ]
  },
  {
   "cell_type": "code",
   "execution_count": 27,
   "id": "5559bf28",
   "metadata": {},
   "outputs": [
    {
     "name": "stdout",
     "output_type": "stream",
     "text": [
      "0:\tlearn: 28.3254015\ttotal: 5.42s\tremaining: 4m 25s\n",
      "1:\tlearn: 24.8624181\ttotal: 10.1s\tremaining: 4m 2s\n",
      "2:\tlearn: 21.9789052\ttotal: 13.9s\tremaining: 3m 37s\n",
      "3:\tlearn: 19.7142396\ttotal: 17s\tremaining: 3m 14s\n",
      "4:\tlearn: 19.2617856\ttotal: 20.7s\tremaining: 3m 6s\n",
      "5:\tlearn: 18.7074957\ttotal: 24.3s\tremaining: 2m 58s\n",
      "6:\tlearn: 18.1145719\ttotal: 27s\tremaining: 2m 45s\n",
      "7:\tlearn: 17.8769542\ttotal: 29.7s\tremaining: 2m 35s\n",
      "8:\tlearn: 17.7831757\ttotal: 32.6s\tremaining: 2m 28s\n",
      "9:\tlearn: 17.6727572\ttotal: 35.5s\tremaining: 2m 22s\n",
      "10:\tlearn: 17.6041205\ttotal: 38.4s\tremaining: 2m 16s\n",
      "11:\tlearn: 17.5507830\ttotal: 41.3s\tremaining: 2m 10s\n",
      "12:\tlearn: 17.5136056\ttotal: 44.5s\tremaining: 2m 6s\n",
      "13:\tlearn: 17.4283426\ttotal: 47.5s\tremaining: 2m 2s\n",
      "14:\tlearn: 17.3727303\ttotal: 50.3s\tremaining: 1m 57s\n",
      "15:\tlearn: 17.3221869\ttotal: 53.2s\tremaining: 1m 53s\n",
      "16:\tlearn: 17.2867027\ttotal: 56.1s\tremaining: 1m 48s\n",
      "17:\tlearn: 17.1713219\ttotal: 59s\tremaining: 1m 44s\n",
      "18:\tlearn: 17.1581919\ttotal: 1m 1s\tremaining: 1m 41s\n",
      "19:\tlearn: 17.1148827\ttotal: 1m 4s\tremaining: 1m 37s\n",
      "20:\tlearn: 17.0666177\ttotal: 1m 7s\tremaining: 1m 33s\n",
      "21:\tlearn: 17.0222893\ttotal: 1m 10s\tremaining: 1m 29s\n",
      "22:\tlearn: 16.9999713\ttotal: 1m 13s\tremaining: 1m 26s\n",
      "23:\tlearn: 16.9749844\ttotal: 1m 16s\tremaining: 1m 22s\n",
      "24:\tlearn: 16.9594119\ttotal: 1m 19s\tremaining: 1m 19s\n",
      "25:\tlearn: 16.8981366\ttotal: 1m 22s\tremaining: 1m 16s\n",
      "26:\tlearn: 16.8542282\ttotal: 1m 25s\tremaining: 1m 12s\n",
      "27:\tlearn: 16.8201546\ttotal: 1m 28s\tremaining: 1m 9s\n",
      "28:\tlearn: 16.8046903\ttotal: 1m 31s\tremaining: 1m 6s\n",
      "29:\tlearn: 16.7838757\ttotal: 1m 34s\tremaining: 1m 2s\n",
      "30:\tlearn: 16.7688049\ttotal: 1m 37s\tremaining: 59.6s\n",
      "31:\tlearn: 16.7449977\ttotal: 1m 40s\tremaining: 56.3s\n",
      "32:\tlearn: 16.7222244\ttotal: 1m 42s\tremaining: 53s\n",
      "33:\tlearn: 16.7124116\ttotal: 1m 45s\tremaining: 49.9s\n",
      "34:\tlearn: 16.7006854\ttotal: 1m 48s\tremaining: 46.7s\n",
      "35:\tlearn: 16.6893652\ttotal: 1m 52s\tremaining: 43.6s\n",
      "36:\tlearn: 16.6498672\ttotal: 1m 54s\tremaining: 40.4s\n",
      "37:\tlearn: 16.6398893\ttotal: 1m 58s\tremaining: 37.4s\n",
      "38:\tlearn: 16.6328663\ttotal: 2m 1s\tremaining: 34.2s\n",
      "39:\tlearn: 16.6238282\ttotal: 2m 4s\tremaining: 31s\n",
      "40:\tlearn: 16.6174846\ttotal: 2m 7s\tremaining: 27.9s\n",
      "41:\tlearn: 16.6122906\ttotal: 2m 10s\tremaining: 24.8s\n",
      "42:\tlearn: 16.6048550\ttotal: 2m 13s\tremaining: 21.7s\n",
      "43:\tlearn: 16.5909835\ttotal: 2m 16s\tremaining: 18.6s\n",
      "44:\tlearn: 16.5775745\ttotal: 2m 19s\tremaining: 15.4s\n",
      "45:\tlearn: 16.5628095\ttotal: 2m 22s\tremaining: 12.3s\n",
      "46:\tlearn: 16.5542934\ttotal: 2m 24s\tremaining: 9.25s\n",
      "47:\tlearn: 16.5450686\ttotal: 2m 27s\tremaining: 6.16s\n",
      "48:\tlearn: 16.5356542\ttotal: 2m 30s\tremaining: 3.08s\n",
      "49:\tlearn: 16.5308429\ttotal: 2m 33s\tremaining: 0us\n"
     ]
    },
    {
     "data": {
      "text/plain": [
       "<catboost.core.CatBoostRegressor at 0x2422ca8fb50>"
      ]
     },
     "execution_count": 27,
     "metadata": {},
     "output_type": "execute_result"
    }
   ],
   "source": [
    "model = CatBoostRegressor(iterations =50, \n",
    "                         depth = 5,\n",
    "                         learning_rate=1,\n",
    "                         loss_function = 'RMSE')\n",
    "model.fit(train_pool)"
   ]
  },
  {
   "cell_type": "code",
   "execution_count": 29,
   "id": "7d1b4cee",
   "metadata": {},
   "outputs": [
    {
     "data": {
      "text/plain": [
       "count    2.302402e+06\n",
       "mean    -1.007007e-02\n",
       "std      1.629074e+01\n",
       "min     -4.710023e+02\n",
       "25%     -1.777327e+00\n",
       "50%      9.165819e-02\n",
       "75%      2.141701e+00\n",
       "max      2.407480e+02\n",
       "Name: patient_pay, dtype: float64"
      ]
     },
     "execution_count": 29,
     "metadata": {},
     "output_type": "execute_result"
    }
   ],
   "source": [
    "test_data = test.drop(columns=['patient_pay'])\n",
    "test_label = test['patient_pay']\n",
    "preds=model.predict(test_data)\n",
    "diff = preds - test_label\n",
    "diff.describe()"
   ]
  },
  {
   "cell_type": "code",
   "execution_count": 30,
   "id": "2df5fb65",
   "metadata": {},
   "outputs": [
    {
     "data": {
      "text/plain": [
       "(6.382890846051689,\n",
       " 11.895698427445444,\n",
       " 23.738702446970226,\n",
       " 45.29840209794493,\n",
       " 240.74801786584453)"
      ]
     },
     "execution_count": 30,
     "metadata": {},
     "output_type": "execute_result"
    }
   ],
   "source": [
    "np.percentile(diff, 90), np.percentile(diff, 95), np.percentile(diff, 98), np.percentile(diff, 99), np.percentile(diff, 100)"
   ]
  },
  {
   "cell_type": "code",
   "execution_count": 31,
   "id": "80085883",
   "metadata": {},
   "outputs": [],
   "source": [
    "test_error = test[abs(diff)>6]"
   ]
  },
  {
   "cell_type": "code",
   "execution_count": 32,
   "id": "db303325",
   "metadata": {},
   "outputs": [
    {
     "data": {
      "text/html": [
       "<div>\n",
       "<style scoped>\n",
       "    .dataframe tbody tr th:only-of-type {\n",
       "        vertical-align: middle;\n",
       "    }\n",
       "\n",
       "    .dataframe tbody tr th {\n",
       "        vertical-align: top;\n",
       "    }\n",
       "\n",
       "    .dataframe thead th {\n",
       "        text-align: right;\n",
       "    }\n",
       "</style>\n",
       "<table border=\"1\" class=\"dataframe\">\n",
       "  <thead>\n",
       "    <tr style=\"text-align: right;\">\n",
       "      <th></th>\n",
       "      <th>pharmacy</th>\n",
       "      <th>diagnosis</th>\n",
       "      <th>bin</th>\n",
       "      <th>pcn</th>\n",
       "      <th>group</th>\n",
       "      <th>patient_pay</th>\n",
       "      <th>brand</th>\n",
       "      <th>drug_name</th>\n",
       "      <th>month</th>\n",
       "      <th>insurance_null</th>\n",
       "    </tr>\n",
       "  </thead>\n",
       "  <tbody>\n",
       "    <tr>\n",
       "      <th>2232638</th>\n",
       "      <td>52</td>\n",
       "      <td>G99.93</td>\n",
       "      <td>664344</td>\n",
       "      <td>TPJD</td>\n",
       "      <td>None</td>\n",
       "      <td>6.56</td>\n",
       "      <td>branded</td>\n",
       "      <td>gorol</td>\n",
       "      <td>3</td>\n",
       "      <td>1</td>\n",
       "    </tr>\n",
       "    <tr>\n",
       "      <th>2557631</th>\n",
       "      <td>53</td>\n",
       "      <td>B45.03</td>\n",
       "      <td>664344</td>\n",
       "      <td>None</td>\n",
       "      <td>STGRDKR1J5RD</td>\n",
       "      <td>213.71</td>\n",
       "      <td>branded</td>\n",
       "      <td>pranic</td>\n",
       "      <td>3</td>\n",
       "      <td>1</td>\n",
       "    </tr>\n",
       "    <tr>\n",
       "      <th>9758427</th>\n",
       "      <td>15</td>\n",
       "      <td>I68.27</td>\n",
       "      <td>664344</td>\n",
       "      <td>None</td>\n",
       "      <td>YY6B1J4E8KJ3</td>\n",
       "      <td>51.19</td>\n",
       "      <td>branded</td>\n",
       "      <td>mule</td>\n",
       "      <td>10</td>\n",
       "      <td>1</td>\n",
       "    </tr>\n",
       "    <tr>\n",
       "      <th>1376290</th>\n",
       "      <td>10</td>\n",
       "      <td>Q72.66</td>\n",
       "      <td>571569</td>\n",
       "      <td>KB38N</td>\n",
       "      <td>6BYJBW</td>\n",
       "      <td>73.26</td>\n",
       "      <td>branded</td>\n",
       "      <td>momudobatin</td>\n",
       "      <td>2</td>\n",
       "      <td>0</td>\n",
       "    </tr>\n",
       "    <tr>\n",
       "      <th>2608649</th>\n",
       "      <td>5</td>\n",
       "      <td>G51.87</td>\n",
       "      <td>322463</td>\n",
       "      <td>None</td>\n",
       "      <td>HO8HUGL</td>\n",
       "      <td>16.47</td>\n",
       "      <td>branded</td>\n",
       "      <td>choxestamenium</td>\n",
       "      <td>3</td>\n",
       "      <td>1</td>\n",
       "    </tr>\n",
       "    <tr>\n",
       "      <th>...</th>\n",
       "      <td>...</td>\n",
       "      <td>...</td>\n",
       "      <td>...</td>\n",
       "      <td>...</td>\n",
       "      <td>...</td>\n",
       "      <td>...</td>\n",
       "      <td>...</td>\n",
       "      <td>...</td>\n",
       "      <td>...</td>\n",
       "      <td>...</td>\n",
       "    </tr>\n",
       "    <tr>\n",
       "      <th>9948197</th>\n",
       "      <td>48</td>\n",
       "      <td>I68.27</td>\n",
       "      <td>664344</td>\n",
       "      <td>BIZF</td>\n",
       "      <td>QK6BI1N61</td>\n",
       "      <td>92.46</td>\n",
       "      <td>branded</td>\n",
       "      <td>hidizuzunib</td>\n",
       "      <td>10</td>\n",
       "      <td>0</td>\n",
       "    </tr>\n",
       "    <tr>\n",
       "      <th>6297008</th>\n",
       "      <td>40</td>\n",
       "      <td>Z20.23</td>\n",
       "      <td>664344</td>\n",
       "      <td>BIZF</td>\n",
       "      <td>QK6BI1N61</td>\n",
       "      <td>156.54</td>\n",
       "      <td>branded</td>\n",
       "      <td>vivafastat</td>\n",
       "      <td>7</td>\n",
       "      <td>0</td>\n",
       "    </tr>\n",
       "    <tr>\n",
       "      <th>4707516</th>\n",
       "      <td>25</td>\n",
       "      <td>Z66.42</td>\n",
       "      <td>664344</td>\n",
       "      <td>BIZF</td>\n",
       "      <td>QK6BI1N61</td>\n",
       "      <td>153.72</td>\n",
       "      <td>branded</td>\n",
       "      <td>nusudaric</td>\n",
       "      <td>5</td>\n",
       "      <td>0</td>\n",
       "    </tr>\n",
       "    <tr>\n",
       "      <th>4814457</th>\n",
       "      <td>19</td>\n",
       "      <td>H36.57</td>\n",
       "      <td>664344</td>\n",
       "      <td>KBOSN</td>\n",
       "      <td>None</td>\n",
       "      <td>58.69</td>\n",
       "      <td>branded</td>\n",
       "      <td>semufolic</td>\n",
       "      <td>5</td>\n",
       "      <td>1</td>\n",
       "    </tr>\n",
       "    <tr>\n",
       "      <th>7899228</th>\n",
       "      <td>11</td>\n",
       "      <td>I68.27</td>\n",
       "      <td>664344</td>\n",
       "      <td>REGLCC</td>\n",
       "      <td>BH2Q8B3GY2GAV</td>\n",
       "      <td>55.79</td>\n",
       "      <td>branded</td>\n",
       "      <td>hidizuzunib</td>\n",
       "      <td>8</td>\n",
       "      <td>0</td>\n",
       "    </tr>\n",
       "  </tbody>\n",
       "</table>\n",
       "<p>472780 rows × 10 columns</p>\n",
       "</div>"
      ],
      "text/plain": [
       "         pharmacy diagnosis     bin     pcn          group  patient_pay  \\\n",
       "2232638        52    G99.93  664344    TPJD           None         6.56   \n",
       "2557631        53    B45.03  664344    None   STGRDKR1J5RD       213.71   \n",
       "9758427        15    I68.27  664344    None   YY6B1J4E8KJ3        51.19   \n",
       "1376290        10    Q72.66  571569   KB38N         6BYJBW        73.26   \n",
       "2608649         5    G51.87  322463    None        HO8HUGL        16.47   \n",
       "...           ...       ...     ...     ...            ...          ...   \n",
       "9948197        48    I68.27  664344    BIZF      QK6BI1N61        92.46   \n",
       "6297008        40    Z20.23  664344    BIZF      QK6BI1N61       156.54   \n",
       "4707516        25    Z66.42  664344    BIZF      QK6BI1N61       153.72   \n",
       "4814457        19    H36.57  664344   KBOSN           None        58.69   \n",
       "7899228        11    I68.27  664344  REGLCC  BH2Q8B3GY2GAV        55.79   \n",
       "\n",
       "           brand       drug_name  month  insurance_null  \n",
       "2232638  branded           gorol      3               1  \n",
       "2557631  branded          pranic      3               1  \n",
       "9758427  branded            mule     10               1  \n",
       "1376290  branded     momudobatin      2               0  \n",
       "2608649  branded  choxestamenium      3               1  \n",
       "...          ...             ...    ...             ...  \n",
       "9948197  branded     hidizuzunib     10               0  \n",
       "6297008  branded      vivafastat      7               0  \n",
       "4707516  branded       nusudaric      5               0  \n",
       "4814457  branded       semufolic      5               1  \n",
       "7899228  branded     hidizuzunib      8               0  \n",
       "\n",
       "[472780 rows x 10 columns]"
      ]
     },
     "execution_count": 32,
     "metadata": {},
     "output_type": "execute_result"
    }
   ],
   "source": [
    "test_error"
   ]
  },
  {
   "cell_type": "code",
   "execution_count": 33,
   "id": "82ec0c58",
   "metadata": {},
   "outputs": [
    {
     "data": {
      "text/plain": [
       "branded    0.867532\n",
       "generic    0.132468\n",
       "Name: brand, dtype: float64"
      ]
     },
     "execution_count": 33,
     "metadata": {},
     "output_type": "execute_result"
    }
   ],
   "source": [
    "test_error['brand'].value_counts(normalize = True)"
   ]
  },
  {
   "cell_type": "code",
   "execution_count": 34,
   "id": "73f78f9e",
   "metadata": {},
   "outputs": [
    {
     "data": {
      "text/plain": [
       "None             0.270456\n",
       "IOEAN1DWVV3Y     0.066437\n",
       "DGLGRYP          0.045907\n",
       "6SP1DG           0.041580\n",
       "6BYJBW           0.037717\n",
       "YY6B1J4E8KJ3     0.037081\n",
       "STGRDKR1J5RD     0.036302\n",
       "AJK5MZ25T9IA     0.032298\n",
       "1CAHL            0.028026\n",
       "HO8HUGL          0.025149\n",
       "L9QZA            0.024379\n",
       "Z01MLD4I         0.023660\n",
       "52H8KH0F83K      0.020972\n",
       "T51T6V2E8L       0.020179\n",
       "FZPLF4O6FD       0.018522\n",
       "IX6P0            0.017661\n",
       "MP3IQ            0.016712\n",
       "RS5RB3YA         0.015703\n",
       "BH2Q8B3GY2GAV    0.015409\n",
       "SJVO3GXUURRGO    0.013575\n",
       "EVD4X5           0.013501\n",
       "I4UYEP84W3       0.011970\n",
       "DYGBI610ZY       0.011790\n",
       "KZWQDIHCLLHD1    0.010982\n",
       "GOM8K0           0.010895\n",
       "ZX2QUWR          0.010830\n",
       "9R3Z3QKDF3       0.010459\n",
       "S2QKZ0OFNWS6X    0.010263\n",
       "0OGKQ            0.009332\n",
       "RGVK1            0.007705\n",
       "7DUPMODV0        0.007572\n",
       "U19J4RVCA        0.007513\n",
       "QK6BI1N61        0.007299\n",
       "IGN6JL34H37D     0.006817\n",
       "O19XSLDEFB       0.005884\n",
       "TFZOR5R49        0.005229\n",
       "0TZ9XYJZJH       0.004952\n",
       "V96T9QL5         0.004873\n",
       "XK8RM5E75ZW      0.004452\n",
       "ZOYKF0N5NEO      0.004281\n",
       "VC81HUO7ZD       0.004177\n",
       "7Q756WMLLV25X    0.003820\n",
       "GQIGYFQQ2WGH     0.003754\n",
       "HPVSQW7M8        0.003202\n",
       "7LL04USF         0.003162\n",
       "1N5IRQ           0.002680\n",
       "XY5GQQ9          0.002026\n",
       "OD99VAJGWV       0.001468\n",
       "77MAJF66DGD      0.001385\n",
       "Name: group, dtype: float64"
      ]
     },
     "execution_count": 34,
     "metadata": {},
     "output_type": "execute_result"
    }
   ],
   "source": [
    "test_error['group'].value_counts(normalize = True)"
   ]
  },
  {
   "cell_type": "code",
   "execution_count": 38,
   "id": "c7977987",
   "metadata": {},
   "outputs": [
    {
     "data": {
      "text/plain": [
       "None       0.218010\n",
       "327CKV     0.066437\n",
       "MSCXSG     0.045907\n",
       "S76J7V6    0.043105\n",
       "1UQC       0.041986\n",
       "N098KI     0.041580\n",
       "3O71UTS    0.037925\n",
       "KB38N      0.037717\n",
       "YFVIA      0.032298\n",
       "DY4B       0.028328\n",
       "TPJD       0.026076\n",
       "WM6A       0.024379\n",
       "T17LNK     0.023660\n",
       "NC7EN      0.023597\n",
       "TAZ5W      0.020179\n",
       "IF448      0.018522\n",
       "CS8580     0.017784\n",
       "J5DT8      0.017661\n",
       "YICC41     0.016712\n",
       "RB7UU      0.015703\n",
       "REGLCC     0.015409\n",
       "RM0HB      0.013575\n",
       "T52GV      0.013501\n",
       "ZQPX       0.010982\n",
       "XH4T3      0.010895\n",
       "KBOSN      0.010711\n",
       "7THOQ5     0.010502\n",
       "9C5MOR3    0.010263\n",
       "6ZGS97C    0.010212\n",
       "W1LW9Y     0.009332\n",
       "3Y5ZW0     0.008882\n",
       "RAM3J      0.007572\n",
       "9FU70      0.007513\n",
       "BIZF       0.007299\n",
       "AZUO5U     0.006817\n",
       "P4LC       0.005884\n",
       "W7L3       0.004873\n",
       "2TIC       0.004452\n",
       "BZ22Z2     0.004281\n",
       "9D24       0.004177\n",
       "CG3ZWQ     0.003976\n",
       "MQWH09H    0.003820\n",
       "NG4CS      0.003754\n",
       "OO0E       0.003202\n",
       "K5KDJ7G    0.002680\n",
       "YL5CMT     0.002367\n",
       "393U       0.002026\n",
       "ULM7G      0.002007\n",
       "FX2Z       0.001468\n",
       "Name: pcn, dtype: float64"
      ]
     },
     "execution_count": 38,
     "metadata": {},
     "output_type": "execute_result"
    }
   ],
   "source": [
    "test_error['pcn'].value_counts(normalize = True)"
   ]
  },
  {
   "cell_type": "code",
   "execution_count": 37,
   "id": "2349fa72",
   "metadata": {},
   "outputs": [
    {
     "data": {
      "text/plain": [
       "1     0.019180\n",
       "24    0.018732\n",
       "52    0.018643\n",
       "39    0.018499\n",
       "9     0.018362\n",
       "44    0.018207\n",
       "33    0.018097\n",
       "10    0.018040\n",
       "55    0.018008\n",
       "36    0.018002\n",
       "8     0.017998\n",
       "17    0.017949\n",
       "31    0.017869\n",
       "18    0.017816\n",
       "0     0.017793\n",
       "29    0.017774\n",
       "54    0.017668\n",
       "43    0.017642\n",
       "4     0.017602\n",
       "27    0.017556\n",
       "19    0.017552\n",
       "12    0.017484\n",
       "11    0.017374\n",
       "28    0.017374\n",
       "40    0.017367\n",
       "2     0.017291\n",
       "26    0.017285\n",
       "14    0.017281\n",
       "16    0.017272\n",
       "6     0.017251\n",
       "48    0.017198\n",
       "35    0.017126\n",
       "5     0.017046\n",
       "46    0.017016\n",
       "41    0.017016\n",
       "49    0.016999\n",
       "32    0.016970\n",
       "20    0.016847\n",
       "3     0.016837\n",
       "51    0.016792\n",
       "37    0.016788\n",
       "30    0.016750\n",
       "22    0.016727\n",
       "15    0.016714\n",
       "50    0.016712\n",
       "57    0.016684\n",
       "25    0.016612\n",
       "56    0.016570\n",
       "53    0.016496\n",
       "45    0.016490\n",
       "42    0.016268\n",
       "34    0.016268\n",
       "23    0.016177\n",
       "13    0.016122\n",
       "7     0.016067\n",
       "47    0.016043\n",
       "21    0.015910\n",
       "38    0.015787\n",
       "Name: pharmacy, dtype: float64"
      ]
     },
     "execution_count": 37,
     "metadata": {},
     "output_type": "execute_result"
    }
   ],
   "source": [
    "test_error['pharmacy'].value_counts(normalize = True)"
   ]
  },
  {
   "cell_type": "code",
   "execution_count": 46,
   "id": "f3fbf613",
   "metadata": {},
   "outputs": [
    {
     "data": {
      "text/plain": [
       "pcn      group        \n",
       "327CKV   IOEAN1DWVV3Y     0.066437\n",
       "MSCXSG   DGLGRYP          0.045907\n",
       "S76J7V6  None             0.043105\n",
       "1UQC     None             0.041986\n",
       "N098KI   6SP1DG           0.041580\n",
       "3O71UTS  None             0.037925\n",
       "KB38N    6BYJBW           0.037717\n",
       "None     YY6B1J4E8KJ3     0.037081\n",
       "         STGRDKR1J5RD     0.036302\n",
       "YFVIA    AJK5MZ25T9IA     0.032298\n",
       "DY4B     None             0.028328\n",
       "None     1CAHL            0.028026\n",
       "TPJD     None             0.026076\n",
       "None     HO8HUGL          0.025149\n",
       "WM6A     L9QZA            0.024379\n",
       "T17LNK   Z01MLD4I         0.023660\n",
       "NC7EN    None             0.023597\n",
       "None     52H8KH0F83K      0.020972\n",
       "TAZ5W    T51T6V2E8L       0.020179\n",
       "IF448    FZPLF4O6FD       0.018522\n",
       "CS8580   None             0.017784\n",
       "J5DT8    IX6P0            0.017661\n",
       "YICC41   MP3IQ            0.016712\n",
       "RB7UU    RS5RB3YA         0.015703\n",
       "REGLCC   BH2Q8B3GY2GAV    0.015409\n",
       "RM0HB    SJVO3GXUURRGO    0.013575\n",
       "T52GV    EVD4X5           0.013501\n",
       "None     I4UYEP84W3       0.011970\n",
       "         DYGBI610ZY       0.011790\n",
       "ZQPX     KZWQDIHCLLHD1    0.010982\n",
       "dtype: float64"
      ]
     },
     "execution_count": 46,
     "metadata": {},
     "output_type": "execute_result"
    }
   ],
   "source": [
    "test_error[['pcn', 'group']].value_counts(normalize = True, ascending = False)[0:30]"
   ]
  },
  {
   "cell_type": "code",
   "execution_count": 47,
   "id": "1da61895",
   "metadata": {},
   "outputs": [
    {
     "data": {
      "text/plain": [
       "bin   \n",
       "664344    0.344484\n",
       "725700    0.137958\n",
       "691847    0.121261\n",
       "322463    0.118666\n",
       "757349    0.069942\n",
       "571569    0.052587\n",
       "96934     0.047282\n",
       "539437    0.039574\n",
       "956971    0.024379\n",
       "718350    0.017661\n",
       "160389    0.015703\n",
       "756120    0.010502\n",
       "dtype: float64"
      ]
     },
     "execution_count": 47,
     "metadata": {},
     "output_type": "execute_result"
    }
   ],
   "source": [
    "test_error[['bin']].value_counts(normalize = True, ascending = False)"
   ]
  },
  {
   "cell_type": "code",
   "execution_count": 48,
   "id": "01f94275",
   "metadata": {},
   "outputs": [
    {
     "data": {
      "text/plain": [
       "bin     brand  \n",
       "664344  branded    0.286459\n",
       "725700  branded    0.123683\n",
       "322463  branded    0.106001\n",
       "691847  branded    0.101887\n",
       "757349  branded    0.063524\n",
       "664344  generic    0.058025\n",
       "571569  branded    0.046660\n",
       "96934   branded    0.044613\n",
       "539437  branded    0.034287\n",
       "691847  generic    0.019375\n",
       "956971  branded    0.019070\n",
       "718350  branded    0.017046\n",
       "160389  branded    0.014982\n",
       "725700  generic    0.014275\n",
       "322463  generic    0.012666\n",
       "756120  branded    0.009321\n",
       "757349  generic    0.006417\n",
       "571569  generic    0.005927\n",
       "956971  generic    0.005309\n",
       "539437  generic    0.005288\n",
       "96934   generic    0.002669\n",
       "756120  generic    0.001180\n",
       "160389  generic    0.000721\n",
       "718350  generic    0.000616\n",
       "dtype: float64"
      ]
     },
     "execution_count": 48,
     "metadata": {},
     "output_type": "execute_result"
    }
   ],
   "source": [
    "test_error[['bin', 'brand']].value_counts(normalize = True, ascending = False)"
   ]
  },
  {
   "cell_type": "code",
   "execution_count": 49,
   "id": "a4e3222a",
   "metadata": {},
   "outputs": [
    {
     "name": "stdout",
     "output_type": "stream",
     "text": [
      "0:\tlearn: 28.3254015\ttotal: 5.8s\tremaining: 4m 44s\n",
      "1:\tlearn: 24.7182261\ttotal: 10.9s\tremaining: 4m 22s\n",
      "2:\tlearn: 19.0288474\ttotal: 16.8s\tremaining: 4m 23s\n",
      "3:\tlearn: 18.3681132\ttotal: 22.8s\tremaining: 4m 21s\n",
      "4:\tlearn: 18.1804847\ttotal: 27.3s\tremaining: 4m 5s\n",
      "5:\tlearn: 17.1953394\ttotal: 31.9s\tremaining: 3m 53s\n",
      "6:\tlearn: 17.0301692\ttotal: 36.8s\tremaining: 3m 45s\n",
      "7:\tlearn: 16.8408782\ttotal: 41.2s\tremaining: 3m 36s\n",
      "8:\tlearn: 16.7206070\ttotal: 45.6s\tremaining: 3m 27s\n",
      "9:\tlearn: 16.6498523\ttotal: 50s\tremaining: 3m 20s\n",
      "10:\tlearn: 16.5833662\ttotal: 54.6s\tremaining: 3m 13s\n",
      "11:\tlearn: 16.5496443\ttotal: 59.1s\tremaining: 3m 7s\n",
      "12:\tlearn: 16.4262758\ttotal: 1m 4s\tremaining: 3m 2s\n",
      "13:\tlearn: 16.3997792\ttotal: 1m 8s\tremaining: 2m 56s\n",
      "14:\tlearn: 16.3664287\ttotal: 1m 13s\tremaining: 2m 51s\n",
      "15:\tlearn: 16.3275274\ttotal: 1m 17s\tremaining: 2m 45s\n",
      "16:\tlearn: 16.2932239\ttotal: 1m 22s\tremaining: 2m 40s\n",
      "17:\tlearn: 16.2601955\ttotal: 1m 27s\tremaining: 2m 35s\n",
      "18:\tlearn: 16.2385509\ttotal: 1m 31s\tremaining: 2m 29s\n",
      "19:\tlearn: 16.1874853\ttotal: 1m 36s\tremaining: 2m 24s\n",
      "20:\tlearn: 16.1523669\ttotal: 1m 40s\tremaining: 2m 19s\n",
      "21:\tlearn: 16.1286483\ttotal: 1m 45s\tremaining: 2m 14s\n",
      "22:\tlearn: 16.0998895\ttotal: 1m 50s\tremaining: 2m 9s\n",
      "23:\tlearn: 16.0716613\ttotal: 1m 54s\tremaining: 2m 4s\n",
      "24:\tlearn: 16.0503402\ttotal: 1m 59s\tremaining: 1m 59s\n",
      "25:\tlearn: 16.0368355\ttotal: 2m 3s\tremaining: 1m 54s\n",
      "26:\tlearn: 16.0299213\ttotal: 2m 8s\tremaining: 1m 49s\n",
      "27:\tlearn: 16.0172810\ttotal: 2m 12s\tremaining: 1m 44s\n",
      "28:\tlearn: 16.0064107\ttotal: 2m 17s\tremaining: 1m 39s\n",
      "29:\tlearn: 15.9927902\ttotal: 2m 22s\tremaining: 1m 34s\n",
      "30:\tlearn: 15.9878664\ttotal: 2m 26s\tremaining: 1m 29s\n",
      "31:\tlearn: 15.9791077\ttotal: 2m 31s\tremaining: 1m 24s\n",
      "32:\tlearn: 15.9717797\ttotal: 2m 35s\tremaining: 1m 20s\n",
      "33:\tlearn: 15.9655650\ttotal: 2m 40s\tremaining: 1m 15s\n",
      "34:\tlearn: 15.9502712\ttotal: 2m 44s\tremaining: 1m 10s\n",
      "35:\tlearn: 15.9388536\ttotal: 2m 49s\tremaining: 1m 5s\n",
      "36:\tlearn: 15.9304853\ttotal: 2m 53s\tremaining: 1m 1s\n",
      "37:\tlearn: 15.9244472\ttotal: 2m 58s\tremaining: 56.3s\n",
      "38:\tlearn: 15.9189745\ttotal: 3m 3s\tremaining: 51.6s\n",
      "39:\tlearn: 15.9122963\ttotal: 3m 7s\tremaining: 47s\n",
      "40:\tlearn: 15.9065756\ttotal: 3m 12s\tremaining: 42.2s\n",
      "41:\tlearn: 15.8983386\ttotal: 3m 16s\tremaining: 37.5s\n",
      "42:\tlearn: 15.8982666\ttotal: 3m 21s\tremaining: 32.8s\n",
      "43:\tlearn: 15.8932401\ttotal: 3m 25s\tremaining: 28.1s\n",
      "44:\tlearn: 15.8806089\ttotal: 3m 30s\tremaining: 23.4s\n",
      "45:\tlearn: 15.8650694\ttotal: 3m 34s\tremaining: 18.7s\n",
      "46:\tlearn: 15.8528594\ttotal: 3m 39s\tremaining: 14s\n",
      "47:\tlearn: 15.8479248\ttotal: 3m 44s\tremaining: 9.34s\n",
      "48:\tlearn: 15.8451078\ttotal: 3m 48s\tremaining: 4.67s\n",
      "49:\tlearn: 15.8398489\ttotal: 3m 53s\tremaining: 0us\n"
     ]
    },
    {
     "data": {
      "text/plain": [
       "<catboost.core.CatBoostRegressor at 0x2422e12fd30>"
      ]
     },
     "execution_count": 49,
     "metadata": {},
     "output_type": "execute_result"
    }
   ],
   "source": [
    "model = CatBoostRegressor(iterations =50, \n",
    "                         depth = 8,\n",
    "                         learning_rate=1,\n",
    "                         loss_function = 'RMSE')\n",
    "model.fit(train_pool)"
   ]
  },
  {
   "cell_type": "code",
   "execution_count": 50,
   "id": "303982ac",
   "metadata": {},
   "outputs": [
    {
     "data": {
      "text/plain": [
       "count    2.302402e+06\n",
       "mean    -2.145987e-02\n",
       "std      1.561128e+01\n",
       "min     -5.000846e+02\n",
       "25%     -1.074372e+00\n",
       "50%      2.394291e-02\n",
       "75%      1.253501e+00\n",
       "max      2.577495e+02\n",
       "Name: patient_pay, dtype: float64"
      ]
     },
     "execution_count": 50,
     "metadata": {},
     "output_type": "execute_result"
    }
   ],
   "source": [
    "preds2=model.predict(test_data)\n",
    "diff2 = preds2 - test_label\n",
    "diff2.describe()"
   ]
  },
  {
   "cell_type": "code",
   "execution_count": 51,
   "id": "21862deb",
   "metadata": {},
   "outputs": [
    {
     "data": {
      "text/plain": [
       "6730287      95.846122\n",
       "8656006      61.352868\n",
       "5825179      79.588860\n",
       "12299855     55.114329\n",
       "11320073     56.837509\n",
       "               ...    \n",
       "8326118     103.742111\n",
       "7448794      58.770973\n",
       "9619601      77.435419\n",
       "12300749     83.863762\n",
       "6297008     104.589450\n",
       "Name: patient_pay, Length: 16738, dtype: float64"
      ]
     },
     "execution_count": 51,
     "metadata": {},
     "output_type": "execute_result"
    }
   ],
   "source": [
    "diff2[diff2>50]"
   ]
  },
  {
   "cell_type": "code",
   "execution_count": null,
   "id": "179945b8",
   "metadata": {},
   "outputs": [],
   "source": []
  }
 ],
 "metadata": {
  "kernelspec": {
   "display_name": "Python 3 (ipykernel)",
   "language": "python",
   "name": "python3"
  },
  "language_info": {
   "codemirror_mode": {
    "name": "ipython",
    "version": 3
   },
   "file_extension": ".py",
   "mimetype": "text/x-python",
   "name": "python",
   "nbconvert_exporter": "python",
   "pygments_lexer": "ipython3",
   "version": "3.9.13"
  }
 },
 "nbformat": 4,
 "nbformat_minor": 5
}
