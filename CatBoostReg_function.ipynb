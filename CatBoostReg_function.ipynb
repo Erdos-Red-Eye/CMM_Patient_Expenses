{
 "cells": [
  {
   "cell_type": "code",
   "execution_count": null,
   "id": "66f89213",
   "metadata": {
    "scrolled": true
   },
   "outputs": [],
   "source": [
    "## "
   ]
  },
  {
   "cell_type": "code",
   "execution_count": 1,
   "id": "827a70d1",
   "metadata": {
    "scrolled": true
   },
   "outputs": [],
   "source": [
    "import numpy as np\n",
    "import pandas as pd\n",
    "\n",
    "from catboost import Pool, CatBoostRegressor\n",
    "\n",
    "from sklearn.metrics import mean_squared_error, r2_score, mean_absolute_error, mean_absolute_percentage_error\n",
    "from sklearn.linear_model import Ridge\n",
    "from sklearn.model_selection import train_test_split, KFold\n",
    "from sklearn.ensemble import RandomForestRegressor, GradientBoostingRegressor"
   ]
  },
  {
   "cell_type": "code",
   "execution_count": 2,
   "id": "3d6cff11",
   "metadata": {
    "scrolled": true
   },
   "outputs": [],
   "source": [
    "df = pd.read_csv(\"pharmacy_new.csv\")\n",
    "\n",
    "## Use the following if you use the original dataframe\n",
    "## df = pd.read_csv(\"pharmacy_tx.csv\")"
   ]
  },
  {
   "cell_type": "code",
   "execution_count": 3,
   "id": "03373bcc",
   "metadata": {
    "scrolled": true
   },
   "outputs": [],
   "source": [
    "df =df.drop(columns=['tx_date', 'diagnosis_letter', 'diagnosis_number','Unnamed: 0'])"
   ]
  },
  {
   "cell_type": "code",
   "execution_count": 4,
   "id": "112869ed",
   "metadata": {
    "scrolled": true
   },
   "outputs": [],
   "source": [
    "df = df[df['rejected'] == False]\n",
    "df = df.drop(columns='rejected')"
   ]
  },
  {
   "cell_type": "code",
   "execution_count": 5,
   "id": "3b08d5bd",
   "metadata": {
    "scrolled": true
   },
   "outputs": [],
   "source": [
    "df['insurance'] = df['pcn'].astype('str')+df['group'].astype('str')\n",
    "df = df.drop(columns=['pcn','group'])"
   ]
  },
  {
   "cell_type": "code",
   "execution_count": 6,
   "id": "d6432307",
   "metadata": {
    "scrolled": true
   },
   "outputs": [],
   "source": [
    "def drugtrain(drug_name, num_iter, dep, lrate, lfun):\n",
    "    # drug_name : name of the drug\n",
    "    # num_iter : number of iterations\n",
    "    # dep: depth\n",
    "    # lrate : learning rate\n",
    "    # lfun : lost function -- https://catboost.ai/en/docs/concepts/loss-functions-regression\n",
    "    \n",
    "    df_drug = df[df['drug_name']==drug_name]\n",
    "    df_drug = df.drop(columns='drug_name')\n",
    "    \n",
    "    train_drug, test_drug = train_test_split(df_drug, test_size=0.2, shuffle=True, random_state=42)\n",
    "    print('Just train_set_split')\n",
    "    \n",
    "    col = ['pharmacy', 'diagnosis', 'brand', 'month', 'insurance']\n",
    "    \n",
    "    train_data_drug = train_drug[col]\n",
    "    train_pool_drug = Pool(train_data_drug, train_drug['patient_pay'], cat_features = list(range(5)))\n",
    "    \n",
    "    print('Just finish pool')\n",
    "    model_drug = CatBoostRegressor(iterations =num_iter, \n",
    "                         depth = dep,\n",
    "                         learning_rate=lrate,\n",
    "                         loss_function = lfun)\n",
    "    print('Begin training')\n",
    "    model_drug.fit(train_pool_drug)\n",
    "    \n",
    "    print('Finish training')\n",
    "    test_data_drug = test_drug[col]\n",
    "    test_label_drug = test_drug['patient_pay']\n",
    "    \n",
    "    preds_drug=model_drug.predict(test_data_drug)\n",
    "    test_drug['pred '] = preds_drug\n",
    "    \n",
    "    r2 = r2_score(preds_drug,test_label_drug)\n",
    "    mean_abs = mean_absolute_error(preds_drug,test_label_drug)\n",
    "    mean_sqr = mean_squared_error(preds_drug,test_label_drug)\n",
    "    mean_perc = mean_absolute_percentage_error(preds_drug,test_label_drug)\n",
    "    \n",
    "    print(r2, mean_abs, np.sqrt(mean_sqr), mean_perc*100)\n",
    "    \n",
    "    return test_drug, r2, mean_abs, np.sqrt(mean_sqr), mean_perc*100"
   ]
  },
  {
   "cell_type": "code",
   "execution_count": 7,
   "id": "02e571a1",
   "metadata": {
    "scrolled": true
   },
   "outputs": [],
   "source": [
    "def train(dframe, cols, num_iter, dep, lrate, lfun):\n",
    "\n",
    "    # drug_name : name of the drug\n",
    "    # cols : columns to train, e.g. cols = ['pharmacy', 'diagnosis', 'brand', 'month', 'insurance']\n",
    "    # num_iter : number of iterations\n",
    "    # dep: depth\n",
    "    # lrate : learning rate\n",
    "    # lfun : lost function -- https://catboost.ai/en/docs/concepts/loss-functions-regression\n",
    "    \n",
    "    c = len(cols) \n",
    "    train, test = train_test_split(dframe, test_size=0.2, shuffle=True, random_state=42)\n",
    "    print('Just train_set_split')\n",
    "    \n",
    "    train_data = train[cols]\n",
    "    train_pool = Pool(train_data, train['patient_pay'], cat_features = list(range(c)))\n",
    "    \n",
    "    print('Just finish pool')\n",
    "    model = CatBoostRegressor(iterations =num_iter, \n",
    "                         depth = dep,\n",
    "                         learning_rate=lrate,\n",
    "                         loss_function = lfun)\n",
    "    print('Begin training')\n",
    "    model.fit(train_pool)\n",
    "    \n",
    "    print('Finish training')\n",
    "    test_data = test[cols]\n",
    "    test_label = test['patient_pay']\n",
    "    \n",
    "    preds=model.predict(test_data)\n",
    "    test['pred '] = preds\n",
    "    \n",
    "    r2 = r2_score(preds,test_label)\n",
    "    mean_abs = mean_absolute_error(preds,test_label)\n",
    "    mean_sqr = mean_squared_error(preds,test_label)\n",
    "    mean_perc = mean_absolute_percentage_error(preds,test_label)\n",
    "    \n",
    "    print(r2, mean_abs, np.sqrt(mean_sqr), mean_perc*100)\n",
    "    \n",
    "    return test, r2, mean_abs, np.sqrt(mean_sqr), mean_perc*100"
   ]
  },
  {
   "cell_type": "code",
   "execution_count": null,
   "id": "13917873",
   "metadata": {},
   "outputs": [],
   "source": [
    "### Using the drugtrain and the train functions"
   ]
  },
  {
   "cell_type": "code",
   "execution_count": 8,
   "id": "64773b10",
   "metadata": {},
   "outputs": [
    {
     "name": "stdout",
     "output_type": "stream",
     "text": [
      "Just train_set_split\n",
      "Just finish pool\n",
      "Begin training\n",
      "0:\tlearn: 33.9768314\ttotal: 1.81s\tremaining: 1m 28s\n",
      "1:\tlearn: 29.5373851\ttotal: 3.45s\tremaining: 1m 22s\n",
      "2:\tlearn: 26.7744212\ttotal: 4.66s\tremaining: 1m 13s\n",
      "3:\tlearn: 26.0203618\ttotal: 5.87s\tremaining: 1m 7s\n",
      "4:\tlearn: 25.7561385\ttotal: 7.03s\tremaining: 1m 3s\n",
      "5:\tlearn: 25.6159072\ttotal: 8.16s\tremaining: 59.8s\n",
      "6:\tlearn: 25.5353511\ttotal: 9.29s\tremaining: 57.1s\n",
      "7:\tlearn: 25.4911685\ttotal: 10.5s\tremaining: 55.3s\n",
      "8:\tlearn: 25.4322386\ttotal: 11.7s\tremaining: 53.5s\n",
      "9:\tlearn: 25.3961622\ttotal: 13.1s\tremaining: 52.5s\n",
      "10:\tlearn: 25.3650837\ttotal: 14.3s\tremaining: 50.7s\n",
      "11:\tlearn: 25.3556736\ttotal: 15.4s\tremaining: 48.8s\n",
      "12:\tlearn: 25.3317219\ttotal: 16.7s\tremaining: 47.6s\n",
      "13:\tlearn: 25.3131840\ttotal: 17.8s\tremaining: 45.8s\n",
      "14:\tlearn: 25.2984047\ttotal: 19s\tremaining: 44.3s\n",
      "15:\tlearn: 25.2894040\ttotal: 20.2s\tremaining: 42.9s\n",
      "16:\tlearn: 25.2763084\ttotal: 21.7s\tremaining: 42.2s\n",
      "17:\tlearn: 25.2711757\ttotal: 23s\tremaining: 41s\n",
      "18:\tlearn: 25.2656167\ttotal: 24.3s\tremaining: 39.6s\n",
      "19:\tlearn: 25.2553533\ttotal: 25.5s\tremaining: 38.3s\n",
      "20:\tlearn: 25.2471544\ttotal: 26.8s\tremaining: 37s\n",
      "21:\tlearn: 25.2414066\ttotal: 28.1s\tremaining: 35.7s\n",
      "22:\tlearn: 25.2377250\ttotal: 29.3s\tremaining: 34.4s\n",
      "23:\tlearn: 25.2358864\ttotal: 30.5s\tremaining: 33s\n",
      "24:\tlearn: 25.2311085\ttotal: 31.7s\tremaining: 31.7s\n",
      "25:\tlearn: 25.2286283\ttotal: 32.9s\tremaining: 30.4s\n",
      "26:\tlearn: 25.2254309\ttotal: 34.1s\tremaining: 29.1s\n",
      "27:\tlearn: 25.2242248\ttotal: 35.3s\tremaining: 27.8s\n",
      "28:\tlearn: 25.2214769\ttotal: 36.5s\tremaining: 26.5s\n",
      "29:\tlearn: 25.2189536\ttotal: 37.8s\tremaining: 25.2s\n",
      "30:\tlearn: 25.2171053\ttotal: 39s\tremaining: 23.9s\n",
      "31:\tlearn: 25.2134202\ttotal: 40.2s\tremaining: 22.6s\n",
      "32:\tlearn: 25.2120465\ttotal: 41.3s\tremaining: 21.3s\n",
      "33:\tlearn: 25.2116955\ttotal: 42.6s\tremaining: 20s\n",
      "34:\tlearn: 25.2091280\ttotal: 44s\tremaining: 18.9s\n",
      "35:\tlearn: 25.2073044\ttotal: 45.5s\tremaining: 17.7s\n",
      "36:\tlearn: 25.2053574\ttotal: 46.8s\tremaining: 16.5s\n",
      "37:\tlearn: 25.2044821\ttotal: 48.1s\tremaining: 15.2s\n",
      "38:\tlearn: 25.2029751\ttotal: 49.5s\tremaining: 14s\n",
      "39:\tlearn: 25.2024236\ttotal: 50.8s\tremaining: 12.7s\n",
      "40:\tlearn: 25.2001139\ttotal: 52s\tremaining: 11.4s\n",
      "41:\tlearn: 25.1979576\ttotal: 53.3s\tremaining: 10.2s\n",
      "42:\tlearn: 25.1978700\ttotal: 54.6s\tremaining: 8.89s\n",
      "43:\tlearn: 25.1958313\ttotal: 55.9s\tremaining: 7.62s\n",
      "44:\tlearn: 25.1940746\ttotal: 57.2s\tremaining: 6.36s\n",
      "45:\tlearn: 25.1919951\ttotal: 58.5s\tremaining: 5.09s\n",
      "46:\tlearn: 25.1901759\ttotal: 59.9s\tremaining: 3.82s\n",
      "47:\tlearn: 25.1882451\ttotal: 1m 1s\tremaining: 2.55s\n",
      "48:\tlearn: 25.1873182\ttotal: 1m 2s\tremaining: 1.28s\n",
      "49:\tlearn: 25.1869554\ttotal: 1m 3s\tremaining: 0us\n",
      "Finish training\n",
      "0.4375700605694538 11.571766049404886 25.06383756658607 35.36040503088395\n"
     ]
    }
   ],
   "source": [
    "test_tan, r2_tan , mean_abs_tan, Msq_tan, mean_perc_tan = drugtrain('tanoclolol', 50, 8, .5, 'RMSE')"
   ]
  },
  {
   "cell_type": "code",
   "execution_count": 9,
   "id": "c4fd1c43",
   "metadata": {},
   "outputs": [
    {
     "data": {
      "text/plain": [
       "(0.4375700605694538, 11.571766049404886, 25.06383756658607, 35.36040503088395)"
      ]
     },
     "execution_count": 9,
     "metadata": {},
     "output_type": "execute_result"
    }
   ],
   "source": [
    "r2_tan , mean_abs_tan, Msq_tan, mean_perc_tan"
   ]
  },
  {
   "cell_type": "code",
   "execution_count": 10,
   "id": "11ce8fef",
   "metadata": {},
   "outputs": [
    {
     "name": "stdout",
     "output_type": "stream",
     "text": [
      "Just train_set_split\n",
      "Just finish pool\n",
      "Begin training\n",
      "0:\tlearn: 74.2099681\ttotal: 33.4ms\tremaining: 3.31s\n",
      "1:\tlearn: 72.4223820\ttotal: 68.8ms\tremaining: 3.37s\n",
      "2:\tlearn: 70.7691279\ttotal: 107ms\tremaining: 3.46s\n",
      "3:\tlearn: 69.2492779\ttotal: 146ms\tremaining: 3.51s\n",
      "4:\tlearn: 67.8651652\ttotal: 171ms\tremaining: 3.24s\n",
      "5:\tlearn: 66.5818957\ttotal: 194ms\tremaining: 3.04s\n",
      "6:\tlearn: 65.3847255\ttotal: 247ms\tremaining: 3.28s\n",
      "7:\tlearn: 64.3039732\ttotal: 262ms\tremaining: 3.02s\n",
      "8:\tlearn: 63.3085763\ttotal: 276ms\tremaining: 2.79s\n",
      "9:\tlearn: 62.3874965\ttotal: 308ms\tremaining: 2.77s\n",
      "10:\tlearn: 61.5441544\ttotal: 337ms\tremaining: 2.73s\n",
      "11:\tlearn: 60.7752273\ttotal: 367ms\tremaining: 2.69s\n",
      "12:\tlearn: 60.0807196\ttotal: 395ms\tremaining: 2.65s\n",
      "13:\tlearn: 59.4438212\ttotal: 429ms\tremaining: 2.64s\n",
      "14:\tlearn: 58.8529169\ttotal: 474ms\tremaining: 2.69s\n",
      "15:\tlearn: 58.3189316\ttotal: 501ms\tremaining: 2.63s\n",
      "16:\tlearn: 57.8398802\ttotal: 528ms\tremaining: 2.58s\n",
      "17:\tlearn: 57.4148353\ttotal: 547ms\tremaining: 2.49s\n",
      "18:\tlearn: 57.0174151\ttotal: 559ms\tremaining: 2.38s\n",
      "19:\tlearn: 55.5956560\ttotal: 585ms\tremaining: 2.34s\n",
      "20:\tlearn: 54.2599275\ttotal: 615ms\tremaining: 2.31s\n",
      "21:\tlearn: 52.9923010\ttotal: 651ms\tremaining: 2.31s\n",
      "22:\tlearn: 51.8009510\ttotal: 687ms\tremaining: 2.3s\n",
      "23:\tlearn: 50.7555493\ttotal: 715ms\tremaining: 2.26s\n",
      "24:\tlearn: 49.7421999\ttotal: 761ms\tremaining: 2.28s\n",
      "25:\tlearn: 48.8437910\ttotal: 796ms\tremaining: 2.27s\n",
      "26:\tlearn: 47.9914262\ttotal: 842ms\tremaining: 2.28s\n",
      "27:\tlearn: 47.2318825\ttotal: 893ms\tremaining: 2.29s\n",
      "28:\tlearn: 46.4690309\ttotal: 928ms\tremaining: 2.27s\n",
      "29:\tlearn: 45.8143291\ttotal: 962ms\tremaining: 2.25s\n",
      "30:\tlearn: 45.1551340\ttotal: 1s\tremaining: 2.23s\n",
      "31:\tlearn: 44.6274230\ttotal: 1.05s\tremaining: 2.24s\n",
      "32:\tlearn: 44.1063314\ttotal: 1.1s\tremaining: 2.23s\n",
      "33:\tlearn: 43.5968104\ttotal: 1.13s\tremaining: 2.19s\n",
      "34:\tlearn: 43.1803013\ttotal: 1.17s\tremaining: 2.17s\n",
      "35:\tlearn: 42.7984173\ttotal: 1.2s\tremaining: 2.14s\n",
      "36:\tlearn: 42.4318605\ttotal: 1.24s\tremaining: 2.11s\n",
      "37:\tlearn: 42.2070025\ttotal: 1.28s\tremaining: 2.09s\n",
      "38:\tlearn: 41.8568056\ttotal: 1.32s\tremaining: 2.07s\n",
      "39:\tlearn: 41.5835743\ttotal: 1.36s\tremaining: 2.04s\n",
      "40:\tlearn: 41.3257166\ttotal: 1.39s\tremaining: 2.01s\n",
      "41:\tlearn: 41.0848049\ttotal: 1.43s\tremaining: 1.97s\n",
      "42:\tlearn: 40.9766571\ttotal: 1.44s\tremaining: 1.91s\n",
      "43:\tlearn: 40.7369011\ttotal: 1.48s\tremaining: 1.88s\n",
      "44:\tlearn: 40.5828975\ttotal: 1.5s\tremaining: 1.83s\n",
      "45:\tlearn: 40.3776717\ttotal: 1.54s\tremaining: 1.8s\n",
      "46:\tlearn: 40.2294802\ttotal: 1.57s\tremaining: 1.77s\n",
      "47:\tlearn: 40.0718204\ttotal: 1.6s\tremaining: 1.74s\n",
      "48:\tlearn: 39.9713813\ttotal: 1.64s\tremaining: 1.7s\n",
      "49:\tlearn: 39.8355162\ttotal: 1.67s\tremaining: 1.67s\n",
      "50:\tlearn: 39.6974740\ttotal: 1.71s\tremaining: 1.64s\n",
      "51:\tlearn: 39.6088967\ttotal: 1.75s\tremaining: 1.61s\n",
      "52:\tlearn: 39.5147935\ttotal: 1.77s\tremaining: 1.57s\n",
      "53:\tlearn: 39.4436227\ttotal: 1.82s\tremaining: 1.55s\n",
      "54:\tlearn: 39.3959405\ttotal: 1.87s\tremaining: 1.53s\n",
      "55:\tlearn: 39.3129154\ttotal: 1.91s\tremaining: 1.5s\n",
      "56:\tlearn: 39.2853050\ttotal: 1.93s\tremaining: 1.45s\n",
      "57:\tlearn: 39.2198929\ttotal: 1.96s\tremaining: 1.42s\n",
      "58:\tlearn: 39.1854117\ttotal: 2s\tremaining: 1.39s\n",
      "59:\tlearn: 39.1313767\ttotal: 2.03s\tremaining: 1.35s\n",
      "60:\tlearn: 39.0783744\ttotal: 2.06s\tremaining: 1.31s\n",
      "61:\tlearn: 39.0370150\ttotal: 2.1s\tremaining: 1.28s\n",
      "62:\tlearn: 38.9707183\ttotal: 2.14s\tremaining: 1.26s\n",
      "63:\tlearn: 38.9275076\ttotal: 2.17s\tremaining: 1.22s\n",
      "64:\tlearn: 38.8943004\ttotal: 2.21s\tremaining: 1.19s\n",
      "65:\tlearn: 38.8504641\ttotal: 2.25s\tremaining: 1.16s\n",
      "66:\tlearn: 38.8132664\ttotal: 2.3s\tremaining: 1.13s\n",
      "67:\tlearn: 38.7768031\ttotal: 2.34s\tremaining: 1.1s\n",
      "68:\tlearn: 38.7665938\ttotal: 2.36s\tremaining: 1.06s\n",
      "69:\tlearn: 38.7197157\ttotal: 2.41s\tremaining: 1.03s\n",
      "70:\tlearn: 38.6983529\ttotal: 2.44s\tremaining: 996ms\n",
      "71:\tlearn: 38.6897378\ttotal: 2.47s\tremaining: 959ms\n",
      "72:\tlearn: 38.6830120\ttotal: 2.48s\tremaining: 919ms\n",
      "73:\tlearn: 38.6443938\ttotal: 2.52s\tremaining: 886ms\n",
      "74:\tlearn: 38.5740296\ttotal: 2.56s\tremaining: 853ms\n",
      "75:\tlearn: 38.4712768\ttotal: 2.6s\tremaining: 820ms\n",
      "76:\tlearn: 38.3842355\ttotal: 2.64s\tremaining: 789ms\n",
      "77:\tlearn: 38.3093993\ttotal: 2.69s\tremaining: 760ms\n",
      "78:\tlearn: 38.2393746\ttotal: 2.73s\tremaining: 726ms\n",
      "79:\tlearn: 38.1825281\ttotal: 2.76s\tremaining: 691ms\n",
      "80:\tlearn: 38.1378691\ttotal: 2.81s\tremaining: 659ms\n",
      "81:\tlearn: 38.0311747\ttotal: 2.85s\tremaining: 625ms\n",
      "82:\tlearn: 38.0052367\ttotal: 2.89s\tremaining: 593ms\n",
      "83:\tlearn: 37.9585094\ttotal: 2.93s\tremaining: 558ms\n",
      "84:\tlearn: 37.9230559\ttotal: 2.96s\tremaining: 523ms\n",
      "85:\tlearn: 37.9050007\ttotal: 3.01s\tremaining: 490ms\n",
      "86:\tlearn: 37.8375411\ttotal: 3.06s\tremaining: 458ms\n",
      "87:\tlearn: 37.7758589\ttotal: 3.1s\tremaining: 423ms\n",
      "88:\tlearn: 37.6801913\ttotal: 3.14s\tremaining: 388ms\n",
      "89:\tlearn: 37.6791264\ttotal: 3.16s\tremaining: 352ms\n",
      "90:\tlearn: 37.6496179\ttotal: 3.21s\tremaining: 317ms\n",
      "91:\tlearn: 37.6395078\ttotal: 3.25s\tremaining: 283ms\n",
      "92:\tlearn: 37.5746587\ttotal: 3.3s\tremaining: 248ms\n",
      "93:\tlearn: 37.5188135\ttotal: 3.34s\tremaining: 213ms\n",
      "94:\tlearn: 37.5036050\ttotal: 3.38s\tremaining: 178ms\n",
      "95:\tlearn: 37.4921865\ttotal: 3.42s\tremaining: 142ms\n",
      "96:\tlearn: 37.4682602\ttotal: 3.46s\tremaining: 107ms\n",
      "97:\tlearn: 37.4677957\ttotal: 3.48s\tremaining: 71ms\n",
      "98:\tlearn: 37.4629043\ttotal: 3.51s\tremaining: 35.5ms\n",
      "99:\tlearn: 37.4272482\ttotal: 3.55s\tremaining: 0us\n",
      "Finish training\n",
      "0.666512208077617 24.649357382934735 37.3570427519452 5.770034605996836\n"
     ]
    }
   ],
   "source": [
    "df_mone_exp = df[(df['drug_name']=='monemodiase') &(df['patient_pay']>250)]\n",
    "cols = ['pharmacy', 'diagnosis', 'brand', 'month', 'insurance']\n",
    "\n",
    "test_mone_exp, r2_mone_exp , mean_abs_mone_exp, Msq_mone_exp, mean_mone_exp_mone_exp = train(df_mone_exp, cols, 100, 8, .05, 'RMSE')"
   ]
  },
  {
   "cell_type": "code",
   "execution_count": null,
   "id": "6001616d",
   "metadata": {},
   "outputs": [],
   "source": []
  },
  {
   "cell_type": "code",
   "execution_count": null,
   "id": "5fba251d",
   "metadata": {},
   "outputs": [],
   "source": []
  },
  {
   "cell_type": "code",
   "execution_count": null,
   "id": "092e4062",
   "metadata": {},
   "outputs": [],
   "source": []
  },
  {
   "cell_type": "code",
   "execution_count": null,
   "id": "0ab0a7c5",
   "metadata": {},
   "outputs": [],
   "source": []
  },
  {
   "cell_type": "code",
   "execution_count": null,
   "id": "5d93e453",
   "metadata": {},
   "outputs": [],
   "source": []
  },
  {
   "cell_type": "code",
   "execution_count": null,
   "id": "d575a4bf",
   "metadata": {},
   "outputs": [],
   "source": []
  }
 ],
 "metadata": {
  "kernelspec": {
   "display_name": "Python 3 (ipykernel)",
   "language": "python",
   "name": "python3"
  },
  "language_info": {
   "codemirror_mode": {
    "name": "ipython",
    "version": 3
   },
   "file_extension": ".py",
   "mimetype": "text/x-python",
   "name": "python",
   "nbconvert_exporter": "python",
   "pygments_lexer": "ipython3",
   "version": "3.9.13"
  }
 },
 "nbformat": 4,
 "nbformat_minor": 5
}
