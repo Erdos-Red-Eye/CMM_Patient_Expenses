{
 "cells": [
  {
   "cell_type": "code",
   "execution_count": 1,
   "id": "c52c8caf",
   "metadata": {},
   "outputs": [],
   "source": [
    "import numpy as np\n",
    "import pandas as pd\n",
    "\n",
    "from catboost import Pool, CatBoostClassifier\n",
    "\n",
    "import random"
   ]
  },
  {
   "cell_type": "code",
   "execution_count": 2,
   "id": "b885e332",
   "metadata": {},
   "outputs": [],
   "source": [
    "df = pd.read_csv(\"pharmacy_new.csv\")"
   ]
  },
  {
   "cell_type": "code",
   "execution_count": 3,
   "id": "a650f058",
   "metadata": {},
   "outputs": [],
   "source": [
    "df =df.drop(columns=['tx_date', 'drug', 'diagnosis_letter', 'diagnosis_number','Unnamed: 0'])\n",
    "dfs = df.sample(frac=0.1, replace=True, random_state=1)\n",
    "dfs = dfs[dfs['rejected'] == False]\n",
    "dfs['pcn'].fillna('gp_'+df['group'], inplace=True)\n",
    "dfs =dfs.drop(columns=['group'])\n",
    "dfs['pcn'].fillna(value = 'None', inplace = True)"
   ]
  },
  {
   "cell_type": "code",
   "execution_count": 4,
   "id": "8f3f7921",
   "metadata": {},
   "outputs": [],
   "source": [
    "train_data = dfs.drop(columns=['patient_pay'])\n",
    "train_label = dfs['patient_pay']"
   ]
  },
  {
   "cell_type": "code",
   "execution_count": 5,
   "id": "1c9701e1",
   "metadata": {},
   "outputs": [],
   "source": [
    "train_pool = Pool(train_data, train_label, cat_features = [0,1,2,3,4,5,6,7])"
   ]
  },
  {
   "cell_type": "code",
   "execution_count": 8,
   "id": "ae67c9b7",
   "metadata": {},
   "outputs": [],
   "source": [
    "from catboost import CatBoost"
   ]
  },
  {
   "cell_type": "code",
   "execution_count": 17,
   "id": "c4d6bef1",
   "metadata": {},
   "outputs": [
    {
     "name": "stdout",
     "output_type": "stream",
     "text": [
      "Learning rate set to 0.5\n",
      "0:\tlearn: 32.1709810\ttotal: 634ms\tremaining: 1m 2s\n",
      "1:\tlearn: 26.6267942\ttotal: 1.28s\tremaining: 1m 2s\n",
      "2:\tlearn: 22.9317835\ttotal: 1.82s\tremaining: 58.9s\n",
      "3:\tlearn: 20.1429998\ttotal: 2.28s\tremaining: 54.7s\n",
      "4:\tlearn: 19.2651180\ttotal: 2.7s\tremaining: 51.4s\n",
      "5:\tlearn: 18.9330006\ttotal: 3.12s\tremaining: 48.9s\n",
      "6:\tlearn: 18.6730749\ttotal: 3.55s\tremaining: 47.1s\n",
      "7:\tlearn: 18.4408260\ttotal: 4.02s\tremaining: 46.3s\n",
      "8:\tlearn: 18.3569912\ttotal: 4.46s\tremaining: 45.1s\n",
      "9:\tlearn: 17.6752744\ttotal: 4.89s\tremaining: 44s\n",
      "10:\tlearn: 17.5606577\ttotal: 5.38s\tremaining: 43.5s\n",
      "11:\tlearn: 17.4070552\ttotal: 5.8s\tremaining: 42.6s\n",
      "12:\tlearn: 17.2502040\ttotal: 6.23s\tremaining: 41.7s\n",
      "13:\tlearn: 17.2007264\ttotal: 6.73s\tremaining: 41.3s\n",
      "14:\tlearn: 17.1401384\ttotal: 7.16s\tremaining: 40.6s\n",
      "15:\tlearn: 17.0850379\ttotal: 7.6s\tremaining: 39.9s\n",
      "16:\tlearn: 17.0501735\ttotal: 8.05s\tremaining: 39.3s\n",
      "17:\tlearn: 17.0029386\ttotal: 8.48s\tremaining: 38.6s\n",
      "18:\tlearn: 16.9436879\ttotal: 8.89s\tremaining: 37.9s\n",
      "19:\tlearn: 16.8970713\ttotal: 9.31s\tremaining: 37.3s\n",
      "20:\tlearn: 16.8620864\ttotal: 9.75s\tremaining: 36.7s\n",
      "21:\tlearn: 16.8474081\ttotal: 10.2s\tremaining: 36.1s\n",
      "22:\tlearn: 16.8064311\ttotal: 10.6s\tremaining: 35.5s\n",
      "23:\tlearn: 16.7920556\ttotal: 11.1s\tremaining: 35s\n",
      "24:\tlearn: 16.7678521\ttotal: 11.5s\tremaining: 34.5s\n",
      "25:\tlearn: 16.7353441\ttotal: 11.9s\tremaining: 34s\n",
      "26:\tlearn: 16.6581862\ttotal: 12.4s\tremaining: 33.5s\n",
      "27:\tlearn: 16.6257215\ttotal: 12.8s\tremaining: 32.9s\n",
      "28:\tlearn: 16.5832401\ttotal: 13.3s\tremaining: 32.5s\n",
      "29:\tlearn: 16.5485717\ttotal: 13.7s\tremaining: 31.9s\n",
      "30:\tlearn: 16.5354022\ttotal: 14.1s\tremaining: 31.4s\n",
      "31:\tlearn: 16.5227225\ttotal: 14.6s\tremaining: 30.9s\n",
      "32:\tlearn: 16.5043837\ttotal: 15s\tremaining: 30.5s\n",
      "33:\tlearn: 16.4853209\ttotal: 15.5s\tremaining: 30.1s\n",
      "34:\tlearn: 16.4546582\ttotal: 16s\tremaining: 29.6s\n",
      "35:\tlearn: 16.4489761\ttotal: 16.4s\tremaining: 29.2s\n",
      "36:\tlearn: 16.4392417\ttotal: 16.8s\tremaining: 28.7s\n",
      "37:\tlearn: 16.4283443\ttotal: 17.3s\tremaining: 28.2s\n",
      "38:\tlearn: 16.4221486\ttotal: 17.7s\tremaining: 27.7s\n",
      "39:\tlearn: 16.3941950\ttotal: 18.2s\tremaining: 27.2s\n",
      "40:\tlearn: 16.3792423\ttotal: 18.6s\tremaining: 26.8s\n",
      "41:\tlearn: 16.3665685\ttotal: 19.1s\tremaining: 26.4s\n",
      "42:\tlearn: 16.3612913\ttotal: 19.6s\tremaining: 25.9s\n",
      "43:\tlearn: 16.3482448\ttotal: 20s\tremaining: 25.4s\n",
      "44:\tlearn: 16.3415526\ttotal: 20.4s\tremaining: 25s\n",
      "45:\tlearn: 16.3328607\ttotal: 20.9s\tremaining: 24.5s\n",
      "46:\tlearn: 16.3159333\ttotal: 21.3s\tremaining: 24s\n",
      "47:\tlearn: 16.2985468\ttotal: 21.8s\tremaining: 23.6s\n",
      "48:\tlearn: 16.2958462\ttotal: 22.2s\tremaining: 23.1s\n",
      "49:\tlearn: 16.2886493\ttotal: 22.6s\tremaining: 22.6s\n",
      "50:\tlearn: 16.2790471\ttotal: 23.1s\tremaining: 22.2s\n",
      "51:\tlearn: 16.2748032\ttotal: 23.5s\tremaining: 21.7s\n",
      "52:\tlearn: 16.2723164\ttotal: 24s\tremaining: 21.3s\n",
      "53:\tlearn: 16.2670296\ttotal: 24.4s\tremaining: 20.8s\n",
      "54:\tlearn: 16.2612416\ttotal: 24.9s\tremaining: 20.3s\n",
      "55:\tlearn: 16.2531244\ttotal: 25.3s\tremaining: 19.9s\n",
      "56:\tlearn: 16.2479391\ttotal: 25.7s\tremaining: 19.4s\n",
      "57:\tlearn: 16.2454211\ttotal: 26.2s\tremaining: 19s\n",
      "58:\tlearn: 16.2371048\ttotal: 26.6s\tremaining: 18.5s\n",
      "59:\tlearn: 16.2350870\ttotal: 27.1s\tremaining: 18s\n",
      "60:\tlearn: 16.2252274\ttotal: 27.5s\tremaining: 17.6s\n",
      "61:\tlearn: 16.2182678\ttotal: 27.9s\tremaining: 17.1s\n",
      "62:\tlearn: 16.2111741\ttotal: 28.4s\tremaining: 16.7s\n",
      "63:\tlearn: 16.2060420\ttotal: 28.9s\tremaining: 16.2s\n",
      "64:\tlearn: 16.2015486\ttotal: 29.3s\tremaining: 15.8s\n",
      "65:\tlearn: 16.1978684\ttotal: 29.8s\tremaining: 15.3s\n",
      "66:\tlearn: 16.1925308\ttotal: 30.2s\tremaining: 14.9s\n",
      "67:\tlearn: 16.1872192\ttotal: 30.7s\tremaining: 14.4s\n",
      "68:\tlearn: 16.1842496\ttotal: 31.2s\tremaining: 14s\n",
      "69:\tlearn: 16.1753206\ttotal: 31.7s\tremaining: 13.6s\n",
      "70:\tlearn: 16.1693876\ttotal: 32.2s\tremaining: 13.1s\n",
      "71:\tlearn: 16.1670602\ttotal: 32.7s\tremaining: 12.7s\n",
      "72:\tlearn: 16.1626360\ttotal: 33.1s\tremaining: 12.3s\n",
      "73:\tlearn: 16.1589381\ttotal: 33.6s\tremaining: 11.8s\n",
      "74:\tlearn: 16.1531704\ttotal: 34.1s\tremaining: 11.4s\n",
      "75:\tlearn: 16.1474845\ttotal: 34.5s\tremaining: 10.9s\n",
      "76:\tlearn: 16.1375584\ttotal: 35s\tremaining: 10.4s\n",
      "77:\tlearn: 16.1299748\ttotal: 35.5s\tremaining: 10s\n",
      "78:\tlearn: 16.1278851\ttotal: 35.9s\tremaining: 9.54s\n",
      "79:\tlearn: 16.1252753\ttotal: 36.3s\tremaining: 9.08s\n",
      "80:\tlearn: 16.1226073\ttotal: 36.8s\tremaining: 8.63s\n",
      "81:\tlearn: 16.1209710\ttotal: 37.2s\tremaining: 8.17s\n",
      "82:\tlearn: 16.1126864\ttotal: 37.7s\tremaining: 7.72s\n",
      "83:\tlearn: 16.1047412\ttotal: 38.1s\tremaining: 7.26s\n",
      "84:\tlearn: 16.0950289\ttotal: 38.6s\tremaining: 6.81s\n",
      "85:\tlearn: 16.0946932\ttotal: 39s\tremaining: 6.35s\n",
      "86:\tlearn: 16.0935721\ttotal: 39.5s\tremaining: 5.89s\n",
      "87:\tlearn: 16.0900416\ttotal: 39.9s\tremaining: 5.44s\n",
      "88:\tlearn: 16.0892339\ttotal: 40.3s\tremaining: 4.99s\n",
      "89:\tlearn: 16.0863434\ttotal: 40.8s\tremaining: 4.53s\n",
      "90:\tlearn: 16.0835269\ttotal: 41.2s\tremaining: 4.08s\n",
      "91:\tlearn: 16.0810911\ttotal: 41.7s\tremaining: 3.62s\n",
      "92:\tlearn: 16.0760637\ttotal: 42.1s\tremaining: 3.17s\n",
      "93:\tlearn: 16.0695094\ttotal: 42.5s\tremaining: 2.71s\n",
      "94:\tlearn: 16.0674606\ttotal: 43s\tremaining: 2.26s\n",
      "95:\tlearn: 16.0662562\ttotal: 43.5s\tremaining: 1.81s\n",
      "96:\tlearn: 16.0659076\ttotal: 43.9s\tremaining: 1.36s\n",
      "97:\tlearn: 16.0608789\ttotal: 44.3s\tremaining: 905ms\n",
      "98:\tlearn: 16.0553724\ttotal: 44.8s\tremaining: 452ms\n",
      "99:\tlearn: 16.0548486\ttotal: 45.2s\tremaining: 0us\n",
      "[13.7486527   9.80710069 10.96882697 ...  8.01270814 13.18859683\n",
      " 83.06735742]\n"
     ]
    }
   ],
   "source": [
    "model = CatBoost({'iterations':100})\n",
    "model.fit(train_pool)\n",
    "pred = model.predict(train_pool, prediction_type='RawFormulaVal')\n",
    "print(pred)"
   ]
  },
  {
   "cell_type": "code",
   "execution_count": 13,
   "id": "b2bdbeb1",
   "metadata": {},
   "outputs": [],
   "source": [
    "import seaborn as sns\n",
    "import matplotlib.pyplot as plt"
   ]
  },
  {
   "cell_type": "code",
   "execution_count": 18,
   "id": "9b0bde3a",
   "metadata": {},
   "outputs": [
    {
     "data": {
      "text/plain": [
       "(array([6.00000e+00, 0.00000e+00, 0.00000e+00, 0.00000e+00, 4.00000e+00,\n",
       "        4.00000e+00, 2.00000e+00, 7.00000e+00, 2.90000e+01, 4.20000e+01,\n",
       "        5.80000e+01, 2.48000e+02, 2.01000e+02, 3.53000e+02, 3.25000e+02,\n",
       "        5.45000e+02, 4.06000e+02, 9.29000e+02, 9.52000e+02, 9.87000e+02,\n",
       "        4.77000e+02, 7.88000e+02, 1.73900e+03, 2.43800e+03, 2.60500e+03,\n",
       "        2.31100e+03, 3.76400e+03, 8.32800e+03, 2.37220e+04, 8.17860e+04,\n",
       "        7.40435e+05, 2.11366e+05, 2.56180e+04, 1.54880e+04, 9.76100e+03,\n",
       "        3.98500e+03, 2.83200e+03, 2.87500e+03, 1.51500e+03, 5.86000e+02,\n",
       "        4.51000e+02, 3.14000e+02, 1.77000e+02, 2.28000e+02, 1.50000e+02,\n",
       "        5.70000e+01, 5.60000e+01, 1.00000e+01, 1.10000e+01, 1.70000e+01,\n",
       "        8.90000e+01, 3.70000e+01, 4.60000e+01, 3.20000e+01, 7.70000e+01,\n",
       "        4.80000e+01, 1.31000e+02, 2.90000e+01, 5.80000e+01, 6.50000e+01,\n",
       "        9.40000e+01, 8.00000e+01, 1.20000e+02, 2.44000e+02, 1.55000e+02,\n",
       "        8.90000e+01, 1.70000e+01, 1.26000e+02, 6.30000e+01, 7.70000e+01,\n",
       "        5.60000e+01, 3.50000e+01, 6.10000e+01, 1.00000e+02, 1.05000e+02,\n",
       "        1.30000e+01, 4.20000e+01, 1.90000e+01, 1.60000e+01, 6.10000e+01,\n",
       "        5.20000e+01, 2.60000e+01, 2.10000e+01, 3.60000e+01, 1.60000e+01,\n",
       "        4.00000e+00, 2.00000e+01, 8.00000e+00, 1.00000e+00, 1.00000e+00,\n",
       "        3.00000e+00, 4.00000e+00, 0.00000e+00, 0.00000e+00, 0.00000e+00,\n",
       "        3.00000e+00, 0.00000e+00, 0.00000e+00, 0.00000e+00, 1.00000e+00]),\n",
       " array([-212.14195173, -205.24780033, -198.35364893, -191.45949753,\n",
       "        -184.56534613, -177.67119473, -170.77704334, -163.88289194,\n",
       "        -156.98874054, -150.09458914, -143.20043774, -136.30628634,\n",
       "        -129.41213494, -122.51798354, -115.62383215, -108.72968075,\n",
       "        -101.83552935,  -94.94137795,  -88.04722655,  -81.15307515,\n",
       "         -74.25892375,  -67.36477236,  -60.47062096,  -53.57646956,\n",
       "         -46.68231816,  -39.78816676,  -32.89401536,  -25.99986396,\n",
       "         -19.10571257,  -12.21156117,   -5.31740977,    1.57674163,\n",
       "           8.47089303,   15.36504443,   22.25919583,   29.15334722,\n",
       "          36.04749862,   42.94165002,   49.83580142,   56.72995282,\n",
       "          63.62410422,   70.51825562,   77.41240701,   84.30655841,\n",
       "          91.20070981,   98.09486121,  104.98901261,  111.88316401,\n",
       "         118.77731541,  125.67146681,  132.5656182 ,  139.4597696 ,\n",
       "         146.353921  ,  153.2480724 ,  160.1422238 ,  167.0363752 ,\n",
       "         173.9305266 ,  180.82467799,  187.71882939,  194.61298079,\n",
       "         201.50713219,  208.40128359,  215.29543499,  222.18958639,\n",
       "         229.08373778,  235.97788918,  242.87204058,  249.76619198,\n",
       "         256.66034338,  263.55449478,  270.44864618,  277.34279757,\n",
       "         284.23694897,  291.13110037,  298.02525177,  304.91940317,\n",
       "         311.81355457,  318.70770597,  325.60185737,  332.49600876,\n",
       "         339.39016016,  346.28431156,  353.17846296,  360.07261436,\n",
       "         366.96676576,  373.86091716,  380.75506855,  387.64921995,\n",
       "         394.54337135,  401.43752275,  408.33167415,  415.22582555,\n",
       "         422.11997695,  429.01412834,  435.90827974,  442.80243114,\n",
       "         449.69658254,  456.59073394,  463.48488534,  470.37903674,\n",
       "         477.27318813]),\n",
       " <BarContainer object of 100 artists>)"
      ]
     },
     "execution_count": 18,
     "metadata": {},
     "output_type": "execute_result"
    },
    {
     "data": {
      "image/png": "[encoded data removed]",
      "text/plain": [
       "<Figure size 640x480 with 1 Axes>"
      ]
     },
     "metadata": {},
     "output_type": "display_data"
    }
   ],
   "source": [
    "diff = train_label - pred\n",
    "plt.hist(diff, bins=100)"
   ]
  },
  {
   "cell_type": "code",
   "execution_count": 19,
   "id": "679cf14c",
   "metadata": {},
   "outputs": [
    {
     "data": {
      "text/plain": [
       "count    1.151369e+06\n",
       "mean    -5.769016e-02\n",
       "std      1.596484e+01\n",
       "min     -2.121420e+02\n",
       "25%     -1.860905e+00\n",
       "50%     -8.788705e-02\n",
       "75%      1.472540e+00\n",
       "max      4.772732e+02\n",
       "Name: patient_pay, dtype: float64"
      ]
     },
     "execution_count": 19,
     "metadata": {},
     "output_type": "execute_result"
    }
   ],
   "source": [
    "diff.describe()"
   ]
  },
  {
   "cell_type": "code",
   "execution_count": null,
   "id": "b9698d3d",
   "metadata": {},
   "outputs": [],
   "source": []
  }
 ],
 "metadata": {
  "kernelspec": {
   "display_name": "Python 3 (ipykernel)",
   "language": "python",
   "name": "python3"
  },
  "language_info": {
   "codemirror_mode": {
    "name": "ipython",
    "version": 3
   },
   "file_extension": ".py",
   "mimetype": "text/x-python",
   "name": "python",
   "nbconvert_exporter": "python",
   "pygments_lexer": "ipython3",
   "version": "3.9.13"
  }
 },
 "nbformat": 4,
 "nbformat_minor": 5
}
