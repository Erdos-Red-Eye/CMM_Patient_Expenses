{
 "cells": [
  {
   "cell_type": "code",
   "execution_count": 1,
   "id": "01b86eef",
   "metadata": {},
   "outputs": [],
   "source": [
    "# import libraries\n",
    "import pandas as pd\n",
    "import numpy as np\n",
    "\n",
    "import matplotlib, matplotlib.pyplot as plt\n",
    "import seaborn as sns"
   ]
  },
  {
   "cell_type": "code",
   "execution_count": 2,
   "id": "24474071",
   "metadata": {},
   "outputs": [],
   "source": [
    "df = pd.read_csv(\"pharmacy_new.csv\")"
   ]
  },
  {
   "cell_type": "code",
   "execution_count": 3,
   "id": "801ebb7e",
   "metadata": {},
   "outputs": [
    {
     "data": {
      "text/html": [
       "<div>\n",
       "<style scoped>\n",
       "    .dataframe tbody tr th:only-of-type {\n",
       "        vertical-align: middle;\n",
       "    }\n",
       "\n",
       "    .dataframe tbody tr th {\n",
       "        vertical-align: top;\n",
       "    }\n",
       "\n",
       "    .dataframe thead th {\n",
       "        text-align: right;\n",
       "    }\n",
       "</style>\n",
       "<table border=\"1\" class=\"dataframe\">\n",
       "  <thead>\n",
       "    <tr style=\"text-align: right;\">\n",
       "      <th></th>\n",
       "      <th>Unnamed: 0</th>\n",
       "      <th>tx_date</th>\n",
       "      <th>pharmacy</th>\n",
       "      <th>diagnosis</th>\n",
       "      <th>drug</th>\n",
       "      <th>bin</th>\n",
       "      <th>pcn</th>\n",
       "      <th>group</th>\n",
       "      <th>rejected</th>\n",
       "      <th>patient_pay</th>\n",
       "      <th>brand</th>\n",
       "      <th>drug_name</th>\n",
       "      <th>month</th>\n",
       "      <th>diagnosis_letter</th>\n",
       "      <th>diagnosis_number</th>\n",
       "    </tr>\n",
       "  </thead>\n",
       "  <tbody>\n",
       "  </tbody>\n",
       "</table>\n",
       "</div>"
      ],
      "text/plain": [
       "Empty DataFrame\n",
       "Columns: [Unnamed: 0, tx_date, pharmacy, diagnosis, drug, bin, pcn, group, rejected, patient_pay, brand, drug_name, month, diagnosis_letter, diagnosis_number]\n",
       "Index: []"
      ]
     },
     "execution_count": 3,
     "metadata": {},
     "output_type": "execute_result"
    }
   ],
   "source": [
    "df[df.duplicated()]"
   ]
  },
  {
   "cell_type": "code",
   "execution_count": 4,
   "id": "b9e80725",
   "metadata": {},
   "outputs": [
    {
     "data": {
      "text/plain": [
       "group    3523637\n",
       "pcn      3223225\n",
       "dtype: int64"
      ]
     },
     "execution_count": 4,
     "metadata": {},
     "output_type": "execute_result"
    }
   ],
   "source": [
    "df[['group','pcn']].isnull().sum()"
   ]
  },
  {
   "cell_type": "code",
   "execution_count": 5,
   "id": "bca098f7",
   "metadata": {},
   "outputs": [
    {
     "data": {
      "text/plain": [
       "37521"
      ]
     },
     "execution_count": 5,
     "metadata": {},
     "output_type": "execute_result"
    }
   ],
   "source": [
    "df[df['pcn'].isnull()]['group'].isnull().sum()\n",
    "\n",
    "#isnull().sum()"
   ]
  },
  {
   "cell_type": "code",
   "execution_count": 6,
   "id": "2c8f9939",
   "metadata": {},
   "outputs": [
    {
     "data": {
      "text/plain": [
       "count    1.256184e+07\n",
       "mean     2.453093e+01\n",
       "std      4.067418e+01\n",
       "min      0.000000e+00\n",
       "25%      8.510000e+00\n",
       "50%      1.339000e+01\n",
       "75%      1.901000e+01\n",
       "max      5.579300e+02\n",
       "Name: patient_pay, dtype: float64"
      ]
     },
     "execution_count": 6,
     "metadata": {},
     "output_type": "execute_result"
    }
   ],
   "source": [
    "df['patient_pay'].describe()"
   ]
  },
  {
   "cell_type": "code",
   "execution_count": 7,
   "id": "37c8165c",
   "metadata": {},
   "outputs": [
    {
     "data": {
      "text/plain": [
       "Unnamed: 0                0\n",
       "tx_date                   0\n",
       "pharmacy                  0\n",
       "diagnosis                 0\n",
       "drug                      0\n",
       "bin                       0\n",
       "pcn                 3223225\n",
       "group               3523637\n",
       "rejected                  0\n",
       "patient_pay               0\n",
       "brand                     0\n",
       "drug_name                 0\n",
       "month                     0\n",
       "diagnosis_letter          0\n",
       "diagnosis_number          0\n",
       "dtype: int64"
      ]
     },
     "execution_count": 7,
     "metadata": {},
     "output_type": "execute_result"
    }
   ],
   "source": [
    "df.isna().sum()"
   ]
  },
  {
   "cell_type": "code",
   "execution_count": 8,
   "id": "3fc9fb4b",
   "metadata": {},
   "outputs": [
    {
     "data": {
      "text/html": [
       "<div>\n",
       "<style scoped>\n",
       "    .dataframe tbody tr th:only-of-type {\n",
       "        vertical-align: middle;\n",
       "    }\n",
       "\n",
       "    .dataframe tbody tr th {\n",
       "        vertical-align: top;\n",
       "    }\n",
       "\n",
       "    .dataframe thead th {\n",
       "        text-align: right;\n",
       "    }\n",
       "</style>\n",
       "<table border=\"1\" class=\"dataframe\">\n",
       "  <thead>\n",
       "    <tr style=\"text-align: right;\">\n",
       "      <th></th>\n",
       "      <th>Unnamed: 0</th>\n",
       "      <th>tx_date</th>\n",
       "      <th>pharmacy</th>\n",
       "      <th>diagnosis</th>\n",
       "      <th>drug</th>\n",
       "      <th>bin</th>\n",
       "      <th>pcn</th>\n",
       "      <th>group</th>\n",
       "      <th>rejected</th>\n",
       "      <th>patient_pay</th>\n",
       "      <th>brand</th>\n",
       "      <th>drug_name</th>\n",
       "      <th>month</th>\n",
       "      <th>diagnosis_letter</th>\n",
       "      <th>diagnosis_number</th>\n",
       "    </tr>\n",
       "  </thead>\n",
       "  <tbody>\n",
       "    <tr>\n",
       "      <th>0</th>\n",
       "      <td>0</td>\n",
       "      <td>2022-01-02</td>\n",
       "      <td>6</td>\n",
       "      <td>G99.93</td>\n",
       "      <td>branded tanoclolol</td>\n",
       "      <td>725700</td>\n",
       "      <td>1UQC</td>\n",
       "      <td>NaN</td>\n",
       "      <td>False</td>\n",
       "      <td>13.39</td>\n",
       "      <td>branded</td>\n",
       "      <td>tanoclolol</td>\n",
       "      <td>1</td>\n",
       "      <td>G</td>\n",
       "      <td>99.93</td>\n",
       "    </tr>\n",
       "    <tr>\n",
       "      <th>1</th>\n",
       "      <td>1</td>\n",
       "      <td>2022-01-02</td>\n",
       "      <td>42</td>\n",
       "      <td>U60.52</td>\n",
       "      <td>branded oxasoted</td>\n",
       "      <td>664344</td>\n",
       "      <td>NaN</td>\n",
       "      <td>52H8KH0F83K</td>\n",
       "      <td>False</td>\n",
       "      <td>7.02</td>\n",
       "      <td>branded</td>\n",
       "      <td>oxasoted</td>\n",
       "      <td>1</td>\n",
       "      <td>U</td>\n",
       "      <td>60.52</td>\n",
       "    </tr>\n",
       "    <tr>\n",
       "      <th>2</th>\n",
       "      <td>2</td>\n",
       "      <td>2022-01-02</td>\n",
       "      <td>37</td>\n",
       "      <td>Q85.91</td>\n",
       "      <td>branded cupitelol</td>\n",
       "      <td>725700</td>\n",
       "      <td>1UQC</td>\n",
       "      <td>NaN</td>\n",
       "      <td>False</td>\n",
       "      <td>13.39</td>\n",
       "      <td>branded</td>\n",
       "      <td>cupitelol</td>\n",
       "      <td>1</td>\n",
       "      <td>Q</td>\n",
       "      <td>85.91</td>\n",
       "    </tr>\n",
       "    <tr>\n",
       "      <th>3</th>\n",
       "      <td>3</td>\n",
       "      <td>2022-01-02</td>\n",
       "      <td>30</td>\n",
       "      <td>U60.52</td>\n",
       "      <td>generic oxasoted</td>\n",
       "      <td>571569</td>\n",
       "      <td>KB38N</td>\n",
       "      <td>6BYJBW</td>\n",
       "      <td>False</td>\n",
       "      <td>10.84</td>\n",
       "      <td>generic</td>\n",
       "      <td>oxasoted</td>\n",
       "      <td>1</td>\n",
       "      <td>U</td>\n",
       "      <td>60.52</td>\n",
       "    </tr>\n",
       "    <tr>\n",
       "      <th>4</th>\n",
       "      <td>4</td>\n",
       "      <td>2022-01-02</td>\n",
       "      <td>18</td>\n",
       "      <td>N55.01</td>\n",
       "      <td>branded mamate</td>\n",
       "      <td>664344</td>\n",
       "      <td>NaN</td>\n",
       "      <td>ZX2QUWR</td>\n",
       "      <td>False</td>\n",
       "      <td>47.00</td>\n",
       "      <td>branded</td>\n",
       "      <td>mamate</td>\n",
       "      <td>1</td>\n",
       "      <td>N</td>\n",
       "      <td>55.01</td>\n",
       "    </tr>\n",
       "  </tbody>\n",
       "</table>\n",
       "</div>"
      ],
      "text/plain": [
       "   Unnamed: 0     tx_date  pharmacy diagnosis                drug     bin  \\\n",
       "0           0  2022-01-02         6    G99.93  branded tanoclolol  725700   \n",
       "1           1  2022-01-02        42    U60.52    branded oxasoted  664344   \n",
       "2           2  2022-01-02        37    Q85.91   branded cupitelol  725700   \n",
       "3           3  2022-01-02        30    U60.52    generic oxasoted  571569   \n",
       "4           4  2022-01-02        18    N55.01      branded mamate  664344   \n",
       "\n",
       "     pcn        group  rejected  patient_pay    brand   drug_name  month  \\\n",
       "0   1UQC          NaN     False        13.39  branded  tanoclolol      1   \n",
       "1    NaN  52H8KH0F83K     False         7.02  branded    oxasoted      1   \n",
       "2   1UQC          NaN     False        13.39  branded   cupitelol      1   \n",
       "3  KB38N       6BYJBW     False        10.84  generic    oxasoted      1   \n",
       "4    NaN      ZX2QUWR     False        47.00  branded      mamate      1   \n",
       "\n",
       "  diagnosis_letter  diagnosis_number  \n",
       "0                G             99.93  \n",
       "1                U             60.52  \n",
       "2                Q             85.91  \n",
       "3                U             60.52  \n",
       "4                N             55.01  "
      ]
     },
     "execution_count": 8,
     "metadata": {},
     "output_type": "execute_result"
    }
   ],
   "source": [
    "df.head()"
   ]
  },
  {
   "cell_type": "code",
   "execution_count": 9,
   "id": "095a1431",
   "metadata": {},
   "outputs": [],
   "source": [
    "drug = df['drug_name'].unique()"
   ]
  },
  {
   "cell_type": "code",
   "execution_count": 10,
   "id": "7b727132",
   "metadata": {},
   "outputs": [
    {
     "data": {
      "image/png": "[encoded data removed]",
      "text/plain": [
       "<Figure size 432x288 with 1 Axes>"
      ]
     },
     "metadata": {
      "needs_background": "light"
     },
     "output_type": "display_data"
    }
   ],
   "source": [
    "drugplot = sns.stripplot(data=df,\n",
    "                x=\"drug_name\",\n",
    "                y=\"patient_pay\",\n",
    "                hue=\"brand\")\n",
    "\n",
    "drugplot.set_xticklabels(labels=drug, rotation=90) \n",
    "plt.show()"
   ]
  },
  {
   "cell_type": "code",
   "execution_count": 11,
   "id": "af532ed7",
   "metadata": {},
   "outputs": [
    {
     "data": {
      "image/png": "[encoded data removed]",
      "text/plain": [
       "<Figure size 360x360 with 1 Axes>"
      ]
     },
     "metadata": {
      "needs_background": "light"
     },
     "output_type": "display_data"
    }
   ],
   "source": [
    "drugplot = sns.catplot(x=\"drug_name\",\n",
    "                y=\"patient_pay\",\n",
    "                data=df,\n",
    "                kind=\"box\")\n",
    "plt.xticks(rotation=90)\n",
    "plt.show()"
   ]
  },
  {
   "cell_type": "code",
   "execution_count": 12,
   "id": "6ed128ba",
   "metadata": {},
   "outputs": [
    {
     "data": {
      "image/png": "[encoded data removed]",
      "text/plain": [
       "<Figure size 432x288 with 1 Axes>"
      ]
     },
     "metadata": {
      "needs_background": "light"
     },
     "output_type": "display_data"
    }
   ],
   "source": [
    "binplot = sns.stripplot(data=df,\n",
    "                x=\"bin\",\n",
    "                y=\"patient_pay\",\n",
    "                hue=\"brand\")\n",
    "\n",
    "plt.xticks(rotation=90)\n",
    "plt.show()"
   ]
  },
  {
   "cell_type": "code",
   "execution_count": 13,
   "id": "aa4898a4",
   "metadata": {},
   "outputs": [
    {
     "data": {
      "text/plain": [
       "branded    0.630966\n",
       "generic    0.369034\n",
       "Name: brand, dtype: float64"
      ]
     },
     "execution_count": 13,
     "metadata": {},
     "output_type": "execute_result"
    }
   ],
   "source": [
    "df['brand'].value_counts(normalize=True)"
   ]
  },
  {
   "cell_type": "code",
   "execution_count": 14,
   "id": "3f4b42f5",
   "metadata": {},
   "outputs": [
    {
     "data": {
      "image/png": "[encoded data removed]",
      "text/plain": [
       "<Figure size 432x288 with 1 Axes>"
      ]
     },
     "metadata": {
      "needs_background": "light"
     },
     "output_type": "display_data"
    }
   ],
   "source": [
    "diagnosisplot = sns.stripplot(data=df,\n",
    "                x=\"diagnosis_letter\",\n",
    "                y=\"patient_pay\",\n",
    "                hue=\"brand\")\n",
    "plt.legend(bbox_to_anchor=(1.02, 1), loc='upper left', borderaxespad=0)\n",
    "plt.xticks(rotation=90)\n",
    "plt.show()"
   ]
  },
  {
   "cell_type": "code",
   "execution_count": 15,
   "id": "89c979e1",
   "metadata": {},
   "outputs": [
    {
     "data": {
      "text/plain": [
       "False    0.916427\n",
       "True     0.083573\n",
       "Name: rejected, dtype: float64"
      ]
     },
     "execution_count": 15,
     "metadata": {},
     "output_type": "execute_result"
    }
   ],
   "source": [
    "df['rejected'].value_counts(normalize=True)"
   ]
  },
  {
   "cell_type": "code",
   "execution_count": 19,
   "id": "ce63a36d",
   "metadata": {},
   "outputs": [
    {
     "data": {
      "text/plain": [
       "<seaborn.axisgrid.FacetGrid at 0x224bd05bd60>"
      ]
     },
     "execution_count": 19,
     "metadata": {},
     "output_type": "execute_result"
    },
    {
     "data": {
      "image/png": "[encoded data removed]",
      "text/plain": [
       "<Figure size 437.75x360 with 1 Axes>"
      ]
     },
     "metadata": {
      "needs_background": "light"
     },
     "output_type": "display_data"
    }
   ],
   "source": [
    "sns.lmplot(data=df,\n",
    "x=\"month\",\n",
    "y=\"patient_pay\",\n",
    "hue=\"brand\")"
   ]
  },
  {
   "cell_type": "code",
   "execution_count": 18,
   "id": "fae4be7e",
   "metadata": {},
   "outputs": [
    {
     "data": {
      "image/png": "[encoded data removed]",
      "text/plain": [
       "<Figure size 432x288 with 1 Axes>"
      ]
     },
     "metadata": {
      "needs_background": "light"
     },
     "output_type": "display_data"
    }
   ],
   "source": [
    "sns.scatterplot(x=\"diagnosis_number\" , y=\"patient_pay\" , data=df, hue=\"diagnosis_letter\")\n",
    "plt.legend(bbox_to_anchor=(1.02, 1), loc='upper left', borderaxespad=0)\n",
    "plt.show()"
   ]
  },
  {
   "cell_type": "code",
   "execution_count": 20,
   "id": "751521a1",
   "metadata": {},
   "outputs": [
    {
     "data": {
      "image/png": "[encoded data removed]",
      "text/plain": [
       "<Figure size 437.75x360 with 1 Axes>"
      ]
     },
     "metadata": {
      "needs_background": "light"
     },
     "output_type": "display_data"
    }
   ],
   "source": [
    "sns.relplot(x=\"month\", y=\"patient_pay\", data=df, kind=\"line\", hue='brand')\n",
    "plt.show()"
   ]
  },
  {
   "cell_type": "code",
   "execution_count": 17,
   "id": "34e9b8f9",
   "metadata": {},
   "outputs": [
    {
     "data": {
      "text/plain": [
       "24    236368\n",
       "52    233671\n",
       "39    228171\n",
       "5     225863\n",
       "6     225361\n",
       "10    225239\n",
       "17    224402\n",
       "28    224170\n",
       "11    223963\n",
       "44    223961\n",
       "9     223215\n",
       "29    222734\n",
       "12    222711\n",
       "16    221871\n",
       "33    221768\n",
       "4     221343\n",
       "36    220908\n",
       "1     220793\n",
       "15    219946\n",
       "48    219363\n",
       "31    219344\n",
       "19    218170\n",
       "53    217930\n",
       "54    217901\n",
       "30    217742\n",
       "27    217599\n",
       "2     217192\n",
       "0     217130\n",
       "51    216956\n",
       "43    216552\n",
       "55    216081\n",
       "8     215863\n",
       "46    215650\n",
       "40    215573\n",
       "35    214755\n",
       "37    214702\n",
       "45    214694\n",
       "42    214658\n",
       "49    213797\n",
       "3     213622\n",
       "41    212514\n",
       "57    212424\n",
       "23    212024\n",
       "26    211972\n",
       "50    211777\n",
       "18    211238\n",
       "32    210954\n",
       "20    210004\n",
       "25    209345\n",
       "14    209100\n",
       "47    208349\n",
       "56    207230\n",
       "22    206438\n",
       "34    205325\n",
       "7     204332\n",
       "38    204242\n",
       "21    202537\n",
       "13    200308\n",
       "Name: pharmacy, dtype: int64"
      ]
     },
     "execution_count": 17,
     "metadata": {},
     "output_type": "execute_result"
    }
   ],
   "source": [
    "df['pharmacy'].value_counts()"
   ]
  },
  {
   "cell_type": "code",
   "execution_count": 21,
   "id": "89e0b388",
   "metadata": {},
   "outputs": [
    {
     "data": {
      "image/png": "[encoded data removed]",
      "text/plain": [
       "<Figure size 360x360 with 1 Axes>"
      ]
     },
     "metadata": {
      "needs_background": "light"
     },
     "output_type": "display_data"
    }
   ],
   "source": [
    "sns.catplot(x=\"pharmacy\",\n",
    "y=\"patient_pay\",\n",
    "data=df,\n",
    "kind=\"bar\")\n",
    "plt.show()"
   ]
  },
  {
   "cell_type": "code",
   "execution_count": 22,
   "id": "c1785a63",
   "metadata": {},
   "outputs": [
    {
     "data": {
      "text/plain": [
       "0.0"
      ]
     },
     "execution_count": 22,
     "metadata": {},
     "output_type": "execute_result"
    }
   ],
   "source": [
    "df[df['rejected']==True]['patient_pay'].mean()"
   ]
  },
  {
   "cell_type": "code",
   "execution_count": null,
   "id": "ec18b1af",
   "metadata": {},
   "outputs": [],
   "source": [
    "#sns.swarmplot(data=df, x=\"drug_name\", y=\"patient_pay\", hue=\"diagnosis_letter\")\n",
    "#plt.xticks(rotation=90)\n",
    "#plt.legend(bbox_to_anchor=(1.02, 1), loc='upper left', borderaxespad=0)\n",
    "#plt.show()"
   ]
  },
  {
   "cell_type": "code",
   "execution_count": 23,
   "id": "5f94ce81",
   "metadata": {},
   "outputs": [],
   "source": [
    "drug_rejected = df.groupby('rejected')['drug_name'].value_counts()"
   ]
  },
  {
   "cell_type": "code",
   "execution_count": 24,
   "id": "1b901e0d",
   "metadata": {},
   "outputs": [
    {
     "data": {
      "text/plain": [
       "drug_name\n",
       "hidizuzunib        137976\n",
       "mule               120452\n",
       "diadaric            56816\n",
       "nusudaric           52951\n",
       "plazamiglutic       52790\n",
       "                    ...  \n",
       "nenizevir             351\n",
       "thiostasteglume       350\n",
       "colade                110\n",
       "gohevitravir           94\n",
       "lixegimoric            19\n",
       "Name: drug_name, Length: 62, dtype: int64"
      ]
     },
     "execution_count": 24,
     "metadata": {},
     "output_type": "execute_result"
    }
   ],
   "source": [
    "drug_rejected[True] "
   ]
  },
  {
   "cell_type": "code",
   "execution_count": 25,
   "id": "150217a1",
   "metadata": {},
   "outputs": [
    {
     "data": {
      "text/plain": [
       "drug_name\n",
       "prazinib        1148995\n",
       "rulfalol         663544\n",
       "pucomalol        508236\n",
       "tanoclolol       475689\n",
       "foxivelule       460254\n",
       "                 ...   \n",
       "dusin              7401\n",
       "sizubesin          5799\n",
       "gohevitravir       4015\n",
       "lehydrome          1782\n",
       "nenizevir           761\n",
       "Name: drug_name, Length: 77, dtype: int64"
      ]
     },
     "execution_count": 25,
     "metadata": {},
     "output_type": "execute_result"
    }
   ],
   "source": [
    "drug_rejected[False] "
   ]
  },
  {
   "cell_type": "code",
   "execution_count": 26,
   "id": "bf8a67f5",
   "metadata": {},
   "outputs": [],
   "source": [
    "diagnosis = df.groupby('diagnosis_letter')['diagnosis_number'].value_counts()"
   ]
  },
  {
   "cell_type": "code",
   "execution_count": 27,
   "id": "c6e21b30",
   "metadata": {},
   "outputs": [
    {
     "data": {
      "text/plain": [
       "diagnosis_number\n",
       "60.52    494966\n",
       "27.71    411729\n",
       "61.13    207078\n",
       "41.19     99239\n",
       "6.52      62340\n",
       "75.95     23817\n",
       "97.42        40\n",
       "7.99         32\n",
       "Name: diagnosis_number, dtype: int64"
      ]
     },
     "execution_count": 27,
     "metadata": {},
     "output_type": "execute_result"
    }
   ],
   "source": [
    "diagnosis['U']"
   ]
  },
  {
   "cell_type": "code",
   "execution_count": 28,
   "id": "784d08c9",
   "metadata": {},
   "outputs": [
    {
     "data": {
      "text/plain": [
       "diagnosis_number  drug_name  \n",
       "6.52              ratin           36852\n",
       "                  notin           13326\n",
       "                  tugesutin       12162\n",
       "7.99              keglusited         20\n",
       "                  oxasoted           12\n",
       "27.71             foxivelule      87392\n",
       "                  tovane          78257\n",
       "                  colifunene      75686\n",
       "                  glulune         74900\n",
       "                  sorine          71870\n",
       "                  glycogane       23624\n",
       "41.19             foxivelule      99239\n",
       "60.52             oxasoted       155943\n",
       "                  foxivelule     153728\n",
       "                  keglusited     136342\n",
       "                  mule            48953\n",
       "61.13             prazinib        64236\n",
       "                  ratin           47583\n",
       "                  momudobatin     44965\n",
       "                  hidizuzunib     18633\n",
       "                  notin           16837\n",
       "                  tugesutin       14824\n",
       "75.95             monemodiase     23817\n",
       "97.42             nicotilin          28\n",
       "                  ratin              12\n",
       "Name: drug_name, dtype: int64"
      ]
     },
     "execution_count": 28,
     "metadata": {},
     "output_type": "execute_result"
    }
   ],
   "source": [
    "df[df['diagnosis_letter'] =='U'].groupby('diagnosis_number')['drug_name'].value_counts()"
   ]
  },
  {
   "cell_type": "code",
   "execution_count": 29,
   "id": "f9175a0f",
   "metadata": {},
   "outputs": [
    {
     "data": {
      "text/plain": [
       "diagnosis_number  drug_name  \n",
       "6.52              notin           74.857331\n",
       "                  ratin           19.247222\n",
       "                  tugesutin      107.654680\n",
       "7.99              keglusited      16.342000\n",
       "                  oxasoted         6.170000\n",
       "27.71             colifunene      14.552133\n",
       "                  foxivelule      10.137158\n",
       "                  glulune         11.597082\n",
       "                  glycogane       44.981293\n",
       "                  sorine          15.057971\n",
       "                  tovane          11.176974\n",
       "41.19             foxivelule      10.193195\n",
       "60.52             foxivelule      10.121673\n",
       "                  keglusited      14.394333\n",
       "                  mule            27.377105\n",
       "                  oxasoted        10.000706\n",
       "61.13             hidizuzunib     48.326477\n",
       "                  momudobatin     28.283480\n",
       "                  notin           73.529601\n",
       "                  prazinib        11.727164\n",
       "                  ratin           18.867310\n",
       "                  tugesutin      108.783218\n",
       "75.95             monemodiase    273.699245\n",
       "97.42             nicotilin       56.917143\n",
       "                  ratin            8.145000\n",
       "Name: patient_pay, dtype: float64"
      ]
     },
     "execution_count": 29,
     "metadata": {},
     "output_type": "execute_result"
    }
   ],
   "source": [
    "df[df['diagnosis_letter'] =='U'].groupby(['diagnosis_number','drug_name'])['patient_pay'].mean()"
   ]
  },
  {
   "cell_type": "code",
   "execution_count": 30,
   "id": "e598bc15",
   "metadata": {},
   "outputs": [
    {
     "data": {
      "text/plain": [
       "drug_name    diagnosis_number\n",
       "colifunene   27.71                14.552133\n",
       "foxivelule   27.71                10.137158\n",
       "             41.19                10.193195\n",
       "             60.52                10.121673\n",
       "glulune      27.71                11.597082\n",
       "glycogane    27.71                44.981293\n",
       "hidizuzunib  61.13                48.326477\n",
       "keglusited   7.99                 16.342000\n",
       "             60.52                14.394333\n",
       "momudobatin  61.13                28.283480\n",
       "monemodiase  75.95               273.699245\n",
       "mule         60.52                27.377105\n",
       "nicotilin    97.42                56.917143\n",
       "notin        6.52                 74.857331\n",
       "             61.13                73.529601\n",
       "oxasoted     7.99                  6.170000\n",
       "             60.52                10.000706\n",
       "prazinib     61.13                11.727164\n",
       "ratin        6.52                 19.247222\n",
       "             61.13                18.867310\n",
       "             97.42                 8.145000\n",
       "sorine       27.71                15.057971\n",
       "tovane       27.71                11.176974\n",
       "tugesutin    6.52                107.654680\n",
       "             61.13               108.783218\n",
       "Name: patient_pay, dtype: float64"
      ]
     },
     "execution_count": 30,
     "metadata": {},
     "output_type": "execute_result"
    }
   ],
   "source": [
    "df[df['diagnosis_letter'] =='U'].groupby(['drug_name','diagnosis_number'])['patient_pay'].mean()"
   ]
  },
  {
   "cell_type": "code",
   "execution_count": 31,
   "id": "1dcf7175",
   "metadata": {},
   "outputs": [
    {
     "data": {
      "text/html": [
       "<div>\n",
       "<style scoped>\n",
       "    .dataframe tbody tr th:only-of-type {\n",
       "        vertical-align: middle;\n",
       "    }\n",
       "\n",
       "    .dataframe tbody tr th {\n",
       "        vertical-align: top;\n",
       "    }\n",
       "\n",
       "    .dataframe thead th {\n",
       "        text-align: right;\n",
       "    }\n",
       "</style>\n",
       "<table border=\"1\" class=\"dataframe\">\n",
       "  <thead>\n",
       "    <tr style=\"text-align: right;\">\n",
       "      <th></th>\n",
       "      <th>count</th>\n",
       "      <th>mean</th>\n",
       "      <th>std</th>\n",
       "      <th>min</th>\n",
       "      <th>25%</th>\n",
       "      <th>50%</th>\n",
       "      <th>75%</th>\n",
       "      <th>max</th>\n",
       "    </tr>\n",
       "    <tr>\n",
       "      <th>drug_name</th>\n",
       "      <th></th>\n",
       "      <th></th>\n",
       "      <th></th>\n",
       "      <th></th>\n",
       "      <th></th>\n",
       "      <th></th>\n",
       "      <th></th>\n",
       "      <th></th>\n",
       "    </tr>\n",
       "  </thead>\n",
       "  <tbody>\n",
       "    <tr>\n",
       "      <th>antimab</th>\n",
       "      <td>258512.0</td>\n",
       "      <td>18.777124</td>\n",
       "      <td>7.520859</td>\n",
       "      <td>5.16</td>\n",
       "      <td>16.460</td>\n",
       "      <td>19.67</td>\n",
       "      <td>21.86</td>\n",
       "      <td>42.85</td>\n",
       "    </tr>\n",
       "    <tr>\n",
       "      <th>bovirol</th>\n",
       "      <td>195540.0</td>\n",
       "      <td>11.245044</td>\n",
       "      <td>3.866280</td>\n",
       "      <td>5.95</td>\n",
       "      <td>7.800</td>\n",
       "      <td>10.33</td>\n",
       "      <td>13.93</td>\n",
       "      <td>20.56</td>\n",
       "    </tr>\n",
       "    <tr>\n",
       "      <th>brede</th>\n",
       "      <td>113033.0</td>\n",
       "      <td>11.482343</td>\n",
       "      <td>3.692669</td>\n",
       "      <td>6.71</td>\n",
       "      <td>8.240</td>\n",
       "      <td>10.54</td>\n",
       "      <td>13.93</td>\n",
       "      <td>20.05</td>\n",
       "    </tr>\n",
       "    <tr>\n",
       "      <th>choxestamenium</th>\n",
       "      <td>74076.0</td>\n",
       "      <td>124.184396</td>\n",
       "      <td>49.907523</td>\n",
       "      <td>15.02</td>\n",
       "      <td>131.150</td>\n",
       "      <td>145.93</td>\n",
       "      <td>153.00</td>\n",
       "      <td>188.02</td>\n",
       "    </tr>\n",
       "    <tr>\n",
       "      <th>cibroniudosin</th>\n",
       "      <td>173112.0</td>\n",
       "      <td>13.127388</td>\n",
       "      <td>3.806480</td>\n",
       "      <td>5.59</td>\n",
       "      <td>10.770</td>\n",
       "      <td>12.74</td>\n",
       "      <td>17.11</td>\n",
       "      <td>19.82</td>\n",
       "    </tr>\n",
       "    <tr>\n",
       "      <th>...</th>\n",
       "      <td>...</td>\n",
       "      <td>...</td>\n",
       "      <td>...</td>\n",
       "      <td>...</td>\n",
       "      <td>...</td>\n",
       "      <td>...</td>\n",
       "      <td>...</td>\n",
       "      <td>...</td>\n",
       "    </tr>\n",
       "    <tr>\n",
       "      <th>tovane</th>\n",
       "      <td>304255.0</td>\n",
       "      <td>11.163631</td>\n",
       "      <td>3.015801</td>\n",
       "      <td>5.22</td>\n",
       "      <td>9.420</td>\n",
       "      <td>9.57</td>\n",
       "      <td>13.05</td>\n",
       "      <td>19.82</td>\n",
       "    </tr>\n",
       "    <tr>\n",
       "      <th>tricatripride</th>\n",
       "      <td>31165.0</td>\n",
       "      <td>30.794370</td>\n",
       "      <td>8.389765</td>\n",
       "      <td>7.76</td>\n",
       "      <td>27.220</td>\n",
       "      <td>31.97</td>\n",
       "      <td>36.78</td>\n",
       "      <td>47.48</td>\n",
       "    </tr>\n",
       "    <tr>\n",
       "      <th>tugesutin</th>\n",
       "      <td>70075.0</td>\n",
       "      <td>161.254110</td>\n",
       "      <td>70.039653</td>\n",
       "      <td>15.02</td>\n",
       "      <td>142.700</td>\n",
       "      <td>194.00</td>\n",
       "      <td>208.78</td>\n",
       "      <td>261.19</td>\n",
       "    </tr>\n",
       "    <tr>\n",
       "      <th>vivafastat</th>\n",
       "      <td>36650.0</td>\n",
       "      <td>150.977280</td>\n",
       "      <td>61.149508</td>\n",
       "      <td>15.02</td>\n",
       "      <td>157.870</td>\n",
       "      <td>176.72</td>\n",
       "      <td>187.78</td>\n",
       "      <td>227.62</td>\n",
       "    </tr>\n",
       "    <tr>\n",
       "      <th>vocopirin</th>\n",
       "      <td>120647.0</td>\n",
       "      <td>18.371062</td>\n",
       "      <td>8.184448</td>\n",
       "      <td>5.16</td>\n",
       "      <td>11.405</td>\n",
       "      <td>17.58</td>\n",
       "      <td>25.90</td>\n",
       "      <td>33.89</td>\n",
       "    </tr>\n",
       "  </tbody>\n",
       "</table>\n",
       "<p>77 rows × 8 columns</p>\n",
       "</div>"
      ],
      "text/plain": [
       "                   count        mean        std    min      25%     50%  \\\n",
       "drug_name                                                                 \n",
       "antimab         258512.0   18.777124   7.520859   5.16   16.460   19.67   \n",
       "bovirol         195540.0   11.245044   3.866280   5.95    7.800   10.33   \n",
       "brede           113033.0   11.482343   3.692669   6.71    8.240   10.54   \n",
       "choxestamenium   74076.0  124.184396  49.907523  15.02  131.150  145.93   \n",
       "cibroniudosin   173112.0   13.127388   3.806480   5.59   10.770   12.74   \n",
       "...                  ...         ...        ...    ...      ...     ...   \n",
       "tovane          304255.0   11.163631   3.015801   5.22    9.420    9.57   \n",
       "tricatripride    31165.0   30.794370   8.389765   7.76   27.220   31.97   \n",
       "tugesutin        70075.0  161.254110  70.039653  15.02  142.700  194.00   \n",
       "vivafastat       36650.0  150.977280  61.149508  15.02  157.870  176.72   \n",
       "vocopirin       120647.0   18.371062   8.184448   5.16   11.405   17.58   \n",
       "\n",
       "                   75%     max  \n",
       "drug_name                       \n",
       "antimab          21.86   42.85  \n",
       "bovirol          13.93   20.56  \n",
       "brede            13.93   20.05  \n",
       "choxestamenium  153.00  188.02  \n",
       "cibroniudosin    17.11   19.82  \n",
       "...                ...     ...  \n",
       "tovane           13.05   19.82  \n",
       "tricatripride    36.78   47.48  \n",
       "tugesutin       208.78  261.19  \n",
       "vivafastat      187.78  227.62  \n",
       "vocopirin        25.90   33.89  \n",
       "\n",
       "[77 rows x 8 columns]"
      ]
     },
     "execution_count": 31,
     "metadata": {},
     "output_type": "execute_result"
    }
   ],
   "source": [
    "df[df['rejected']==False].groupby(['drug_name'])['patient_pay'].describe()"
   ]
  },
  {
   "cell_type": "code",
   "execution_count": 32,
   "id": "caa75f9c",
   "metadata": {},
   "outputs": [
    {
     "data": {
      "text/html": [
       "<div>\n",
       "<style scoped>\n",
       "    .dataframe tbody tr th:only-of-type {\n",
       "        vertical-align: middle;\n",
       "    }\n",
       "\n",
       "    .dataframe tbody tr th {\n",
       "        vertical-align: top;\n",
       "    }\n",
       "\n",
       "    .dataframe thead th {\n",
       "        text-align: right;\n",
       "    }\n",
       "</style>\n",
       "<table border=\"1\" class=\"dataframe\">\n",
       "  <thead>\n",
       "    <tr style=\"text-align: right;\">\n",
       "      <th></th>\n",
       "      <th>count</th>\n",
       "      <th>mean</th>\n",
       "      <th>std</th>\n",
       "      <th>min</th>\n",
       "      <th>25%</th>\n",
       "      <th>50%</th>\n",
       "      <th>75%</th>\n",
       "      <th>max</th>\n",
       "    </tr>\n",
       "    <tr>\n",
       "      <th>drug</th>\n",
       "      <th></th>\n",
       "      <th></th>\n",
       "      <th></th>\n",
       "      <th></th>\n",
       "      <th></th>\n",
       "      <th></th>\n",
       "      <th></th>\n",
       "      <th></th>\n",
       "    </tr>\n",
       "  </thead>\n",
       "  <tbody>\n",
       "    <tr>\n",
       "      <th>branded antimab</th>\n",
       "      <td>258512.0</td>\n",
       "      <td>18.777124</td>\n",
       "      <td>7.520859</td>\n",
       "      <td>5.16</td>\n",
       "      <td>16.46</td>\n",
       "      <td>19.67</td>\n",
       "      <td>21.86</td>\n",
       "      <td>42.85</td>\n",
       "    </tr>\n",
       "    <tr>\n",
       "      <th>branded bovirol</th>\n",
       "      <td>90259.0</td>\n",
       "      <td>13.301405</td>\n",
       "      <td>3.466154</td>\n",
       "      <td>5.95</td>\n",
       "      <td>12.22</td>\n",
       "      <td>12.74</td>\n",
       "      <td>15.55</td>\n",
       "      <td>20.56</td>\n",
       "    </tr>\n",
       "    <tr>\n",
       "      <th>branded brede</th>\n",
       "      <td>53055.0</td>\n",
       "      <td>14.189628</td>\n",
       "      <td>2.959215</td>\n",
       "      <td>6.71</td>\n",
       "      <td>12.38</td>\n",
       "      <td>13.39</td>\n",
       "      <td>17.11</td>\n",
       "      <td>20.05</td>\n",
       "    </tr>\n",
       "    <tr>\n",
       "      <th>branded choxestamenium</th>\n",
       "      <td>74076.0</td>\n",
       "      <td>124.184396</td>\n",
       "      <td>49.907523</td>\n",
       "      <td>15.02</td>\n",
       "      <td>131.15</td>\n",
       "      <td>145.93</td>\n",
       "      <td>153.00</td>\n",
       "      <td>188.02</td>\n",
       "    </tr>\n",
       "    <tr>\n",
       "      <th>branded cibroniudosin</th>\n",
       "      <td>84172.0</td>\n",
       "      <td>12.927689</td>\n",
       "      <td>3.705858</td>\n",
       "      <td>5.59</td>\n",
       "      <td>10.58</td>\n",
       "      <td>12.22</td>\n",
       "      <td>16.89</td>\n",
       "      <td>19.82</td>\n",
       "    </tr>\n",
       "    <tr>\n",
       "      <th>...</th>\n",
       "      <td>...</td>\n",
       "      <td>...</td>\n",
       "      <td>...</td>\n",
       "      <td>...</td>\n",
       "      <td>...</td>\n",
       "      <td>...</td>\n",
       "      <td>...</td>\n",
       "      <td>...</td>\n",
       "    </tr>\n",
       "    <tr>\n",
       "      <th>generic tanoclolol</th>\n",
       "      <td>255186.0</td>\n",
       "      <td>7.109552</td>\n",
       "      <td>3.266072</td>\n",
       "      <td>3.40</td>\n",
       "      <td>5.66</td>\n",
       "      <td>6.34</td>\n",
       "      <td>7.39</td>\n",
       "      <td>19.19</td>\n",
       "    </tr>\n",
       "    <tr>\n",
       "      <th>generic thiostasteglume</th>\n",
       "      <td>14127.0</td>\n",
       "      <td>13.658598</td>\n",
       "      <td>4.577080</td>\n",
       "      <td>5.16</td>\n",
       "      <td>11.97</td>\n",
       "      <td>14.12</td>\n",
       "      <td>15.86</td>\n",
       "      <td>25.01</td>\n",
       "    </tr>\n",
       "    <tr>\n",
       "      <th>generic todiadianic</th>\n",
       "      <td>16469.0</td>\n",
       "      <td>35.312099</td>\n",
       "      <td>14.011655</td>\n",
       "      <td>7.76</td>\n",
       "      <td>26.94</td>\n",
       "      <td>38.69</td>\n",
       "      <td>46.04</td>\n",
       "      <td>63.25</td>\n",
       "    </tr>\n",
       "    <tr>\n",
       "      <th>generic tovane</th>\n",
       "      <td>158718.0</td>\n",
       "      <td>10.389968</td>\n",
       "      <td>2.138933</td>\n",
       "      <td>9.21</td>\n",
       "      <td>9.44</td>\n",
       "      <td>9.53</td>\n",
       "      <td>9.57</td>\n",
       "      <td>18.67</td>\n",
       "    </tr>\n",
       "    <tr>\n",
       "      <th>generic vocopirin</th>\n",
       "      <td>70910.0</td>\n",
       "      <td>13.577908</td>\n",
       "      <td>4.811556</td>\n",
       "      <td>5.16</td>\n",
       "      <td>10.13</td>\n",
       "      <td>13.01</td>\n",
       "      <td>17.58</td>\n",
       "      <td>23.95</td>\n",
       "    </tr>\n",
       "  </tbody>\n",
       "</table>\n",
       "<p>114 rows × 8 columns</p>\n",
       "</div>"
      ],
      "text/plain": [
       "                            count        mean        std    min     25%  \\\n",
       "drug                                                                      \n",
       "branded antimab          258512.0   18.777124   7.520859   5.16   16.46   \n",
       "branded bovirol           90259.0   13.301405   3.466154   5.95   12.22   \n",
       "branded brede             53055.0   14.189628   2.959215   6.71   12.38   \n",
       "branded choxestamenium    74076.0  124.184396  49.907523  15.02  131.15   \n",
       "branded cibroniudosin     84172.0   12.927689   3.705858   5.59   10.58   \n",
       "...                           ...         ...        ...    ...     ...   \n",
       "generic tanoclolol       255186.0    7.109552   3.266072   3.40    5.66   \n",
       "generic thiostasteglume   14127.0   13.658598   4.577080   5.16   11.97   \n",
       "generic todiadianic       16469.0   35.312099  14.011655   7.76   26.94   \n",
       "generic tovane           158718.0   10.389968   2.138933   9.21    9.44   \n",
       "generic vocopirin         70910.0   13.577908   4.811556   5.16   10.13   \n",
       "\n",
       "                            50%     75%     max  \n",
       "drug                                             \n",
       "branded antimab           19.67   21.86   42.85  \n",
       "branded bovirol           12.74   15.55   20.56  \n",
       "branded brede             13.39   17.11   20.05  \n",
       "branded choxestamenium   145.93  153.00  188.02  \n",
       "branded cibroniudosin     12.22   16.89   19.82  \n",
       "...                         ...     ...     ...  \n",
       "generic tanoclolol         6.34    7.39   19.19  \n",
       "generic thiostasteglume   14.12   15.86   25.01  \n",
       "generic todiadianic       38.69   46.04   63.25  \n",
       "generic tovane             9.53    9.57   18.67  \n",
       "generic vocopirin         13.01   17.58   23.95  \n",
       "\n",
       "[114 rows x 8 columns]"
      ]
     },
     "execution_count": 32,
     "metadata": {},
     "output_type": "execute_result"
    }
   ],
   "source": [
    "df[df['rejected']==False].groupby(['drug'])['patient_pay'].describe()"
   ]
  },
  {
   "cell_type": "code",
   "execution_count": 33,
   "id": "0858e235",
   "metadata": {},
   "outputs": [
    {
     "data": {
      "text/plain": [
       "diagnosis  drug_name      \n",
       "A00.82     glulune              255\n",
       "           antimab              137\n",
       "A13.39     oxasoted            2158\n",
       "           tovane              2036\n",
       "           colifunene          1889\n",
       "                              ...  \n",
       "Z98.86     oxasoted           29673\n",
       "           keglusited         24159\n",
       "           thiostasteglume    20029\n",
       "           spifistime          7439\n",
       "           debome              5689\n",
       "Name: drug_name, Length: 507, dtype: int64"
      ]
     },
     "execution_count": 33,
     "metadata": {},
     "output_type": "execute_result"
    }
   ],
   "source": [
    "df.groupby('diagnosis')['drug_name'].value_counts()"
   ]
  },
  {
   "cell_type": "code",
   "execution_count": null,
   "id": "852ea5a9",
   "metadata": {},
   "outputs": [],
   "source": [
    "###  Try to calculate the price for the same drug with different bin. \n",
    "###  Need to get rid of those rejected"
   ]
  },
  {
   "cell_type": "code",
   "execution_count": 34,
   "id": "d365f384",
   "metadata": {},
   "outputs": [
    {
     "data": {
      "text/plain": [
       "bin\n",
       "96934     28.150094\n",
       "160389    29.891843\n",
       "322463    18.759562\n",
       "539437    30.175992\n",
       "571569    26.654383\n",
       "664344    26.647256\n",
       "691847    27.080463\n",
       "718350    30.344841\n",
       "725700    31.156868\n",
       "756120    31.988048\n",
       "757349    30.856515\n",
       "956971    31.491312\n",
       "Name: patient_pay, dtype: float64"
      ]
     },
     "execution_count": 34,
     "metadata": {},
     "output_type": "execute_result"
    }
   ],
   "source": [
    "df[df['rejected']==False].groupby(['bin'])['patient_pay'].mean()"
   ]
  },
  {
   "cell_type": "code",
   "execution_count": 35,
   "id": "2a9ccf6f",
   "metadata": {},
   "outputs": [],
   "source": [
    "bin_pay = df[df['rejected']==False].groupby(['bin', 'drug_name'])['patient_pay'].mean()"
   ]
  },
  {
   "cell_type": "code",
   "execution_count": 36,
   "id": "978b2fbd",
   "metadata": {},
   "outputs": [
    {
     "data": {
      "text/plain": [
       "bin\n",
       "96934     22.287885\n",
       "160389    20.628408\n",
       "322463    13.820387\n",
       "539437    26.355029\n",
       "571569    14.286249\n",
       "664344    19.247499\n",
       "691847    15.959371\n",
       "718350    22.016836\n",
       "725700    21.448033\n",
       "756120    25.780665\n",
       "757349    21.809664\n",
       "956971    18.153154\n",
       "Name: patient_pay, dtype: float64"
      ]
     },
     "execution_count": 36,
     "metadata": {},
     "output_type": "execute_result"
    }
   ],
   "source": [
    "bin_pay[:,'antimab']"
   ]
  },
  {
   "cell_type": "code",
   "execution_count": 37,
   "id": "1314ecc1",
   "metadata": {},
   "outputs": [
    {
     "name": "stdout",
     "output_type": "stream",
     "text": [
      "[725700 664344 571569  96934 539437 322463 757349 691847 160389 956971\n",
      " 718350 756120]\n"
     ]
    }
   ],
   "source": [
    "bin = df['bin'].unique()\n",
    "print(bin)"
   ]
  },
  {
   "cell_type": "code",
   "execution_count": 38,
   "id": "ffce3f22",
   "metadata": {},
   "outputs": [
    {
     "name": "stdout",
     "output_type": "stream",
     "text": [
      "['tanoclolol' 'oxasoted' 'cupitelol' 'mamate' 'lalol' 'foxivelule'\n",
      " 'tafistitrisin' 'prazinib' 'momudobatin' 'gentipapavir' 'cibroniudosin'\n",
      " 'rulfalol' 'keglusited' 'pucomalol' 'glycontazepelol' 'glycogane'\n",
      " 'cicrochoric' 'satrade' 'tovane' 'suvinicuvir' 'semufolic' 'sorine'\n",
      " 'ratin' 'hozirol' 'dienulol' 'hivir' 'diadaric' 'mule' 'tocilic' 'gorol'\n",
      " 'simarol' 'vocopirin' 'cycloxasonol' 'bovirol' 'brede' 'nusudaric'\n",
      " 'hidizuzunib' 'nephelilin' 'colifunene' 'antimab' 'plazamiglutic'\n",
      " 'vivafastat' 'tugesutin' 'pheromycin' 'isobrovelin' 'flacelfatastat'\n",
      " 'choxestamenium' 'colade' 'dusin' 'tricatripride' 'fazipilin' 'tocrocin'\n",
      " 'glulune' 'fumiluric' 'kediborin' 'ribosatharin' 'genetramycicin'\n",
      " 'todiadianic' 'spifistime' 'nicotilin' 'cuxirin' 'notin' 'gosate'\n",
      " 'monemodiase' 'debome' 'lixegimoric' 'sacrode' 'prefluflomycin'\n",
      " 'thiostasteglume' 'flalurin' 'gohevitravir' 'sizubesin' 'lehydrome'\n",
      " 'masonic' 'devacin' 'pranic' 'nenizevir']\n"
     ]
    }
   ],
   "source": [
    "drug_name = df['drug_name'].unique()\n",
    "print(drug_name)"
   ]
  },
  {
   "cell_type": "code",
   "execution_count": 39,
   "id": "9ab89ecf",
   "metadata": {},
   "outputs": [],
   "source": [
    "bin_dict ={}\n",
    "for drug in drug_name:\n",
    "    bin_dict[drug] = {}\n",
    "    for b in bin:\n",
    "        if drug in bin_pay[b,:]:\n",
    "            bin_dict[drug][str(b)] = bin_pay[b,drug]\n",
    "        else:\n",
    "            bin_dict[drug][str(b)] = None"
   ]
  },
  {
   "cell_type": "code",
   "execution_count": 40,
   "id": "5510f84b",
   "metadata": {},
   "outputs": [],
   "source": [
    "bin_df = pd.DataFrame.from_dict(bin_dict)"
   ]
  },
  {
   "cell_type": "code",
   "execution_count": 41,
   "id": "2cc80bf0",
   "metadata": {},
   "outputs": [
    {
     "data": {
      "text/html": [
       "<div>\n",
       "<style scoped>\n",
       "    .dataframe tbody tr th:only-of-type {\n",
       "        vertical-align: middle;\n",
       "    }\n",
       "\n",
       "    .dataframe tbody tr th {\n",
       "        vertical-align: top;\n",
       "    }\n",
       "\n",
       "    .dataframe thead th {\n",
       "        text-align: right;\n",
       "    }\n",
       "</style>\n",
       "<table border=\"1\" class=\"dataframe\">\n",
       "  <thead>\n",
       "    <tr style=\"text-align: right;\">\n",
       "      <th></th>\n",
       "      <th>tanoclolol</th>\n",
       "      <th>oxasoted</th>\n",
       "      <th>cupitelol</th>\n",
       "      <th>mamate</th>\n",
       "      <th>lalol</th>\n",
       "      <th>foxivelule</th>\n",
       "      <th>tafistitrisin</th>\n",
       "      <th>prazinib</th>\n",
       "      <th>momudobatin</th>\n",
       "      <th>gentipapavir</th>\n",
       "      <th>...</th>\n",
       "      <th>prefluflomycin</th>\n",
       "      <th>thiostasteglume</th>\n",
       "      <th>flalurin</th>\n",
       "      <th>gohevitravir</th>\n",
       "      <th>sizubesin</th>\n",
       "      <th>lehydrome</th>\n",
       "      <th>masonic</th>\n",
       "      <th>devacin</th>\n",
       "      <th>pranic</th>\n",
       "      <th>nenizevir</th>\n",
       "    </tr>\n",
       "  </thead>\n",
       "  <tbody>\n",
       "    <tr>\n",
       "      <th>725700</th>\n",
       "      <td>9.430616</td>\n",
       "      <td>9.566277</td>\n",
       "      <td>12.573548</td>\n",
       "      <td>60.503886</td>\n",
       "      <td>12.581998</td>\n",
       "      <td>9.633919</td>\n",
       "      <td>9.474094</td>\n",
       "      <td>11.497591</td>\n",
       "      <td>41.733305</td>\n",
       "      <td>84.881214</td>\n",
       "      <td>...</td>\n",
       "      <td>286.196570</td>\n",
       "      <td>18.525547</td>\n",
       "      <td>83.657595</td>\n",
       "      <td>12.991694</td>\n",
       "      <td>63.304266</td>\n",
       "      <td>83.054625</td>\n",
       "      <td>258.631688</td>\n",
       "      <td>148.190585</td>\n",
       "      <td>216.935383</td>\n",
       "      <td>96.995732</td>\n",
       "    </tr>\n",
       "    <tr>\n",
       "      <th>664344</th>\n",
       "      <td>10.876325</td>\n",
       "      <td>10.145525</td>\n",
       "      <td>14.418850</td>\n",
       "      <td>48.628294</td>\n",
       "      <td>13.454202</td>\n",
       "      <td>10.542445</td>\n",
       "      <td>10.169446</td>\n",
       "      <td>12.458290</td>\n",
       "      <td>35.650376</td>\n",
       "      <td>71.895811</td>\n",
       "      <td>...</td>\n",
       "      <td>233.644993</td>\n",
       "      <td>17.498810</td>\n",
       "      <td>71.286714</td>\n",
       "      <td>15.065597</td>\n",
       "      <td>54.496267</td>\n",
       "      <td>70.182042</td>\n",
       "      <td>208.353975</td>\n",
       "      <td>124.505930</td>\n",
       "      <td>169.651030</td>\n",
       "      <td>70.902903</td>\n",
       "    </tr>\n",
       "    <tr>\n",
       "      <th>571569</th>\n",
       "      <td>8.339670</td>\n",
       "      <td>8.391312</td>\n",
       "      <td>11.188427</td>\n",
       "      <td>62.178699</td>\n",
       "      <td>8.466421</td>\n",
       "      <td>8.771408</td>\n",
       "      <td>8.784920</td>\n",
       "      <td>8.690487</td>\n",
       "      <td>48.637806</td>\n",
       "      <td>61.490779</td>\n",
       "      <td>...</td>\n",
       "      <td>303.460052</td>\n",
       "      <td>15.501420</td>\n",
       "      <td>87.459273</td>\n",
       "      <td>12.131915</td>\n",
       "      <td>36.073806</td>\n",
       "      <td>83.082195</td>\n",
       "      <td>270.060365</td>\n",
       "      <td>154.681527</td>\n",
       "      <td>177.649156</td>\n",
       "      <td>99.248056</td>\n",
       "    </tr>\n",
       "    <tr>\n",
       "      <th>96934</th>\n",
       "      <td>9.047070</td>\n",
       "      <td>9.539291</td>\n",
       "      <td>13.217934</td>\n",
       "      <td>45.385082</td>\n",
       "      <td>12.903973</td>\n",
       "      <td>9.563696</td>\n",
       "      <td>9.699517</td>\n",
       "      <td>11.973902</td>\n",
       "      <td>34.995788</td>\n",
       "      <td>75.019310</td>\n",
       "      <td>...</td>\n",
       "      <td>244.170024</td>\n",
       "      <td>18.977835</td>\n",
       "      <td>67.860873</td>\n",
       "      <td>12.502837</td>\n",
       "      <td>40.798354</td>\n",
       "      <td>75.431875</td>\n",
       "      <td>226.895009</td>\n",
       "      <td>129.497816</td>\n",
       "      <td>173.813239</td>\n",
       "      <td>90.374167</td>\n",
       "    </tr>\n",
       "    <tr>\n",
       "      <th>539437</th>\n",
       "      <td>11.121930</td>\n",
       "      <td>11.327650</td>\n",
       "      <td>15.470000</td>\n",
       "      <td>63.985794</td>\n",
       "      <td>11.141959</td>\n",
       "      <td>11.127365</td>\n",
       "      <td>11.129864</td>\n",
       "      <td>11.424601</td>\n",
       "      <td>40.391883</td>\n",
       "      <td>89.198913</td>\n",
       "      <td>...</td>\n",
       "      <td>293.084251</td>\n",
       "      <td>18.144315</td>\n",
       "      <td>86.702665</td>\n",
       "      <td>15.470000</td>\n",
       "      <td>66.329164</td>\n",
       "      <td>42.880781</td>\n",
       "      <td>258.752456</td>\n",
       "      <td>150.150449</td>\n",
       "      <td>131.527618</td>\n",
       "      <td>97.402174</td>\n",
       "    </tr>\n",
       "    <tr>\n",
       "      <th>322463</th>\n",
       "      <td>7.823184</td>\n",
       "      <td>8.329758</td>\n",
       "      <td>10.611370</td>\n",
       "      <td>23.181281</td>\n",
       "      <td>9.951386</td>\n",
       "      <td>8.646214</td>\n",
       "      <td>9.546910</td>\n",
       "      <td>11.596389</td>\n",
       "      <td>22.592412</td>\n",
       "      <td>44.578673</td>\n",
       "      <td>...</td>\n",
       "      <td>106.877298</td>\n",
       "      <td>10.897415</td>\n",
       "      <td>47.550933</td>\n",
       "      <td>11.271692</td>\n",
       "      <td>39.555277</td>\n",
       "      <td>36.414118</td>\n",
       "      <td>89.360395</td>\n",
       "      <td>74.368266</td>\n",
       "      <td>101.907029</td>\n",
       "      <td>61.972466</td>\n",
       "    </tr>\n",
       "    <tr>\n",
       "      <th>757349</th>\n",
       "      <td>12.745650</td>\n",
       "      <td>12.496246</td>\n",
       "      <td>16.342212</td>\n",
       "      <td>50.856529</td>\n",
       "      <td>16.368008</td>\n",
       "      <td>12.668048</td>\n",
       "      <td>12.910444</td>\n",
       "      <td>13.167169</td>\n",
       "      <td>36.370670</td>\n",
       "      <td>82.119072</td>\n",
       "      <td>...</td>\n",
       "      <td>247.485952</td>\n",
       "      <td>18.788418</td>\n",
       "      <td>83.095638</td>\n",
       "      <td>16.812766</td>\n",
       "      <td>50.992275</td>\n",
       "      <td>69.284455</td>\n",
       "      <td>245.158289</td>\n",
       "      <td>144.949694</td>\n",
       "      <td>203.383932</td>\n",
       "      <td>93.227115</td>\n",
       "    </tr>\n",
       "    <tr>\n",
       "      <th>691847</th>\n",
       "      <td>10.456818</td>\n",
       "      <td>10.962972</td>\n",
       "      <td>14.892457</td>\n",
       "      <td>42.989626</td>\n",
       "      <td>14.691579</td>\n",
       "      <td>10.955326</td>\n",
       "      <td>13.644542</td>\n",
       "      <td>12.331799</td>\n",
       "      <td>27.306101</td>\n",
       "      <td>59.921805</td>\n",
       "      <td>...</td>\n",
       "      <td>255.303502</td>\n",
       "      <td>19.312374</td>\n",
       "      <td>75.352421</td>\n",
       "      <td>16.102636</td>\n",
       "      <td>35.695364</td>\n",
       "      <td>60.616000</td>\n",
       "      <td>176.209262</td>\n",
       "      <td>121.882055</td>\n",
       "      <td>176.206549</td>\n",
       "      <td>58.305506</td>\n",
       "    </tr>\n",
       "    <tr>\n",
       "      <th>160389</th>\n",
       "      <td>8.595318</td>\n",
       "      <td>9.106088</td>\n",
       "      <td>12.540000</td>\n",
       "      <td>53.209796</td>\n",
       "      <td>12.540000</td>\n",
       "      <td>9.157241</td>\n",
       "      <td>9.043986</td>\n",
       "      <td>11.433165</td>\n",
       "      <td>38.471303</td>\n",
       "      <td>81.043165</td>\n",
       "      <td>...</td>\n",
       "      <td>247.321213</td>\n",
       "      <td>19.247895</td>\n",
       "      <td>78.467384</td>\n",
       "      <td>14.034865</td>\n",
       "      <td>57.334412</td>\n",
       "      <td>73.191034</td>\n",
       "      <td>232.854532</td>\n",
       "      <td>131.976111</td>\n",
       "      <td>199.988737</td>\n",
       "      <td>80.235000</td>\n",
       "    </tr>\n",
       "    <tr>\n",
       "      <th>956971</th>\n",
       "      <td>13.462372</td>\n",
       "      <td>13.795793</td>\n",
       "      <td>17.190000</td>\n",
       "      <td>53.273275</td>\n",
       "      <td>17.190000</td>\n",
       "      <td>13.467058</td>\n",
       "      <td>11.617372</td>\n",
       "      <td>7.506514</td>\n",
       "      <td>37.068304</td>\n",
       "      <td>88.617848</td>\n",
       "      <td>...</td>\n",
       "      <td>306.129810</td>\n",
       "      <td>15.965353</td>\n",
       "      <td>86.949876</td>\n",
       "      <td>16.784231</td>\n",
       "      <td>63.747529</td>\n",
       "      <td>80.886889</td>\n",
       "      <td>270.203918</td>\n",
       "      <td>153.524964</td>\n",
       "      <td>210.315129</td>\n",
       "      <td>97.440000</td>\n",
       "    </tr>\n",
       "    <tr>\n",
       "      <th>718350</th>\n",
       "      <td>9.557078</td>\n",
       "      <td>9.614824</td>\n",
       "      <td>12.740000</td>\n",
       "      <td>47.534322</td>\n",
       "      <td>12.740000</td>\n",
       "      <td>9.696112</td>\n",
       "      <td>9.328916</td>\n",
       "      <td>11.653431</td>\n",
       "      <td>40.071222</td>\n",
       "      <td>90.010705</td>\n",
       "      <td>...</td>\n",
       "      <td>300.038641</td>\n",
       "      <td>20.494212</td>\n",
       "      <td>87.412953</td>\n",
       "      <td>12.740000</td>\n",
       "      <td>65.048673</td>\n",
       "      <td>79.374250</td>\n",
       "      <td>264.981040</td>\n",
       "      <td>145.883793</td>\n",
       "      <td>202.565181</td>\n",
       "      <td>93.656842</td>\n",
       "    </tr>\n",
       "    <tr>\n",
       "      <th>756120</th>\n",
       "      <td>11.782994</td>\n",
       "      <td>11.693877</td>\n",
       "      <td>16.420000</td>\n",
       "      <td>57.413227</td>\n",
       "      <td>16.420000</td>\n",
       "      <td>11.731326</td>\n",
       "      <td>11.722944</td>\n",
       "      <td>13.589274</td>\n",
       "      <td>37.643504</td>\n",
       "      <td>86.775104</td>\n",
       "      <td>...</td>\n",
       "      <td>269.442312</td>\n",
       "      <td>21.782125</td>\n",
       "      <td>77.470649</td>\n",
       "      <td>16.420000</td>\n",
       "      <td>63.266281</td>\n",
       "      <td>74.518197</td>\n",
       "      <td>257.014390</td>\n",
       "      <td>142.675182</td>\n",
       "      <td>189.225377</td>\n",
       "      <td>NaN</td>\n",
       "    </tr>\n",
       "  </tbody>\n",
       "</table>\n",
       "<p>12 rows × 77 columns</p>\n",
       "</div>"
      ],
      "text/plain": [
       "        tanoclolol   oxasoted  cupitelol     mamate      lalol  foxivelule  \\\n",
       "725700    9.430616   9.566277  12.573548  60.503886  12.581998    9.633919   \n",
       "664344   10.876325  10.145525  14.418850  48.628294  13.454202   10.542445   \n",
       "571569    8.339670   8.391312  11.188427  62.178699   8.466421    8.771408   \n",
       "96934     9.047070   9.539291  13.217934  45.385082  12.903973    9.563696   \n",
       "539437   11.121930  11.327650  15.470000  63.985794  11.141959   11.127365   \n",
       "322463    7.823184   8.329758  10.611370  23.181281   9.951386    8.646214   \n",
       "757349   12.745650  12.496246  16.342212  50.856529  16.368008   12.668048   \n",
       "691847   10.456818  10.962972  14.892457  42.989626  14.691579   10.955326   \n",
       "160389    8.595318   9.106088  12.540000  53.209796  12.540000    9.157241   \n",
       "956971   13.462372  13.795793  17.190000  53.273275  17.190000   13.467058   \n",
       "718350    9.557078   9.614824  12.740000  47.534322  12.740000    9.696112   \n",
       "756120   11.782994  11.693877  16.420000  57.413227  16.420000   11.731326   \n",
       "\n",
       "        tafistitrisin   prazinib  momudobatin  gentipapavir  ...  \\\n",
       "725700       9.474094  11.497591    41.733305     84.881214  ...   \n",
       "664344      10.169446  12.458290    35.650376     71.895811  ...   \n",
       "571569       8.784920   8.690487    48.637806     61.490779  ...   \n",
       "96934        9.699517  11.973902    34.995788     75.019310  ...   \n",
       "539437      11.129864  11.424601    40.391883     89.198913  ...   \n",
       "322463       9.546910  11.596389    22.592412     44.578673  ...   \n",
       "757349      12.910444  13.167169    36.370670     82.119072  ...   \n",
       "691847      13.644542  12.331799    27.306101     59.921805  ...   \n",
       "160389       9.043986  11.433165    38.471303     81.043165  ...   \n",
       "956971      11.617372   7.506514    37.068304     88.617848  ...   \n",
       "718350       9.328916  11.653431    40.071222     90.010705  ...   \n",
       "756120      11.722944  13.589274    37.643504     86.775104  ...   \n",
       "\n",
       "        prefluflomycin  thiostasteglume   flalurin  gohevitravir  sizubesin  \\\n",
       "725700      286.196570        18.525547  83.657595     12.991694  63.304266   \n",
       "664344      233.644993        17.498810  71.286714     15.065597  54.496267   \n",
       "571569      303.460052        15.501420  87.459273     12.131915  36.073806   \n",
       "96934       244.170024        18.977835  67.860873     12.502837  40.798354   \n",
       "539437      293.084251        18.144315  86.702665     15.470000  66.329164   \n",
       "322463      106.877298        10.897415  47.550933     11.271692  39.555277   \n",
       "757349      247.485952        18.788418  83.095638     16.812766  50.992275   \n",
       "691847      255.303502        19.312374  75.352421     16.102636  35.695364   \n",
       "160389      247.321213        19.247895  78.467384     14.034865  57.334412   \n",
       "956971      306.129810        15.965353  86.949876     16.784231  63.747529   \n",
       "718350      300.038641        20.494212  87.412953     12.740000  65.048673   \n",
       "756120      269.442312        21.782125  77.470649     16.420000  63.266281   \n",
       "\n",
       "        lehydrome     masonic     devacin      pranic  nenizevir  \n",
       "725700  83.054625  258.631688  148.190585  216.935383  96.995732  \n",
       "664344  70.182042  208.353975  124.505930  169.651030  70.902903  \n",
       "571569  83.082195  270.060365  154.681527  177.649156  99.248056  \n",
       "96934   75.431875  226.895009  129.497816  173.813239  90.374167  \n",
       "539437  42.880781  258.752456  150.150449  131.527618  97.402174  \n",
       "322463  36.414118   89.360395   74.368266  101.907029  61.972466  \n",
       "757349  69.284455  245.158289  144.949694  203.383932  93.227115  \n",
       "691847  60.616000  176.209262  121.882055  176.206549  58.305506  \n",
       "160389  73.191034  232.854532  131.976111  199.988737  80.235000  \n",
       "956971  80.886889  270.203918  153.524964  210.315129  97.440000  \n",
       "718350  79.374250  264.981040  145.883793  202.565181  93.656842  \n",
       "756120  74.518197  257.014390  142.675182  189.225377        NaN  \n",
       "\n",
       "[12 rows x 77 columns]"
      ]
     },
     "execution_count": 41,
     "metadata": {},
     "output_type": "execute_result"
    }
   ],
   "source": [
    "bin_df"
   ]
  },
  {
   "cell_type": "code",
   "execution_count": null,
   "id": "a4014879",
   "metadata": {},
   "outputs": [],
   "source": []
  }
 ],
 "metadata": {
  "kernelspec": {
   "display_name": "Python 3 (ipykernel)",
   "language": "python",
   "name": "python3"
  },
  "language_info": {
   "codemirror_mode": {
    "name": "ipython",
    "version": 3
   },
   "file_extension": ".py",
   "mimetype": "text/x-python",
   "name": "python",
   "nbconvert_exporter": "python",
   "pygments_lexer": "ipython3",
   "version": "3.10.8"
  }
 },
 "nbformat": 4,
 "nbformat_minor": 5
}
