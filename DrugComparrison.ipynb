{
 "cells": [
  {
   "cell_type": "markdown",
   "id": "66dc3abc",
   "metadata": {},
   "source": [
    "# Demonstration of pickled HBGR Model\n",
    "\n",
    "This notebook shows a simple application of the HGBR patient pay predicting model that allows a doctor to compare the predicted patient pay for mulitple drugs that have been prescribed for a particular diagnosis."
   ]
  },
  {
   "cell_type": "code",
   "execution_count": 4,
   "id": "951dd204",
   "metadata": {},
   "outputs": [],
   "source": [
    "import numpy as np\n",
    "import pandas as pd\n",
    "import matplotlib.pyplot as plt\n",
    "import seaborn as sns\n",
    "\n",
    "from sklearn.model_selection import train_test_split\n",
    "\n",
    "import pickle as pkl"
   ]
  },
  {
   "cell_type": "code",
   "execution_count": 5,
   "id": "1e5f469e",
   "metadata": {},
   "outputs": [],
   "source": [
    "# This cell is needed to create the diag_to_drugs dictionary below.\n",
    "\n",
    "cmm_data = pd.read_csv('/home/ruggiec/Downloads/pharmacy_tx.csv')\n",
    "\n",
    "cmm_data_no_dups = cmm_data.drop_duplicates()\n",
    "\n",
    "cmm_data = cmm_data[cmm_data.rejected == 0].copy()\n",
    "\n",
    "cmm_train, cmm_test = train_test_split(cmm_data, shuffle=True, \n",
    "                             random_state= 614, test_size=0.2)"
   ]
  },
  {
   "cell_type": "markdown",
   "id": "80d26a6d",
   "metadata": {},
   "source": [
    "The model is open and saved as pipe."
   ]
  },
  {
   "cell_type": "code",
   "execution_count": 6,
   "id": "9d706c23",
   "metadata": {},
   "outputs": [],
   "source": [
    "with open('hgbr_web', 'rb') as f:\n",
    "    pipe = pkl.load(f)"
   ]
  },
  {
   "cell_type": "code",
   "execution_count": 7,
   "id": "79edcfa3",
   "metadata": {},
   "outputs": [],
   "source": [
    "# A dictionary of drugs prescribed for a given diagnosis.\n",
    "\n",
    "diag_to_drug = {}\n",
    "for diag in cmm_train.diagnosis.unique():\n",
    "    diag_to_drug[diag] = cmm_train[cmm_train.diagnosis == diag]['drug'].unique()"
   ]
  },
  {
   "cell_type": "code",
   "execution_count": 8,
   "id": "992b4434",
   "metadata": {},
   "outputs": [],
   "source": [
    "def option_cost(diag, month, bin_num, pcn_num, group_num):\n",
    "    features = np.array([[month, bin_num, pcn_num, group_num]], dtype='object')\n",
    "    drugs = []\n",
    "    pay = []\n",
    "    for drug in diag_to_drug[diag]:\n",
    "        drugs.append(drug)\n",
    "        pay.append(pipe.predict(np.append(features, drug).reshape(-1,5))[0])\n",
    "    df = {'drugs':drugs, 'predicted_pay':pay}\n",
    "    return pd.DataFrame(df).sort_values('predicted_pay')"
   ]
  },
  {
   "cell_type": "markdown",
   "id": "50933cb6",
   "metadata": {},
   "source": [
    "Below is an example for this simple application."
   ]
  },
  {
   "cell_type": "code",
   "execution_count": 9,
   "id": "f0e8da5f",
   "metadata": {},
   "outputs": [
    {
     "data": {
      "text/html": [
       "<div>\n",
       "<style scoped>\n",
       "    .dataframe tbody tr th:only-of-type {\n",
       "        vertical-align: middle;\n",
       "    }\n",
       "\n",
       "    .dataframe tbody tr th {\n",
       "        vertical-align: top;\n",
       "    }\n",
       "\n",
       "    .dataframe thead th {\n",
       "        text-align: right;\n",
       "    }\n",
       "</style>\n",
       "<table border=\"1\" class=\"dataframe\">\n",
       "  <thead>\n",
       "    <tr style=\"text-align: right;\">\n",
       "      <th></th>\n",
       "      <th>drugs</th>\n",
       "      <th>predicted_pay</th>\n",
       "    </tr>\n",
       "  </thead>\n",
       "  <tbody>\n",
       "    <tr>\n",
       "      <th>2</th>\n",
       "      <td>generic todiadianic</td>\n",
       "      <td>49.365954</td>\n",
       "    </tr>\n",
       "    <tr>\n",
       "      <th>4</th>\n",
       "      <td>branded todiadianic</td>\n",
       "      <td>92.863260</td>\n",
       "    </tr>\n",
       "    <tr>\n",
       "      <th>0</th>\n",
       "      <td>branded pranic</td>\n",
       "      <td>221.182812</td>\n",
       "    </tr>\n",
       "    <tr>\n",
       "      <th>1</th>\n",
       "      <td>branded masonic</td>\n",
       "      <td>271.147075</td>\n",
       "    </tr>\n",
       "    <tr>\n",
       "      <th>3</th>\n",
       "      <td>branded monemodiase</td>\n",
       "      <td>541.926317</td>\n",
       "    </tr>\n",
       "  </tbody>\n",
       "</table>\n",
       "</div>"
      ],
      "text/plain": [
       "                 drugs  predicted_pay\n",
       "2  generic todiadianic      49.365954\n",
       "4  branded todiadianic      92.863260\n",
       "0       branded pranic     221.182812\n",
       "1      branded masonic     271.147075\n",
       "3  branded monemodiase     541.926317"
      ]
     },
     "execution_count": 9,
     "metadata": {},
     "output_type": "execute_result"
    }
   ],
   "source": [
    "option_cost('B45.03', 5, 725700, '1UQC', np.nan)"
   ]
  },
  {
   "cell_type": "code",
   "execution_count": null,
   "id": "409825ee",
   "metadata": {},
   "outputs": [],
   "source": []
  }
 ],
 "metadata": {
  "kernelspec": {
   "display_name": "Python 3 (ipykernel)",
   "language": "python",
   "name": "python3"
  },
  "language_info": {
   "codemirror_mode": {
    "name": "ipython",
    "version": 3
   },
   "file_extension": ".py",
   "mimetype": "text/x-python",
   "name": "python",
   "nbconvert_exporter": "python",
   "pygments_lexer": "ipython3",
   "version": "3.10.4"
  }
 },
 "nbformat": 4,
 "nbformat_minor": 5
}
