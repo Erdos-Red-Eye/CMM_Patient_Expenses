{
 "cells": [
  {
   "cell_type": "code",
   "execution_count": 1,
   "id": "65afa5e6",
   "metadata": {},
   "outputs": [],
   "source": [
    "import numpy as np\n",
    "import pandas as pd\n",
    "\n",
    "import matplotlib.pyplot as plt\n",
    "import seaborn as sns\n",
    "\n",
    "from sklearn.model_selection import train_test_split"
   ]
  },
  {
   "cell_type": "code",
   "execution_count": 2,
   "id": "b4d336c3",
   "metadata": {},
   "outputs": [],
   "source": [
    "cmm_data = pd.read_csv('/home/ruggiec/Downloads/pharmacy_tx.csv')\n",
    "\n",
    "#cmm_data_no_dups = cmm_data.drop_duplicates()\n",
    "\n",
    "cmm_train, cmm_test = train_test_split(cmm_data, shuffle=True, \n",
    "                             random_state= 614, test_size=0.2)"
   ]
  },
  {
   "cell_type": "code",
   "execution_count": 6,
   "id": "bd42637d",
   "metadata": {},
   "outputs": [],
   "source": [
    "def is_it_generic(text):\n",
    "    if text.split()[0] == 'generic':\n",
    "        return 1\n",
    "    else:\n",
    "        return 0\n",
    "    \n",
    "def drug_name(text):\n",
    "    return text.split()[1]\n",
    "\n",
    "def pharm_split(text):\n",
    "    return int(text.split('#')[1])"
   ]
  },
  {
   "cell_type": "code",
   "execution_count": 4,
   "id": "2c4654b1",
   "metadata": {},
   "outputs": [],
   "source": [
    "cmm_train['tx_date'] = pd.to_datetime(cmm_train.tx_date)\n",
    "cmm_train['month'] = cmm_train.tx_date.dt.month\n",
    "cmm_train['day_of_year'] = cmm_train.tx_date.dt.dayofyear"
   ]
  },
  {
   "cell_type": "code",
   "execution_count": 7,
   "id": "aa091388",
   "metadata": {},
   "outputs": [],
   "source": [
    "cmm_train['generic'] = cmm_train.drug.apply(is_it_generic)\n",
    "cmm_train['name'] = cmm_train['drug'].apply(drug_name)\n",
    "cmm_train['private'] = cmm_train.group.isna().astype(int)\n",
    "cmm_train['popularity'] = cmm_train.groupby('name')[['tx_date']].transform('count')\n",
    "cmm_train['rejected'] = cmm_train['rejected'].astype(int)\n",
    "cmm_train['rejected_count'] = cmm_train.groupby('name')['rejected'].transform('sum')\n",
    "cmm_train['pharm_num'] = cmm_train.pharmacy.apply(pharm_split)"
   ]
  },
  {
   "cell_type": "code",
   "execution_count": 9,
   "id": "cc921b6d",
   "metadata": {},
   "outputs": [],
   "source": [
    "cmm_train['binpcn'] = cmm_train.bin.astype(str).fillna('') + cmm_train.pcn.fillna('')\n",
    "cmm_train['bingroup'] = cmm_train.bin.astype(str).fillna('') + cmm_train.group.fillna('')\n",
    "cmm_train['binpcngroup'] = cmm_train.bin.astype(str).fillna('') + cmm_train.pcn.fillna('') + cmm_train.group.fillna('')"
   ]
  },
  {
   "cell_type": "code",
   "execution_count": 21,
   "id": "f0c3a6a0",
   "metadata": {},
   "outputs": [
    {
     "name": "stdout",
     "output_type": "stream",
     "text": [
      "There are 63 separate insurance plans in the data set.\n",
      "There are 114 drugs in the data set.\n",
      "Leading to 7182 combinations of drug and insurance plan.\n"
     ]
    }
   ],
   "source": [
    "print('There are', cmm_train.binpcngroup.nunique(), \n",
    "      'separate insurance plans in the data set.')\n",
    "print('There are', cmm_train.drug.nunique(), \n",
    "      'drugs in the data set.')\n",
    "print('Leading to', cmm_train.binpcngroup.nunique()*cmm_train.drug.nunique(), \n",
    "      'combinations of drug and insurance plan.')"
   ]
  },
  {
   "cell_type": "code",
   "execution_count": 36,
   "id": "0036a7b1",
   "metadata": {},
   "outputs": [
    {
     "data": {
      "text/plain": [
       "'7257009C5MOR3S2QKZ0OFNWS6X'"
      ]
     },
     "execution_count": 36,
     "metadata": {},
     "output_type": "execute_result"
    }
   ],
   "source": [
    "cmm_train.binpcngroup.sample(1).values[0]"
   ]
  },
  {
   "cell_type": "code",
   "execution_count": 50,
   "id": "f6538988",
   "metadata": {},
   "outputs": [
    {
     "data": {
      "text/plain": [
       "drug\n",
       "branded antimab            [42.85, 20.32, 21.06, 20.22, 21.85, 21.36, 21....\n",
       "branded bovirol                                                      [12.64]\n",
       "branded brede                                                         [12.8]\n",
       "branded choxestamenium     [150.93, 150.37, 150.24, 0.0, 150.92, 150.71, ...\n",
       "branded cibroniudosin                                                [11.15]\n",
       "                                                 ...                        \n",
       "generic tanoclolol                                                     [6.5]\n",
       "generic thiostasteglume    [14.32, 15.4, 14.57, 13.3, 14.94, 14.65, 15.99...\n",
       "generic todiadianic        [48.84, 49.68, 0.0, 47.68, 48.61, 48.34, 49.35...\n",
       "generic tovane                                                        [9.53]\n",
       "generic vocopirin          [17.58, 12.55, 12.56, 12.9, 11.13, 11.65, 11.8...\n",
       "Name: patient_pay, Length: 114, dtype: object"
      ]
     },
     "execution_count": 50,
     "metadata": {},
     "output_type": "execute_result"
    }
   ],
   "source": [
    "cmm_train[cmm_train.binpcngroup == \n",
    "          cmm_train.binpcngroup.sample(1).values[0]].groupby('drug')['patient_pay'].unique()"
   ]
  },
  {
   "cell_type": "code",
   "execution_count": 56,
   "id": "7dc57c96",
   "metadata": {},
   "outputs": [
    {
     "data": {
      "text/plain": [
       "drug\n",
       "branded antimab             5.181009\n",
       "branded bovirol             0.000000\n",
       "branded brede               0.000000\n",
       "branded choxestamenium     66.193669\n",
       "branded cibroniudosin       0.000000\n",
       "                             ...    \n",
       "generic tanoclolol          0.000000\n",
       "generic thiostasteglume     2.306000\n",
       "generic todiadianic         8.528204\n",
       "generic tovane              0.000000\n",
       "generic vocopirin           1.481350\n",
       "Name: patient_pay, Length: 114, dtype: float64"
      ]
     },
     "execution_count": 56,
     "metadata": {},
     "output_type": "execute_result"
    }
   ],
   "source": [
    "cmm_train[cmm_train.binpcngroup == \n",
    "          cmm_train.binpcngroup.sample(1).values[0]].groupby('drug')['patient_pay'].std()"
   ]
  },
  {
   "cell_type": "code",
   "execution_count": null,
   "id": "31344db8",
   "metadata": {},
   "outputs": [],
   "source": []
  }
 ],
 "metadata": {
  "kernelspec": {
   "display_name": "Python 3 (ipykernel)",
   "language": "python",
   "name": "python3"
  },
  "language_info": {
   "codemirror_mode": {
    "name": "ipython",
    "version": 3
   },
   "file_extension": ".py",
   "mimetype": "text/x-python",
   "name": "python",
   "nbconvert_exporter": "python",
   "pygments_lexer": "ipython3",
   "version": "3.10.4"
  }
 },
 "nbformat": 4,
 "nbformat_minor": 5
}
