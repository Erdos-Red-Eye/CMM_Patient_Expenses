{
 "cells": [
  {
   "cell_type": "code",
   "execution_count": 2,
   "id": "267c9a62",
   "metadata": {},
   "outputs": [],
   "source": [
    "import numpy as np\n",
    "import pandas as pd\n",
    "\n",
    "import matplotlib.pyplot as plt\n",
    "import seaborn as sns\n",
    "\n",
    "from sklearn.model_selection import train_test_split"
   ]
  },
  {
   "cell_type": "code",
   "execution_count": 3,
   "id": "5e5c6079",
   "metadata": {},
   "outputs": [],
   "source": [
    "cmm_data = pd.read_csv('/home/ruggiec/Downloads/pharmacy_tx.csv')\n",
    "\n",
    "#cmm_data_no_dups = cmm_data.drop_duplicates()\n",
    "\n",
    "cmm_train, cmm_test = train_test_split(cmm_data, shuffle=True, \n",
    "                             random_state= 614, test_size=0.2)"
   ]
  },
  {
   "cell_type": "code",
   "execution_count": 4,
   "id": "dc35b7f7",
   "metadata": {},
   "outputs": [],
   "source": [
    "def is_it_generic(text):\n",
    "    if text.split()[0] == 'generic':\n",
    "        return 1\n",
    "    else:\n",
    "        return 0\n",
    "    \n",
    "def drug_name(text):\n",
    "    return text.split()[1]\n",
    "\n",
    "def pharm_split(text):\n",
    "    return int(text.split('#')[1])"
   ]
  },
  {
   "cell_type": "code",
   "execution_count": 5,
   "id": "2ea82e06",
   "metadata": {},
   "outputs": [],
   "source": [
    "cmm_train['tx_date'] = pd.to_datetime(cmm_train.tx_date)\n",
    "cmm_train['month'] = cmm_train.tx_date.dt.month\n",
    "cmm_train['day_of_year'] = cmm_train.tx_date.dt.dayofyear"
   ]
  },
  {
   "cell_type": "code",
   "execution_count": 6,
   "id": "3068a05d",
   "metadata": {},
   "outputs": [],
   "source": [
    "cmm_train['generic'] = cmm_train.drug.apply(is_it_generic)\n",
    "cmm_train['name'] = cmm_train['drug'].apply(drug_name)\n",
    "cmm_train['private'] = cmm_train.group.isna().astype(int)\n",
    "cmm_train['popularity'] = cmm_train.groupby('name')[['tx_date']].transform('count')\n",
    "cmm_train['rejected'] = cmm_train['rejected'].astype(int)\n",
    "cmm_train['rejected_count'] = cmm_train.groupby('name')['rejected'].transform('sum')\n",
    "cmm_train['pharm_num'] = cmm_train.pharmacy.apply(pharm_split)"
   ]
  },
  {
   "cell_type": "code",
   "execution_count": null,
   "id": "1994b238",
   "metadata": {},
   "outputs": [],
   "source": [
    "cmm_train['binpcn'] = cmm_train.bin.astype(str).fillna('') + cmm_train.pcn.fillna('')\n",
    "cmm_train['bingroup'] = cmm_train.bin.astype(str).fillna('') + cmm_train.group.fillna('')\n",
    "cmm_train['binpcngroup'] = cmm_train.bin.astype(str).fillna('') + cmm_train.pcn.fillna('') + cmm_train.group.fillna('')"
   ]
  },
  {
   "cell_type": "code",
   "execution_count": null,
   "id": "1bdbc9cf",
   "metadata": {},
   "outputs": [],
   "source": [
    "print('There are', cmm_train.binpcngroup.nunique(), \n",
    "      'separate insurance plans in the data set.')\n",
    "print('There are', cmm_train.drug.nunique(), \n",
    "      'drugs in the data set.')\n",
    "print('Leading to', cmm_train.binpcngroup.nunique()*cmm_train.drug.nunique(), \n",
    "      'combinations of drug and insurance plan.')"
   ]
  },
  {
   "cell_type": "code",
   "execution_count": null,
   "id": "47c2384b",
   "metadata": {},
   "outputs": [],
   "source": [
    "cmm_train.binpcngroup.sample(1).values[0]"
   ]
  },
  {
   "cell_type": "code",
   "execution_count": null,
   "id": "e94162af",
   "metadata": {},
   "outputs": [],
   "source": [
    "cmm_train[cmm_train.binpcngroup == \n",
    "          cmm_train.binpcngroup.sample(1).values[0]].groupby('drug')['patient_pay'].unique()"
   ]
  },
  {
   "cell_type": "code",
   "execution_count": null,
   "id": "54cb3056",
   "metadata": {},
   "outputs": [],
   "source": [
    "cmm_train[cmm_train.binpcngroup == \n",
    "          cmm_train.binpcngroup.sample(1).values[0]].groupby('drug')['patient_pay'].std()"
   ]
  },
  {
   "cell_type": "code",
   "execution_count": null,
   "id": "42906640",
   "metadata": {},
   "outputs": [],
   "source": []
  }
 ],
 "metadata": {
  "kernelspec": {
   "display_name": "Python 3 (ipykernel)",
   "language": "python",
   "name": "python3"
  },
  "language_info": {
   "codemirror_mode": {
    "name": "ipython",
    "version": 3
   },
   "file_extension": ".py",
   "mimetype": "text/x-python",
   "name": "python",
   "nbconvert_exporter": "python",
   "pygments_lexer": "ipython3",
   "version": "3.10.4"
  }
 },
 "nbformat": 4,
 "nbformat_minor": 5
}
