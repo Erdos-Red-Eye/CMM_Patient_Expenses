{
 "cells": [
  {
   "cell_type": "markdown",
   "id": "ee42475a",
   "metadata": {},
   "source": [
    "# Regression Model for the Prediction of Patient Pay\n",
    "\n",
    "This model is based on the HistGradientBoostingRegressor in sklearn\n",
    "HistGradientBoostingRegressor has native support for categorical variables allowing for minimal preprocessing of the features in the data set. The categorical variables for insurance (bin, pcn, and group) and drug are transformed into ordinal values using the label encoder.\n",
    "\n",
    "Cross validation of model fitted only on the insurance information and drug name show a mean average precentage error of ~1.5%.\n"
   ]
  },
  {
   "cell_type": "markdown",
   "id": "bf009fd6",
   "metadata": {},
   "source": [
    "### Relevant libraries are imported."
   ]
  },
  {
   "cell_type": "code",
   "execution_count": 4,
   "id": "ce53e5d6",
   "metadata": {},
   "outputs": [],
   "source": [
    "import numpy as np\n",
    "import pandas as pd\n",
    "import matplotlib.pyplot as plt\n",
    "import seaborn as sns\n",
    "\n",
    "from sklearn.model_selection import train_test_split\n",
    "from sklearn.preprocessing import OrdinalEncoder\n",
    "\n",
    "from sklearn.ensemble import HistGradientBoostingRegressor\n",
    "\n",
    "from sklearn.model_selection import KFold, cross_val_score, cross_validate\n",
    "\n",
    "from sklearn.metrics import mean_absolute_error, mean_absolute_percentage_error, mean_squared_error"
   ]
  },
  {
   "cell_type": "markdown",
   "id": "cd052ce8",
   "metadata": {},
   "source": [
    "### Data set is imported and split into training and test sets.\n",
    "\n",
    "Before the data is split into training and test sets, duplicate instances are removed from the data set to prevent data leakage. Rejected claims are also removed from the data set as rejected claims do not offer any information on patient pay. "
   ]
  },
  {
   "cell_type": "code",
   "execution_count": 5,
   "id": "bddf942c",
   "metadata": {},
   "outputs": [],
   "source": [
    "cmm_data = pd.read_csv('/home/ruggiec/Downloads/pharmacy_tx.csv')\n",
    "\n",
    "cmm_data_no_dups = cmm_data.drop_duplicates()\n",
    "\n",
    "cmm_data = cmm_data[cmm_data.rejected == 0].copy()\n",
    "\n",
    "cmm_train, cmm_test = train_test_split(cmm_data, shuffle=True, \n",
    "                             random_state= 614, test_size=0.2)"
   ]
  },
  {
   "cell_type": "markdown",
   "id": "d659280c",
   "metadata": {},
   "source": [
    "### Rejected claims are removed from the data set\n",
    "\n",
    "Rejected claims do not offer any information on patient pay."
   ]
  },
  {
   "cell_type": "code",
   "execution_count": 3,
   "id": "3420e9cc",
   "metadata": {},
   "outputs": [],
   "source": [
    "cmm_paid = cmm_train.copy()"
   ]
  },
  {
   "cell_type": "markdown",
   "id": "46b933b4",
   "metadata": {},
   "source": [
    "### Minimal feature engineering is perfomed\n",
    "\n",
    "The month information is extracted from the 'tx_date' column and all categorical variables are encoded using the OrdinalEncoder."
   ]
  },
  {
   "cell_type": "code",
   "execution_count": 4,
   "id": "083b4241",
   "metadata": {},
   "outputs": [],
   "source": [
    "cmm_paid['tx_date'] = pd.to_datetime(cmm_paid.tx_date)\n",
    "cmm_paid['month'] = cmm_paid.tx_date.dt.month\n",
    "cmm_paid['day_of_year'] = cmm_paid.tx_date.dt.dayofyear"
   ]
  },
  {
   "cell_type": "code",
   "execution_count": 5,
   "id": "f395eef8",
   "metadata": {},
   "outputs": [],
   "source": [
    "enc = OrdinalEncoder()"
   ]
  },
  {
   "cell_type": "code",
   "execution_count": 6,
   "id": "1f0207bb",
   "metadata": {},
   "outputs": [],
   "source": [
    "encoded = enc.fit_transform(cmm_paid[['diagnosis', 'drug', 'bin', 'pcn', 'group']])\n",
    "cmm_paid['diagnosis_encoded'] = encoded[:,0]\n",
    "cmm_paid['drug_encoded'] = encoded[:,1]\n",
    "cmm_paid['bin_encoded'] = encoded[:,2]\n",
    "cmm_paid['pcn_encoded'] = encoded[:,3]\n",
    "cmm_paid['group_encoded'] = encoded[:,4]"
   ]
  },
  {
   "cell_type": "markdown",
   "id": "d5673a0e",
   "metadata": {},
   "source": [
    "### Model Perfomance\n",
    "\n",
    "Five models are trained below. The second model shows the importance of defining categorical features in the HistGradientBoostingRegressor."
   ]
  },
  {
   "cell_type": "code",
   "execution_count": 7,
   "id": "d6fd2ebe",
   "metadata": {},
   "outputs": [],
   "source": [
    "## Model 1\n",
    "## Baseline model using only insurance info and the drug name.\n",
    "\n",
    "features = ['bin_encoded', 'pcn_encoded', 'group_encoded', 'drug_encoded'] # features\n",
    "hgbr = HistGradientBoostingRegressor(random_state=412)\n",
    "base_scores = cross_validate(hgbr, cmm_paid[features], cmm_paid.patient_pay, \n",
    "                         cv=5, scoring=['r2', 'neg_root_mean_squared_error', \n",
    "                                        'neg_mean_absolute_percentage_error'])"
   ]
  },
  {
   "cell_type": "code",
   "execution_count": 8,
   "id": "92f1c3e0",
   "metadata": {},
   "outputs": [],
   "source": [
    "## Model 2\n",
    "## Improved model using only insurance info with defined categorical features.\n",
    "\n",
    "features = ['bin_encoded', 'pcn_encoded', 'group_encoded', 'drug_encoded'] # features\n",
    "hgbr = HistGradientBoostingRegressor(random_state=412, categorical_features=[0, 1, 2, 3])\n",
    "cat_scores = cross_validate(hgbr, cmm_paid[features], cmm_paid.patient_pay, \n",
    "                         cv=5, scoring=['r2', 'neg_root_mean_squared_error', \n",
    "                                        'neg_mean_absolute_percentage_error'])"
   ]
  },
  {
   "cell_type": "code",
   "execution_count": 9,
   "id": "301e7547",
   "metadata": {},
   "outputs": [],
   "source": [
    "## Model 3\n",
    "## This model is the same as the model 2 with no bound on the number of leaf nodes.\n",
    "## Training this model is slower (order of minutes) but shows greatly increased metrics.)\n",
    "\n",
    "features = ['bin_encoded', 'pcn_encoded', 'group_encoded', 'drug_encoded'] # features\n",
    "hgbr = HistGradientBoostingRegressor(random_state=412, categorical_features=[0, 1, 2, 3], max_leaf_nodes=None)\n",
    "scores = cross_validate(hgbr, cmm_paid[features], cmm_paid.patient_pay, \n",
    "                         cv=5, scoring=['r2', 'neg_root_mean_squared_error', \n",
    "                                        'neg_mean_absolute_percentage_error'])"
   ]
  },
  {
   "cell_type": "code",
   "execution_count": 10,
   "id": "083fc732",
   "metadata": {},
   "outputs": [],
   "source": [
    "## Model 4\n",
    "## This model includes day of year as a feature with no bound on the number of leaf nodes.\n",
    "## Training this model is slower (order of minutes) but shows greatly increased metrics.)\n",
    "\n",
    "features = ['bin_encoded', 'pcn_encoded', 'group_encoded', 'drug_encoded', 'day_of_year'] # features\n",
    "hgbr = HistGradientBoostingRegressor(random_state=412, categorical_features=[0, 1, 2, 3], max_leaf_nodes=None)\n",
    "scores_day = cross_validate(hgbr, cmm_paid[features], cmm_paid.patient_pay, \n",
    "                         cv=5, scoring=['r2', 'neg_root_mean_squared_error', \n",
    "                                        'neg_mean_absolute_percentage_error'])"
   ]
  },
  {
   "cell_type": "code",
   "execution_count": 11,
   "id": "6f267aac",
   "metadata": {},
   "outputs": [],
   "source": [
    "## Model 5\n",
    "## This model includes month as a feature with no bound on the number of leaf nodes.\n",
    "## Training this model is slower (order of minutes) but shows greatly increased metrics.)\n",
    "\n",
    "features = ['bin_encoded', 'pcn_encoded', 'group_encoded', 'drug_encoded', 'month'] # features\n",
    "hgbr = HistGradientBoostingRegressor(random_state=412, categorical_features=[0, 1, 2, 3, 4], max_leaf_nodes=None)\n",
    "scores_month = cross_validate(hgbr, cmm_paid[features], cmm_paid.patient_pay, \n",
    "                         cv=5, scoring=['r2', 'neg_root_mean_squared_error', \n",
    "                                        'neg_mean_absolute_percentage_error'])"
   ]
  },
  {
   "cell_type": "markdown",
   "id": "1a3b777f",
   "metadata": {},
   "source": [
    "### Comparrison of Models"
   ]
  },
  {
   "cell_type": "code",
   "execution_count": 12,
   "id": "0feecb61",
   "metadata": {},
   "outputs": [
    {
     "data": {
      "text/html": [
       "<div>\n",
       "<style scoped>\n",
       "    .dataframe tbody tr th:only-of-type {\n",
       "        vertical-align: middle;\n",
       "    }\n",
       "\n",
       "    .dataframe tbody tr th {\n",
       "        vertical-align: top;\n",
       "    }\n",
       "\n",
       "    .dataframe thead th {\n",
       "        text-align: right;\n",
       "    }\n",
       "</style>\n",
       "<table border=\"1\" class=\"dataframe\">\n",
       "  <thead>\n",
       "    <tr style=\"text-align: right;\">\n",
       "      <th></th>\n",
       "      <th>Model</th>\n",
       "      <th>Mean Training Time (s)</th>\n",
       "      <th>Mean Scoring Time (s)</th>\n",
       "      <th>Mean R2</th>\n",
       "      <th>Mean RMSE</th>\n",
       "      <th>Mean MAPE</th>\n",
       "    </tr>\n",
       "  </thead>\n",
       "  <tbody>\n",
       "    <tr>\n",
       "      <th>0</th>\n",
       "      <td>Model 1</td>\n",
       "      <td>15.865910</td>\n",
       "      <td>1.872885</td>\n",
       "      <td>0.941909</td>\n",
       "      <td>9.761691</td>\n",
       "      <td>32.537215</td>\n",
       "    </tr>\n",
       "    <tr>\n",
       "      <th>1</th>\n",
       "      <td>Model 2</td>\n",
       "      <td>18.169800</td>\n",
       "      <td>3.077982</td>\n",
       "      <td>0.992623</td>\n",
       "      <td>3.478517</td>\n",
       "      <td>9.392643</td>\n",
       "    </tr>\n",
       "    <tr>\n",
       "      <th>2</th>\n",
       "      <td>Model 3</td>\n",
       "      <td>108.165624</td>\n",
       "      <td>9.659096</td>\n",
       "      <td>0.996171</td>\n",
       "      <td>2.506311</td>\n",
       "      <td>1.588043</td>\n",
       "    </tr>\n",
       "    <tr>\n",
       "      <th>3</th>\n",
       "      <td>Model 4</td>\n",
       "      <td>490.725664</td>\n",
       "      <td>8.509540</td>\n",
       "      <td>0.997207</td>\n",
       "      <td>2.140481</td>\n",
       "      <td>1.507308</td>\n",
       "    </tr>\n",
       "    <tr>\n",
       "      <th>4</th>\n",
       "      <td>Model 5</td>\n",
       "      <td>286.502942</td>\n",
       "      <td>9.962141</td>\n",
       "      <td>0.997168</td>\n",
       "      <td>2.155320</td>\n",
       "      <td>1.418522</td>\n",
       "    </tr>\n",
       "  </tbody>\n",
       "</table>\n",
       "</div>"
      ],
      "text/plain": [
       "     Model  Mean Training Time (s)  Mean Scoring Time (s)   Mean R2  \\\n",
       "0  Model 1               15.865910               1.872885  0.941909   \n",
       "1  Model 2               18.169800               3.077982  0.992623   \n",
       "2  Model 3              108.165624               9.659096  0.996171   \n",
       "3  Model 4              490.725664               8.509540  0.997207   \n",
       "4  Model 5              286.502942               9.962141  0.997168   \n",
       "\n",
       "   Mean RMSE  Mean MAPE  \n",
       "0   9.761691  32.537215  \n",
       "1   3.478517   9.392643  \n",
       "2   2.506311   1.588043  \n",
       "3   2.140481   1.507308  \n",
       "4   2.155320   1.418522  "
      ]
     },
     "execution_count": 12,
     "metadata": {},
     "output_type": "execute_result"
    }
   ],
   "source": [
    "column_names = ['Model', 'Mean Training Time (s)', 'Mean Scoring Time (s)', 'Mean R2', \n",
    "                'Mean RMSE', 'Mean MAPE']\n",
    "model_metrics = [base_scores, cat_scores, scores, scores_day, scores_month]\n",
    "summary = np.zeros((5, 6))\n",
    "i,j = 0,1\n",
    "for metric in model_metrics:\n",
    "    for value in metric.values():\n",
    "        summary[i, j] = value.mean()\n",
    "        j+=1\n",
    "    j=1\n",
    "    i+=1\n",
    "    \n",
    "summary_metrics = pd.DataFrame(summary, columns=column_names)\n",
    "summary_metrics['Model'] = ['Model 1', 'Model 2', 'Model 3', 'Model 4', 'Model 5']\n",
    "summary_metrics['Mean RMSE'] = summary_metrics['Mean RMSE'] * -1\n",
    "summary_metrics['Mean MAPE'] = summary_metrics['Mean MAPE'] * -100\n",
    "summary_metrics"
   ]
  },
  {
   "cell_type": "markdown",
   "id": "c42e558d",
   "metadata": {},
   "source": [
    "Model 4 and Model 5 show very similar statistics. Model 5 outperforms Model 4 in two key areas training time and mean MAPE."
   ]
  },
  {
   "cell_type": "markdown",
   "id": "0213dfc2",
   "metadata": {},
   "source": [
    "### Build Pipeline\n",
    "\n",
    "Pipeline allows for the preprocessing and fitting/predicting on the data with a single object. This may be useful for building an application with the model or just predicting on the test set."
   ]
  },
  {
   "cell_type": "code",
   "execution_count": 13,
   "id": "976ab96b",
   "metadata": {},
   "outputs": [],
   "source": [
    "from sklearn.compose import ColumnTransformer\n",
    "from sklearn.pipeline import Pipeline"
   ]
  },
  {
   "cell_type": "code",
   "execution_count": 14,
   "id": "c715f9b0",
   "metadata": {},
   "outputs": [],
   "source": [
    "from sklearn.base import BaseEstimator, TransformerMixin\n",
    "\n",
    "class MonthTransformer(BaseEstimator, TransformerMixin):\n",
    "    def fit(self, X, y=None):\n",
    "        return self\n",
    "\n",
    "    def transform(Self, X, y = None):\n",
    "        X = pd.to_datetime(X)\n",
    "        X = X.dt.month.values.reshape(-1,1)\n",
    "        return X"
   ]
  },
  {
   "cell_type": "code",
   "execution_count": 15,
   "id": "cd18a216",
   "metadata": {},
   "outputs": [],
   "source": [
    "ct1 = ColumnTransformer(transformers=[('mt', MonthTransformer(), 0)], remainder='passthrough')\n",
    "ct2 = ColumnTransformer(transformers=[('enc', OrdinalEncoder(), \n",
    "                                       [1, 2, 3, 4])], remainder='passthrough')"
   ]
  },
  {
   "cell_type": "code",
   "execution_count": 16,
   "id": "4d319683",
   "metadata": {},
   "outputs": [],
   "source": [
    "hgbr_pipe = Pipeline([('months_column', ct1), ('remainder_columns', ct2), \n",
    "                      ('hgbr', HistGradientBoostingRegressor(categorical_features=[0,1,2,3,4], \n",
    "                                                             max_leaf_nodes=None))])"
   ]
  },
  {
   "cell_type": "code",
   "execution_count": 17,
   "id": "f05b5835",
   "metadata": {},
   "outputs": [],
   "source": [
    "X = cmm_paid[['tx_date', 'bin', 'pcn', 'group', 'drug']].copy()"
   ]
  },
  {
   "cell_type": "code",
   "execution_count": 18,
   "id": "fa7f8704",
   "metadata": {},
   "outputs": [],
   "source": [
    "y = cmm_paid['patient_pay'].copy()"
   ]
  },
  {
   "cell_type": "code",
   "execution_count": 19,
   "id": "07703e30",
   "metadata": {},
   "outputs": [
    {
     "data": {
      "text/html": [
       "<style>#sk-container-id-1 {color: black;background-color: white;}#sk-container-id-1 pre{padding: 0;}#sk-container-id-1 div.sk-toggleable {background-color: white;}#sk-container-id-1 label.sk-toggleable__label {cursor: pointer;display: block;width: 100%;margin-bottom: 0;padding: 0.3em;box-sizing: border-box;text-align: center;}#sk-container-id-1 label.sk-toggleable__label-arrow:before {content: \"▸\";float: left;margin-right: 0.25em;color: #696969;}#sk-container-id-1 label.sk-toggleable__label-arrow:hover:before {color: black;}#sk-container-id-1 div.sk-estimator:hover label.sk-toggleable__label-arrow:before {color: black;}#sk-container-id-1 div.sk-toggleable__content {max-height: 0;max-width: 0;overflow: hidden;text-align: left;background-color: #f0f8ff;}#sk-container-id-1 div.sk-toggleable__content pre {margin: 0.2em;color: black;border-radius: 0.25em;background-color: #f0f8ff;}#sk-container-id-1 input.sk-toggleable__control:checked~div.sk-toggleable__content {max-height: 200px;max-width: 100%;overflow: auto;}#sk-container-id-1 input.sk-toggleable__control:checked~label.sk-toggleable__label-arrow:before {content: \"▾\";}#sk-container-id-1 div.sk-estimator input.sk-toggleable__control:checked~label.sk-toggleable__label {background-color: #d4ebff;}#sk-container-id-1 div.sk-label input.sk-toggleable__control:checked~label.sk-toggleable__label {background-color: #d4ebff;}#sk-container-id-1 input.sk-hidden--visually {border: 0;clip: rect(1px 1px 1px 1px);clip: rect(1px, 1px, 1px, 1px);height: 1px;margin: -1px;overflow: hidden;padding: 0;position: absolute;width: 1px;}#sk-container-id-1 div.sk-estimator {font-family: monospace;background-color: #f0f8ff;border: 1px dotted black;border-radius: 0.25em;box-sizing: border-box;margin-bottom: 0.5em;}#sk-container-id-1 div.sk-estimator:hover {background-color: #d4ebff;}#sk-container-id-1 div.sk-parallel-item::after {content: \"\";width: 100%;border-bottom: 1px solid gray;flex-grow: 1;}#sk-container-id-1 div.sk-label:hover label.sk-toggleable__label {background-color: #d4ebff;}#sk-container-id-1 div.sk-serial::before {content: \"\";position: absolute;border-left: 1px solid gray;box-sizing: border-box;top: 0;bottom: 0;left: 50%;z-index: 0;}#sk-container-id-1 div.sk-serial {display: flex;flex-direction: column;align-items: center;background-color: white;padding-right: 0.2em;padding-left: 0.2em;position: relative;}#sk-container-id-1 div.sk-item {position: relative;z-index: 1;}#sk-container-id-1 div.sk-parallel {display: flex;align-items: stretch;justify-content: center;background-color: white;position: relative;}#sk-container-id-1 div.sk-item::before, #sk-container-id-1 div.sk-parallel-item::before {content: \"\";position: absolute;border-left: 1px solid gray;box-sizing: border-box;top: 0;bottom: 0;left: 50%;z-index: -1;}#sk-container-id-1 div.sk-parallel-item {display: flex;flex-direction: column;z-index: 1;position: relative;background-color: white;}#sk-container-id-1 div.sk-parallel-item:first-child::after {align-self: flex-end;width: 50%;}#sk-container-id-1 div.sk-parallel-item:last-child::after {align-self: flex-start;width: 50%;}#sk-container-id-1 div.sk-parallel-item:only-child::after {width: 0;}#sk-container-id-1 div.sk-dashed-wrapped {border: 1px dashed gray;margin: 0 0.4em 0.5em 0.4em;box-sizing: border-box;padding-bottom: 0.4em;background-color: white;}#sk-container-id-1 div.sk-label label {font-family: monospace;font-weight: bold;display: inline-block;line-height: 1.2em;}#sk-container-id-1 div.sk-label-container {text-align: center;}#sk-container-id-1 div.sk-container {/* jupyter's `normalize.less` sets `[hidden] { display: none; }` but bootstrap.min.css set `[hidden] { display: none !important; }` so we also need the `!important` here to be able to override the default hidden behavior on the sphinx rendered scikit-learn.org. See: https://github.com/scikit-learn/scikit-learn/issues/21755 */display: inline-block !important;position: relative;}#sk-container-id-1 div.sk-text-repr-fallback {display: none;}</style><div id=\"sk-container-id-1\" class=\"sk-top-container\"><div class=\"sk-text-repr-fallback\"><pre>Pipeline(steps=[(&#x27;months_column&#x27;,\n",
       "                 ColumnTransformer(remainder=&#x27;passthrough&#x27;,\n",
       "                                   transformers=[(&#x27;mt&#x27;, MonthTransformer(),\n",
       "                                                  0)])),\n",
       "                (&#x27;remainder_columns&#x27;,\n",
       "                 ColumnTransformer(remainder=&#x27;passthrough&#x27;,\n",
       "                                   transformers=[(&#x27;enc&#x27;, OrdinalEncoder(),\n",
       "                                                  [1, 2, 3, 4])])),\n",
       "                (&#x27;hgbr&#x27;,\n",
       "                 HistGradientBoostingRegressor(categorical_features=[0, 1, 2, 3,\n",
       "                                                                     4],\n",
       "                                               max_leaf_nodes=None))])</pre><b>In a Jupyter environment, please rerun this cell to show the HTML representation or trust the notebook. <br />On GitHub, the HTML representation is unable to render, please try loading this page with nbviewer.org.</b></div><div class=\"sk-container\" hidden><div class=\"sk-item sk-dashed-wrapped\"><div class=\"sk-label-container\"><div class=\"sk-label sk-toggleable\"><input class=\"sk-toggleable__control sk-hidden--visually\" id=\"sk-estimator-id-1\" type=\"checkbox\" ><label for=\"sk-estimator-id-1\" class=\"sk-toggleable__label sk-toggleable__label-arrow\">Pipeline</label><div class=\"sk-toggleable__content\"><pre>Pipeline(steps=[(&#x27;months_column&#x27;,\n",
       "                 ColumnTransformer(remainder=&#x27;passthrough&#x27;,\n",
       "                                   transformers=[(&#x27;mt&#x27;, MonthTransformer(),\n",
       "                                                  0)])),\n",
       "                (&#x27;remainder_columns&#x27;,\n",
       "                 ColumnTransformer(remainder=&#x27;passthrough&#x27;,\n",
       "                                   transformers=[(&#x27;enc&#x27;, OrdinalEncoder(),\n",
       "                                                  [1, 2, 3, 4])])),\n",
       "                (&#x27;hgbr&#x27;,\n",
       "                 HistGradientBoostingRegressor(categorical_features=[0, 1, 2, 3,\n",
       "                                                                     4],\n",
       "                                               max_leaf_nodes=None))])</pre></div></div></div><div class=\"sk-serial\"><div class=\"sk-item sk-dashed-wrapped\"><div class=\"sk-label-container\"><div class=\"sk-label sk-toggleable\"><input class=\"sk-toggleable__control sk-hidden--visually\" id=\"sk-estimator-id-2\" type=\"checkbox\" ><label for=\"sk-estimator-id-2\" class=\"sk-toggleable__label sk-toggleable__label-arrow\">months_column: ColumnTransformer</label><div class=\"sk-toggleable__content\"><pre>ColumnTransformer(remainder=&#x27;passthrough&#x27;,\n",
       "                  transformers=[(&#x27;mt&#x27;, MonthTransformer(), 0)])</pre></div></div></div><div class=\"sk-parallel\"><div class=\"sk-parallel-item\"><div class=\"sk-item\"><div class=\"sk-label-container\"><div class=\"sk-label sk-toggleable\"><input class=\"sk-toggleable__control sk-hidden--visually\" id=\"sk-estimator-id-3\" type=\"checkbox\" ><label for=\"sk-estimator-id-3\" class=\"sk-toggleable__label sk-toggleable__label-arrow\">mt</label><div class=\"sk-toggleable__content\"><pre>0</pre></div></div></div><div class=\"sk-serial\"><div class=\"sk-item\"><div class=\"sk-estimator sk-toggleable\"><input class=\"sk-toggleable__control sk-hidden--visually\" id=\"sk-estimator-id-4\" type=\"checkbox\" ><label for=\"sk-estimator-id-4\" class=\"sk-toggleable__label sk-toggleable__label-arrow\">MonthTransformer</label><div class=\"sk-toggleable__content\"><pre>MonthTransformer()</pre></div></div></div></div></div></div><div class=\"sk-parallel-item\"><div class=\"sk-item\"><div class=\"sk-label-container\"><div class=\"sk-label sk-toggleable\"><input class=\"sk-toggleable__control sk-hidden--visually\" id=\"sk-estimator-id-5\" type=\"checkbox\" ><label for=\"sk-estimator-id-5\" class=\"sk-toggleable__label sk-toggleable__label-arrow\">remainder</label><div class=\"sk-toggleable__content\"><pre>[&#x27;bin&#x27;, &#x27;pcn&#x27;, &#x27;group&#x27;, &#x27;drug&#x27;]</pre></div></div></div><div class=\"sk-serial\"><div class=\"sk-item\"><div class=\"sk-estimator sk-toggleable\"><input class=\"sk-toggleable__control sk-hidden--visually\" id=\"sk-estimator-id-6\" type=\"checkbox\" ><label for=\"sk-estimator-id-6\" class=\"sk-toggleable__label sk-toggleable__label-arrow\">passthrough</label><div class=\"sk-toggleable__content\"><pre>passthrough</pre></div></div></div></div></div></div></div></div><div class=\"sk-item sk-dashed-wrapped\"><div class=\"sk-label-container\"><div class=\"sk-label sk-toggleable\"><input class=\"sk-toggleable__control sk-hidden--visually\" id=\"sk-estimator-id-7\" type=\"checkbox\" ><label for=\"sk-estimator-id-7\" class=\"sk-toggleable__label sk-toggleable__label-arrow\">remainder_columns: ColumnTransformer</label><div class=\"sk-toggleable__content\"><pre>ColumnTransformer(remainder=&#x27;passthrough&#x27;,\n",
       "                  transformers=[(&#x27;enc&#x27;, OrdinalEncoder(), [1, 2, 3, 4])])</pre></div></div></div><div class=\"sk-parallel\"><div class=\"sk-parallel-item\"><div class=\"sk-item\"><div class=\"sk-label-container\"><div class=\"sk-label sk-toggleable\"><input class=\"sk-toggleable__control sk-hidden--visually\" id=\"sk-estimator-id-8\" type=\"checkbox\" ><label for=\"sk-estimator-id-8\" class=\"sk-toggleable__label sk-toggleable__label-arrow\">enc</label><div class=\"sk-toggleable__content\"><pre>[1, 2, 3, 4]</pre></div></div></div><div class=\"sk-serial\"><div class=\"sk-item\"><div class=\"sk-estimator sk-toggleable\"><input class=\"sk-toggleable__control sk-hidden--visually\" id=\"sk-estimator-id-9\" type=\"checkbox\" ><label for=\"sk-estimator-id-9\" class=\"sk-toggleable__label sk-toggleable__label-arrow\">OrdinalEncoder</label><div class=\"sk-toggleable__content\"><pre>OrdinalEncoder()</pre></div></div></div></div></div></div><div class=\"sk-parallel-item\"><div class=\"sk-item\"><div class=\"sk-label-container\"><div class=\"sk-label sk-toggleable\"><input class=\"sk-toggleable__control sk-hidden--visually\" id=\"sk-estimator-id-10\" type=\"checkbox\" ><label for=\"sk-estimator-id-10\" class=\"sk-toggleable__label sk-toggleable__label-arrow\">remainder</label><div class=\"sk-toggleable__content\"><pre>[0]</pre></div></div></div><div class=\"sk-serial\"><div class=\"sk-item\"><div class=\"sk-estimator sk-toggleable\"><input class=\"sk-toggleable__control sk-hidden--visually\" id=\"sk-estimator-id-11\" type=\"checkbox\" ><label for=\"sk-estimator-id-11\" class=\"sk-toggleable__label sk-toggleable__label-arrow\">passthrough</label><div class=\"sk-toggleable__content\"><pre>passthrough</pre></div></div></div></div></div></div></div></div><div class=\"sk-item\"><div class=\"sk-estimator sk-toggleable\"><input class=\"sk-toggleable__control sk-hidden--visually\" id=\"sk-estimator-id-12\" type=\"checkbox\" ><label for=\"sk-estimator-id-12\" class=\"sk-toggleable__label sk-toggleable__label-arrow\">HistGradientBoostingRegressor</label><div class=\"sk-toggleable__content\"><pre>HistGradientBoostingRegressor(categorical_features=[0, 1, 2, 3, 4],\n",
       "                              max_leaf_nodes=None)</pre></div></div></div></div></div></div></div>"
      ],
      "text/plain": [
       "Pipeline(steps=[('months_column',\n",
       "                 ColumnTransformer(remainder='passthrough',\n",
       "                                   transformers=[('mt', MonthTransformer(),\n",
       "                                                  0)])),\n",
       "                ('remainder_columns',\n",
       "                 ColumnTransformer(remainder='passthrough',\n",
       "                                   transformers=[('enc', OrdinalEncoder(),\n",
       "                                                  [1, 2, 3, 4])])),\n",
       "                ('hgbr',\n",
       "                 HistGradientBoostingRegressor(categorical_features=[0, 1, 2, 3,\n",
       "                                                                     4],\n",
       "                                               max_leaf_nodes=None))])"
      ]
     },
     "execution_count": 19,
     "metadata": {},
     "output_type": "execute_result"
    }
   ],
   "source": [
    "hgbr_pipe.fit(X, y)"
   ]
  },
  {
   "cell_type": "code",
   "execution_count": 20,
   "id": "84f5fd91",
   "metadata": {},
   "outputs": [],
   "source": [
    "predicted = hgbr_pipe.predict(X)"
   ]
  },
  {
   "cell_type": "code",
   "execution_count": 21,
   "id": "1e46716a",
   "metadata": {},
   "outputs": [
    {
     "name": "stdout",
     "output_type": "stream",
     "text": [
      "MAPE: 1.3915318667123635\n",
      "MSE: 2.128186582666257\n"
     ]
    }
   ],
   "source": [
    "print('MAPE:', mean_absolute_percentage_error(y, predicted)*100)\n",
    "print('MSE:', np.sqrt(mean_squared_error(y, predicted)))"
   ]
  },
  {
   "cell_type": "markdown",
   "id": "46459b41",
   "metadata": {},
   "source": [
    "### Check Model on the Test Data"
   ]
  },
  {
   "cell_type": "code",
   "execution_count": 22,
   "id": "a17be65b",
   "metadata": {},
   "outputs": [],
   "source": [
    "cmm_test_paid = cmm_test[cmm_test.rejected == 0].copy()\n",
    "X_test = cmm_test_paid[['tx_date', 'bin', 'pcn', 'group', 'drug']].copy()\n",
    "y_test = cmm_test_paid['patient_pay'].copy()"
   ]
  },
  {
   "cell_type": "code",
   "execution_count": 24,
   "id": "6b129a32",
   "metadata": {},
   "outputs": [
    {
     "name": "stdout",
     "output_type": "stream",
     "text": [
      "MAPE: 1.405221196056351\n",
      "MSE: 2.148680579833276\n"
     ]
    }
   ],
   "source": [
    "predicted_test = hgbr_pipe.predict(X_test)\n",
    "print('MAPE:', mean_absolute_percentage_error(y_test, predicted_test)*100)\n",
    "print('MSE:', np.sqrt(mean_squared_error(y_test, predicted_test)))"
   ]
  },
  {
   "cell_type": "markdown",
   "id": "179b90e9",
   "metadata": {},
   "source": [
    "The HGBR model does quite well with a minimal number of inputs."
   ]
  },
  {
   "cell_type": "markdown",
   "id": "69467152",
   "metadata": {},
   "source": [
    "### Save Model and Model Parameters"
   ]
  },
  {
   "cell_type": "code",
   "execution_count": 105,
   "id": "58b08099",
   "metadata": {},
   "outputs": [],
   "source": [
    "import pickle as pkl"
   ]
  },
  {
   "cell_type": "code",
   "execution_count": 42,
   "id": "48b93bd1",
   "metadata": {},
   "outputs": [],
   "source": [
    "#with open('hgbr_model', 'wb') as f:\n",
    "#    pkl.dump(hgbr_pipe, f)\n",
    "\n",
    "#with open('hgbr_model', 'rb') as f:\n",
    "#    cls = pkl.load(f)"
   ]
  },
  {
   "cell_type": "code",
   "execution_count": 15,
   "id": "6dd50f2c",
   "metadata": {},
   "outputs": [],
   "source": [
    "#with open('hgbr_params', 'wb') as f:\n",
    "#    pkl.dump(hgbr_pipe.get_params(deep=True), f)\n",
    "    \n",
    "#with open('hgbr_params', 'rb') as f:\n",
    "#    parameters = pkl.load(f)"
   ]
  },
  {
   "cell_type": "markdown",
   "id": "e6620d46",
   "metadata": {},
   "source": [
    "### Prediction Interval"
   ]
  },
  {
   "cell_type": "markdown",
   "id": "6226300c",
   "metadata": {},
   "source": [
    "https://scikit-learn.org/stable/auto_examples/ensemble/plot_gradient_boosting_quantile.html#sphx-glr-auto-examples-ensemble-plot-gradient-boosting-quantile-py"
   ]
  },
  {
   "cell_type": "code",
   "execution_count": 25,
   "id": "a035bb8b",
   "metadata": {},
   "outputs": [
    {
     "data": {
      "text/html": [
       "<div>\n",
       "<style scoped>\n",
       "    .dataframe tbody tr th:only-of-type {\n",
       "        vertical-align: middle;\n",
       "    }\n",
       "\n",
       "    .dataframe tbody tr th {\n",
       "        vertical-align: top;\n",
       "    }\n",
       "\n",
       "    .dataframe thead th {\n",
       "        text-align: right;\n",
       "    }\n",
       "</style>\n",
       "<table border=\"1\" class=\"dataframe\">\n",
       "  <thead>\n",
       "    <tr style=\"text-align: right;\">\n",
       "      <th></th>\n",
       "      <th>tx_date</th>\n",
       "      <th>bin</th>\n",
       "      <th>pcn</th>\n",
       "      <th>group</th>\n",
       "      <th>drug</th>\n",
       "    </tr>\n",
       "  </thead>\n",
       "  <tbody>\n",
       "    <tr>\n",
       "      <th>10120050</th>\n",
       "      <td>2022-09-29</td>\n",
       "      <td>664344</td>\n",
       "      <td>T17LNK</td>\n",
       "      <td>Z01MLD4I</td>\n",
       "      <td>branded hozirol</td>\n",
       "    </tr>\n",
       "    <tr>\n",
       "      <th>687578</th>\n",
       "      <td>2022-01-21</td>\n",
       "      <td>725700</td>\n",
       "      <td>NaN</td>\n",
       "      <td>DYGBI610ZY</td>\n",
       "      <td>branded prazinib</td>\n",
       "    </tr>\n",
       "    <tr>\n",
       "      <th>9300050</th>\n",
       "      <td>2022-09-09</td>\n",
       "      <td>322463</td>\n",
       "      <td>T52GV</td>\n",
       "      <td>EVD4X5</td>\n",
       "      <td>branded plazamiglutic</td>\n",
       "    </tr>\n",
       "    <tr>\n",
       "      <th>631063</th>\n",
       "      <td>2022-01-20</td>\n",
       "      <td>571569</td>\n",
       "      <td>KB38N</td>\n",
       "      <td>6BYJBW</td>\n",
       "      <td>branded antimab</td>\n",
       "    </tr>\n",
       "    <tr>\n",
       "      <th>8642802</th>\n",
       "      <td>2022-08-23</td>\n",
       "      <td>664344</td>\n",
       "      <td>BIZF</td>\n",
       "      <td>QK6BI1N61</td>\n",
       "      <td>branded tanoclolol</td>\n",
       "    </tr>\n",
       "    <tr>\n",
       "      <th>...</th>\n",
       "      <td>...</td>\n",
       "      <td>...</td>\n",
       "      <td>...</td>\n",
       "      <td>...</td>\n",
       "      <td>...</td>\n",
       "    </tr>\n",
       "    <tr>\n",
       "      <th>12669254</th>\n",
       "      <td>2022-11-29</td>\n",
       "      <td>96934</td>\n",
       "      <td>S76J7V6</td>\n",
       "      <td>NaN</td>\n",
       "      <td>branded prazinib</td>\n",
       "    </tr>\n",
       "    <tr>\n",
       "      <th>2653304</th>\n",
       "      <td>2022-03-19</td>\n",
       "      <td>96934</td>\n",
       "      <td>S76J7V6</td>\n",
       "      <td>NaN</td>\n",
       "      <td>generic pucomalol</td>\n",
       "    </tr>\n",
       "    <tr>\n",
       "      <th>3478433</th>\n",
       "      <td>2022-04-12</td>\n",
       "      <td>322463</td>\n",
       "      <td>NaN</td>\n",
       "      <td>HO8HUGL</td>\n",
       "      <td>generic glycontazepelol</td>\n",
       "    </tr>\n",
       "    <tr>\n",
       "      <th>9362180</th>\n",
       "      <td>2022-09-11</td>\n",
       "      <td>664344</td>\n",
       "      <td>NaN</td>\n",
       "      <td>STGRDKR1J5RD</td>\n",
       "      <td>branded tafistitrisin</td>\n",
       "    </tr>\n",
       "    <tr>\n",
       "      <th>7466679</th>\n",
       "      <td>2022-07-24</td>\n",
       "      <td>96934</td>\n",
       "      <td>9D24</td>\n",
       "      <td>VC81HUO7ZD</td>\n",
       "      <td>generic glycontazepelol</td>\n",
       "    </tr>\n",
       "  </tbody>\n",
       "</table>\n",
       "<p>10258707 rows × 5 columns</p>\n",
       "</div>"
      ],
      "text/plain": [
       "            tx_date     bin      pcn         group                     drug\n",
       "10120050 2022-09-29  664344   T17LNK      Z01MLD4I          branded hozirol\n",
       "687578   2022-01-21  725700      NaN    DYGBI610ZY         branded prazinib\n",
       "9300050  2022-09-09  322463    T52GV        EVD4X5    branded plazamiglutic\n",
       "631063   2022-01-20  571569    KB38N        6BYJBW          branded antimab\n",
       "8642802  2022-08-23  664344     BIZF     QK6BI1N61       branded tanoclolol\n",
       "...             ...     ...      ...           ...                      ...\n",
       "12669254 2022-11-29   96934  S76J7V6           NaN         branded prazinib\n",
       "2653304  2022-03-19   96934  S76J7V6           NaN        generic pucomalol\n",
       "3478433  2022-04-12  322463      NaN       HO8HUGL  generic glycontazepelol\n",
       "9362180  2022-09-11  664344      NaN  STGRDKR1J5RD    branded tafistitrisin\n",
       "7466679  2022-07-24   96934     9D24    VC81HUO7ZD  generic glycontazepelol\n",
       "\n",
       "[10258707 rows x 5 columns]"
      ]
     },
     "execution_count": 25,
     "metadata": {},
     "output_type": "execute_result"
    }
   ],
   "source": [
    "## cleaned up data to play with.\n",
    "\n",
    "X"
   ]
  },
  {
   "cell_type": "code",
   "execution_count": 26,
   "id": "70daab93",
   "metadata": {},
   "outputs": [
    {
     "data": {
      "text/plain": [
       "10120050    17.44\n",
       "687578      11.22\n",
       "9300050      8.21\n",
       "631063      23.26\n",
       "8642802     11.62\n",
       "            ...  \n",
       "12669254    13.93\n",
       "2653304     13.93\n",
       "3478433      4.21\n",
       "9362180     10.77\n",
       "7466679      4.00\n",
       "Name: patient_pay, Length: 10258707, dtype: float64"
      ]
     },
     "execution_count": 26,
     "metadata": {},
     "output_type": "execute_result"
    }
   ],
   "source": [
    "y"
   ]
  },
  {
   "cell_type": "code",
   "execution_count": 27,
   "id": "d5ed869a",
   "metadata": {},
   "outputs": [],
   "source": [
    "X_pinterval = ct2.fit_transform(ct1.fit_transform(X))"
   ]
  },
  {
   "cell_type": "code",
   "execution_count": 28,
   "id": "16756749",
   "metadata": {},
   "outputs": [
    {
     "data": {
      "text/plain": [
       "array([[5.0, 35.0, 45.0, 31.0, 9],\n",
       "       [8.0, nan, 15.0, 52.0, 1],\n",
       "       [2.0, 36.0, 16.0, 50.0, 9],\n",
       "       ...,\n",
       "       [2.0, nan, 20.0, 89.0, 4],\n",
       "       [5.0, nan, 36.0, 66.0, 9],\n",
       "       [0.0, 9.0, 41.0, 89.0, 7]], dtype=object)"
      ]
     },
     "execution_count": 28,
     "metadata": {},
     "output_type": "execute_result"
    }
   ],
   "source": [
    "X_pinterval"
   ]
  },
  {
   "cell_type": "code",
   "execution_count": 29,
   "id": "6625de7f",
   "metadata": {},
   "outputs": [],
   "source": [
    "all_models = {}\n",
    "for alpha in [0.05, 0.5, 0.95]:\n",
    "    hgbr = HistGradientBoostingRegressor(loss='quantile', quantile=alpha, \n",
    "                                         categorical_features=[0,1,2,3,4], max_leaf_nodes=None, early_stopping=False)\n",
    "    all_models[\"q %1.2f\" % alpha] = hgbr.fit(X_pinterval, y)"
   ]
  },
  {
   "cell_type": "code",
   "execution_count": 30,
   "id": "52d41929",
   "metadata": {},
   "outputs": [],
   "source": [
    "hgbr = HistGradientBoostingRegressor(categorical_features=[0,1,2,3,4], max_leaf_nodes=None, early_stopping=False)\n",
    "all_models['mse'] = hgbr.fit(X_pinterval, y)"
   ]
  },
  {
   "cell_type": "markdown",
   "id": "a8ef5155",
   "metadata": {},
   "source": [
    "The code below trains 4 modesl and evaluates them using the pinball loss and mse metric."
   ]
  },
  {
   "cell_type": "code",
   "execution_count": 31,
   "id": "8d73b5fe",
   "metadata": {},
   "outputs": [
    {
     "data": {
      "text/html": [
       "<style type=\"text/css\">\n",
       "#T_075ab_row0_col1, #T_075ab_row0_col3, #T_075ab_row2_col0, #T_075ab_row3_col2 {\n",
       "  font-weight: bold;\n",
       "}\n",
       "</style>\n",
       "<table id=\"T_075ab\">\n",
       "  <thead>\n",
       "    <tr>\n",
       "      <th class=\"blank level0\" >&nbsp;</th>\n",
       "      <th id=\"T_075ab_level0_col0\" class=\"col_heading level0 col0\" >pbl=0.05</th>\n",
       "      <th id=\"T_075ab_level0_col1\" class=\"col_heading level0 col1\" >pbl=0.50</th>\n",
       "      <th id=\"T_075ab_level0_col2\" class=\"col_heading level0 col2\" >pbl=0.95</th>\n",
       "      <th id=\"T_075ab_level0_col3\" class=\"col_heading level0 col3\" >MSE</th>\n",
       "    </tr>\n",
       "    <tr>\n",
       "      <th class=\"index_name level0\" >model</th>\n",
       "      <th class=\"blank col0\" >&nbsp;</th>\n",
       "      <th class=\"blank col1\" >&nbsp;</th>\n",
       "      <th class=\"blank col2\" >&nbsp;</th>\n",
       "      <th class=\"blank col3\" >&nbsp;</th>\n",
       "    </tr>\n",
       "  </thead>\n",
       "  <tbody>\n",
       "    <tr>\n",
       "      <th id=\"T_075ab_level0_row0\" class=\"row_heading level0 row0\" >mse</th>\n",
       "      <td id=\"T_075ab_row0_col0\" class=\"data row0 col0\" >0.244352</td>\n",
       "      <td id=\"T_075ab_row0_col1\" class=\"data row0 col1\" >0.244352</td>\n",
       "      <td id=\"T_075ab_row0_col2\" class=\"data row0 col2\" >0.244352</td>\n",
       "      <td id=\"T_075ab_row0_col3\" class=\"data row0 col3\" >4.522234</td>\n",
       "    </tr>\n",
       "    <tr>\n",
       "      <th id=\"T_075ab_level0_row1\" class=\"row_heading level0 row1\" >q 0.05</th>\n",
       "      <td id=\"T_075ab_row1_col0\" class=\"data row1 col0\" >0.546525</td>\n",
       "      <td id=\"T_075ab_row1_col1\" class=\"data row1 col1\" >5.457585</td>\n",
       "      <td id=\"T_075ab_row1_col2\" class=\"data row1 col2\" >10.368644</td>\n",
       "      <td id=\"T_075ab_row1_col3\" class=\"data row1 col3\" >1277.965075</td>\n",
       "    </tr>\n",
       "    <tr>\n",
       "      <th id=\"T_075ab_level0_row2\" class=\"row_heading level0 row2\" >q 0.50</th>\n",
       "      <td id=\"T_075ab_row2_col0\" class=\"data row2 col0\" >0.175966</td>\n",
       "      <td id=\"T_075ab_row2_col1\" class=\"data row2 col1\" >0.319318</td>\n",
       "      <td id=\"T_075ab_row2_col2\" class=\"data row2 col2\" >0.462670</td>\n",
       "      <td id=\"T_075ab_row2_col3\" class=\"data row2 col3\" >32.382004</td>\n",
       "    </tr>\n",
       "    <tr>\n",
       "      <th id=\"T_075ab_level0_row3\" class=\"row_heading level0 row3\" >q 0.95</th>\n",
       "      <td id=\"T_075ab_row3_col0\" class=\"data row3 col0\" >4.047479</td>\n",
       "      <td id=\"T_075ab_row3_col1\" class=\"data row3 col1\" >2.144000</td>\n",
       "      <td id=\"T_075ab_row3_col2\" class=\"data row3 col2\" >0.240520</td>\n",
       "      <td id=\"T_075ab_row3_col3\" class=\"data row3 col3\" >47.724327</td>\n",
       "    </tr>\n",
       "  </tbody>\n",
       "</table>\n"
      ],
      "text/plain": [
       "<pandas.io.formats.style.Styler at 0x7fe0b41eb760>"
      ]
     },
     "execution_count": 31,
     "metadata": {},
     "output_type": "execute_result"
    }
   ],
   "source": [
    "from sklearn.metrics import mean_pinball_loss\n",
    "\n",
    "def highlight_min(x):\n",
    "    x_min = x.min()\n",
    "    return [\"font-weight: bold\" if v == x_min else \"\" for v in x]\n",
    "\n",
    "\n",
    "results = []\n",
    "for name, hgbr in sorted(all_models.items()):\n",
    "    metrics = {\"model\": name}\n",
    "    y_pred = hgbr.predict(X_pinterval)\n",
    "    for alpha in [0.05, 0.5, 0.95]:\n",
    "        metrics[\"pbl=%1.2f\" % alpha] = mean_pinball_loss(y, y_pred, alpha=alpha)\n",
    "    metrics[\"MSE\"] = mean_squared_error(y, y_pred)\n",
    "    results.append(metrics)\n",
    "\n",
    "pd.DataFrame(results).set_index(\"model\").style.apply(highlight_min)"
   ]
  },
  {
   "cell_type": "code",
   "execution_count": 53,
   "id": "feeced12",
   "metadata": {},
   "outputs": [
    {
     "data": {
      "text/plain": [
       "4.21"
      ]
     },
     "execution_count": 53,
     "metadata": {},
     "output_type": "execute_result"
    }
   ],
   "source": [
    "## true price\n",
    "\n",
    "y.iloc[35220]"
   ]
  },
  {
   "cell_type": "code",
   "execution_count": 65,
   "id": "d4d058ef",
   "metadata": {},
   "outputs": [
    {
     "name": "stdout",
     "output_type": "stream",
     "text": [
      "The price typically ranges between 4.20262890784693 and 15.427415157841635\n"
     ]
    }
   ],
   "source": [
    "## price prediction interval \n",
    "\n",
    "print('The price typically ranges between', all_models['q 0.05'].predict([X_pinterval[35220,:]])[0], 'and',\n",
    "      all_models['q 0.95'].predict([X_pinterval[35220,:]])[0])"
   ]
  },
  {
   "cell_type": "code",
   "execution_count": 55,
   "id": "14f5646a",
   "metadata": {},
   "outputs": [
    {
     "data": {
      "text/plain": [
       "4.204134193790747"
      ]
     },
     "execution_count": 55,
     "metadata": {},
     "output_type": "execute_result"
    }
   ],
   "source": [
    "## quantile 0.5 prediction \n",
    "\n",
    "all_models['q 0.50'].predict([X_pinterval[35220,:]])[0]"
   ]
  },
  {
   "cell_type": "code",
   "execution_count": 56,
   "id": "cff8f042",
   "metadata": {},
   "outputs": [
    {
     "data": {
      "text/plain": [
       "4.210581421222192"
      ]
     },
     "execution_count": 56,
     "metadata": {},
     "output_type": "execute_result"
    }
   ],
   "source": [
    "## mse prediction\n",
    "\n",
    "all_models['mse'].predict([X_pinterval[35220,:]])[0]"
   ]
  },
  {
   "cell_type": "markdown",
   "id": "3f9acfc2",
   "metadata": {},
   "source": [
    "For the this example both the median and mse models predict very well while the prediction invterval is skewed to the high end of pay."
   ]
  }
 ],
 "metadata": {
  "kernelspec": {
   "display_name": "Python 3 (ipykernel)",
   "language": "python",
   "name": "python3"
  },
  "language_info": {
   "codemirror_mode": {
    "name": "ipython",
    "version": 3
   },
   "file_extension": ".py",
   "mimetype": "text/x-python",
   "name": "python",
   "nbconvert_exporter": "python",
   "pygments_lexer": "ipython3",
   "version": "3.10.4"
  }
 },
 "nbformat": 4,
 "nbformat_minor": 5
}
