{
 "cells": [
  {
   "cell_type": "markdown",
   "id": "ee42475a",
   "metadata": {},
   "source": [
    "# Regression Model for the Prediction of Patient Pay\n",
    "\n",
    "This model is based on the HistGradientBoostingRegressor in sklearn\n",
    "HistGradientBoostingRegressor has native support for categorical variables allowing for minimal preprocessing of the features in the data set. The categorical variables for insurance (bin, pcn, and group) and drug are transformed into ordinal values using the label encoder.\n",
    "\n",
    "Cross validation of model fitted only on the insurance information and drug name show a mean average precentage error of ~1.5%.\n"
   ]
  },
  {
   "cell_type": "markdown",
   "id": "bf009fd6",
   "metadata": {},
   "source": [
    "### Relevant libraries are imported."
   ]
  },
  {
   "cell_type": "code",
<<<<<<< HEAD
   "execution_count": 11,
=======
   "execution_count": 1,
>>>>>>> c5d1ef2 (Cleaned up notebooks.)
   "id": "ce53e5d6",
   "metadata": {},
   "outputs": [],
   "source": [
    "import numpy as np\n",
    "import pandas as pd\n",
    "import matplotlib.pyplot as plt\n",
    "import seaborn as sns\n",
    "\n",
    "from sklearn.model_selection import train_test_split\n",
    "from sklearn.preprocessing import LabelEncoder, OrdinalEncoder\n",
    "\n",
    "from sklearn.ensemble import HistGradientBoostingRegressor\n",
    "\n",
    "from sklearn.model_selection import KFold, cross_val_score, cross_validate\n",
    "\n",
    "from sklearn.metrics import mean_absolute_error, mean_absolute_percentage_error, mean_squared_error"
   ]
  },
  {
   "cell_type": "markdown",
   "id": "cd052ce8",
   "metadata": {},
   "source": [
    "### Data set is imported and split into a training and test set."
   ]
  },
  {
   "cell_type": "code",
<<<<<<< HEAD
   "execution_count": 3,
=======
   "execution_count": 2,
>>>>>>> c5d1ef2 (Cleaned up notebooks.)
   "id": "bddf942c",
   "metadata": {},
   "outputs": [],
   "source": [
    "cmm_data = pd.read_csv('/home/ruggiec/Downloads/pharmacy_tx.csv')\n",
    "\n",
    "#cmm_data_no_dups = cmm_data.drop_duplicates()\n",
    "\n",
    "cmm_train, cmm_test = train_test_split(cmm_data, shuffle=True, \n",
    "                             random_state= 614, test_size=0.2)"
   ]
  },
  {
   "cell_type": "markdown",
<<<<<<< HEAD
   "id": "46b933b4",
   "metadata": {},
   "source": [
    "### Minimal feature engineering is perfomed\n",
    "\n",
    "The date information is extracted from the 'tx_date' column and all categorical variables are encoded using the LabelEncoder."
   ]
  },
  {
   "cell_type": "code",
   "execution_count": 4,
   "id": "083b4241",
   "metadata": {},
   "outputs": [],
   "source": [
    "## For the models below, this step is not necessary.\n",
    "\n",
    "cmm_train['tx_date'] = pd.to_datetime(cmm_train.tx_date)\n",
    "cmm_train['day_of_week'] = cmm_train.tx_date.dt.day_of_week\n",
    "cmm_train['day_of_year'] = cmm_train.tx_date.dt.day_of_year\n",
    "cmm_train['month'] = cmm_train.tx_date.dt.month"
   ]
  },
  {
   "cell_type": "markdown",
   "id": "c2ffa362",
   "metadata": {},
   "source": [
    "The following block should be replace with the OrdinalEncoder()"
   ]
  },
  {
   "cell_type": "code",
   "execution_count": 5,
   "id": "5580d9f9",
   "metadata": {},
   "outputs": [],
   "source": [
    "## The models below do not use all of the encoded columns and rely only on bin, pcn, group, and drug.\n",
    "\n",
    "le_diagnosis = LabelEncoder()\n",
    "cmm_train['diagnosis_encoded'] = le_diagnosis.fit_transform(cmm_train['diagnosis'])\n",
    "\n",
    "le_bin = LabelEncoder()\n",
    "cmm_train['bin_encoded'] = le_bin.fit_transform(cmm_train['bin'])\n",
    "\n",
    "le_pcn = LabelEncoder()\n",
    "cmm_train['pcn_encoded'] = le_pcn.fit_transform(cmm_train['pcn'])\n",
    "\n",
    "le_group= LabelEncoder()\n",
    "cmm_train['group_encoded'] = le_group.fit_transform(cmm_train['group'])\n",
    "\n",
    "le_drug = LabelEncoder()\n",
    "cmm_train['pharmacy_encoded'] = le_drug.fit_transform(cmm_train.pharmacy)\n",
    "\n",
    "le_drug = LabelEncoder()\n",
    "cmm_train['day_of_week_encoded'] = le_drug.fit_transform(cmm_train.day_of_week)\n",
    "\n",
    "le_drug = LabelEncoder()\n",
    "cmm_train['drug_encoded'] = le_drug.fit_transform(cmm_train.drug)"
   ]
  },
  {
   "cell_type": "markdown",
=======
>>>>>>> c5d1ef2 (Cleaned up notebooks.)
   "id": "d659280c",
   "metadata": {},
   "source": [
    "### Rejected claims are removed from the data set\n",
    "\n",
    "Rejected claims do not offer any information on patient pay."
   ]
  },
  {
   "cell_type": "code",
<<<<<<< HEAD
   "execution_count": 6,
=======
   "execution_count": 3,
>>>>>>> c5d1ef2 (Cleaned up notebooks.)
   "id": "3420e9cc",
   "metadata": {},
   "outputs": [],
   "source": [
<<<<<<< HEAD
    "cmm_paid = cmm_train[cmm_train.rejected == 0]"
=======
    "cmm_paid = cmm_train[cmm_train.rejected == 0].copy()"
   ]
  },
  {
   "cell_type": "markdown",
   "id": "46b933b4",
   "metadata": {},
   "source": [
    "### Minimal feature engineering is perfomed\n",
    "\n",
    "The month information is extracted from the 'tx_date' column and all categorical variables are encoded using the OrdinalEncoder."
   ]
  },
  {
   "cell_type": "code",
   "execution_count": 34,
   "id": "083b4241",
   "metadata": {},
   "outputs": [],
   "source": [
    "cmm_paid['tx_date'] = pd.to_datetime(cmm_paid.tx_date)\n",
    "cmm_paid['month'] = cmm_paid.tx_date.dt.month\n",
    "cmm_paid['day_of_year'] = cmm_paid.tx_date.dt.dayofyear"
   ]
  },
  {
   "cell_type": "code",
   "execution_count": 8,
   "id": "f395eef8",
   "metadata": {},
   "outputs": [],
   "source": [
    "enc = OrdinalEncoder()"
   ]
  },
  {
   "cell_type": "code",
   "execution_count": 17,
   "id": "1f0207bb",
   "metadata": {},
   "outputs": [],
   "source": [
    "encoded = enc.fit_transform(cmm_paid[['diagnosis', 'drug', 'bin', 'pcn', 'group']])\n",
    "cmm_paid['diagnosis_encoded'] = encoded[:,0]\n",
    "cmm_paid['drug_encoded'] = encoded[:,1]\n",
    "cmm_paid['bin_encoded'] = encoded[:,2]\n",
    "cmm_paid['pcn_encoded'] = encoded[:,3]\n",
    "cmm_paid['group_encoded'] = encoded[:,4]"
>>>>>>> c5d1ef2 (Cleaned up notebooks.)
   ]
  },
  {
   "cell_type": "markdown",
   "id": "d5673a0e",
   "metadata": {},
   "source": [
    "### Model Perfomance\n",
    "\n",
<<<<<<< HEAD
    "Three models are trained below. The second model shows the importance of defining categorical features in the HistGradientBoostingRegressor."
=======
    "Five models are trained below. The second model shows the importance of defining categorical features in the HistGradientBoostingRegressor."
>>>>>>> c5d1ef2 (Cleaned up notebooks.)
   ]
  },
  {
   "cell_type": "code",
<<<<<<< HEAD
   "execution_count": 7,
=======
   "execution_count": 19,
>>>>>>> c5d1ef2 (Cleaned up notebooks.)
   "id": "d6fd2ebe",
   "metadata": {},
   "outputs": [],
   "source": [
    "## Model 1\n",
    "## Baseline model using only insurance info and the drug name.\n",
    "\n",
    "features = ['bin_encoded', 'pcn_encoded', 'group_encoded', 'drug_encoded'] # features\n",
    "hgbr = HistGradientBoostingRegressor(random_state=412)\n",
<<<<<<< HEAD
    "base_scores = cross_val_score(hgbr, cmm_paid[features], cmm_paid.patient_pay, \n",
    "                         cv=5, scoring='neg_mean_absolute_percentage_error')"
=======
    "base_scores = cross_validate(hgbr, cmm_paid[features], cmm_paid.patient_pay, \n",
    "                         cv=5, scoring=['r2', 'neg_root_mean_squared_error', \n",
    "                                        'neg_mean_absolute_percentage_error'])"
>>>>>>> c5d1ef2 (Cleaned up notebooks.)
   ]
  },
  {
   "cell_type": "code",
<<<<<<< HEAD
   "execution_count": 8,
   "id": "816cb5d9",
   "metadata": {},
   "outputs": [
    {
     "name": "stdout",
     "output_type": "stream",
     "text": [
      "Default paramter with no categrocical features defined--MAPE: 32.39207362582866\n"
     ]
    }
   ],
   "source": [
    "print('Default paramter with no categrocical features defined--MAPE:', -base_scores.mean()*100)"
   ]
  },
  {
   "cell_type": "code",
   "execution_count": 21,
=======
   "execution_count": 29,
>>>>>>> c5d1ef2 (Cleaned up notebooks.)
   "id": "92f1c3e0",
   "metadata": {},
   "outputs": [],
   "source": [
    "## Model 2\n",
    "## Improved model using only insurance info with defined categorical features.\n",
    "\n",
    "features = ['bin_encoded', 'pcn_encoded', 'group_encoded', 'drug_encoded'] # features\n",
    "hgbr = HistGradientBoostingRegressor(random_state=412, categorical_features=[0, 1, 2, 3])\n",
<<<<<<< HEAD
    "cat_scores = cross_val_score(hgbr, cmm_paid[features], cmm_paid.patient_pay, \n",
    "                         cv=5, scoring='neg_mean_absolute_percentage_error')"
=======
    "cat_scores = cross_validate(hgbr, cmm_paid[features], cmm_paid.patient_pay, \n",
    "                         cv=5, scoring=['r2', 'neg_root_mean_squared_error', \n",
    "                                        'neg_mean_absolute_percentage_error'])"
>>>>>>> c5d1ef2 (Cleaned up notebooks.)
   ]
  },
  {
   "cell_type": "code",
<<<<<<< HEAD
   "execution_count": 22,
   "id": "262191c8",
   "metadata": {},
   "outputs": [
    {
     "name": "stdout",
     "output_type": "stream",
     "text": [
      "Default paramter with categrocical features defined--MAPE: 9.543921744956608\n"
     ]
    }
   ],
   "source": [
    "print('Default paramter with categrocical features defined--MAPE:', -cat_scores.mean()*100)"
   ]
  },
  {
   "cell_type": "code",
   "execution_count": 6,
=======
   "execution_count": 33,
>>>>>>> c5d1ef2 (Cleaned up notebooks.)
   "id": "301e7547",
   "metadata": {},
   "outputs": [],
   "source": [
    "## Model 3\n",
    "## This model is the same as the model 2 with no bound on the number of leaf nodes.\n",
    "## Training this model is slower (order of minutes) but shows greatly increased metrics.)\n",
    "\n",
    "features = ['bin_encoded', 'pcn_encoded', 'group_encoded', 'drug_encoded'] # features\n",
    "hgbr = HistGradientBoostingRegressor(random_state=412, categorical_features=[0, 1, 2, 3], max_leaf_nodes=None)\n",
<<<<<<< HEAD
    "scores = cross_val_score(hgbr, cmm_paid[features], cmm_paid.patient_pay, \n",
    "                         cv=5, scoring='neg_mean_absolute_percentage_error')"
=======
    "scores = cross_validate(hgbr, cmm_paid[features], cmm_paid.patient_pay, \n",
    "                         cv=5, scoring=['r2', 'neg_root_mean_squared_error', \n",
    "                                        'neg_mean_absolute_percentage_error'])"
>>>>>>> c5d1ef2 (Cleaned up notebooks.)
   ]
  },
  {
   "cell_type": "code",
<<<<<<< HEAD
   "execution_count": 20,
   "id": "78443173",
   "metadata": {},
   "outputs": [
    {
     "name": "stdout",
     "output_type": "stream",
     "text": [
      "No upper bound on Leaf Nodes in model and categorical features--MAPE 1.588027916051193\n"
     ]
    }
   ],
   "source": [
    "print('No upper bound on Leaf Nodes in model and categorical features--MAPE', -scores.mean()*100)"
   ]
  },
  {
   "cell_type": "code",
   "execution_count": 9,
   "id": "6f267aac",
=======
   "execution_count": 36,
   "id": "083fc732",
>>>>>>> c5d1ef2 (Cleaned up notebooks.)
   "metadata": {},
   "outputs": [],
   "source": [
    "## Model 4\n",
<<<<<<< HEAD
=======
    "## This model includes day of year as a feature with no bound on the number of leaf nodes.\n",
    "## Training this model is slower (order of minutes) but shows greatly increased metrics.)\n",
    "\n",
    "features = ['bin_encoded', 'pcn_encoded', 'group_encoded', 'drug_encoded', 'day_of_year'] # features\n",
    "hgbr = HistGradientBoostingRegressor(random_state=412, categorical_features=[0, 1, 2, 3], max_leaf_nodes=None)\n",
    "scores_day = cross_validate(hgbr, cmm_paid[features], cmm_paid.patient_pay, \n",
    "                         cv=5, scoring=['r2', 'neg_root_mean_squared_error', \n",
    "                                        'neg_mean_absolute_percentage_error'])"
   ]
  },
  {
   "cell_type": "code",
   "execution_count": 30,
   "id": "6f267aac",
   "metadata": {},
   "outputs": [],
   "source": [
    "## Model 5\n",
>>>>>>> c5d1ef2 (Cleaned up notebooks.)
    "## This model includes month as a feature with no bound on the number of leaf nodes.\n",
    "## Training this model is slower (order of minutes) but shows greatly increased metrics.)\n",
    "\n",
    "features = ['bin_encoded', 'pcn_encoded', 'group_encoded', 'drug_encoded', 'month'] # features\n",
    "hgbr = HistGradientBoostingRegressor(random_state=412, categorical_features=[0, 1, 2, 3, 4], max_leaf_nodes=None)\n",
<<<<<<< HEAD
    "scores = cross_val_score(hgbr, cmm_paid[features], cmm_paid.patient_pay, \n",
    "                         cv=5, scoring='neg_mean_absolute_percentage_error')"
=======
    "scores_month = cross_validate(hgbr, cmm_paid[features], cmm_paid.patient_pay, \n",
    "                         cv=5, scoring=['r2', 'neg_root_mean_squared_error', \n",
    "                                        'neg_mean_absolute_percentage_error'])"
   ]
  },
  {
   "cell_type": "markdown",
   "id": "1a3b777f",
   "metadata": {},
   "source": [
    "### Comparrison of Models"
>>>>>>> c5d1ef2 (Cleaned up notebooks.)
   ]
  },
  {
   "cell_type": "code",
<<<<<<< HEAD
   "execution_count": 10,
   "id": "7d008920",
   "metadata": {},
   "outputs": [
    {
     "name": "stdout",
     "output_type": "stream",
     "text": [
      "No upper bound on Leaf Nodes in model and categorical features--MAPE 1.4101233120966847\n"
     ]
    }
   ],
   "source": [
    "print('No upper bound on Leaf Nodes in model and categorical features--MAPE', -scores.mean()*100)"
=======
   "execution_count": 97,
   "id": "0feecb61",
   "metadata": {},
   "outputs": [
    {
     "data": {
      "text/html": [
       "<div>\n",
       "<style scoped>\n",
       "    .dataframe tbody tr th:only-of-type {\n",
       "        vertical-align: middle;\n",
       "    }\n",
       "\n",
       "    .dataframe tbody tr th {\n",
       "        vertical-align: top;\n",
       "    }\n",
       "\n",
       "    .dataframe thead th {\n",
       "        text-align: right;\n",
       "    }\n",
       "</style>\n",
       "<table border=\"1\" class=\"dataframe\">\n",
       "  <thead>\n",
       "    <tr style=\"text-align: right;\">\n",
       "      <th></th>\n",
       "      <th>Model</th>\n",
       "      <th>Mean Training Time (s)</th>\n",
       "      <th>Mean Scoring Time (s)</th>\n",
       "      <th>Mean R2</th>\n",
       "      <th>Mean RMSE</th>\n",
       "      <th>Mean MAPE</th>\n",
       "    </tr>\n",
       "  </thead>\n",
       "  <tbody>\n",
       "    <tr>\n",
       "      <th>0</th>\n",
       "      <td>Model 1</td>\n",
       "      <td>15.820838</td>\n",
       "      <td>1.729416</td>\n",
       "      <td>0.941824</td>\n",
       "      <td>9.771663</td>\n",
       "      <td>32.683561</td>\n",
       "    </tr>\n",
       "    <tr>\n",
       "      <th>1</th>\n",
       "      <td>Model 2</td>\n",
       "      <td>43.561767</td>\n",
       "      <td>3.043910</td>\n",
       "      <td>0.992590</td>\n",
       "      <td>3.487719</td>\n",
       "      <td>9.543922</td>\n",
       "    </tr>\n",
       "    <tr>\n",
       "      <th>2</th>\n",
       "      <td>Model 3</td>\n",
       "      <td>123.590078</td>\n",
       "      <td>10.088337</td>\n",
       "      <td>0.996171</td>\n",
       "      <td>2.507217</td>\n",
       "      <td>1.588028</td>\n",
       "    </tr>\n",
       "    <tr>\n",
       "      <th>3</th>\n",
       "      <td>Model 4</td>\n",
       "      <td>494.743763</td>\n",
       "      <td>8.572789</td>\n",
       "      <td>0.997202</td>\n",
       "      <td>2.143141</td>\n",
       "      <td>1.505368</td>\n",
       "    </tr>\n",
       "    <tr>\n",
       "      <th>4</th>\n",
       "      <td>Model 5</td>\n",
       "      <td>349.339357</td>\n",
       "      <td>11.606112</td>\n",
       "      <td>0.997166</td>\n",
       "      <td>2.156936</td>\n",
       "      <td>1.410123</td>\n",
       "    </tr>\n",
       "  </tbody>\n",
       "</table>\n",
       "</div>"
      ],
      "text/plain": [
       "     Model  Mean Training Time (s)  Mean Scoring Time (s)   Mean R2  \\\n",
       "0  Model 1               15.820838               1.729416  0.941824   \n",
       "1  Model 2               43.561767               3.043910  0.992590   \n",
       "2  Model 3              123.590078              10.088337  0.996171   \n",
       "3  Model 4              494.743763               8.572789  0.997202   \n",
       "4  Model 5              349.339357              11.606112  0.997166   \n",
       "\n",
       "   Mean RMSE  Mean MAPE  \n",
       "0   9.771663  32.683561  \n",
       "1   3.487719   9.543922  \n",
       "2   2.507217   1.588028  \n",
       "3   2.143141   1.505368  \n",
       "4   2.156936   1.410123  "
      ]
     },
     "execution_count": 97,
     "metadata": {},
     "output_type": "execute_result"
    }
   ],
   "source": [
    "column_names = ['Model', 'Mean Training Time (s)', 'Mean Scoring Time (s)', 'Mean R2', \n",
    "                'Mean RMSE', 'Mean MAPE']\n",
    "model_metrics = [base_scores, cat_scores, scores, scores_day, scores_month]\n",
    "summary = np.zeros((5, 6))\n",
    "i,j = 0,1\n",
    "for metric in model_metrics:\n",
    "    for value in metric.values():\n",
    "        summary[i, j] = value.mean()\n",
    "        j+=1\n",
    "    j=1\n",
    "    i+=1\n",
    "    \n",
    "summary_metrics = pd.DataFrame(summary, columns=column_names)\n",
    "summary_metrics['Model'] = ['Model 1', 'Model 2', 'Model 3', 'Model 4', 'Model 5']\n",
    "summary_metrics['Mean RMSE'] = summary_metrics['Mean RMSE'] * -1\n",
    "summary_metrics['Mean MAPE'] = summary_metrics['Mean MAPE'] * -100\n",
    "summary_metrics"
>>>>>>> c5d1ef2 (Cleaned up notebooks.)
   ]
  },
  {
   "cell_type": "markdown",
<<<<<<< HEAD
   "id": "1c6ed412",
   "metadata": {},
   "source": [
    "Month is a better predictor than day of year"
   ]
  },
  {
   "cell_type": "markdown",
   "id": "e3ad92a9",
   "metadata": {},
   "source": [
    "My feeling is that max_leaf_nodes can be tuned so that the model can be trained faster."
=======
   "id": "c42e558d",
   "metadata": {},
   "source": [
    "Model 4 and Model 5 show very similar statistics. Model 5 outperforms Model 4 in two key areas training time and mean MAPE."
>>>>>>> c5d1ef2 (Cleaned up notebooks.)
   ]
  },
  {
   "cell_type": "markdown",
   "id": "03f40623",
   "metadata": {},
   "source": [
    "### Further work clean up model and add pipeline\n",
    "\n",
    "Additionally, this model was only tested on the training set."
   ]
  },
  {
<<<<<<< HEAD
   "cell_type": "code",
   "execution_count": null,
   "id": "976ab96b",
   "metadata": {},
   "outputs": [],
   "source": []
=======
   "cell_type": "markdown",
   "id": "0213dfc2",
   "metadata": {},
   "source": [
    "### Build Pipeline"
   ]
  },
  {
   "cell_type": "code",
   "execution_count": 4,
   "id": "976ab96b",
   "metadata": {},
   "outputs": [],
   "source": [
    "from sklearn.compose import ColumnTransformer\n",
    "from sklearn.pipeline import Pipeline"
   ]
  },
  {
   "cell_type": "code",
   "execution_count": 5,
   "id": "c715f9b0",
   "metadata": {},
   "outputs": [],
   "source": [
    "from sklearn.base import BaseEstimator, TransformerMixin\n",
    "\n",
    "class MonthTransformer(BaseEstimator, TransformerMixin):\n",
    "    def fit(self, X, y=None):\n",
    "        return self\n",
    "\n",
    "    def transform(Self, X, y = None):\n",
    "        X = pd.to_datetime(X)\n",
    "        X = X.dt.month\n",
    "        return X.values.reshape(-1,1)"
   ]
  },
  {
   "cell_type": "code",
   "execution_count": 6,
   "id": "9bdd56ff",
   "metadata": {},
   "outputs": [],
   "source": [
    "mt = MonthTransformer()"
   ]
  },
  {
   "cell_type": "code",
   "execution_count": 11,
   "id": "cd18a216",
   "metadata": {},
   "outputs": [],
   "source": [
    "ct1 = ColumnTransformer(transformers=[('month', MonthTransformer(), [0])], remainder='passthrough')\n",
    "ct2 = ColumnTransformer(transformers=[('enc', OrdinalEncoder(), \n",
    "                                       [1, 2, 3, 4])], remainder='passthrough')"
   ]
  },
  {
   "cell_type": "code",
   "execution_count": 19,
   "id": "4d319683",
   "metadata": {},
   "outputs": [],
   "source": [
    "hgbr_pipe = Pipeline([('encode_months', ct1), ('encode_rest', ct2), \n",
    "                      ('hgbr', HistGradientBoostingRegressor(categorical_features=[0,1,2,3,4], \n",
    "                                                             max_leaf_nodes=None))])"
   ]
  },
  {
   "cell_type": "code",
   "execution_count": 12,
   "id": "f05b5835",
   "metadata": {},
   "outputs": [],
   "source": [
    "X = cmm_paid[['tx_date', 'bin', 'pcn', 'group', 'drug']].copy()"
   ]
  },
  {
   "cell_type": "code",
   "execution_count": 17,
   "id": "fa7f8704",
   "metadata": {},
   "outputs": [],
   "source": [
    "y = cmm_paid['patient_pay'].copy()"
   ]
  },
  {
   "cell_type": "code",
   "execution_count": 20,
   "id": "07703e30",
   "metadata": {},
   "outputs": [
    {
     "data": {
      "text/html": [
       "<style>#sk-container-id-1 {color: black;background-color: white;}#sk-container-id-1 pre{padding: 0;}#sk-container-id-1 div.sk-toggleable {background-color: white;}#sk-container-id-1 label.sk-toggleable__label {cursor: pointer;display: block;width: 100%;margin-bottom: 0;padding: 0.3em;box-sizing: border-box;text-align: center;}#sk-container-id-1 label.sk-toggleable__label-arrow:before {content: \"▸\";float: left;margin-right: 0.25em;color: #696969;}#sk-container-id-1 label.sk-toggleable__label-arrow:hover:before {color: black;}#sk-container-id-1 div.sk-estimator:hover label.sk-toggleable__label-arrow:before {color: black;}#sk-container-id-1 div.sk-toggleable__content {max-height: 0;max-width: 0;overflow: hidden;text-align: left;background-color: #f0f8ff;}#sk-container-id-1 div.sk-toggleable__content pre {margin: 0.2em;color: black;border-radius: 0.25em;background-color: #f0f8ff;}#sk-container-id-1 input.sk-toggleable__control:checked~div.sk-toggleable__content {max-height: 200px;max-width: 100%;overflow: auto;}#sk-container-id-1 input.sk-toggleable__control:checked~label.sk-toggleable__label-arrow:before {content: \"▾\";}#sk-container-id-1 div.sk-estimator input.sk-toggleable__control:checked~label.sk-toggleable__label {background-color: #d4ebff;}#sk-container-id-1 div.sk-label input.sk-toggleable__control:checked~label.sk-toggleable__label {background-color: #d4ebff;}#sk-container-id-1 input.sk-hidden--visually {border: 0;clip: rect(1px 1px 1px 1px);clip: rect(1px, 1px, 1px, 1px);height: 1px;margin: -1px;overflow: hidden;padding: 0;position: absolute;width: 1px;}#sk-container-id-1 div.sk-estimator {font-family: monospace;background-color: #f0f8ff;border: 1px dotted black;border-radius: 0.25em;box-sizing: border-box;margin-bottom: 0.5em;}#sk-container-id-1 div.sk-estimator:hover {background-color: #d4ebff;}#sk-container-id-1 div.sk-parallel-item::after {content: \"\";width: 100%;border-bottom: 1px solid gray;flex-grow: 1;}#sk-container-id-1 div.sk-label:hover label.sk-toggleable__label {background-color: #d4ebff;}#sk-container-id-1 div.sk-serial::before {content: \"\";position: absolute;border-left: 1px solid gray;box-sizing: border-box;top: 0;bottom: 0;left: 50%;z-index: 0;}#sk-container-id-1 div.sk-serial {display: flex;flex-direction: column;align-items: center;background-color: white;padding-right: 0.2em;padding-left: 0.2em;position: relative;}#sk-container-id-1 div.sk-item {position: relative;z-index: 1;}#sk-container-id-1 div.sk-parallel {display: flex;align-items: stretch;justify-content: center;background-color: white;position: relative;}#sk-container-id-1 div.sk-item::before, #sk-container-id-1 div.sk-parallel-item::before {content: \"\";position: absolute;border-left: 1px solid gray;box-sizing: border-box;top: 0;bottom: 0;left: 50%;z-index: -1;}#sk-container-id-1 div.sk-parallel-item {display: flex;flex-direction: column;z-index: 1;position: relative;background-color: white;}#sk-container-id-1 div.sk-parallel-item:first-child::after {align-self: flex-end;width: 50%;}#sk-container-id-1 div.sk-parallel-item:last-child::after {align-self: flex-start;width: 50%;}#sk-container-id-1 div.sk-parallel-item:only-child::after {width: 0;}#sk-container-id-1 div.sk-dashed-wrapped {border: 1px dashed gray;margin: 0 0.4em 0.5em 0.4em;box-sizing: border-box;padding-bottom: 0.4em;background-color: white;}#sk-container-id-1 div.sk-label label {font-family: monospace;font-weight: bold;display: inline-block;line-height: 1.2em;}#sk-container-id-1 div.sk-label-container {text-align: center;}#sk-container-id-1 div.sk-container {/* jupyter's `normalize.less` sets `[hidden] { display: none; }` but bootstrap.min.css set `[hidden] { display: none !important; }` so we also need the `!important` here to be able to override the default hidden behavior on the sphinx rendered scikit-learn.org. See: https://github.com/scikit-learn/scikit-learn/issues/21755 */display: inline-block !important;position: relative;}#sk-container-id-1 div.sk-text-repr-fallback {display: none;}</style><div id=\"sk-container-id-1\" class=\"sk-top-container\"><div class=\"sk-text-repr-fallback\"><pre>Pipeline(steps=[(&#x27;encode_months&#x27;,\n",
       "                 ColumnTransformer(remainder=&#x27;passthrough&#x27;,\n",
       "                                   transformers=[(&#x27;month&#x27;, MonthTransformer(),\n",
       "                                                  &#x27;tx_date&#x27;)])),\n",
       "                (&#x27;encode_rest&#x27;,\n",
       "                 ColumnTransformer(remainder=&#x27;passthrough&#x27;,\n",
       "                                   transformers=[(&#x27;enc&#x27;, OrdinalEncoder(),\n",
       "                                                  [1, 2, 3, 4])])),\n",
       "                (&#x27;hgbr&#x27;,\n",
       "                 HistGradientBoostingRegressor(categorical_features=[0, 1, 2, 3,\n",
       "                                                                     4],\n",
       "                                               max_leaf_nodes=None))])</pre><b>In a Jupyter environment, please rerun this cell to show the HTML representation or trust the notebook. <br />On GitHub, the HTML representation is unable to render, please try loading this page with nbviewer.org.</b></div><div class=\"sk-container\" hidden><div class=\"sk-item sk-dashed-wrapped\"><div class=\"sk-label-container\"><div class=\"sk-label sk-toggleable\"><input class=\"sk-toggleable__control sk-hidden--visually\" id=\"sk-estimator-id-1\" type=\"checkbox\" ><label for=\"sk-estimator-id-1\" class=\"sk-toggleable__label sk-toggleable__label-arrow\">Pipeline</label><div class=\"sk-toggleable__content\"><pre>Pipeline(steps=[(&#x27;encode_months&#x27;,\n",
       "                 ColumnTransformer(remainder=&#x27;passthrough&#x27;,\n",
       "                                   transformers=[(&#x27;month&#x27;, MonthTransformer(),\n",
       "                                                  &#x27;tx_date&#x27;)])),\n",
       "                (&#x27;encode_rest&#x27;,\n",
       "                 ColumnTransformer(remainder=&#x27;passthrough&#x27;,\n",
       "                                   transformers=[(&#x27;enc&#x27;, OrdinalEncoder(),\n",
       "                                                  [1, 2, 3, 4])])),\n",
       "                (&#x27;hgbr&#x27;,\n",
       "                 HistGradientBoostingRegressor(categorical_features=[0, 1, 2, 3,\n",
       "                                                                     4],\n",
       "                                               max_leaf_nodes=None))])</pre></div></div></div><div class=\"sk-serial\"><div class=\"sk-item sk-dashed-wrapped\"><div class=\"sk-label-container\"><div class=\"sk-label sk-toggleable\"><input class=\"sk-toggleable__control sk-hidden--visually\" id=\"sk-estimator-id-2\" type=\"checkbox\" ><label for=\"sk-estimator-id-2\" class=\"sk-toggleable__label sk-toggleable__label-arrow\">encode_months: ColumnTransformer</label><div class=\"sk-toggleable__content\"><pre>ColumnTransformer(remainder=&#x27;passthrough&#x27;,\n",
       "                  transformers=[(&#x27;month&#x27;, MonthTransformer(), &#x27;tx_date&#x27;)])</pre></div></div></div><div class=\"sk-parallel\"><div class=\"sk-parallel-item\"><div class=\"sk-item\"><div class=\"sk-label-container\"><div class=\"sk-label sk-toggleable\"><input class=\"sk-toggleable__control sk-hidden--visually\" id=\"sk-estimator-id-3\" type=\"checkbox\" ><label for=\"sk-estimator-id-3\" class=\"sk-toggleable__label sk-toggleable__label-arrow\">month</label><div class=\"sk-toggleable__content\"><pre>tx_date</pre></div></div></div><div class=\"sk-serial\"><div class=\"sk-item\"><div class=\"sk-estimator sk-toggleable\"><input class=\"sk-toggleable__control sk-hidden--visually\" id=\"sk-estimator-id-4\" type=\"checkbox\" ><label for=\"sk-estimator-id-4\" class=\"sk-toggleable__label sk-toggleable__label-arrow\">MonthTransformer</label><div class=\"sk-toggleable__content\"><pre>MonthTransformer()</pre></div></div></div></div></div></div><div class=\"sk-parallel-item\"><div class=\"sk-item\"><div class=\"sk-label-container\"><div class=\"sk-label sk-toggleable\"><input class=\"sk-toggleable__control sk-hidden--visually\" id=\"sk-estimator-id-5\" type=\"checkbox\" ><label for=\"sk-estimator-id-5\" class=\"sk-toggleable__label sk-toggleable__label-arrow\">remainder</label><div class=\"sk-toggleable__content\"><pre>[&#x27;bin&#x27;, &#x27;pcn&#x27;, &#x27;group&#x27;, &#x27;drug&#x27;]</pre></div></div></div><div class=\"sk-serial\"><div class=\"sk-item\"><div class=\"sk-estimator sk-toggleable\"><input class=\"sk-toggleable__control sk-hidden--visually\" id=\"sk-estimator-id-6\" type=\"checkbox\" ><label for=\"sk-estimator-id-6\" class=\"sk-toggleable__label sk-toggleable__label-arrow\">passthrough</label><div class=\"sk-toggleable__content\"><pre>passthrough</pre></div></div></div></div></div></div></div></div><div class=\"sk-item sk-dashed-wrapped\"><div class=\"sk-label-container\"><div class=\"sk-label sk-toggleable\"><input class=\"sk-toggleable__control sk-hidden--visually\" id=\"sk-estimator-id-7\" type=\"checkbox\" ><label for=\"sk-estimator-id-7\" class=\"sk-toggleable__label sk-toggleable__label-arrow\">encode_rest: ColumnTransformer</label><div class=\"sk-toggleable__content\"><pre>ColumnTransformer(remainder=&#x27;passthrough&#x27;,\n",
       "                  transformers=[(&#x27;enc&#x27;, OrdinalEncoder(), [1, 2, 3, 4])])</pre></div></div></div><div class=\"sk-parallel\"><div class=\"sk-parallel-item\"><div class=\"sk-item\"><div class=\"sk-label-container\"><div class=\"sk-label sk-toggleable\"><input class=\"sk-toggleable__control sk-hidden--visually\" id=\"sk-estimator-id-8\" type=\"checkbox\" ><label for=\"sk-estimator-id-8\" class=\"sk-toggleable__label sk-toggleable__label-arrow\">enc</label><div class=\"sk-toggleable__content\"><pre>[1, 2, 3, 4]</pre></div></div></div><div class=\"sk-serial\"><div class=\"sk-item\"><div class=\"sk-estimator sk-toggleable\"><input class=\"sk-toggleable__control sk-hidden--visually\" id=\"sk-estimator-id-9\" type=\"checkbox\" ><label for=\"sk-estimator-id-9\" class=\"sk-toggleable__label sk-toggleable__label-arrow\">OrdinalEncoder</label><div class=\"sk-toggleable__content\"><pre>OrdinalEncoder()</pre></div></div></div></div></div></div><div class=\"sk-parallel-item\"><div class=\"sk-item\"><div class=\"sk-label-container\"><div class=\"sk-label sk-toggleable\"><input class=\"sk-toggleable__control sk-hidden--visually\" id=\"sk-estimator-id-10\" type=\"checkbox\" ><label for=\"sk-estimator-id-10\" class=\"sk-toggleable__label sk-toggleable__label-arrow\">remainder</label><div class=\"sk-toggleable__content\"><pre>[0]</pre></div></div></div><div class=\"sk-serial\"><div class=\"sk-item\"><div class=\"sk-estimator sk-toggleable\"><input class=\"sk-toggleable__control sk-hidden--visually\" id=\"sk-estimator-id-11\" type=\"checkbox\" ><label for=\"sk-estimator-id-11\" class=\"sk-toggleable__label sk-toggleable__label-arrow\">passthrough</label><div class=\"sk-toggleable__content\"><pre>passthrough</pre></div></div></div></div></div></div></div></div><div class=\"sk-item\"><div class=\"sk-estimator sk-toggleable\"><input class=\"sk-toggleable__control sk-hidden--visually\" id=\"sk-estimator-id-12\" type=\"checkbox\" ><label for=\"sk-estimator-id-12\" class=\"sk-toggleable__label sk-toggleable__label-arrow\">HistGradientBoostingRegressor</label><div class=\"sk-toggleable__content\"><pre>HistGradientBoostingRegressor(categorical_features=[0, 1, 2, 3, 4],\n",
       "                              max_leaf_nodes=None)</pre></div></div></div></div></div></div></div>"
      ],
      "text/plain": [
       "Pipeline(steps=[('encode_months',\n",
       "                 ColumnTransformer(remainder='passthrough',\n",
       "                                   transformers=[('month', MonthTransformer(),\n",
       "                                                  'tx_date')])),\n",
       "                ('encode_rest',\n",
       "                 ColumnTransformer(remainder='passthrough',\n",
       "                                   transformers=[('enc', OrdinalEncoder(),\n",
       "                                                  [1, 2, 3, 4])])),\n",
       "                ('hgbr',\n",
       "                 HistGradientBoostingRegressor(categorical_features=[0, 1, 2, 3,\n",
       "                                                                     4],\n",
       "                                               max_leaf_nodes=None))])"
      ]
     },
     "execution_count": 20,
     "metadata": {},
     "output_type": "execute_result"
    }
   ],
   "source": [
    "hgbr_pipe.fit(X, y)"
   ]
  },
  {
   "cell_type": "code",
   "execution_count": 52,
   "id": "84f5fd91",
   "metadata": {},
   "outputs": [],
   "source": [
    "predicted = hgbr_pipe.predict(X)"
   ]
  },
  {
   "cell_type": "code",
   "execution_count": 59,
   "id": "1e46716a",
   "metadata": {},
   "outputs": [
    {
     "name": "stdout",
     "output_type": "stream",
     "text": [
      "MAPE: 1.3906508277596592\n",
      "MSE: 2.1291668424749783\n"
     ]
    }
   ],
   "source": [
    "print('MAPE:', mean_absolute_percentage_error(y, predicted)*100)\n",
    "print('MSE:', np.sqrt(mean_squared_error(y, predicted)))"
   ]
  },
  {
   "cell_type": "markdown",
   "id": "69467152",
   "metadata": {},
   "source": [
    "### Save Model"
   ]
  },
  {
   "cell_type": "code",
   "execution_count": 23,
   "id": "58b08099",
   "metadata": {},
   "outputs": [],
   "source": [
    "import pickle as pkl"
   ]
  },
  {
   "cell_type": "code",
   "execution_count": 29,
   "id": "48b93bd1",
   "metadata": {},
   "outputs": [],
   "source": [
    "with open('hgbr_model', 'wb') as f:\n",
    "    pkl.dump(hgbr_pipe, f)"
   ]
  },
  {
   "cell_type": "code",
   "execution_count": 38,
   "id": "13b1466f",
   "metadata": {},
   "outputs": [],
   "source": [
    "with open('hgbr_model', 'rb') as f:\n",
    "    cls = pkl.load(f)"
   ]
  },
  {
   "cell_type": "markdown",
   "id": "46459b41",
   "metadata": {},
   "source": [
    "### Check Model on the Test Data"
   ]
  },
  {
   "cell_type": "code",
   "execution_count": 60,
   "id": "a17be65b",
   "metadata": {},
   "outputs": [],
   "source": [
    "cmm_test_paid = cmm_test[cmm_test.rejected == 0].copy()\n",
    "X_test = cmm_test_paid[['tx_date', 'bin', 'pcn', 'group', 'drug']].copy()\n",
    "y_test = cmm_test_paid['patient_pay'].copy()"
   ]
  },
  {
   "cell_type": "code",
   "execution_count": 70,
   "id": "6b129a32",
   "metadata": {},
   "outputs": [
    {
     "name": "stdout",
     "output_type": "stream",
     "text": [
      "MAPE: 1.4016888684336466\n",
      "MSE: 2.146045445630724\n"
     ]
    }
   ],
   "source": [
    "predicted_test = cls.predict(X_test)\n",
    "print('MAPE:', mean_absolute_percentage_error(y_test, predicted_test)*100)\n",
    "print('MSE:', np.sqrt(mean_squared_error(y_test, predicted_test)))"
   ]
>>>>>>> c5d1ef2 (Cleaned up notebooks.)
  }
 ],
 "metadata": {
  "kernelspec": {
   "display_name": "Python 3 (ipykernel)",
   "language": "python",
   "name": "python3"
  },
  "language_info": {
   "codemirror_mode": {
    "name": "ipython",
    "version": 3
   },
   "file_extension": ".py",
   "mimetype": "text/x-python",
   "name": "python",
   "nbconvert_exporter": "python",
   "pygments_lexer": "ipython3",
   "version": "3.10.4"
  }
 },
 "nbformat": 4,
 "nbformat_minor": 5
}
