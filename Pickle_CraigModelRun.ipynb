{
 "cells": [
  {
   "cell_type": "code",
   "execution_count": 22,
   "id": "a244b4e8-d890-466b-ad22-27e67b288d3f",
   "metadata": {},
   "outputs": [],
   "source": [
    "import pickle "
   ]
  },
  {
   "cell_type": "code",
   "execution_count": 25,
   "id": "d3982f33-d44b-415c-af8f-3e75a857aa9c",
   "metadata": {},
   "outputs": [],
   "source": [
    "#Loading model to compare the results\n",
    "model = pickle.load(open('model.pkl','rb'))"
   ]
  },
  {
   "cell_type": "code",
   "execution_count": 27,
   "id": "1118bbf5-ba55-425f-86ce-ae4edbca8e7a",
   "metadata": {},
   "outputs": [
    {
     "name": "stdout",
     "output_type": "stream",
     "text": [
      "[17.83646583]\n"
     ]
    },
    {
     "name": "stderr",
     "output_type": "stream",
     "text": [
      "/Users/dilhumarablat/opt/anaconda3/envs/mlenv/lib/python3.7/site-packages/sklearn/base.py:446: UserWarning: X does not have valid feature names, but RandomForestRegressor was fitted with feature names\n",
      "  \"X does not have valid feature names, but\"\n"
     ]
    }
   ],
   "source": [
    "print(model.predict([[12.0098,10.43000, 15.430000, 30.559247, 15.43, 18.43, 17.43]]))"
   ]
  },
  {
   "cell_type": "code",
   "execution_count": null,
   "id": "a54d2e89-af36-43d3-96f4-cb016e292883",
   "metadata": {},
   "outputs": [],
   "source": []
  }
 ],
 "metadata": {
  "kernelspec": {
   "display_name": "ErdosPythonData",
   "language": "python",
   "name": "erdospythondata"
  },
  "language_info": {
   "codemirror_mode": {
    "name": "ipython",
    "version": 3
   },
   "file_extension": ".py",
   "mimetype": "text/x-python",
   "name": "python",
   "nbconvert_exporter": "python",
   "pygments_lexer": "ipython3",
   "version": "3.7.13"
  }
 },
 "nbformat": 4,
 "nbformat_minor": 5
}
