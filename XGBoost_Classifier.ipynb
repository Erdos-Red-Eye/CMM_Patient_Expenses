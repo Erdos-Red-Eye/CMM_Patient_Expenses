{
 "cells": [
  {
   "cell_type": "markdown",
   "id": "8b49dff9",
   "metadata": {},
   "source": [
    "# Quick Model for Classifying Rejection.\n",
    "I am going give to XGBoost a quick go to classify if a drug has been rejected"
   ]
  },
  {
   "cell_type": "markdown",
   "id": "daca6ad4",
   "metadata": {},
   "source": [
    "### Import Libraries"
   ]
  },
  {
   "cell_type": "code",
   "execution_count": 1,
   "id": "ca8765c5",
   "metadata": {},
   "outputs": [],
   "source": [
    "import numpy as np\n",
    "import pandas as pd\n",
    "\n",
    "import matplotlib.pyplot as plt\n",
    "import seaborn as sns\n",
    "\n",
    "from sklearn.model_selection import train_test_split"
   ]
  },
  {
   "cell_type": "markdown",
   "id": "2f1ca27b",
   "metadata": {},
   "source": [
    "### Import data and split into train/test groups"
   ]
  },
  {
   "cell_type": "code",
   "execution_count": 2,
   "id": "62241f6a",
   "metadata": {},
   "outputs": [],
   "source": [
    "cmm_data = pd.read_csv('/home/ruggiec/Downloads/pharmacy_tx.csv')\n",
    "cmm_data_no_dups = cmm_data.drop_duplicates()\n",
    "cmm_train, cmm_test = train_test_split(cmm_data_no_dups, shuffle=True, \n",
    "                             random_state= 614, test_size=0.2)"
   ]
  },
  {
   "cell_type": "markdown",
   "id": "f198bcea",
   "metadata": {},
   "source": [
    "### Feature Engineering"
   ]
  },
  {
   "cell_type": "code",
   "execution_count": 3,
   "id": "eaa1e8db",
   "metadata": {},
   "outputs": [],
   "source": [
    "def is_it_generic(text):\n",
    "    if text.split()[0] == 'generic':\n",
    "        return 1\n",
    "    else:\n",
    "        return 0\n",
    "    \n",
    "def drug_name(text):\n",
    "    return text.split()[1]"
   ]
  },
  {
   "cell_type": "code",
   "execution_count": 4,
   "id": "5b09a239",
   "metadata": {},
   "outputs": [],
   "source": [
    "cmm_train['generic'] = cmm_train.drug.apply(is_it_generic)\n",
    "cmm_train['name'] = cmm_train['drug'].apply(drug_name)\n",
    "cmm_train['private'] = cmm_train.group.isna().astype(int)\n",
    "cmm_train['popularity'] = cmm_train.groupby('name')[['tx_date']].transform('count')\n",
    "cmm_train['rejected'] = cmm_train['rejected'].astype(int)\n",
    "cmm_train['rejected_count'] = cmm_train.groupby('name')['rejected'].transform('sum')"
   ]
  },
  {
   "cell_type": "markdown",
   "id": "a3a970f7",
   "metadata": {},
   "source": [
    "#### Encoding Categorical Variables with Label Encoder"
   ]
  },
  {
   "cell_type": "code",
   "execution_count": 8,
   "id": "774d8438",
   "metadata": {},
   "outputs": [],
   "source": [
    "from sklearn.preprocessing import LabelEncoder"
   ]
  },
  {
   "cell_type": "code",
   "execution_count": 14,
   "id": "75e95281",
   "metadata": {},
   "outputs": [],
   "source": [
    "le_name = LabelEncoder()\n",
    "le_name.fit(cmm_train['name'])\n",
    "cmm_train['name_encoded'] = le_name.transform(cmm_train['name'])"
   ]
  },
  {
   "cell_type": "markdown",
   "id": "d38baeff",
   "metadata": {},
   "source": [
    "names are transformed to numerical data above. below we can transform numerical data back to a name."
   ]
  },
  {
   "cell_type": "code",
   "execution_count": 15,
   "id": "292eb071",
   "metadata": {},
   "outputs": [
    {
     "data": {
      "text/plain": [
       "array(['foxivelule'], dtype=object)"
      ]
     },
     "execution_count": 15,
     "metadata": {},
     "output_type": "execute_result"
    }
   ],
   "source": [
    "le_name.inverse_transform([19])"
   ]
  },
  {
   "cell_type": "code",
   "execution_count": 19,
   "id": "c31cc9e2",
   "metadata": {},
   "outputs": [],
   "source": [
    "le_diagnosis = LabelEncoder()\n",
    "le_diagnosis.fit(cmm_train['diagnosis'])\n",
    "cmm_train['diagnosis_encoded'] = le_diagnosis.transform(cmm_train['diagnosis'])"
   ]
  },
  {
   "cell_type": "code",
   "execution_count": 27,
   "id": "29af5b0f",
   "metadata": {},
   "outputs": [
    {
     "data": {
      "text/plain": [
       "array(['M31.63'], dtype=object)"
      ]
     },
     "execution_count": 27,
     "metadata": {},
     "output_type": "execute_result"
    }
   ],
   "source": [
    "le_diagnosis.inverse_transform([66])"
   ]
  },
  {
   "cell_type": "code",
   "execution_count": 21,
   "id": "6cd21c7e",
   "metadata": {},
   "outputs": [],
   "source": [
    "le_bin = LabelEncoder()\n",
    "le_bin.fit(cmm_train['bin'])\n",
    "cmm_train['bin_encoded'] = le_bin.transform(cmm_train['bin'])"
   ]
  },
  {
   "cell_type": "code",
   "execution_count": 26,
   "id": "5130a548",
   "metadata": {},
   "outputs": [
    {
     "data": {
      "text/plain": [
       "array([322463])"
      ]
     },
     "execution_count": 26,
     "metadata": {},
     "output_type": "execute_result"
    }
   ],
   "source": [
    "le_bin.inverse_transform([2])"
   ]
  },
  {
   "cell_type": "code",
   "execution_count": 22,
   "id": "d9872db6",
   "metadata": {},
   "outputs": [],
   "source": [
    "le_pcn = LabelEncoder()\n",
    "le_pcn.fit(cmm_train['pcn'])\n",
    "cmm_train['pcn_encoded'] = le_pcn.transform(cmm_train['pcn'])"
   ]
  },
  {
   "cell_type": "code",
   "execution_count": 29,
   "id": "d00503aa",
   "metadata": {},
   "outputs": [
    {
     "data": {
      "text/plain": [
       "array(['3O71UTS'], dtype=object)"
      ]
     },
     "execution_count": 29,
     "metadata": {},
     "output_type": "execute_result"
    }
   ],
   "source": [
    "le_pcn.inverse_transform([4])"
   ]
  },
  {
   "cell_type": "markdown",
   "id": "8a7b2029",
   "metadata": {},
   "source": [
    "### What do we have?"
   ]
  },
  {
   "cell_type": "code",
   "execution_count": 32,
   "id": "71eeacc1",
   "metadata": {},
   "outputs": [
    {
     "data": {
      "text/plain": [
       "Index(['tx_date', 'pharmacy', 'diagnosis', 'drug', 'bin', 'pcn', 'group',\n",
       "       'rejected', 'patient_pay', 'generic', 'name', 'private', 'popularity',\n",
       "       'rejected_count', 'name_encoded', 'diagnosis_encoded', 'bin_encoded',\n",
       "       'pcn_encoded'],\n",
       "      dtype='object')"
      ]
     },
     "execution_count": 32,
     "metadata": {},
     "output_type": "execute_result"
    }
   ],
   "source": [
    "cmm_train.columns"
   ]
  },
  {
   "cell_type": "code",
   "execution_count": 23,
   "id": "28fa3f4a",
   "metadata": {},
   "outputs": [
    {
     "data": {
      "text/html": [
       "<div>\n",
       "<style scoped>\n",
       "    .dataframe tbody tr th:only-of-type {\n",
       "        vertical-align: middle;\n",
       "    }\n",
       "\n",
       "    .dataframe tbody tr th {\n",
       "        vertical-align: top;\n",
       "    }\n",
       "\n",
       "    .dataframe thead th {\n",
       "        text-align: right;\n",
       "    }\n",
       "</style>\n",
       "<table border=\"1\" class=\"dataframe\">\n",
       "  <thead>\n",
       "    <tr style=\"text-align: right;\">\n",
       "      <th></th>\n",
       "      <th>tx_date</th>\n",
       "      <th>pharmacy</th>\n",
       "      <th>diagnosis</th>\n",
       "      <th>drug</th>\n",
       "      <th>bin</th>\n",
       "      <th>pcn</th>\n",
       "      <th>group</th>\n",
       "      <th>rejected</th>\n",
       "      <th>patient_pay</th>\n",
       "      <th>generic</th>\n",
       "      <th>name</th>\n",
       "      <th>private</th>\n",
       "      <th>popularity</th>\n",
       "      <th>rejected_count</th>\n",
       "      <th>name_encoded</th>\n",
       "      <th>diagnosis_encoded</th>\n",
       "      <th>bin_encoded</th>\n",
       "      <th>pcn_encoded</th>\n",
       "    </tr>\n",
       "  </thead>\n",
       "  <tbody>\n",
       "    <tr>\n",
       "      <th>3962160</th>\n",
       "      <td>2022-04-23</td>\n",
       "      <td>Pharmacy #29</td>\n",
       "      <td>M31.63</td>\n",
       "      <td>branded mamate</td>\n",
       "      <td>322463</td>\n",
       "      <td>3O71UTS</td>\n",
       "      <td>NaN</td>\n",
       "      <td>0</td>\n",
       "      <td>25.75</td>\n",
       "      <td>0</td>\n",
       "      <td>mamate</td>\n",
       "      <td>1</td>\n",
       "      <td>23539</td>\n",
       "      <td>4480</td>\n",
       "      <td>38</td>\n",
       "      <td>66</td>\n",
       "      <td>2</td>\n",
       "      <td>4</td>\n",
       "    </tr>\n",
       "    <tr>\n",
       "      <th>1161541</th>\n",
       "      <td>2022-02-06</td>\n",
       "      <td>Pharmacy #7</td>\n",
       "      <td>Z20.23</td>\n",
       "      <td>branded vivafastat</td>\n",
       "      <td>725700</td>\n",
       "      <td>327CKV</td>\n",
       "      <td>IOEAN1DWVV3Y</td>\n",
       "      <td>0</td>\n",
       "      <td>180.52</td>\n",
       "      <td>0</td>\n",
       "      <td>vivafastat</td>\n",
       "      <td>0</td>\n",
       "      <td>43263</td>\n",
       "      <td>14072</td>\n",
       "      <td>75</td>\n",
       "      <td>127</td>\n",
       "      <td>8</td>\n",
       "      <td>2</td>\n",
       "    </tr>\n",
       "    <tr>\n",
       "      <th>10643305</th>\n",
       "      <td>2022-10-12</td>\n",
       "      <td>Pharmacy #4</td>\n",
       "      <td>U41.19</td>\n",
       "      <td>generic foxivelule</td>\n",
       "      <td>322463</td>\n",
       "      <td>3O71UTS</td>\n",
       "      <td>NaN</td>\n",
       "      <td>0</td>\n",
       "      <td>12.22</td>\n",
       "      <td>1</td>\n",
       "      <td>foxivelule</td>\n",
       "      <td>1</td>\n",
       "      <td>367822</td>\n",
       "      <td>0</td>\n",
       "      <td>19</td>\n",
       "      <td>101</td>\n",
       "      <td>2</td>\n",
       "      <td>4</td>\n",
       "    </tr>\n",
       "    <tr>\n",
       "      <th>10629491</th>\n",
       "      <td>2022-10-11</td>\n",
       "      <td>Pharmacy #31</td>\n",
       "      <td>K87.68</td>\n",
       "      <td>generic ribosatharin</td>\n",
       "      <td>664344</td>\n",
       "      <td>YFVIA</td>\n",
       "      <td>AJK5MZ25T9IA</td>\n",
       "      <td>0</td>\n",
       "      <td>12.37</td>\n",
       "      <td>1</td>\n",
       "      <td>ribosatharin</td>\n",
       "      <td>0</td>\n",
       "      <td>121908</td>\n",
       "      <td>8960</td>\n",
       "      <td>56</td>\n",
       "      <td>59</td>\n",
       "      <td>5</td>\n",
       "      <td>44</td>\n",
       "    </tr>\n",
       "    <tr>\n",
       "      <th>10928718</th>\n",
       "      <td>2022-10-18</td>\n",
       "      <td>Pharmacy #6</td>\n",
       "      <td>G99.93</td>\n",
       "      <td>generic simarol</td>\n",
       "      <td>96934</td>\n",
       "      <td>S76J7V6</td>\n",
       "      <td>NaN</td>\n",
       "      <td>0</td>\n",
       "      <td>13.93</td>\n",
       "      <td>1</td>\n",
       "      <td>simarol</td>\n",
       "      <td>1</td>\n",
       "      <td>144501</td>\n",
       "      <td>7380</td>\n",
       "      <td>61</td>\n",
       "      <td>37</td>\n",
       "      <td>0</td>\n",
       "      <td>34</td>\n",
       "    </tr>\n",
       "  </tbody>\n",
       "</table>\n",
       "</div>"
      ],
      "text/plain": [
       "             tx_date      pharmacy diagnosis                  drug     bin  \\\n",
       "3962160   2022-04-23  Pharmacy #29    M31.63        branded mamate  322463   \n",
       "1161541   2022-02-06   Pharmacy #7    Z20.23    branded vivafastat  725700   \n",
       "10643305  2022-10-12   Pharmacy #4    U41.19    generic foxivelule  322463   \n",
       "10629491  2022-10-11  Pharmacy #31    K87.68  generic ribosatharin  664344   \n",
       "10928718  2022-10-18   Pharmacy #6    G99.93       generic simarol   96934   \n",
       "\n",
       "              pcn         group  rejected  patient_pay  generic          name  \\\n",
       "3962160   3O71UTS           NaN         0        25.75        0        mamate   \n",
       "1161541    327CKV  IOEAN1DWVV3Y         0       180.52        0    vivafastat   \n",
       "10643305  3O71UTS           NaN         0        12.22        1    foxivelule   \n",
       "10629491    YFVIA  AJK5MZ25T9IA         0        12.37        1  ribosatharin   \n",
       "10928718  S76J7V6           NaN         0        13.93        1       simarol   \n",
       "\n",
       "          private  popularity  rejected_count  name_encoded  \\\n",
       "3962160         1       23539            4480            38   \n",
       "1161541         0       43263           14072            75   \n",
       "10643305        1      367822               0            19   \n",
       "10629491        0      121908            8960            56   \n",
       "10928718        1      144501            7380            61   \n",
       "\n",
       "          diagnosis_encoded  bin_encoded  pcn_encoded  \n",
       "3962160                  66            2            4  \n",
       "1161541                 127            8            2  \n",
       "10643305                101            2            4  \n",
       "10629491                 59            5           44  \n",
       "10928718                 37            0           34  "
      ]
     },
     "execution_count": 23,
     "metadata": {},
     "output_type": "execute_result"
    }
   ],
   "source": [
    "cmm_train.head()"
   ]
  },
  {
   "cell_type": "code",
   "execution_count": 38,
   "id": "dccc5ef4",
   "metadata": {},
   "outputs": [
    {
     "name": "stdout",
     "output_type": "stream",
     "text": [
      "The number of rejected claims is 839691\n",
      "The total number of claims is 10049476\n"
     ]
    }
   ],
   "source": [
    "print('The number of rejected claims is', cmm_train['rejected'].sum())\n",
    "print('The total number of claims is', len(cmm_train))"
   ]
  },
  {
   "cell_type": "markdown",
   "id": "67b7cd40",
   "metadata": {},
   "source": [
    "The rejected category is not balanced so some consideration should be given to the metrics used to score the classifier."
   ]
  },
  {
   "cell_type": "code",
   "execution_count": 33,
   "id": "06606354",
   "metadata": {},
   "outputs": [],
   "source": [
    "base_features = ['diagnosis_encoded', 'bin_encoded', 'pcn_encoded', 'private', 'generic', 'name_encoded']"
   ]
  },
  {
   "cell_type": "markdown",
   "id": "f917d53c",
   "metadata": {},
   "source": [
    "### Importing the HistGradientBoostingClassifier\n",
    "This should be faster than XGBoost for large datasets."
   ]
  },
  {
   "cell_type": "code",
   "execution_count": 34,
   "id": "1b424108",
   "metadata": {},
   "outputs": [],
   "source": [
    "from sklearn.ensemble import HistGradientBoostingClassifier"
   ]
  },
  {
   "cell_type": "code",
   "execution_count": 35,
   "id": "4fdcb158",
   "metadata": {},
   "outputs": [
    {
     "data": {
      "text/html": [
       "<style>#sk-container-id-2 {color: black;background-color: white;}#sk-container-id-2 pre{padding: 0;}#sk-container-id-2 div.sk-toggleable {background-color: white;}#sk-container-id-2 label.sk-toggleable__label {cursor: pointer;display: block;width: 100%;margin-bottom: 0;padding: 0.3em;box-sizing: border-box;text-align: center;}#sk-container-id-2 label.sk-toggleable__label-arrow:before {content: \"▸\";float: left;margin-right: 0.25em;color: #696969;}#sk-container-id-2 label.sk-toggleable__label-arrow:hover:before {color: black;}#sk-container-id-2 div.sk-estimator:hover label.sk-toggleable__label-arrow:before {color: black;}#sk-container-id-2 div.sk-toggleable__content {max-height: 0;max-width: 0;overflow: hidden;text-align: left;background-color: #f0f8ff;}#sk-container-id-2 div.sk-toggleable__content pre {margin: 0.2em;color: black;border-radius: 0.25em;background-color: #f0f8ff;}#sk-container-id-2 input.sk-toggleable__control:checked~div.sk-toggleable__content {max-height: 200px;max-width: 100%;overflow: auto;}#sk-container-id-2 input.sk-toggleable__control:checked~label.sk-toggleable__label-arrow:before {content: \"▾\";}#sk-container-id-2 div.sk-estimator input.sk-toggleable__control:checked~label.sk-toggleable__label {background-color: #d4ebff;}#sk-container-id-2 div.sk-label input.sk-toggleable__control:checked~label.sk-toggleable__label {background-color: #d4ebff;}#sk-container-id-2 input.sk-hidden--visually {border: 0;clip: rect(1px 1px 1px 1px);clip: rect(1px, 1px, 1px, 1px);height: 1px;margin: -1px;overflow: hidden;padding: 0;position: absolute;width: 1px;}#sk-container-id-2 div.sk-estimator {font-family: monospace;background-color: #f0f8ff;border: 1px dotted black;border-radius: 0.25em;box-sizing: border-box;margin-bottom: 0.5em;}#sk-container-id-2 div.sk-estimator:hover {background-color: #d4ebff;}#sk-container-id-2 div.sk-parallel-item::after {content: \"\";width: 100%;border-bottom: 1px solid gray;flex-grow: 1;}#sk-container-id-2 div.sk-label:hover label.sk-toggleable__label {background-color: #d4ebff;}#sk-container-id-2 div.sk-serial::before {content: \"\";position: absolute;border-left: 1px solid gray;box-sizing: border-box;top: 0;bottom: 0;left: 50%;z-index: 0;}#sk-container-id-2 div.sk-serial {display: flex;flex-direction: column;align-items: center;background-color: white;padding-right: 0.2em;padding-left: 0.2em;position: relative;}#sk-container-id-2 div.sk-item {position: relative;z-index: 1;}#sk-container-id-2 div.sk-parallel {display: flex;align-items: stretch;justify-content: center;background-color: white;position: relative;}#sk-container-id-2 div.sk-item::before, #sk-container-id-2 div.sk-parallel-item::before {content: \"\";position: absolute;border-left: 1px solid gray;box-sizing: border-box;top: 0;bottom: 0;left: 50%;z-index: -1;}#sk-container-id-2 div.sk-parallel-item {display: flex;flex-direction: column;z-index: 1;position: relative;background-color: white;}#sk-container-id-2 div.sk-parallel-item:first-child::after {align-self: flex-end;width: 50%;}#sk-container-id-2 div.sk-parallel-item:last-child::after {align-self: flex-start;width: 50%;}#sk-container-id-2 div.sk-parallel-item:only-child::after {width: 0;}#sk-container-id-2 div.sk-dashed-wrapped {border: 1px dashed gray;margin: 0 0.4em 0.5em 0.4em;box-sizing: border-box;padding-bottom: 0.4em;background-color: white;}#sk-container-id-2 div.sk-label label {font-family: monospace;font-weight: bold;display: inline-block;line-height: 1.2em;}#sk-container-id-2 div.sk-label-container {text-align: center;}#sk-container-id-2 div.sk-container {/* jupyter's `normalize.less` sets `[hidden] { display: none; }` but bootstrap.min.css set `[hidden] { display: none !important; }` so we also need the `!important` here to be able to override the default hidden behavior on the sphinx rendered scikit-learn.org. See: https://github.com/scikit-learn/scikit-learn/issues/21755 */display: inline-block !important;position: relative;}#sk-container-id-2 div.sk-text-repr-fallback {display: none;}</style><div id=\"sk-container-id-2\" class=\"sk-top-container\"><div class=\"sk-text-repr-fallback\"><pre>HistGradientBoostingClassifier()</pre><b>In a Jupyter environment, please rerun this cell to show the HTML representation or trust the notebook. <br />On GitHub, the HTML representation is unable to render, please try loading this page with nbviewer.org.</b></div><div class=\"sk-container\" hidden><div class=\"sk-item\"><div class=\"sk-estimator sk-toggleable\"><input class=\"sk-toggleable__control sk-hidden--visually\" id=\"sk-estimator-id-2\" type=\"checkbox\" checked><label for=\"sk-estimator-id-2\" class=\"sk-toggleable__label sk-toggleable__label-arrow\">HistGradientBoostingClassifier</label><div class=\"sk-toggleable__content\"><pre>HistGradientBoostingClassifier()</pre></div></div></div></div></div>"
      ],
      "text/plain": [
       "HistGradientBoostingClassifier()"
      ]
     },
     "execution_count": 35,
     "metadata": {},
     "output_type": "execute_result"
    }
   ],
   "source": [
    "clf = HistGradientBoostingClassifier()\n",
    "clf.fit(cmm_train[base_features], cmm_train['rejected'])"
   ]
  },
  {
   "cell_type": "code",
   "execution_count": 36,
   "id": "3fc62c29",
   "metadata": {},
   "outputs": [
    {
     "data": {
      "text/plain": [
       "0.9164184281847133"
      ]
     },
     "execution_count": 36,
     "metadata": {},
     "output_type": "execute_result"
    }
   ],
   "source": [
    "clf.score(cmm_train[base_features], cmm_train['rejected'])"
   ]
  },
  {
   "cell_type": "code",
   "execution_count": 41,
   "id": "5ef2eaa0",
   "metadata": {},
   "outputs": [
    {
     "data": {
      "text/plain": [
       "76"
      ]
     },
     "execution_count": 41,
     "metadata": {},
     "output_type": "execute_result"
    }
   ],
   "source": [
    "clf.predict(cmm_train[cmm_train['rejected']==1][base_features]).sum()"
   ]
  },
  {
   "cell_type": "code",
   "execution_count": 44,
   "id": "7ff682ba",
   "metadata": {},
   "outputs": [
    {
     "data": {
      "text/plain": [
       "412"
      ]
     },
     "execution_count": 44,
     "metadata": {},
     "output_type": "execute_result"
    }
   ],
   "source": [
    "clf.predict(cmm_train[base_features]).sum()"
   ]
  },
  {
   "cell_type": "markdown",
   "id": "adf85ac2",
   "metadata": {},
   "source": [
    "### The first go at classification of rejected claims failed to give any useful information"
   ]
  },
  {
   "cell_type": "code",
   "execution_count": null,
   "id": "e6d22262",
   "metadata": {},
   "outputs": [],
   "source": []
  }
 ],
 "metadata": {
  "kernelspec": {
   "display_name": "Python 3 (ipykernel)",
   "language": "python",
   "name": "python3"
  },
  "language_info": {
   "codemirror_mode": {
    "name": "ipython",
    "version": 3
   },
   "file_extension": ".py",
   "mimetype": "text/x-python",
   "name": "python",
   "nbconvert_exporter": "python",
   "pygments_lexer": "ipython3",
   "version": "3.10.4"
  }
 },
 "nbformat": 4,
 "nbformat_minor": 5
}
