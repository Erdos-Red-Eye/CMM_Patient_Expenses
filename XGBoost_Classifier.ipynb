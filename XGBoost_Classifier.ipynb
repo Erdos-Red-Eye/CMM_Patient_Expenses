{
 "cells": [
  {
   "cell_type": "markdown",
   "id": "8b49dff9",
   "metadata": {},
   "source": [
    "# Quick Model for Classifying Rejection.\n",
    "I am going give to XGBoost a quick go to classify if a drug has been rejected"
   ]
  },
  {
   "cell_type": "markdown",
   "id": "daca6ad4",
   "metadata": {},
   "source": [
    "### Import Libraries"
   ]
  },
  {
   "cell_type": "code",
   "execution_count": 4,
   "id": "ca8765c5",
   "metadata": {},
   "outputs": [],
   "source": [
    "import numpy as np\n",
    "import pandas as pd\n",
    "\n",
    "import matplotlib.pyplot as plt\n",
    "import seaborn as sns\n",
    "\n",
    "from sklearn.model_selection import train_test_split"
   ]
  },
  {
   "cell_type": "markdown",
   "id": "2f1ca27b",
   "metadata": {},
   "source": [
    "### Import data and split into train/test groups"
   ]
  },
  {
   "cell_type": "code",
   "execution_count": 5,
   "id": "62241f6a",
   "metadata": {},
   "outputs": [],
   "source": [
    "cmm_data = pd.read_csv('/home/ruggiec/Downloads/pharmacy_tx.csv')\n",
    "cmm_data_no_dups = cmm_data.drop_duplicates()\n",
    "cmm_train, cmm_test = train_test_split(cmm_data_no_dups, shuffle=True, \n",
    "                             random_state= 614, test_size=0.2)"
   ]
  },
  {
   "cell_type": "markdown",
   "id": "f198bcea",
   "metadata": {},
   "source": [
    "### Feature Engineering"
   ]
  },
  {
   "cell_type": "code",
   "execution_count": 6,
   "id": "eaa1e8db",
   "metadata": {},
   "outputs": [],
   "source": [
    "def is_it_generic(text):\n",
    "    if text.split()[0] == 'generic':\n",
    "        return 1\n",
    "    else:\n",
    "        return 0\n",
    "    \n",
    "def drug_name(text):\n",
    "    return text.split()[1]\n",
    "\n",
    "def pharm_split(text):\n",
    "    return int(text.split('#')[1])"
   ]
  },
  {
   "cell_type": "code",
   "execution_count": 7,
   "id": "5b09a239",
   "metadata": {},
   "outputs": [],
   "source": [
    "cmm_train['generic'] = cmm_train.drug.apply(is_it_generic)\n",
    "cmm_train['name'] = cmm_train['drug'].apply(drug_name)\n",
    "cmm_train['private'] = cmm_train.group.isna().astype(int)\n",
    "cmm_train['popularity'] = cmm_train.groupby('name')[['tx_date']].transform('count')\n",
    "cmm_train['rejected'] = cmm_train['rejected'].astype(int)\n",
    "cmm_train['rejected_count'] = cmm_train.groupby('name')['rejected'].transform('sum')\n",
    "cmm_train['pharm_num'] = cmm_train.pharmacy.apply(pharm_split)\n",
    "cmm_train['tx_date'] = pd.to_datetime(cmm_train.tx_date)\n",
    "cmm_train['weekday'] = cmm_train.tx_date.dt.day_of_week\n",
    "cmm_train['day_num'] = cmm_train.tx_date.dt.day_of_year"
   ]
  },
  {
   "cell_type": "code",
   "execution_count": 8,
   "id": "7394d4a7",
   "metadata": {},
   "outputs": [],
   "source": [
    "full_features =  ['weekday', 'day_num', 'pharm_num', 'diagnosis_encoded', 'bin_encoded', \n",
    "             'pcn_encoded', 'private', 'generic', 'name_encoded']"
   ]
  },
  {
   "cell_type": "markdown",
   "id": "a3a970f7",
   "metadata": {},
   "source": [
    "#### Encoding Categorical Variables with Label Encoder"
   ]
  },
  {
   "cell_type": "code",
   "execution_count": 10,
   "id": "774d8438",
   "metadata": {},
   "outputs": [],
   "source": [
    "from sklearn.preprocessing import LabelEncoder"
   ]
  },
  {
   "cell_type": "code",
   "execution_count": 11,
   "id": "75e95281",
   "metadata": {},
   "outputs": [],
   "source": [
    "le_name = LabelEncoder()\n",
    "le_name.fit(cmm_train['name'])\n",
    "cmm_train['name_encoded'] = le_name.transform(cmm_train['name'])"
   ]
  },
  {
   "cell_type": "markdown",
   "id": "d38baeff",
   "metadata": {},
   "source": [
    "names are transformed to numerical data above. below we can transform numerical data back to a name."
   ]
  },
  {
   "cell_type": "code",
   "execution_count": 12,
   "id": "292eb071",
   "metadata": {},
   "outputs": [
    {
     "data": {
      "text/plain": [
       "array(['foxivelule'], dtype=object)"
      ]
     },
     "execution_count": 12,
     "metadata": {},
     "output_type": "execute_result"
    }
   ],
   "source": [
    "le_name.inverse_transform([19])"
   ]
  },
  {
   "cell_type": "code",
   "execution_count": 13,
   "id": "c31cc9e2",
   "metadata": {},
   "outputs": [],
   "source": [
    "le_diagnosis = LabelEncoder()\n",
    "le_diagnosis.fit(cmm_train['diagnosis'])\n",
    "cmm_train['diagnosis_encoded'] = le_diagnosis.transform(cmm_train['diagnosis'])"
   ]
  },
  {
   "cell_type": "code",
   "execution_count": 14,
   "id": "29af5b0f",
   "metadata": {},
   "outputs": [
    {
     "data": {
      "text/plain": [
       "array(['M31.63'], dtype=object)"
      ]
     },
     "execution_count": 14,
     "metadata": {},
     "output_type": "execute_result"
    }
   ],
   "source": [
    "le_diagnosis.inverse_transform([66])"
   ]
  },
  {
   "cell_type": "code",
   "execution_count": 15,
   "id": "6cd21c7e",
   "metadata": {},
   "outputs": [],
   "source": [
    "le_bin = LabelEncoder()\n",
    "le_bin.fit(cmm_train['bin'])\n",
    "cmm_train['bin_encoded'] = le_bin.transform(cmm_train['bin'])"
   ]
  },
  {
   "cell_type": "code",
   "execution_count": 16,
   "id": "5130a548",
   "metadata": {},
   "outputs": [
    {
     "data": {
      "text/plain": [
       "array([322463])"
      ]
     },
     "execution_count": 16,
     "metadata": {},
     "output_type": "execute_result"
    }
   ],
   "source": [
    "le_bin.inverse_transform([2])"
   ]
  },
  {
   "cell_type": "code",
   "execution_count": 17,
   "id": "d9872db6",
   "metadata": {},
   "outputs": [],
   "source": [
    "le_pcn = LabelEncoder()\n",
    "le_pcn.fit(cmm_train['pcn'])\n",
    "cmm_train['pcn_encoded'] = le_pcn.transform(cmm_train['pcn'])"
   ]
  },
  {
   "cell_type": "code",
   "execution_count": 18,
   "id": "d00503aa",
   "metadata": {},
   "outputs": [
    {
     "data": {
      "text/plain": [
       "array(['3O71UTS'], dtype=object)"
      ]
     },
     "execution_count": 18,
     "metadata": {},
     "output_type": "execute_result"
    }
   ],
   "source": [
    "le_pcn.inverse_transform([4])"
   ]
  },
  {
   "cell_type": "markdown",
   "id": "8a7b2029",
   "metadata": {},
   "source": [
    "### What do we have?"
   ]
  },
  {
   "cell_type": "code",
   "execution_count": 19,
   "id": "71eeacc1",
   "metadata": {},
   "outputs": [
    {
     "data": {
      "text/plain": [
       "Index(['tx_date', 'pharmacy', 'diagnosis', 'drug', 'bin', 'pcn', 'group',\n",
       "       'rejected', 'patient_pay', 'generic', 'name', 'private', 'popularity',\n",
       "       'rejected_count', 'pharm_num', 'weekday', 'day_num', 'name_encoded',\n",
       "       'diagnosis_encoded', 'bin_encoded', 'pcn_encoded'],\n",
       "      dtype='object')"
      ]
     },
     "execution_count": 19,
     "metadata": {},
     "output_type": "execute_result"
    }
   ],
   "source": [
    "cmm_train.columns"
   ]
  },
  {
   "cell_type": "code",
   "execution_count": 20,
   "id": "28fa3f4a",
   "metadata": {},
   "outputs": [
    {
     "data": {
      "text/html": [
       "<div>\n",
       "<style scoped>\n",
       "    .dataframe tbody tr th:only-of-type {\n",
       "        vertical-align: middle;\n",
       "    }\n",
       "\n",
       "    .dataframe tbody tr th {\n",
       "        vertical-align: top;\n",
       "    }\n",
       "\n",
       "    .dataframe thead th {\n",
       "        text-align: right;\n",
       "    }\n",
       "</style>\n",
       "<table border=\"1\" class=\"dataframe\">\n",
       "  <thead>\n",
       "    <tr style=\"text-align: right;\">\n",
       "      <th></th>\n",
       "      <th>tx_date</th>\n",
       "      <th>pharmacy</th>\n",
       "      <th>diagnosis</th>\n",
       "      <th>drug</th>\n",
       "      <th>bin</th>\n",
       "      <th>pcn</th>\n",
       "      <th>group</th>\n",
       "      <th>rejected</th>\n",
       "      <th>patient_pay</th>\n",
       "      <th>generic</th>\n",
       "      <th>...</th>\n",
       "      <th>private</th>\n",
       "      <th>popularity</th>\n",
       "      <th>rejected_count</th>\n",
       "      <th>pharm_num</th>\n",
       "      <th>weekday</th>\n",
       "      <th>day_num</th>\n",
       "      <th>name_encoded</th>\n",
       "      <th>diagnosis_encoded</th>\n",
       "      <th>bin_encoded</th>\n",
       "      <th>pcn_encoded</th>\n",
       "    </tr>\n",
       "  </thead>\n",
       "  <tbody>\n",
       "    <tr>\n",
       "      <th>3962160</th>\n",
       "      <td>2022-04-23</td>\n",
       "      <td>Pharmacy #29</td>\n",
       "      <td>M31.63</td>\n",
       "      <td>branded mamate</td>\n",
       "      <td>322463</td>\n",
       "      <td>3O71UTS</td>\n",
       "      <td>NaN</td>\n",
       "      <td>0</td>\n",
       "      <td>25.75</td>\n",
       "      <td>0</td>\n",
       "      <td>...</td>\n",
       "      <td>1</td>\n",
       "      <td>23539</td>\n",
       "      <td>4480</td>\n",
       "      <td>29</td>\n",
       "      <td>5</td>\n",
       "      <td>113</td>\n",
       "      <td>38</td>\n",
       "      <td>66</td>\n",
       "      <td>2</td>\n",
       "      <td>4</td>\n",
       "    </tr>\n",
       "    <tr>\n",
       "      <th>1161541</th>\n",
       "      <td>2022-02-06</td>\n",
       "      <td>Pharmacy #7</td>\n",
       "      <td>Z20.23</td>\n",
       "      <td>branded vivafastat</td>\n",
       "      <td>725700</td>\n",
       "      <td>327CKV</td>\n",
       "      <td>IOEAN1DWVV3Y</td>\n",
       "      <td>0</td>\n",
       "      <td>180.52</td>\n",
       "      <td>0</td>\n",
       "      <td>...</td>\n",
       "      <td>0</td>\n",
       "      <td>43263</td>\n",
       "      <td>14072</td>\n",
       "      <td>7</td>\n",
       "      <td>6</td>\n",
       "      <td>37</td>\n",
       "      <td>75</td>\n",
       "      <td>127</td>\n",
       "      <td>8</td>\n",
       "      <td>2</td>\n",
       "    </tr>\n",
       "    <tr>\n",
       "      <th>10643305</th>\n",
       "      <td>2022-10-12</td>\n",
       "      <td>Pharmacy #4</td>\n",
       "      <td>U41.19</td>\n",
       "      <td>generic foxivelule</td>\n",
       "      <td>322463</td>\n",
       "      <td>3O71UTS</td>\n",
       "      <td>NaN</td>\n",
       "      <td>0</td>\n",
       "      <td>12.22</td>\n",
       "      <td>1</td>\n",
       "      <td>...</td>\n",
       "      <td>1</td>\n",
       "      <td>367822</td>\n",
       "      <td>0</td>\n",
       "      <td>4</td>\n",
       "      <td>2</td>\n",
       "      <td>285</td>\n",
       "      <td>19</td>\n",
       "      <td>101</td>\n",
       "      <td>2</td>\n",
       "      <td>4</td>\n",
       "    </tr>\n",
       "    <tr>\n",
       "      <th>10629491</th>\n",
       "      <td>2022-10-11</td>\n",
       "      <td>Pharmacy #31</td>\n",
       "      <td>K87.68</td>\n",
       "      <td>generic ribosatharin</td>\n",
       "      <td>664344</td>\n",
       "      <td>YFVIA</td>\n",
       "      <td>AJK5MZ25T9IA</td>\n",
       "      <td>0</td>\n",
       "      <td>12.37</td>\n",
       "      <td>1</td>\n",
       "      <td>...</td>\n",
       "      <td>0</td>\n",
       "      <td>121908</td>\n",
       "      <td>8960</td>\n",
       "      <td>31</td>\n",
       "      <td>1</td>\n",
       "      <td>284</td>\n",
       "      <td>56</td>\n",
       "      <td>59</td>\n",
       "      <td>5</td>\n",
       "      <td>44</td>\n",
       "    </tr>\n",
       "    <tr>\n",
       "      <th>10928718</th>\n",
       "      <td>2022-10-18</td>\n",
       "      <td>Pharmacy #6</td>\n",
       "      <td>G99.93</td>\n",
       "      <td>generic simarol</td>\n",
       "      <td>96934</td>\n",
       "      <td>S76J7V6</td>\n",
       "      <td>NaN</td>\n",
       "      <td>0</td>\n",
       "      <td>13.93</td>\n",
       "      <td>1</td>\n",
       "      <td>...</td>\n",
       "      <td>1</td>\n",
       "      <td>144501</td>\n",
       "      <td>7380</td>\n",
       "      <td>6</td>\n",
       "      <td>1</td>\n",
       "      <td>291</td>\n",
       "      <td>61</td>\n",
       "      <td>37</td>\n",
       "      <td>0</td>\n",
       "      <td>34</td>\n",
       "    </tr>\n",
       "  </tbody>\n",
       "</table>\n",
       "<p>5 rows × 21 columns</p>\n",
       "</div>"
      ],
      "text/plain": [
       "            tx_date      pharmacy diagnosis                  drug     bin  \\\n",
       "3962160  2022-04-23  Pharmacy #29    M31.63        branded mamate  322463   \n",
       "1161541  2022-02-06   Pharmacy #7    Z20.23    branded vivafastat  725700   \n",
       "10643305 2022-10-12   Pharmacy #4    U41.19    generic foxivelule  322463   \n",
       "10629491 2022-10-11  Pharmacy #31    K87.68  generic ribosatharin  664344   \n",
       "10928718 2022-10-18   Pharmacy #6    G99.93       generic simarol   96934   \n",
       "\n",
       "              pcn         group  rejected  patient_pay  generic  ... private  \\\n",
       "3962160   3O71UTS           NaN         0        25.75        0  ...       1   \n",
       "1161541    327CKV  IOEAN1DWVV3Y         0       180.52        0  ...       0   \n",
       "10643305  3O71UTS           NaN         0        12.22        1  ...       1   \n",
       "10629491    YFVIA  AJK5MZ25T9IA         0        12.37        1  ...       0   \n",
       "10928718  S76J7V6           NaN         0        13.93        1  ...       1   \n",
       "\n",
       "          popularity  rejected_count  pharm_num  weekday  day_num  \\\n",
       "3962160        23539            4480         29        5      113   \n",
       "1161541        43263           14072          7        6       37   \n",
       "10643305      367822               0          4        2      285   \n",
       "10629491      121908            8960         31        1      284   \n",
       "10928718      144501            7380          6        1      291   \n",
       "\n",
       "          name_encoded  diagnosis_encoded  bin_encoded  pcn_encoded  \n",
       "3962160             38                 66            2            4  \n",
       "1161541             75                127            8            2  \n",
       "10643305            19                101            2            4  \n",
       "10629491            56                 59            5           44  \n",
       "10928718            61                 37            0           34  \n",
       "\n",
       "[5 rows x 21 columns]"
      ]
     },
     "execution_count": 20,
     "metadata": {},
     "output_type": "execute_result"
    }
   ],
   "source": [
    "cmm_train.head()"
   ]
  },
  {
   "cell_type": "code",
   "execution_count": 21,
   "id": "dccc5ef4",
   "metadata": {},
   "outputs": [
    {
     "name": "stdout",
     "output_type": "stream",
     "text": [
      "The number of rejected claims is 839691\n",
      "The total number of claims is 10049476\n",
      "The percentage of rejected claims is 8.355569981957268 %\n"
     ]
    }
   ],
   "source": [
    "print('The number of rejected claims is', cmm_train['rejected'].sum())\n",
    "print('The total number of claims is', len(cmm_train))\n",
    "print('The percentage of rejected claims is', cmm_train['rejected'].sum()/len(cmm_train)*100, '%')"
   ]
  },
  {
   "cell_type": "markdown",
   "id": "67b7cd40",
   "metadata": {},
   "source": [
    "The rejected category is imbalanced so some consideration should be given to the metrics used to score the classifier."
   ]
  },
  {
   "cell_type": "code",
   "execution_count": 35,
   "id": "06606354",
   "metadata": {},
   "outputs": [],
   "source": [
    "base_features = ['diagnosis_encoded', 'bin_encoded', 'pcn_encoded', \n",
    "                 'private', 'generic', 'name_encoded']\n",
    "pharm_features = ['pharm_num', 'diagnosis_encoded', 'bin_encoded', \n",
    "                  'pcn_encoded', 'private', 'generic', 'name_encoded']\n",
    "day_features = ['weekday', 'pharm_num', 'diagnosis_encoded', 'bin_encoded',\n",
    "               'pcn_encoded', 'private', 'generic', 'name_encoded']\n",
    "full_features = ['weekday', 'day_num', 'pharm_num', 'diagnosis_encoded', 'bin_encoded',\n",
    "               'pcn_encoded', 'private', 'generic', 'name_encoded']"
   ]
  },
  {
   "cell_type": "markdown",
   "id": "f917d53c",
   "metadata": {},
   "source": [
    "### Importing the HistGradientBoostingClassifier\n",
    "This should be faster than XGBoost for large datasets.\n",
    "\n",
    "Using cross validation with recall, precision, and accuracy for metrics"
   ]
  },
  {
   "cell_type": "code",
   "execution_count": 23,
   "id": "1b424108",
   "metadata": {},
   "outputs": [],
   "source": [
    "from sklearn.ensemble import HistGradientBoostingClassifier\n",
    "from sklearn.model_selection import KFold\n",
    "from sklearn.metrics import recall_score, precision_score, accuracy_score"
   ]
  },
  {
   "cell_type": "code",
   "execution_count": 24,
   "id": "6b5a7c8f",
   "metadata": {},
   "outputs": [],
   "source": [
    "kf = KFold(n_splits=5, shuffle=True, random_state=614)\n",
    "clf = HistGradientBoostingClassifier()"
   ]
  },
  {
   "cell_type": "code",
   "execution_count": 25,
   "id": "114e9126",
   "metadata": {},
   "outputs": [],
   "source": [
    "metrics = np.zeros((5, 3))\n",
    "i=0\n",
    "for tt_index, ho_index in kf.split(cmm_train):\n",
    "    clf.fit(cmm_train[base_features].iloc[tt_index], cmm_train['rejected'].iloc[tt_index])\n",
    "    predictions = clf.predict(cmm_train[base_features].iloc[ho_index])\n",
    "    metrics[i, 0] = recall_score(cmm_train['rejected'].iloc[ho_index], predictions)\n",
    "    metrics[i, 1] = precision_score(cmm_train['rejected'].iloc[ho_index], predictions)\n",
    "    metrics[i, 2] = accuracy_score(cmm_train['rejected'].iloc[ho_index], predictions)\n",
    "    i+=1"
   ]
  },
  {
   "cell_type": "code",
   "execution_count": 26,
   "id": "4d49ed84",
   "metadata": {},
   "outputs": [
    {
     "name": "stdout",
     "output_type": "stream",
     "text": [
      "average recall is 5.237346940798134e-05\n",
      "average precision is 0.16261081402257874\n",
      "average accuracy is 0.916422906003724\n"
     ]
    }
   ],
   "source": [
    "print('average recall is', metrics.mean(axis=0)[0])\n",
    "print('average precision is', metrics.mean(axis=0)[1])\n",
    "print('average accuracy is', metrics.mean(axis=0)[2])"
   ]
  },
  {
   "cell_type": "markdown",
   "id": "adf85ac2",
   "metadata": {},
   "source": [
    "The first go at classification of rejected claims failed to give any useful information\n",
    "\n",
    "High accuracy with low precision and recall implies most things are being classified as not rejected"
   ]
  },
  {
   "cell_type": "markdown",
   "id": "65293c60",
   "metadata": {},
   "source": [
    "### Let's try Down Sampling"
   ]
  },
  {
   "cell_type": "code",
   "execution_count": 27,
   "id": "26056abb",
   "metadata": {},
   "outputs": [],
   "source": [
    "from sklearn.utils import resample"
   ]
  },
  {
   "cell_type": "code",
   "execution_count": 28,
   "id": "3f26bcc3",
   "metadata": {},
   "outputs": [],
   "source": [
    "temp = resample(cmm_train[cmm_train['rejected']==0], \n",
    "                replace=False, \n",
    "                n_samples=len(cmm_train[cmm_train['rejected']==1]))"
   ]
  },
  {
   "cell_type": "code",
   "execution_count": 29,
   "id": "d5b34682",
   "metadata": {},
   "outputs": [],
   "source": [
    "downsample = pd.concat([cmm_train[cmm_train['rejected']==1], temp])"
   ]
  },
  {
   "cell_type": "code",
   "execution_count": 30,
   "id": "c9e3b600",
   "metadata": {},
   "outputs": [
    {
     "data": {
      "text/html": [
       "<div>\n",
       "<style scoped>\n",
       "    .dataframe tbody tr th:only-of-type {\n",
       "        vertical-align: middle;\n",
       "    }\n",
       "\n",
       "    .dataframe tbody tr th {\n",
       "        vertical-align: top;\n",
       "    }\n",
       "\n",
       "    .dataframe thead th {\n",
       "        text-align: right;\n",
       "    }\n",
       "</style>\n",
       "<table border=\"1\" class=\"dataframe\">\n",
       "  <thead>\n",
       "    <tr style=\"text-align: right;\">\n",
       "      <th></th>\n",
       "      <th>tx_date</th>\n",
       "      <th>pharmacy</th>\n",
       "      <th>diagnosis</th>\n",
       "      <th>drug</th>\n",
       "      <th>bin</th>\n",
       "      <th>pcn</th>\n",
       "      <th>group</th>\n",
       "      <th>rejected</th>\n",
       "      <th>patient_pay</th>\n",
       "      <th>generic</th>\n",
       "      <th>...</th>\n",
       "      <th>private</th>\n",
       "      <th>popularity</th>\n",
       "      <th>rejected_count</th>\n",
       "      <th>pharm_num</th>\n",
       "      <th>weekday</th>\n",
       "      <th>day_num</th>\n",
       "      <th>name_encoded</th>\n",
       "      <th>diagnosis_encoded</th>\n",
       "      <th>bin_encoded</th>\n",
       "      <th>pcn_encoded</th>\n",
       "    </tr>\n",
       "  </thead>\n",
       "  <tbody>\n",
       "    <tr>\n",
       "      <th>8270129</th>\n",
       "      <td>2022-08-14</td>\n",
       "      <td>Pharmacy #15</td>\n",
       "      <td>P07.55</td>\n",
       "      <td>branded semufolic</td>\n",
       "      <td>664344</td>\n",
       "      <td>YFVIA</td>\n",
       "      <td>AJK5MZ25T9IA</td>\n",
       "      <td>1</td>\n",
       "      <td>0.00</td>\n",
       "      <td>0</td>\n",
       "      <td>...</td>\n",
       "      <td>0</td>\n",
       "      <td>237813</td>\n",
       "      <td>41930</td>\n",
       "      <td>15</td>\n",
       "      <td>6</td>\n",
       "      <td>226</td>\n",
       "      <td>60</td>\n",
       "      <td>79</td>\n",
       "      <td>5</td>\n",
       "      <td>44</td>\n",
       "    </tr>\n",
       "    <tr>\n",
       "      <th>7009332</th>\n",
       "      <td>2022-07-14</td>\n",
       "      <td>Pharmacy #14</td>\n",
       "      <td>Y51.55</td>\n",
       "      <td>generic sorine</td>\n",
       "      <td>160389</td>\n",
       "      <td>RB7UU</td>\n",
       "      <td>RS5RB3YA</td>\n",
       "      <td>1</td>\n",
       "      <td>0.00</td>\n",
       "      <td>1</td>\n",
       "      <td>...</td>\n",
       "      <td>0</td>\n",
       "      <td>115708</td>\n",
       "      <td>13891</td>\n",
       "      <td>14</td>\n",
       "      <td>3</td>\n",
       "      <td>195</td>\n",
       "      <td>63</td>\n",
       "      <td>124</td>\n",
       "      <td>1</td>\n",
       "      <td>31</td>\n",
       "    </tr>\n",
       "    <tr>\n",
       "      <th>1316687</th>\n",
       "      <td>2022-02-10</td>\n",
       "      <td>Pharmacy #37</td>\n",
       "      <td>Z20.23</td>\n",
       "      <td>branded vivafastat</td>\n",
       "      <td>160389</td>\n",
       "      <td>RB7UU</td>\n",
       "      <td>RS5RB3YA</td>\n",
       "      <td>1</td>\n",
       "      <td>0.00</td>\n",
       "      <td>0</td>\n",
       "      <td>...</td>\n",
       "      <td>0</td>\n",
       "      <td>43263</td>\n",
       "      <td>14072</td>\n",
       "      <td>37</td>\n",
       "      <td>3</td>\n",
       "      <td>41</td>\n",
       "      <td>75</td>\n",
       "      <td>127</td>\n",
       "      <td>1</td>\n",
       "      <td>31</td>\n",
       "    </tr>\n",
       "    <tr>\n",
       "      <th>9652363</th>\n",
       "      <td>2022-09-17</td>\n",
       "      <td>Pharmacy #7</td>\n",
       "      <td>I38.43</td>\n",
       "      <td>branded colifunene</td>\n",
       "      <td>725700</td>\n",
       "      <td>NaN</td>\n",
       "      <td>DYGBI610ZY</td>\n",
       "      <td>1</td>\n",
       "      <td>0.00</td>\n",
       "      <td>0</td>\n",
       "      <td>...</td>\n",
       "      <td>0</td>\n",
       "      <td>179278</td>\n",
       "      <td>14364</td>\n",
       "      <td>7</td>\n",
       "      <td>5</td>\n",
       "      <td>260</td>\n",
       "      <td>7</td>\n",
       "      <td>49</td>\n",
       "      <td>8</td>\n",
       "      <td>48</td>\n",
       "    </tr>\n",
       "    <tr>\n",
       "      <th>7415161</th>\n",
       "      <td>2022-07-23</td>\n",
       "      <td>Pharmacy #43</td>\n",
       "      <td>H36.57</td>\n",
       "      <td>branded semufolic</td>\n",
       "      <td>725700</td>\n",
       "      <td>9C5MOR3</td>\n",
       "      <td>S2QKZ0OFNWS6X</td>\n",
       "      <td>1</td>\n",
       "      <td>0.00</td>\n",
       "      <td>0</td>\n",
       "      <td>...</td>\n",
       "      <td>0</td>\n",
       "      <td>237813</td>\n",
       "      <td>41930</td>\n",
       "      <td>43</td>\n",
       "      <td>5</td>\n",
       "      <td>204</td>\n",
       "      <td>60</td>\n",
       "      <td>41</td>\n",
       "      <td>8</td>\n",
       "      <td>8</td>\n",
       "    </tr>\n",
       "    <tr>\n",
       "      <th>...</th>\n",
       "      <td>...</td>\n",
       "      <td>...</td>\n",
       "      <td>...</td>\n",
       "      <td>...</td>\n",
       "      <td>...</td>\n",
       "      <td>...</td>\n",
       "      <td>...</td>\n",
       "      <td>...</td>\n",
       "      <td>...</td>\n",
       "      <td>...</td>\n",
       "      <td>...</td>\n",
       "      <td>...</td>\n",
       "      <td>...</td>\n",
       "      <td>...</td>\n",
       "      <td>...</td>\n",
       "      <td>...</td>\n",
       "      <td>...</td>\n",
       "      <td>...</td>\n",
       "      <td>...</td>\n",
       "      <td>...</td>\n",
       "      <td>...</td>\n",
       "    </tr>\n",
       "    <tr>\n",
       "      <th>10182774</th>\n",
       "      <td>2022-10-02</td>\n",
       "      <td>Pharmacy #21</td>\n",
       "      <td>H60.83</td>\n",
       "      <td>generic tovane</td>\n",
       "      <td>691847</td>\n",
       "      <td>N098KI</td>\n",
       "      <td>6SP1DG</td>\n",
       "      <td>0</td>\n",
       "      <td>15.55</td>\n",
       "      <td>1</td>\n",
       "      <td>...</td>\n",
       "      <td>0</td>\n",
       "      <td>243513</td>\n",
       "      <td>0</td>\n",
       "      <td>21</td>\n",
       "      <td>6</td>\n",
       "      <td>275</td>\n",
       "      <td>72</td>\n",
       "      <td>45</td>\n",
       "      <td>6</td>\n",
       "      <td>25</td>\n",
       "    </tr>\n",
       "    <tr>\n",
       "      <th>5314398</th>\n",
       "      <td>2022-05-29</td>\n",
       "      <td>Pharmacy #28</td>\n",
       "      <td>H36.57</td>\n",
       "      <td>branded antimab</td>\n",
       "      <td>322463</td>\n",
       "      <td>3O71UTS</td>\n",
       "      <td>NaN</td>\n",
       "      <td>0</td>\n",
       "      <td>19.46</td>\n",
       "      <td>0</td>\n",
       "      <td>...</td>\n",
       "      <td>1</td>\n",
       "      <td>207603</td>\n",
       "      <td>619</td>\n",
       "      <td>28</td>\n",
       "      <td>6</td>\n",
       "      <td>149</td>\n",
       "      <td>0</td>\n",
       "      <td>41</td>\n",
       "      <td>2</td>\n",
       "      <td>4</td>\n",
       "    </tr>\n",
       "    <tr>\n",
       "      <th>1954597</th>\n",
       "      <td>2022-02-26</td>\n",
       "      <td>Pharmacy #6</td>\n",
       "      <td>K87.68</td>\n",
       "      <td>generic ribosatharin</td>\n",
       "      <td>725700</td>\n",
       "      <td>1UQC</td>\n",
       "      <td>NaN</td>\n",
       "      <td>0</td>\n",
       "      <td>12.41</td>\n",
       "      <td>1</td>\n",
       "      <td>...</td>\n",
       "      <td>1</td>\n",
       "      <td>121908</td>\n",
       "      <td>8960</td>\n",
       "      <td>6</td>\n",
       "      <td>5</td>\n",
       "      <td>57</td>\n",
       "      <td>56</td>\n",
       "      <td>59</td>\n",
       "      <td>8</td>\n",
       "      <td>0</td>\n",
       "    </tr>\n",
       "    <tr>\n",
       "      <th>12196724</th>\n",
       "      <td>2022-11-17</td>\n",
       "      <td>Pharmacy #2</td>\n",
       "      <td>I68.27</td>\n",
       "      <td>branded prazinib</td>\n",
       "      <td>664344</td>\n",
       "      <td>YFVIA</td>\n",
       "      <td>AJK5MZ25T9IA</td>\n",
       "      <td>0</td>\n",
       "      <td>17.11</td>\n",
       "      <td>0</td>\n",
       "      <td>...</td>\n",
       "      <td>0</td>\n",
       "      <td>919151</td>\n",
       "      <td>0</td>\n",
       "      <td>2</td>\n",
       "      <td>3</td>\n",
       "      <td>321</td>\n",
       "      <td>52</td>\n",
       "      <td>52</td>\n",
       "      <td>5</td>\n",
       "      <td>44</td>\n",
       "    </tr>\n",
       "    <tr>\n",
       "      <th>12329424</th>\n",
       "      <td>2022-11-20</td>\n",
       "      <td>Pharmacy #29</td>\n",
       "      <td>Y51.55</td>\n",
       "      <td>branded glulune</td>\n",
       "      <td>322463</td>\n",
       "      <td>NaN</td>\n",
       "      <td>0TZ9XYJZJH</td>\n",
       "      <td>0</td>\n",
       "      <td>10.54</td>\n",
       "      <td>0</td>\n",
       "      <td>...</td>\n",
       "      <td>0</td>\n",
       "      <td>115258</td>\n",
       "      <td>0</td>\n",
       "      <td>29</td>\n",
       "      <td>6</td>\n",
       "      <td>324</td>\n",
       "      <td>23</td>\n",
       "      <td>124</td>\n",
       "      <td>2</td>\n",
       "      <td>48</td>\n",
       "    </tr>\n",
       "  </tbody>\n",
       "</table>\n",
       "<p>1679382 rows × 21 columns</p>\n",
       "</div>"
      ],
      "text/plain": [
       "            tx_date      pharmacy diagnosis                  drug     bin  \\\n",
       "8270129  2022-08-14  Pharmacy #15    P07.55     branded semufolic  664344   \n",
       "7009332  2022-07-14  Pharmacy #14    Y51.55        generic sorine  160389   \n",
       "1316687  2022-02-10  Pharmacy #37    Z20.23    branded vivafastat  160389   \n",
       "9652363  2022-09-17   Pharmacy #7    I38.43    branded colifunene  725700   \n",
       "7415161  2022-07-23  Pharmacy #43    H36.57     branded semufolic  725700   \n",
       "...             ...           ...       ...                   ...     ...   \n",
       "10182774 2022-10-02  Pharmacy #21    H60.83        generic tovane  691847   \n",
       "5314398  2022-05-29  Pharmacy #28    H36.57       branded antimab  322463   \n",
       "1954597  2022-02-26   Pharmacy #6    K87.68  generic ribosatharin  725700   \n",
       "12196724 2022-11-17   Pharmacy #2    I68.27      branded prazinib  664344   \n",
       "12329424 2022-11-20  Pharmacy #29    Y51.55       branded glulune  322463   \n",
       "\n",
       "              pcn          group  rejected  patient_pay  generic  ... private  \\\n",
       "8270129     YFVIA   AJK5MZ25T9IA         1         0.00        0  ...       0   \n",
       "7009332     RB7UU       RS5RB3YA         1         0.00        1  ...       0   \n",
       "1316687     RB7UU       RS5RB3YA         1         0.00        0  ...       0   \n",
       "9652363       NaN     DYGBI610ZY         1         0.00        0  ...       0   \n",
       "7415161   9C5MOR3  S2QKZ0OFNWS6X         1         0.00        0  ...       0   \n",
       "...           ...            ...       ...          ...      ...  ...     ...   \n",
       "10182774   N098KI         6SP1DG         0        15.55        1  ...       0   \n",
       "5314398   3O71UTS            NaN         0        19.46        0  ...       1   \n",
       "1954597      1UQC            NaN         0        12.41        1  ...       1   \n",
       "12196724    YFVIA   AJK5MZ25T9IA         0        17.11        0  ...       0   \n",
       "12329424      NaN     0TZ9XYJZJH         0        10.54        0  ...       0   \n",
       "\n",
       "          popularity  rejected_count  pharm_num  weekday  day_num  \\\n",
       "8270129       237813           41930         15        6      226   \n",
       "7009332       115708           13891         14        3      195   \n",
       "1316687        43263           14072         37        3       41   \n",
       "9652363       179278           14364          7        5      260   \n",
       "7415161       237813           41930         43        5      204   \n",
       "...              ...             ...        ...      ...      ...   \n",
       "10182774      243513               0         21        6      275   \n",
       "5314398       207603             619         28        6      149   \n",
       "1954597       121908            8960          6        5       57   \n",
       "12196724      919151               0          2        3      321   \n",
       "12329424      115258               0         29        6      324   \n",
       "\n",
       "          name_encoded  diagnosis_encoded  bin_encoded  pcn_encoded  \n",
       "8270129             60                 79            5           44  \n",
       "7009332             63                124            1           31  \n",
       "1316687             75                127            1           31  \n",
       "9652363              7                 49            8           48  \n",
       "7415161             60                 41            8            8  \n",
       "...                ...                ...          ...          ...  \n",
       "10182774            72                 45            6           25  \n",
       "5314398              0                 41            2            4  \n",
       "1954597             56                 59            8            0  \n",
       "12196724            52                 52            5           44  \n",
       "12329424            23                124            2           48  \n",
       "\n",
       "[1679382 rows x 21 columns]"
      ]
     },
     "execution_count": 30,
     "metadata": {},
     "output_type": "execute_result"
    }
   ],
   "source": [
    "downsample"
   ]
  },
  {
   "cell_type": "code",
   "execution_count": 31,
   "id": "5b932f9f",
   "metadata": {},
   "outputs": [
    {
     "data": {
      "text/plain": [
       "1679382"
      ]
     },
     "execution_count": 31,
     "metadata": {},
     "output_type": "execute_result"
    }
   ],
   "source": [
    "len(downsample)"
   ]
  },
  {
   "cell_type": "code",
   "execution_count": 32,
   "id": "ccdd0954",
   "metadata": {},
   "outputs": [],
   "source": [
    "metrics_down = np.zeros((5, 3))\n",
    "i=0\n",
    "for tt_index, ho_index in kf.split(downsample):\n",
    "    clf.fit(downsample[base_features].iloc[tt_index], downsample['rejected'].iloc[tt_index])\n",
    "    predictions = clf.predict(downsample[base_features].iloc[ho_index])\n",
    "    metrics_down[i, 0] = recall_score(downsample['rejected'].iloc[ho_index], predictions)\n",
    "    metrics_down[i, 1] = precision_score(downsample['rejected'].iloc[ho_index], predictions)\n",
    "    metrics_down[i, 2] = accuracy_score(downsample['rejected'].iloc[ho_index], predictions)\n",
    "    i+=1"
   ]
  },
  {
   "cell_type": "code",
   "execution_count": 33,
   "id": "0e7c41b2",
   "metadata": {},
   "outputs": [
    {
     "name": "stdout",
     "output_type": "stream",
     "text": [
      "average recall is 0.9776516850340533\n",
      "average precision is 0.7965152197724688\n",
      "average accuracy is 0.8639451897418422\n"
     ]
    }
   ],
   "source": [
    "print('average recall is', metrics_down.mean(axis=0)[0])\n",
    "print('average precision is', metrics_down.mean(axis=0)[1])\n",
    "print('average accuracy is', metrics_down.mean(axis=0)[2])"
   ]
  },
  {
   "cell_type": "markdown",
   "id": "f6d4e49c",
   "metadata": {},
   "source": [
    "Added the pharmacy and day of week as features in this model"
   ]
  },
  {
   "cell_type": "code",
   "execution_count": 36,
   "id": "5c55f0b8",
   "metadata": {},
   "outputs": [],
   "source": [
    "metrics_down = np.zeros((5, 3))\n",
    "i=0\n",
    "for tt_index, ho_index in kf.split(downsample):\n",
    "    clf.fit(downsample[day_features].iloc[tt_index], downsample['rejected'].iloc[tt_index])\n",
    "    predictions = clf.predict(downsample[day_features].iloc[ho_index])\n",
    "    metrics_down[i, 0] = recall_score(downsample['rejected'].iloc[ho_index], predictions)\n",
    "    metrics_down[i, 1] = precision_score(downsample['rejected'].iloc[ho_index], predictions)\n",
    "    metrics_down[i, 2] = accuracy_score(downsample['rejected'].iloc[ho_index], predictions)\n",
    "    i+=1"
   ]
  },
  {
   "cell_type": "code",
   "execution_count": 37,
   "id": "a2f88f3e",
   "metadata": {},
   "outputs": [
    {
     "name": "stdout",
     "output_type": "stream",
     "text": [
      "average recall is 0.9782950564757502\n",
      "average precision is 0.7963182106144838\n",
      "average accuracy is 0.8640345080449029\n"
     ]
    }
   ],
   "source": [
    "print('average recall is', metrics_down.mean(axis=0)[0])\n",
    "print('average precision is', metrics_down.mean(axis=0)[1])\n",
    "print('average accuracy is', metrics_down.mean(axis=0)[2])"
   ]
  },
  {
   "cell_type": "markdown",
   "id": "0e0c498d",
   "metadata": {},
   "source": [
    "full feature set"
   ]
  },
  {
   "cell_type": "code",
   "execution_count": 38,
   "id": "a0f0c58a",
   "metadata": {},
   "outputs": [],
   "source": [
    "metrics_down = np.zeros((5, 3))\n",
    "i=0\n",
    "for tt_index, ho_index in kf.split(downsample):\n",
    "    clf.fit(downsample[full_features].iloc[tt_index], downsample['rejected'].iloc[tt_index])\n",
    "    predictions = clf.predict(downsample[full_features].iloc[ho_index])\n",
    "    metrics_down[i, 0] = recall_score(downsample['rejected'].iloc[ho_index], predictions)\n",
    "    metrics_down[i, 1] = precision_score(downsample['rejected'].iloc[ho_index], predictions)\n",
    "    metrics_down[i, 2] = accuracy_score(downsample['rejected'].iloc[ho_index], predictions)\n",
    "    i+=1"
   ]
  },
  {
   "cell_type": "code",
   "execution_count": 39,
   "id": "6350d43f",
   "metadata": {},
   "outputs": [
    {
     "name": "stdout",
     "output_type": "stream",
     "text": [
      "average recall is 0.9768743879037652\n",
      "average precision is 0.7968719689142606\n",
      "average accuracy is 0.8639308984166607\n"
     ]
    }
   ],
   "source": [
    "print('average recall is', metrics_down.mean(axis=0)[0])\n",
    "print('average precision is', metrics_down.mean(axis=0)[1])\n",
    "print('average accuracy is', metrics_down.mean(axis=0)[2])"
   ]
  },
  {
   "cell_type": "markdown",
   "id": "63c91e45",
   "metadata": {},
   "source": [
    "This is somewhat promising. "
   ]
  },
  {
   "cell_type": "code",
   "execution_count": 42,
   "id": "fc080260",
   "metadata": {},
   "outputs": [],
   "source": [
    "from sklearn.metrics import confusion_matrix"
   ]
  },
  {
   "cell_type": "markdown",
   "id": "a9b99a37",
   "metadata": {},
   "source": [
    "base features"
   ]
  },
  {
   "cell_type": "code",
   "execution_count": 46,
   "id": "0419c63b",
   "metadata": {},
   "outputs": [
    {
     "name": "stdout",
     "output_type": "stream",
     "text": [
      "recall is 0.979187582098653\n",
      "precision is 0.26172704868823726\n",
      "accuracy is 0.7674745429512941\n"
     ]
    }
   ],
   "source": [
    "clf.fit(downsample[base_features], downsample['rejected'])\n",
    "pred_down = clf.predict(cmm_train[base_features])\n",
    "\n",
    "print('recall is',recall_score(cmm_train['rejected'], pred_down))\n",
    "print('precision is',precision_score(cmm_train['rejected'], pred_down))\n",
    "print('accuracy is',accuracy_score(cmm_train['rejected'], pred_down))"
   ]
  },
  {
   "cell_type": "code",
   "execution_count": 47,
   "id": "7446075c",
   "metadata": {},
   "outputs": [
    {
     "data": {
      "text/html": [
       "<div>\n",
       "<style scoped>\n",
       "    .dataframe tbody tr th:only-of-type {\n",
       "        vertical-align: middle;\n",
       "    }\n",
       "\n",
       "    .dataframe tbody tr th {\n",
       "        vertical-align: top;\n",
       "    }\n",
       "\n",
       "    .dataframe thead th {\n",
       "        text-align: right;\n",
       "    }\n",
       "</style>\n",
       "<table border=\"1\" class=\"dataframe\">\n",
       "  <thead>\n",
       "    <tr style=\"text-align: right;\">\n",
       "      <th></th>\n",
       "      <th>Predicted 0</th>\n",
       "      <th>Predicted 1</th>\n",
       "    </tr>\n",
       "  </thead>\n",
       "  <tbody>\n",
       "    <tr>\n",
       "      <th>Actual 0</th>\n",
       "      <td>6890502</td>\n",
       "      <td>2319283</td>\n",
       "    </tr>\n",
       "    <tr>\n",
       "      <th>Actual 1</th>\n",
       "      <td>17476</td>\n",
       "      <td>822215</td>\n",
       "    </tr>\n",
       "  </tbody>\n",
       "</table>\n",
       "</div>"
      ],
      "text/plain": [
       "          Predicted 0  Predicted 1\n",
       "Actual 0      6890502      2319283\n",
       "Actual 1        17476       822215"
      ]
     },
     "execution_count": 47,
     "metadata": {},
     "output_type": "execute_result"
    }
   ],
   "source": [
    "cf_mat = confusion_matrix(cmm_train['rejected'], pred_down)\n",
    "pd.DataFrame(cf_mat, index=['Actual 0', 'Actual 1'], columns=['Predicted 0', 'Predicted 1'])"
   ]
  },
  {
   "cell_type": "markdown",
   "id": "815a242b",
   "metadata": {},
   "source": [
    "full features"
   ]
  },
  {
   "cell_type": "code",
   "execution_count": 40,
   "id": "a0d2f6aa",
   "metadata": {},
   "outputs": [],
   "source": [
    "clf.fit(downsample[day_features], downsample['rejected'])\n",
    "pred_down = clf.predict(cmm_train[day_features])"
   ]
  },
  {
   "cell_type": "code",
   "execution_count": 41,
   "id": "d930dd22",
   "metadata": {},
   "outputs": [
    {
     "name": "stdout",
     "output_type": "stream",
     "text": [
      "recall is 0.9748478904739958\n",
      "precision is 0.26284328417396824\n",
      "accuracy is 0.7694564373306628\n"
     ]
    }
   ],
   "source": [
    "print('recall is',recall_score(cmm_train['rejected'], pred_down))\n",
    "print('precision is',precision_score(cmm_train['rejected'], pred_down))\n",
    "print('accuracy is',accuracy_score(cmm_train['rejected'], pred_down))"
   ]
  },
  {
   "cell_type": "code",
   "execution_count": 45,
   "id": "4c8109d8",
   "metadata": {},
   "outputs": [
    {
     "data": {
      "text/html": [
       "<div>\n",
       "<style scoped>\n",
       "    .dataframe tbody tr th:only-of-type {\n",
       "        vertical-align: middle;\n",
       "    }\n",
       "\n",
       "    .dataframe tbody tr th {\n",
       "        vertical-align: top;\n",
       "    }\n",
       "\n",
       "    .dataframe thead th {\n",
       "        text-align: right;\n",
       "    }\n",
       "</style>\n",
       "<table border=\"1\" class=\"dataframe\">\n",
       "  <thead>\n",
       "    <tr style=\"text-align: right;\">\n",
       "      <th></th>\n",
       "      <th>Predicted 0</th>\n",
       "      <th>Predicted 1</th>\n",
       "    </tr>\n",
       "  </thead>\n",
       "  <tbody>\n",
       "    <tr>\n",
       "      <th>Actual 0</th>\n",
       "      <td>6914063</td>\n",
       "      <td>2295722</td>\n",
       "    </tr>\n",
       "    <tr>\n",
       "      <th>Actual 1</th>\n",
       "      <td>21120</td>\n",
       "      <td>818571</td>\n",
       "    </tr>\n",
       "  </tbody>\n",
       "</table>\n",
       "</div>"
      ],
      "text/plain": [
       "          Predicted 0  Predicted 1\n",
       "Actual 0      6914063      2295722\n",
       "Actual 1        21120       818571"
      ]
     },
     "execution_count": 45,
     "metadata": {},
     "output_type": "execute_result"
    }
   ],
   "source": [
    "cf_mat = confusion_matrix(cmm_train['rejected'], pred_down)\n",
    "pd.DataFrame(cf_mat, index=['Actual 0', 'Actual 1'], columns=['Predicted 0', 'Predicted 1'])"
   ]
  },
  {
   "cell_type": "markdown",
   "id": "bf06b838",
   "metadata": {},
   "source": [
    "Downsampling looks to be an efficient way to train the classifier to predict rejected claims but reduces the training data for non-rejected claims. Perhaps upsampling will fix that problem."
   ]
  },
  {
   "cell_type": "markdown",
   "id": "86dae6d3",
   "metadata": {},
   "source": [
    "# Let's Compare to some other Algorithms\n",
    "\n",
    "I will try adaboost and randomforest"
   ]
  },
  {
   "cell_type": "code",
   "execution_count": 40,
   "id": "10a2baaa",
   "metadata": {},
   "outputs": [],
   "source": [
    "from sklearn.ensemble import AdaBoostClassifier"
   ]
  },
  {
   "cell_type": "code",
   "execution_count": 41,
   "id": "5aee1e24",
   "metadata": {},
   "outputs": [],
   "source": [
    "ada_class = AdaBoostClassifier(n_estimators=100, random_state=0)"
   ]
  },
  {
   "cell_type": "code",
   "execution_count": 42,
   "id": "ba836ea6",
   "metadata": {},
   "outputs": [],
   "source": [
    "metrics_down = np.zeros((5, 3))\n",
    "i=0\n",
    "for tt_index, ho_index in kf.split(downsample):\n",
    "    ada_class.fit(downsample[base_features].iloc[tt_index], downsample['rejected'].iloc[tt_index])\n",
    "    predictions = ada_class.predict(downsample[base_features].iloc[ho_index])\n",
    "    metrics_down[i, 0] = recall_score(downsample['rejected'].iloc[ho_index], predictions)\n",
    "    metrics_down[i, 1] = precision_score(downsample['rejected'].iloc[ho_index], predictions)\n",
    "    metrics_down[i, 2] = accuracy_score(downsample['rejected'].iloc[ho_index], predictions)\n",
    "    i+=1"
   ]
  },
  {
   "cell_type": "code",
   "execution_count": 45,
   "id": "e1cda89b",
   "metadata": {},
   "outputs": [
    {
     "name": "stdout",
     "output_type": "stream",
     "text": [
      "average recall is 0.8758974919919822\n",
      "average precision is 0.7827331190677065\n",
      "average accuracy is 0.8163854313882792\n"
     ]
    }
   ],
   "source": [
    "print('average recall is', metrics_down.mean(axis=0)[0])\n",
    "print('average precision is', metrics_down.mean(axis=0)[1])\n",
    "print('average accuracy is', metrics_down.mean(axis=0)[2])"
   ]
  },
  {
   "cell_type": "markdown",
   "id": "76e00cb0",
   "metadata": {},
   "source": [
    "Train adaboost classifier on the downsampled data but predict on the train set"
   ]
  },
  {
   "cell_type": "code",
   "execution_count": 47,
   "id": "be39369e",
   "metadata": {},
   "outputs": [],
   "source": [
    "ada_class.fit(downsample[base_features], downsample['rejected'])\n",
    "pred_down = ada_class.predict(cmm_train[base_features])"
   ]
  },
  {
   "cell_type": "code",
   "execution_count": 48,
   "id": "a2482cc6",
   "metadata": {},
   "outputs": [
    {
     "name": "stdout",
     "output_type": "stream",
     "text": [
      "recall is 0.8768499364647233\n",
      "precision is 0.24978271150261866\n",
      "accuracy is 0.7696577413588529\n"
     ]
    }
   ],
   "source": [
    "print('recall is',recall_score(cmm_train['rejected'], pred_down))\n",
    "print('precision is',precision_score(cmm_train['rejected'], pred_down))\n",
    "print('accuracy is',accuracy_score(cmm_train['rejected'], pred_down))"
   ]
  },
  {
   "cell_type": "code",
   "execution_count": 49,
   "id": "4cc54aec",
   "metadata": {},
   "outputs": [],
   "source": [
    "cf_mat = confusion_matrix(cmm_train['rejected'], pred_down)"
   ]
  },
  {
   "cell_type": "code",
   "execution_count": 50,
   "id": "80935ab6",
   "metadata": {},
   "outputs": [
    {
     "data": {
      "text/html": [
       "<div>\n",
       "<style scoped>\n",
       "    .dataframe tbody tr th:only-of-type {\n",
       "        vertical-align: middle;\n",
       "    }\n",
       "\n",
       "    .dataframe tbody tr th {\n",
       "        vertical-align: top;\n",
       "    }\n",
       "\n",
       "    .dataframe thead th {\n",
       "        text-align: right;\n",
       "    }\n",
       "</style>\n",
       "<table border=\"1\" class=\"dataframe\">\n",
       "  <thead>\n",
       "    <tr style=\"text-align: right;\">\n",
       "      <th></th>\n",
       "      <th>Predicted 0</th>\n",
       "      <th>Predicted 1</th>\n",
       "    </tr>\n",
       "  </thead>\n",
       "  <tbody>\n",
       "    <tr>\n",
       "      <th>Actual 0</th>\n",
       "      <td>6998374</td>\n",
       "      <td>2211411</td>\n",
       "    </tr>\n",
       "    <tr>\n",
       "      <th>Actual 1</th>\n",
       "      <td>103408</td>\n",
       "      <td>736283</td>\n",
       "    </tr>\n",
       "  </tbody>\n",
       "</table>\n",
       "</div>"
      ],
      "text/plain": [
       "          Predicted 0  Predicted 1\n",
       "Actual 0      6998374      2211411\n",
       "Actual 1       103408       736283"
      ]
     },
     "execution_count": 50,
     "metadata": {},
     "output_type": "execute_result"
    }
   ],
   "source": [
    "pd.DataFrame(cf_mat, index=['Actual 0', 'Actual 1'], columns=['Predicted 0', 'Predicted 1'])"
   ]
  },
  {
   "cell_type": "code",
   "execution_count": null,
   "id": "e2ab7b57",
   "metadata": {},
   "outputs": [],
   "source": []
  },
  {
   "cell_type": "code",
   "execution_count": null,
   "id": "f8b60ffe",
   "metadata": {},
   "outputs": [],
   "source": []
  }
 ],
 "metadata": {
  "kernelspec": {
   "display_name": "Python 3 (ipykernel)",
   "language": "python",
   "name": "python3"
  },
  "language_info": {
   "codemirror_mode": {
    "name": "ipython",
    "version": 3
   },
   "file_extension": ".py",
   "mimetype": "text/x-python",
   "name": "python",
   "nbconvert_exporter": "python",
   "pygments_lexer": "ipython3",
   "version": "3.10.4"
  }
 },
 "nbformat": 4,
 "nbformat_minor": 5
}
